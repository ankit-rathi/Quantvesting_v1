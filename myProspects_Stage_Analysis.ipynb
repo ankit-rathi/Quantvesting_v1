{
  "nbformat": 4,
  "nbformat_minor": 0,
  "metadata": {
    "colab": {
      "provenance": [],
      "authorship_tag": "ABX9TyNAzIrS4kZbmdcOQPki6pyf",
      "include_colab_link": true
    },
    "kernelspec": {
      "name": "python3",
      "display_name": "Python 3"
    },
    "language_info": {
      "name": "python"
    }
  },
  "cells": [
    {
      "cell_type": "markdown",
      "metadata": {
        "id": "view-in-github",
        "colab_type": "text"
      },
      "source": [
        "<a href=\"https://colab.research.google.com/github/ankit-rathi/Tradevesting_v1/blob/main/myProspects_Stage_Analysis.ipynb\" target=\"_parent\"><img src=\"https://colab.research.google.com/assets/colab-badge.svg\" alt=\"Open In Colab\"/></a>"
      ]
    },
    {
      "cell_type": "code",
      "execution_count": 1,
      "metadata": {
        "colab": {
          "base_uri": "https://localhost:8080/"
        },
        "id": "TyNJ-EB-0P0W",
        "outputId": "cfef867e-a42a-42b3-dc5e-576959f62656"
      },
      "outputs": [
        {
          "output_type": "execute_result",
          "data": {
            "text/plain": [
              "array(['3MINDIA', '5PAISA', 'AARTIIND', 'AAVAS', 'ABBOTINDIA', 'ABSLAMC',\n",
              "       'ACC', 'AETHER', 'AKZOINDIA', 'ALKYLAMINE', 'AMBUJACEM',\n",
              "       'ANGELONE', 'APEX', 'APLLTD', 'APOLLOHOSP', 'ARVINDFASN', 'ARE&M',\n",
              "       'ASIANPAINT', 'ASIANTILES', 'ASTRAZEN', 'AUBANK', 'AUROPHARMA',\n",
              "       'AVANTIFEED', 'AWL', 'AXISBANK', 'BAJAJ-AUTO', 'BAJAJFINSV',\n",
              "       'BAJAJHIND', 'BAJAJHLDNG', 'BAJFINANCE', 'BALKRISIND',\n",
              "       'BANDHANBNK', 'BANKBARODA', 'BANKINDIA', 'BATAINDIA', 'BAYERCROP',\n",
              "       'BERGEPAINT', 'BHARTIARTL', 'BIOCON', 'BIRLAMONEY', 'BLUESTARCO',\n",
              "       'BOROLTD', 'BOSCHLTD', 'BPCL', 'BRITANNIA', 'BSOFT', 'CAMPUS',\n",
              "       'CAMS', 'CANBK', 'CAPLIPOINT', 'CASTROLIND', 'CDSL', 'CENTRALBK',\n",
              "       'CERA', 'CHOLAFIN', 'CIPLA', 'CLEAN', 'COALINDIA', 'COFFEEDAY',\n",
              "       'COLPAL', 'CROMPTON', 'CUB', 'DABUR', 'DCBBANK', 'DEEPAKNTR',\n",
              "       'DEN', 'DIVISLAB', 'DIXON', 'DLF', 'DMART', 'DREAMFOLKS',\n",
              "       'DRREDDY', 'EASEMYTRIP', 'EICHERMOT', 'EMAMILTD', 'EQUITASBNK',\n",
              "       'ERIS', 'EXIDEIND', 'FEDERALBNK', 'FINCABLES', 'FINEORG',\n",
              "       'FOSECOIND', 'GAIL', 'GEOJITFSL', 'GICRE', 'GILLETTE', 'GLAND',\n",
              "       'GLAXO', 'GODREJCP', 'GODREJIND', 'GRASIM', 'GREENPANEL',\n",
              "       'GULFOILLUB', 'HAPPSTMNDS', 'HATHWAY', 'HAVELLS', 'HCLTECH',\n",
              "       'HDFCAMC', 'HDFCBANK', 'HDFCLIFE', 'HEROMOTOCO', 'HSCL',\n",
              "       'HINDALCO', 'HINDPETRO', 'HINDUNILVR', 'HONAUT', 'IBREALEST',\n",
              "       'ICICIBANK', 'ICICIGI', 'ICICIPRULI', 'IEX', 'IGL', 'INDIANB',\n",
              "       'INDIGO', 'INDIGOPNTS', 'INDUSINDBK', 'INDUSTOWER', 'INFIBEAM',\n",
              "       'INFY', 'IOC', 'IRCTC', 'ISEC', 'ITBEES', 'ITC', 'J&KBANK',\n",
              "       'JCHAC', 'JINDALSTEL', 'JIOFIN', 'JMFINANCIL', 'JPPOWER', 'JSWHL',\n",
              "       'JSWSTEEL', 'JUBLFOOD', 'JYOTHYLAB', 'KANSAINER', 'KOTAKBANK',\n",
              "       'LALPATHLAB', 'LICHSGFIN', 'LICI', 'LT', 'LTIM', 'LUPIN', 'LUXIND',\n",
              "       'M&M', 'MANAPPURAM', 'MARICO', 'MARUTI', 'MASFIN', 'MAXHEALTH',\n",
              "       'MCDOWELL-N', 'MCX', 'METROPOLIS', 'MOTILALOFS', 'MRF',\n",
              "       'MUTHOOTFIN', 'NAM-INDIA', 'NATIONALUM', 'NAUKRI', 'NEOGEN',\n",
              "       'NESTLEIND', 'NETWORK18', 'NIACL', 'NMDC', 'NTPC', 'OFSS', 'ONGC',\n",
              "       'PAGEIND', 'PARAGMILK', 'PEL', 'PFIZER', 'PGHH', 'PIDILITIND',\n",
              "       'PIIND', 'PNB', 'POLYCAB', 'POWERGRID', 'PRAJIND', 'PVRINOX',\n",
              "       'QUESS', 'RADICO', 'RAJESHEXPO', 'RBLBANK', 'RELAXO', 'RELIANCE',\n",
              "       'REPCOHOME', 'ROSSARI', 'ROUTE', 'SAIL', 'SAMMAANCAP', 'SANOFI',\n",
              "       'SBICARD', 'SBIETFPB', 'SBILIFE', 'SBIN', 'SCHAEFFLER ', 'SFL',\n",
              "       'SHALBY', 'SHARDACROP', 'SHREECEM', 'SIEMENS', 'SIS', 'SONACOMS',\n",
              "       'SONATSOFTW', 'SPORTKING', 'SRF', 'STARHEALTH', 'SUNPHARMA',\n",
              "       'SUNTV', 'SURYODAY', 'SUZLON', 'SYMPHONY', 'TANLA', 'TASTYBITE',\n",
              "       'TATACOMM', 'TATACONSUM', 'TATAELXSI', 'TATAMOTORS', 'TATAPOWER',\n",
              "       'TATASTEEL', 'TCS', 'TEAMLEASE', 'TECHM', 'TIDEWATER',\n",
              "       'TIPSINDLTD', 'TITAN', 'TORNTPHARM', 'TRIDENT', 'TTKPRESTIG',\n",
              "       'TV18BRDCST', 'UJJIVAN', 'UJJIVANSFB', 'ULTRACEMCO', 'UNIONBANK',\n",
              "       'UPL', 'UTIAMC', 'VAIBHAVGBL', 'VALIANTORG', 'VEDL', 'VGUARD',\n",
              "       'VINATIORGA', 'VIPIND', 'VOLTAS', 'WESTLIFE', 'WHIRLPOOL', 'WIPRO',\n",
              "       'WSTCSTPAPR', 'YESBANK', 'ZEEL'], dtype=object)"
            ]
          },
          "metadata": {},
          "execution_count": 1
        }
      ],
      "source": [
        "import pandas as pd\n",
        "import numpy as np\n",
        "#from google.colab import drive\n",
        "#drive.mount('/content/drive')\n",
        "\n",
        "#mypf = pd.read_csv('/content/drive/My Drive/data/stocks/myProspectsScrips.csv')\n",
        "\n",
        "path_mypf = 'https://raw.githubusercontent.com/ankit-rathi/Tradevesting_v1/main/data/'\n",
        "\n",
        "mypf = pd.read_csv(path_mypf + 'myProspectsScrips.csv')\n",
        "\n",
        "mypf['Symbol'].values"
      ]
    },
    {
      "cell_type": "code",
      "source": [
        "mypf['Category'].unique()"
      ],
      "metadata": {
        "colab": {
          "base_uri": "https://localhost:8080/"
        },
        "id": "w-hZKsZVPCVT",
        "outputId": "aafbaa9d-9d42-4d51-8552-0d57aa6519ea"
      },
      "execution_count": 2,
      "outputs": [
        {
          "output_type": "execute_result",
          "data": {
            "text/plain": [
              "array(['MISC', 'FINANCE', 'CHEMICALS', 'PHARMA', 'CEMENT', 'PAINTS',\n",
              "       'HEALTHCARE', 'AUTO', 'CERAMICS', 'BANKS', 'FMCG', 'SUGAR',\n",
              "       'TYRES', 'FOOTWEAR', 'TELECOM', 'AC', 'GLASS', 'OIL', 'IT',\n",
              "       'MINING', 'HOTELS', 'ELECTRICAL', 'ENTERTAINMENT', 'REALTY',\n",
              "       'TRAVEL', 'CABLES', 'GAS', 'INSURANCE', 'TEXTILES', 'METALS',\n",
              "       'REFINERIES', 'AIRLINES', 'STEEL', 'POWER', 'RESTAURANTS',\n",
              "       'ENGINEERING', 'BREWERIES', 'MEDIA', 'APPARELS', 'JEWELLERY',\n",
              "       'BEARINGS', 'DURABLES', 'PAPER'], dtype=object)"
            ]
          },
          "metadata": {},
          "execution_count": 2
        }
      ]
    },
    {
      "cell_type": "code",
      "source": [
        "import yfinance as yf\n",
        "import pandas as pd\n",
        "\n",
        "class StockStageAnalyzer:\n",
        "\n",
        "    def __init__(self, stock_list, start_date='2015-01-01', end_date=None):\n",
        "        self.stock_list = stock_list\n",
        "        self.start_date = start_date\n",
        "        self.end_date = end_date\n",
        "        self.stage_results = {}\n",
        "\n",
        "    def fetch_data(self, ticker):\n",
        "        \"\"\"Fetch stock data from Yahoo Finance.\"\"\"\n",
        "        try:\n",
        "            data = yf.download(ticker+'.NS', start=self.start_date, end=self.end_date)\n",
        "            return data\n",
        "        except Exception as e:\n",
        "            print(f\"Error fetching data for {ticker}: {e}\")\n",
        "            return None\n",
        "\n",
        "    def calculate_moving_averages(self, data):\n",
        "        \"\"\"Calculate the 50-day and 200-day moving averages.\"\"\"\n",
        "        data['50_MA'] = data['Close'].rolling(window=50).mean()\n",
        "        data['200_MA'] = data['Close'].rolling(window=200).mean()\n",
        "        return data\n",
        "\n",
        "    def detect_stage(self, data):\n",
        "        \"\"\"Determine the stock's current stage.\"\"\"\n",
        "        if data['50_MA'][-1] > data['200_MA'][-1] and data['Close'][-1] > data['200_MA'][-1]:\n",
        "            return 'Stage 2 (Advancing)'\n",
        "        elif data['50_MA'][-1] < data['200_MA'][-1] and data['Close'][-1] < data['200_MA'][-1]:\n",
        "            return 'Stage 4 (Declining)'\n",
        "        elif data['Close'][-1] < data['200_MA'][-1]:\n",
        "            return 'Stage 1 (Base Building)'\n",
        "        elif data['50_MA'][-1] < data['200_MA'][-1] and data['Close'][-1] < data['50_MA'][-1]:\n",
        "            return 'Stage 3 (Topping)'\n",
        "        else:\n",
        "            return 'Stage Unknown'\n",
        "\n",
        "    def analyze_stock(self, ticker):\n",
        "        \"\"\"Analyze a single stock and determine its stage.\"\"\"\n",
        "        data = self.fetch_data(ticker)\n",
        "        if data is not None and not data.empty:\n",
        "            data = self.calculate_moving_averages(data)\n",
        "            stage = self.detect_stage(data)\n",
        "            self.stage_results[ticker] = stage\n",
        "        else:\n",
        "            self.stage_results[ticker] = 'Data Not Available'\n",
        "\n",
        "    def analyze_all_stocks(self):\n",
        "        \"\"\"Analyze all stocks in the list and classify their stage.\"\"\"\n",
        "        for stock in self.stock_list:\n",
        "            print(f\"Analyzing {stock}...\")\n",
        "            self.analyze_stock(stock)\n",
        "\n",
        "    def get_results(self):\n",
        "        \"\"\"Return the stage results for each stock.\"\"\"\n",
        "        return self.stage_results\n"
      ],
      "metadata": {
        "id": "-Z847nokev9V"
      },
      "execution_count": 3,
      "outputs": []
    },
    {
      "cell_type": "code",
      "source": [
        "# Define the list of stocks to analyze\n",
        "stock_list = mypf['Symbol'].values\n",
        "\n",
        "# Instantiate the StockStageAnalyzer with the list of stocks\n",
        "analyzer = StockStageAnalyzer(stock_list, start_date='2015-01-01')\n",
        "\n",
        "# Analyze all the stocks in the list\n",
        "analyzer.analyze_all_stocks()\n",
        "\n",
        "# Get and print the results\n",
        "results = analyzer.get_results()\n",
        "pd.DataFrame(results.items(), columns=['Stock', 'Stage'])"
      ],
      "metadata": {
        "colab": {
          "base_uri": "https://localhost:8080/",
          "height": 1000
        },
        "id": "0zE6dtIcf3oo",
        "outputId": "5ac83a01-f3e7-46e7-8357-35d6ce479e09"
      },
      "execution_count": 4,
      "outputs": [
        {
          "output_type": "stream",
          "name": "stdout",
          "text": [
            "Analyzing 3MINDIA...\n"
          ]
        },
        {
          "output_type": "stream",
          "name": "stderr",
          "text": [
            "[*********************100%%**********************]  1 of 1 completed\n",
            "<ipython-input-3-e619abe0b4cb>:29: FutureWarning: Series.__getitem__ treating keys as positions is deprecated. In a future version, integer keys will always be treated as labels (consistent with DataFrame behavior). To access a value by position, use `ser.iloc[pos]`\n",
            "  if data['50_MA'][-1] > data['200_MA'][-1] and data['Close'][-1] > data['200_MA'][-1]:\n",
            "[*********************100%%**********************]  1 of 1 completed\n",
            "<ipython-input-3-e619abe0b4cb>:29: FutureWarning: Series.__getitem__ treating keys as positions is deprecated. In a future version, integer keys will always be treated as labels (consistent with DataFrame behavior). To access a value by position, use `ser.iloc[pos]`\n",
            "  if data['50_MA'][-1] > data['200_MA'][-1] and data['Close'][-1] > data['200_MA'][-1]:\n",
            "<ipython-input-3-e619abe0b4cb>:31: FutureWarning: Series.__getitem__ treating keys as positions is deprecated. In a future version, integer keys will always be treated as labels (consistent with DataFrame behavior). To access a value by position, use `ser.iloc[pos]`\n",
            "  elif data['50_MA'][-1] < data['200_MA'][-1] and data['Close'][-1] < data['200_MA'][-1]:\n"
          ]
        },
        {
          "output_type": "stream",
          "name": "stdout",
          "text": [
            "Analyzing 5PAISA...\n",
            "Analyzing AARTIIND...\n"
          ]
        },
        {
          "output_type": "stream",
          "name": "stderr",
          "text": [
            "\r[*********************100%%**********************]  1 of 1 completed\n",
            "<ipython-input-3-e619abe0b4cb>:29: FutureWarning: Series.__getitem__ treating keys as positions is deprecated. In a future version, integer keys will always be treated as labels (consistent with DataFrame behavior). To access a value by position, use `ser.iloc[pos]`\n",
            "  if data['50_MA'][-1] > data['200_MA'][-1] and data['Close'][-1] > data['200_MA'][-1]:\n",
            "<ipython-input-3-e619abe0b4cb>:31: FutureWarning: Series.__getitem__ treating keys as positions is deprecated. In a future version, integer keys will always be treated as labels (consistent with DataFrame behavior). To access a value by position, use `ser.iloc[pos]`\n",
            "  elif data['50_MA'][-1] < data['200_MA'][-1] and data['Close'][-1] < data['200_MA'][-1]:\n",
            "<ipython-input-3-e619abe0b4cb>:33: FutureWarning: Series.__getitem__ treating keys as positions is deprecated. In a future version, integer keys will always be treated as labels (consistent with DataFrame behavior). To access a value by position, use `ser.iloc[pos]`\n",
            "  elif data['Close'][-1] < data['200_MA'][-1]:\n",
            "[*********************100%%**********************]  1 of 1 completed\n",
            "<ipython-input-3-e619abe0b4cb>:29: FutureWarning: Series.__getitem__ treating keys as positions is deprecated. In a future version, integer keys will always be treated as labels (consistent with DataFrame behavior). To access a value by position, use `ser.iloc[pos]`\n",
            "  if data['50_MA'][-1] > data['200_MA'][-1] and data['Close'][-1] > data['200_MA'][-1]:\n"
          ]
        },
        {
          "output_type": "stream",
          "name": "stdout",
          "text": [
            "Analyzing AAVAS...\n",
            "Analyzing ABBOTINDIA...\n"
          ]
        },
        {
          "output_type": "stream",
          "name": "stderr",
          "text": [
            "\r[*********************100%%**********************]  1 of 1 completed\n",
            "<ipython-input-3-e619abe0b4cb>:29: FutureWarning: Series.__getitem__ treating keys as positions is deprecated. In a future version, integer keys will always be treated as labels (consistent with DataFrame behavior). To access a value by position, use `ser.iloc[pos]`\n",
            "  if data['50_MA'][-1] > data['200_MA'][-1] and data['Close'][-1] > data['200_MA'][-1]:\n"
          ]
        },
        {
          "output_type": "stream",
          "name": "stdout",
          "text": [
            "Analyzing ABSLAMC...\n"
          ]
        },
        {
          "output_type": "stream",
          "name": "stderr",
          "text": [
            "\r[*********************100%%**********************]  1 of 1 completed\n",
            "<ipython-input-3-e619abe0b4cb>:29: FutureWarning: Series.__getitem__ treating keys as positions is deprecated. In a future version, integer keys will always be treated as labels (consistent with DataFrame behavior). To access a value by position, use `ser.iloc[pos]`\n",
            "  if data['50_MA'][-1] > data['200_MA'][-1] and data['Close'][-1] > data['200_MA'][-1]:\n"
          ]
        },
        {
          "output_type": "stream",
          "name": "stdout",
          "text": [
            "Analyzing ACC...\n"
          ]
        },
        {
          "output_type": "stream",
          "name": "stderr",
          "text": [
            "[*********************100%%**********************]  1 of 1 completed\n",
            "<ipython-input-3-e619abe0b4cb>:29: FutureWarning: Series.__getitem__ treating keys as positions is deprecated. In a future version, integer keys will always be treated as labels (consistent with DataFrame behavior). To access a value by position, use `ser.iloc[pos]`\n",
            "  if data['50_MA'][-1] > data['200_MA'][-1] and data['Close'][-1] > data['200_MA'][-1]:\n",
            "<ipython-input-3-e619abe0b4cb>:31: FutureWarning: Series.__getitem__ treating keys as positions is deprecated. In a future version, integer keys will always be treated as labels (consistent with DataFrame behavior). To access a value by position, use `ser.iloc[pos]`\n",
            "  elif data['50_MA'][-1] < data['200_MA'][-1] and data['Close'][-1] < data['200_MA'][-1]:\n",
            "<ipython-input-3-e619abe0b4cb>:33: FutureWarning: Series.__getitem__ treating keys as positions is deprecated. In a future version, integer keys will always be treated as labels (consistent with DataFrame behavior). To access a value by position, use `ser.iloc[pos]`\n",
            "  elif data['Close'][-1] < data['200_MA'][-1]:\n",
            "[*********************100%%**********************]  1 of 1 completed\n",
            "<ipython-input-3-e619abe0b4cb>:29: FutureWarning: Series.__getitem__ treating keys as positions is deprecated. In a future version, integer keys will always be treated as labels (consistent with DataFrame behavior). To access a value by position, use `ser.iloc[pos]`\n",
            "  if data['50_MA'][-1] > data['200_MA'][-1] and data['Close'][-1] > data['200_MA'][-1]:\n"
          ]
        },
        {
          "output_type": "stream",
          "name": "stdout",
          "text": [
            "Analyzing AETHER...\n",
            "Analyzing AKZOINDIA...\n"
          ]
        },
        {
          "output_type": "stream",
          "name": "stderr",
          "text": [
            "\r[*********************100%%**********************]  1 of 1 completed\n",
            "<ipython-input-3-e619abe0b4cb>:29: FutureWarning: Series.__getitem__ treating keys as positions is deprecated. In a future version, integer keys will always be treated as labels (consistent with DataFrame behavior). To access a value by position, use `ser.iloc[pos]`\n",
            "  if data['50_MA'][-1] > data['200_MA'][-1] and data['Close'][-1] > data['200_MA'][-1]:\n"
          ]
        },
        {
          "output_type": "stream",
          "name": "stdout",
          "text": [
            "Analyzing ALKYLAMINE...\n"
          ]
        },
        {
          "output_type": "stream",
          "name": "stderr",
          "text": [
            "\r[*********************100%%**********************]  1 of 1 completed\n",
            "<ipython-input-3-e619abe0b4cb>:29: FutureWarning: Series.__getitem__ treating keys as positions is deprecated. In a future version, integer keys will always be treated as labels (consistent with DataFrame behavior). To access a value by position, use `ser.iloc[pos]`\n",
            "  if data['50_MA'][-1] > data['200_MA'][-1] and data['Close'][-1] > data['200_MA'][-1]:\n",
            "<ipython-input-3-e619abe0b4cb>:31: FutureWarning: Series.__getitem__ treating keys as positions is deprecated. In a future version, integer keys will always be treated as labels (consistent with DataFrame behavior). To access a value by position, use `ser.iloc[pos]`\n",
            "  elif data['50_MA'][-1] < data['200_MA'][-1] and data['Close'][-1] < data['200_MA'][-1]:\n"
          ]
        },
        {
          "output_type": "stream",
          "name": "stdout",
          "text": [
            "Analyzing AMBUJACEM...\n"
          ]
        },
        {
          "output_type": "stream",
          "name": "stderr",
          "text": [
            "\r[*********************100%%**********************]  1 of 1 completed\n",
            "<ipython-input-3-e619abe0b4cb>:29: FutureWarning: Series.__getitem__ treating keys as positions is deprecated. In a future version, integer keys will always be treated as labels (consistent with DataFrame behavior). To access a value by position, use `ser.iloc[pos]`\n",
            "  if data['50_MA'][-1] > data['200_MA'][-1] and data['Close'][-1] > data['200_MA'][-1]:\n",
            "[*********************100%%**********************]  1 of 1 completed\n",
            "<ipython-input-3-e619abe0b4cb>:29: FutureWarning: Series.__getitem__ treating keys as positions is deprecated. In a future version, integer keys will always be treated as labels (consistent with DataFrame behavior). To access a value by position, use `ser.iloc[pos]`\n",
            "  if data['50_MA'][-1] > data['200_MA'][-1] and data['Close'][-1] > data['200_MA'][-1]:\n",
            "<ipython-input-3-e619abe0b4cb>:31: FutureWarning: Series.__getitem__ treating keys as positions is deprecated. In a future version, integer keys will always be treated as labels (consistent with DataFrame behavior). To access a value by position, use `ser.iloc[pos]`\n",
            "  elif data['50_MA'][-1] < data['200_MA'][-1] and data['Close'][-1] < data['200_MA'][-1]:\n"
          ]
        },
        {
          "output_type": "stream",
          "name": "stdout",
          "text": [
            "Analyzing ANGELONE...\n",
            "Analyzing APEX...\n"
          ]
        },
        {
          "output_type": "stream",
          "name": "stderr",
          "text": [
            "\r[*********************100%%**********************]  1 of 1 completed\n",
            "<ipython-input-3-e619abe0b4cb>:29: FutureWarning: Series.__getitem__ treating keys as positions is deprecated. In a future version, integer keys will always be treated as labels (consistent with DataFrame behavior). To access a value by position, use `ser.iloc[pos]`\n",
            "  if data['50_MA'][-1] > data['200_MA'][-1] and data['Close'][-1] > data['200_MA'][-1]:\n"
          ]
        },
        {
          "output_type": "stream",
          "name": "stdout",
          "text": [
            "Analyzing APLLTD...\n"
          ]
        },
        {
          "output_type": "stream",
          "name": "stderr",
          "text": [
            "\r[*********************100%%**********************]  1 of 1 completed\n",
            "<ipython-input-3-e619abe0b4cb>:29: FutureWarning: Series.__getitem__ treating keys as positions is deprecated. In a future version, integer keys will always be treated as labels (consistent with DataFrame behavior). To access a value by position, use `ser.iloc[pos]`\n",
            "  if data['50_MA'][-1] > data['200_MA'][-1] and data['Close'][-1] > data['200_MA'][-1]:\n"
          ]
        },
        {
          "output_type": "stream",
          "name": "stdout",
          "text": [
            "Analyzing APOLLOHOSP...\n"
          ]
        },
        {
          "output_type": "stream",
          "name": "stderr",
          "text": [
            "[*********************100%%**********************]  1 of 1 completed\n",
            "<ipython-input-3-e619abe0b4cb>:29: FutureWarning: Series.__getitem__ treating keys as positions is deprecated. In a future version, integer keys will always be treated as labels (consistent with DataFrame behavior). To access a value by position, use `ser.iloc[pos]`\n",
            "  if data['50_MA'][-1] > data['200_MA'][-1] and data['Close'][-1] > data['200_MA'][-1]:\n",
            "[*********************100%%**********************]  1 of 1 completed\n",
            "<ipython-input-3-e619abe0b4cb>:29: FutureWarning: Series.__getitem__ treating keys as positions is deprecated. In a future version, integer keys will always be treated as labels (consistent with DataFrame behavior). To access a value by position, use `ser.iloc[pos]`\n",
            "  if data['50_MA'][-1] > data['200_MA'][-1] and data['Close'][-1] > data['200_MA'][-1]:\n"
          ]
        },
        {
          "output_type": "stream",
          "name": "stdout",
          "text": [
            "Analyzing ARVINDFASN...\n",
            "Analyzing ARE&M...\n"
          ]
        },
        {
          "output_type": "stream",
          "name": "stderr",
          "text": [
            "\r[*********************100%%**********************]  1 of 1 completed\n",
            "<ipython-input-3-e619abe0b4cb>:29: FutureWarning: Series.__getitem__ treating keys as positions is deprecated. In a future version, integer keys will always be treated as labels (consistent with DataFrame behavior). To access a value by position, use `ser.iloc[pos]`\n",
            "  if data['50_MA'][-1] > data['200_MA'][-1] and data['Close'][-1] > data['200_MA'][-1]:\n"
          ]
        },
        {
          "output_type": "stream",
          "name": "stdout",
          "text": [
            "Analyzing ASIANPAINT...\n"
          ]
        },
        {
          "output_type": "stream",
          "name": "stderr",
          "text": [
            "\r[*********************100%%**********************]  1 of 1 completed\n",
            "<ipython-input-3-e619abe0b4cb>:29: FutureWarning: Series.__getitem__ treating keys as positions is deprecated. In a future version, integer keys will always be treated as labels (consistent with DataFrame behavior). To access a value by position, use `ser.iloc[pos]`\n",
            "  if data['50_MA'][-1] > data['200_MA'][-1] and data['Close'][-1] > data['200_MA'][-1]:\n",
            "<ipython-input-3-e619abe0b4cb>:31: FutureWarning: Series.__getitem__ treating keys as positions is deprecated. In a future version, integer keys will always be treated as labels (consistent with DataFrame behavior). To access a value by position, use `ser.iloc[pos]`\n",
            "  elif data['50_MA'][-1] < data['200_MA'][-1] and data['Close'][-1] < data['200_MA'][-1]:\n",
            "<ipython-input-3-e619abe0b4cb>:33: FutureWarning: Series.__getitem__ treating keys as positions is deprecated. In a future version, integer keys will always be treated as labels (consistent with DataFrame behavior). To access a value by position, use `ser.iloc[pos]`\n",
            "  elif data['Close'][-1] < data['200_MA'][-1]:\n",
            "<ipython-input-3-e619abe0b4cb>:35: FutureWarning: Series.__getitem__ treating keys as positions is deprecated. In a future version, integer keys will always be treated as labels (consistent with DataFrame behavior). To access a value by position, use `ser.iloc[pos]`\n",
            "  elif data['50_MA'][-1] < data['200_MA'][-1] and data['Close'][-1] < data['50_MA'][-1]:\n"
          ]
        },
        {
          "output_type": "stream",
          "name": "stdout",
          "text": [
            "Analyzing ASIANTILES...\n"
          ]
        },
        {
          "output_type": "stream",
          "name": "stderr",
          "text": [
            "\r[*********************100%%**********************]  1 of 1 completed\n",
            "<ipython-input-3-e619abe0b4cb>:29: FutureWarning: Series.__getitem__ treating keys as positions is deprecated. In a future version, integer keys will always be treated as labels (consistent with DataFrame behavior). To access a value by position, use `ser.iloc[pos]`\n",
            "  if data['50_MA'][-1] > data['200_MA'][-1] and data['Close'][-1] > data['200_MA'][-1]:\n"
          ]
        },
        {
          "output_type": "stream",
          "name": "stdout",
          "text": [
            "Analyzing ASTRAZEN...\n"
          ]
        },
        {
          "output_type": "stream",
          "name": "stderr",
          "text": [
            "[*********************100%%**********************]  1 of 1 completed\n",
            "<ipython-input-3-e619abe0b4cb>:29: FutureWarning: Series.__getitem__ treating keys as positions is deprecated. In a future version, integer keys will always be treated as labels (consistent with DataFrame behavior). To access a value by position, use `ser.iloc[pos]`\n",
            "  if data['50_MA'][-1] > data['200_MA'][-1] and data['Close'][-1] > data['200_MA'][-1]:\n",
            "[*********************100%%**********************]  1 of 1 completed\n",
            "<ipython-input-3-e619abe0b4cb>:29: FutureWarning: Series.__getitem__ treating keys as positions is deprecated. In a future version, integer keys will always be treated as labels (consistent with DataFrame behavior). To access a value by position, use `ser.iloc[pos]`\n",
            "  if data['50_MA'][-1] > data['200_MA'][-1] and data['Close'][-1] > data['200_MA'][-1]:\n",
            "<ipython-input-3-e619abe0b4cb>:31: FutureWarning: Series.__getitem__ treating keys as positions is deprecated. In a future version, integer keys will always be treated as labels (consistent with DataFrame behavior). To access a value by position, use `ser.iloc[pos]`\n",
            "  elif data['50_MA'][-1] < data['200_MA'][-1] and data['Close'][-1] < data['200_MA'][-1]:\n"
          ]
        },
        {
          "output_type": "stream",
          "name": "stdout",
          "text": [
            "Analyzing AUBANK...\n",
            "Analyzing AUROPHARMA...\n"
          ]
        },
        {
          "output_type": "stream",
          "name": "stderr",
          "text": [
            "\r[*********************100%%**********************]  1 of 1 completed\n",
            "<ipython-input-3-e619abe0b4cb>:29: FutureWarning: Series.__getitem__ treating keys as positions is deprecated. In a future version, integer keys will always be treated as labels (consistent with DataFrame behavior). To access a value by position, use `ser.iloc[pos]`\n",
            "  if data['50_MA'][-1] > data['200_MA'][-1] and data['Close'][-1] > data['200_MA'][-1]:\n"
          ]
        },
        {
          "output_type": "stream",
          "name": "stdout",
          "text": [
            "Analyzing AVANTIFEED...\n"
          ]
        },
        {
          "output_type": "stream",
          "name": "stderr",
          "text": [
            "[*********************100%%**********************]  1 of 1 completed\n",
            "<ipython-input-3-e619abe0b4cb>:29: FutureWarning: Series.__getitem__ treating keys as positions is deprecated. In a future version, integer keys will always be treated as labels (consistent with DataFrame behavior). To access a value by position, use `ser.iloc[pos]`\n",
            "  if data['50_MA'][-1] > data['200_MA'][-1] and data['Close'][-1] > data['200_MA'][-1]:\n",
            "[*********************100%%**********************]  1 of 1 completed\n",
            "<ipython-input-3-e619abe0b4cb>:29: FutureWarning: Series.__getitem__ treating keys as positions is deprecated. In a future version, integer keys will always be treated as labels (consistent with DataFrame behavior). To access a value by position, use `ser.iloc[pos]`\n",
            "  if data['50_MA'][-1] > data['200_MA'][-1] and data['Close'][-1] > data['200_MA'][-1]:\n",
            "<ipython-input-3-e619abe0b4cb>:31: FutureWarning: Series.__getitem__ treating keys as positions is deprecated. In a future version, integer keys will always be treated as labels (consistent with DataFrame behavior). To access a value by position, use `ser.iloc[pos]`\n",
            "  elif data['50_MA'][-1] < data['200_MA'][-1] and data['Close'][-1] < data['200_MA'][-1]:\n",
            "<ipython-input-3-e619abe0b4cb>:33: FutureWarning: Series.__getitem__ treating keys as positions is deprecated. In a future version, integer keys will always be treated as labels (consistent with DataFrame behavior). To access a value by position, use `ser.iloc[pos]`\n",
            "  elif data['Close'][-1] < data['200_MA'][-1]:\n",
            "<ipython-input-3-e619abe0b4cb>:35: FutureWarning: Series.__getitem__ treating keys as positions is deprecated. In a future version, integer keys will always be treated as labels (consistent with DataFrame behavior). To access a value by position, use `ser.iloc[pos]`\n",
            "  elif data['50_MA'][-1] < data['200_MA'][-1] and data['Close'][-1] < data['50_MA'][-1]:\n"
          ]
        },
        {
          "output_type": "stream",
          "name": "stdout",
          "text": [
            "Analyzing AWL...\n",
            "Analyzing AXISBANK...\n"
          ]
        },
        {
          "output_type": "stream",
          "name": "stderr",
          "text": [
            "\r[*********************100%%**********************]  1 of 1 completed\n",
            "<ipython-input-3-e619abe0b4cb>:29: FutureWarning: Series.__getitem__ treating keys as positions is deprecated. In a future version, integer keys will always be treated as labels (consistent with DataFrame behavior). To access a value by position, use `ser.iloc[pos]`\n",
            "  if data['50_MA'][-1] > data['200_MA'][-1] and data['Close'][-1] > data['200_MA'][-1]:\n",
            "[*********************100%%**********************]  1 of 1 completed"
          ]
        },
        {
          "output_type": "stream",
          "name": "stdout",
          "text": [
            "Analyzing BAJAJ-AUTO...\n",
            "Analyzing BAJAJFINSV..."
          ]
        },
        {
          "output_type": "stream",
          "name": "stderr",
          "text": [
            "\n",
            "<ipython-input-3-e619abe0b4cb>:29: FutureWarning: Series.__getitem__ treating keys as positions is deprecated. In a future version, integer keys will always be treated as labels (consistent with DataFrame behavior). To access a value by position, use `ser.iloc[pos]`\n",
            "  if data['50_MA'][-1] > data['200_MA'][-1] and data['Close'][-1] > data['200_MA'][-1]:\n"
          ]
        },
        {
          "output_type": "stream",
          "name": "stdout",
          "text": [
            "\n"
          ]
        },
        {
          "output_type": "stream",
          "name": "stderr",
          "text": [
            "[*********************100%%**********************]  1 of 1 completed\n",
            "<ipython-input-3-e619abe0b4cb>:29: FutureWarning: Series.__getitem__ treating keys as positions is deprecated. In a future version, integer keys will always be treated as labels (consistent with DataFrame behavior). To access a value by position, use `ser.iloc[pos]`\n",
            "  if data['50_MA'][-1] > data['200_MA'][-1] and data['Close'][-1] > data['200_MA'][-1]:\n",
            "<ipython-input-3-e619abe0b4cb>:31: FutureWarning: Series.__getitem__ treating keys as positions is deprecated. In a future version, integer keys will always be treated as labels (consistent with DataFrame behavior). To access a value by position, use `ser.iloc[pos]`\n",
            "  elif data['50_MA'][-1] < data['200_MA'][-1] and data['Close'][-1] < data['200_MA'][-1]:\n",
            "[*********************100%%**********************]  1 of 1 completed\n",
            "<ipython-input-3-e619abe0b4cb>:29: FutureWarning: Series.__getitem__ treating keys as positions is deprecated. In a future version, integer keys will always be treated as labels (consistent with DataFrame behavior). To access a value by position, use `ser.iloc[pos]`\n",
            "  if data['50_MA'][-1] > data['200_MA'][-1] and data['Close'][-1] > data['200_MA'][-1]:\n"
          ]
        },
        {
          "output_type": "stream",
          "name": "stdout",
          "text": [
            "Analyzing BAJAJHIND...\n",
            "Analyzing BAJAJHLDNG...\n"
          ]
        },
        {
          "output_type": "stream",
          "name": "stderr",
          "text": [
            "\r[*********************100%%**********************]  1 of 1 completed\n",
            "<ipython-input-3-e619abe0b4cb>:29: FutureWarning: Series.__getitem__ treating keys as positions is deprecated. In a future version, integer keys will always be treated as labels (consistent with DataFrame behavior). To access a value by position, use `ser.iloc[pos]`\n",
            "  if data['50_MA'][-1] > data['200_MA'][-1] and data['Close'][-1] > data['200_MA'][-1]:\n"
          ]
        },
        {
          "output_type": "stream",
          "name": "stdout",
          "text": [
            "Analyzing BAJFINANCE...\n"
          ]
        },
        {
          "output_type": "stream",
          "name": "stderr",
          "text": [
            "\r[*********************100%%**********************]  1 of 1 completed\n",
            "<ipython-input-3-e619abe0b4cb>:29: FutureWarning: Series.__getitem__ treating keys as positions is deprecated. In a future version, integer keys will always be treated as labels (consistent with DataFrame behavior). To access a value by position, use `ser.iloc[pos]`\n",
            "  if data['50_MA'][-1] > data['200_MA'][-1] and data['Close'][-1] > data['200_MA'][-1]:\n",
            "<ipython-input-3-e619abe0b4cb>:31: FutureWarning: Series.__getitem__ treating keys as positions is deprecated. In a future version, integer keys will always be treated as labels (consistent with DataFrame behavior). To access a value by position, use `ser.iloc[pos]`\n",
            "  elif data['50_MA'][-1] < data['200_MA'][-1] and data['Close'][-1] < data['200_MA'][-1]:\n",
            "[*********************100%%**********************]  1 of 1 completed\n"
          ]
        },
        {
          "output_type": "stream",
          "name": "stdout",
          "text": [
            "Analyzing BALKRISIND...\n"
          ]
        },
        {
          "output_type": "stream",
          "name": "stderr",
          "text": [
            "<ipython-input-3-e619abe0b4cb>:29: FutureWarning: Series.__getitem__ treating keys as positions is deprecated. In a future version, integer keys will always be treated as labels (consistent with DataFrame behavior). To access a value by position, use `ser.iloc[pos]`\n",
            "  if data['50_MA'][-1] > data['200_MA'][-1] and data['Close'][-1] > data['200_MA'][-1]:\n",
            "\r[*********************100%%**********************]  1 of 1 completed\n",
            "<ipython-input-3-e619abe0b4cb>:29: FutureWarning: Series.__getitem__ treating keys as positions is deprecated. In a future version, integer keys will always be treated as labels (consistent with DataFrame behavior). To access a value by position, use `ser.iloc[pos]`\n",
            "  if data['50_MA'][-1] > data['200_MA'][-1] and data['Close'][-1] > data['200_MA'][-1]:\n",
            "<ipython-input-3-e619abe0b4cb>:31: FutureWarning: Series.__getitem__ treating keys as positions is deprecated. In a future version, integer keys will always be treated as labels (consistent with DataFrame behavior). To access a value by position, use `ser.iloc[pos]`\n",
            "  elif data['50_MA'][-1] < data['200_MA'][-1] and data['Close'][-1] < data['200_MA'][-1]:\n"
          ]
        },
        {
          "output_type": "stream",
          "name": "stdout",
          "text": [
            "Analyzing BANDHANBNK...\n",
            "Analyzing BANKBARODA...\n"
          ]
        },
        {
          "output_type": "stream",
          "name": "stderr",
          "text": [
            "\r[*********************100%%**********************]  1 of 1 completed\n",
            "<ipython-input-3-e619abe0b4cb>:29: FutureWarning: Series.__getitem__ treating keys as positions is deprecated. In a future version, integer keys will always be treated as labels (consistent with DataFrame behavior). To access a value by position, use `ser.iloc[pos]`\n",
            "  if data['50_MA'][-1] > data['200_MA'][-1] and data['Close'][-1] > data['200_MA'][-1]:\n",
            "<ipython-input-3-e619abe0b4cb>:31: FutureWarning: Series.__getitem__ treating keys as positions is deprecated. In a future version, integer keys will always be treated as labels (consistent with DataFrame behavior). To access a value by position, use `ser.iloc[pos]`\n",
            "  elif data['50_MA'][-1] < data['200_MA'][-1] and data['Close'][-1] < data['200_MA'][-1]:\n",
            "<ipython-input-3-e619abe0b4cb>:33: FutureWarning: Series.__getitem__ treating keys as positions is deprecated. In a future version, integer keys will always be treated as labels (consistent with DataFrame behavior). To access a value by position, use `ser.iloc[pos]`\n",
            "  elif data['Close'][-1] < data['200_MA'][-1]:\n"
          ]
        },
        {
          "output_type": "stream",
          "name": "stdout",
          "text": [
            "Analyzing BANKINDIA...\n"
          ]
        },
        {
          "output_type": "stream",
          "name": "stderr",
          "text": [
            "\r[*********************100%%**********************]  1 of 1 completed\n",
            "<ipython-input-3-e619abe0b4cb>:29: FutureWarning: Series.__getitem__ treating keys as positions is deprecated. In a future version, integer keys will always be treated as labels (consistent with DataFrame behavior). To access a value by position, use `ser.iloc[pos]`\n",
            "  if data['50_MA'][-1] > data['200_MA'][-1] and data['Close'][-1] > data['200_MA'][-1]:\n",
            "<ipython-input-3-e619abe0b4cb>:31: FutureWarning: Series.__getitem__ treating keys as positions is deprecated. In a future version, integer keys will always be treated as labels (consistent with DataFrame behavior). To access a value by position, use `ser.iloc[pos]`\n",
            "  elif data['50_MA'][-1] < data['200_MA'][-1] and data['Close'][-1] < data['200_MA'][-1]:\n"
          ]
        },
        {
          "output_type": "stream",
          "name": "stdout",
          "text": [
            "Analyzing BATAINDIA...\n"
          ]
        },
        {
          "output_type": "stream",
          "name": "stderr",
          "text": [
            "\r[*********************100%%**********************]  1 of 1 completed\n",
            "<ipython-input-3-e619abe0b4cb>:29: FutureWarning: Series.__getitem__ treating keys as positions is deprecated. In a future version, integer keys will always be treated as labels (consistent with DataFrame behavior). To access a value by position, use `ser.iloc[pos]`\n",
            "  if data['50_MA'][-1] > data['200_MA'][-1] and data['Close'][-1] > data['200_MA'][-1]:\n",
            "<ipython-input-3-e619abe0b4cb>:31: FutureWarning: Series.__getitem__ treating keys as positions is deprecated. In a future version, integer keys will always be treated as labels (consistent with DataFrame behavior). To access a value by position, use `ser.iloc[pos]`\n",
            "  elif data['50_MA'][-1] < data['200_MA'][-1] and data['Close'][-1] < data['200_MA'][-1]:\n",
            "<ipython-input-3-e619abe0b4cb>:33: FutureWarning: Series.__getitem__ treating keys as positions is deprecated. In a future version, integer keys will always be treated as labels (consistent with DataFrame behavior). To access a value by position, use `ser.iloc[pos]`\n",
            "  elif data['Close'][-1] < data['200_MA'][-1]:\n"
          ]
        },
        {
          "output_type": "stream",
          "name": "stdout",
          "text": [
            "Analyzing BAYERCROP...\n"
          ]
        },
        {
          "output_type": "stream",
          "name": "stderr",
          "text": [
            "\r[*********************100%%**********************]  1 of 1 completed\n",
            "<ipython-input-3-e619abe0b4cb>:29: FutureWarning: Series.__getitem__ treating keys as positions is deprecated. In a future version, integer keys will always be treated as labels (consistent with DataFrame behavior). To access a value by position, use `ser.iloc[pos]`\n",
            "  if data['50_MA'][-1] > data['200_MA'][-1] and data['Close'][-1] > data['200_MA'][-1]:\n"
          ]
        },
        {
          "output_type": "stream",
          "name": "stdout",
          "text": [
            "Analyzing BERGEPAINT...\n"
          ]
        },
        {
          "output_type": "stream",
          "name": "stderr",
          "text": [
            "\r[*********************100%%**********************]  1 of 1 completed\n",
            "<ipython-input-3-e619abe0b4cb>:29: FutureWarning: Series.__getitem__ treating keys as positions is deprecated. In a future version, integer keys will always be treated as labels (consistent with DataFrame behavior). To access a value by position, use `ser.iloc[pos]`\n",
            "  if data['50_MA'][-1] > data['200_MA'][-1] and data['Close'][-1] > data['200_MA'][-1]:\n",
            "<ipython-input-3-e619abe0b4cb>:31: FutureWarning: Series.__getitem__ treating keys as positions is deprecated. In a future version, integer keys will always be treated as labels (consistent with DataFrame behavior). To access a value by position, use `ser.iloc[pos]`\n",
            "  elif data['50_MA'][-1] < data['200_MA'][-1] and data['Close'][-1] < data['200_MA'][-1]:\n",
            "<ipython-input-3-e619abe0b4cb>:33: FutureWarning: Series.__getitem__ treating keys as positions is deprecated. In a future version, integer keys will always be treated as labels (consistent with DataFrame behavior). To access a value by position, use `ser.iloc[pos]`\n",
            "  elif data['Close'][-1] < data['200_MA'][-1]:\n",
            "<ipython-input-3-e619abe0b4cb>:35: FutureWarning: Series.__getitem__ treating keys as positions is deprecated. In a future version, integer keys will always be treated as labels (consistent with DataFrame behavior). To access a value by position, use `ser.iloc[pos]`\n",
            "  elif data['50_MA'][-1] < data['200_MA'][-1] and data['Close'][-1] < data['50_MA'][-1]:\n"
          ]
        },
        {
          "output_type": "stream",
          "name": "stdout",
          "text": [
            "Analyzing BHARTIARTL...\n"
          ]
        },
        {
          "output_type": "stream",
          "name": "stderr",
          "text": [
            "\r[*********************100%%**********************]  1 of 1 completed\n",
            "<ipython-input-3-e619abe0b4cb>:29: FutureWarning: Series.__getitem__ treating keys as positions is deprecated. In a future version, integer keys will always be treated as labels (consistent with DataFrame behavior). To access a value by position, use `ser.iloc[pos]`\n",
            "  if data['50_MA'][-1] > data['200_MA'][-1] and data['Close'][-1] > data['200_MA'][-1]:\n"
          ]
        },
        {
          "output_type": "stream",
          "name": "stdout",
          "text": [
            "Analyzing BIOCON...\n"
          ]
        },
        {
          "output_type": "stream",
          "name": "stderr",
          "text": [
            "[*********************100%%**********************]  1 of 1 completed\n",
            "<ipython-input-3-e619abe0b4cb>:29: FutureWarning: Series.__getitem__ treating keys as positions is deprecated. In a future version, integer keys will always be treated as labels (consistent with DataFrame behavior). To access a value by position, use `ser.iloc[pos]`\n",
            "  if data['50_MA'][-1] > data['200_MA'][-1] and data['Close'][-1] > data['200_MA'][-1]:\n",
            "[*********************100%%**********************]  1 of 1 completed\n",
            "<ipython-input-3-e619abe0b4cb>:29: FutureWarning: Series.__getitem__ treating keys as positions is deprecated. In a future version, integer keys will always be treated as labels (consistent with DataFrame behavior). To access a value by position, use `ser.iloc[pos]`\n",
            "  if data['50_MA'][-1] > data['200_MA'][-1] and data['Close'][-1] > data['200_MA'][-1]:\n"
          ]
        },
        {
          "output_type": "stream",
          "name": "stdout",
          "text": [
            "Analyzing BIRLAMONEY...\n",
            "Analyzing BLUESTARCO...\n"
          ]
        },
        {
          "output_type": "stream",
          "name": "stderr",
          "text": [
            "[*********************100%%**********************]  1 of 1 completed\n",
            "<ipython-input-3-e619abe0b4cb>:29: FutureWarning: Series.__getitem__ treating keys as positions is deprecated. In a future version, integer keys will always be treated as labels (consistent with DataFrame behavior). To access a value by position, use `ser.iloc[pos]`\n",
            "  if data['50_MA'][-1] > data['200_MA'][-1] and data['Close'][-1] > data['200_MA'][-1]:\n",
            "[*********************100%%**********************]  1 of 1 completed\n",
            "<ipython-input-3-e619abe0b4cb>:29: FutureWarning: Series.__getitem__ treating keys as positions is deprecated. In a future version, integer keys will always be treated as labels (consistent with DataFrame behavior). To access a value by position, use `ser.iloc[pos]`\n",
            "  if data['50_MA'][-1] > data['200_MA'][-1] and data['Close'][-1] > data['200_MA'][-1]:\n"
          ]
        },
        {
          "output_type": "stream",
          "name": "stdout",
          "text": [
            "Analyzing BOROLTD...\n",
            "Analyzing BOSCHLTD...\n"
          ]
        },
        {
          "output_type": "stream",
          "name": "stderr",
          "text": [
            "\r[*********************100%%**********************]  1 of 1 completed\n",
            "<ipython-input-3-e619abe0b4cb>:29: FutureWarning: Series.__getitem__ treating keys as positions is deprecated. In a future version, integer keys will always be treated as labels (consistent with DataFrame behavior). To access a value by position, use `ser.iloc[pos]`\n",
            "  if data['50_MA'][-1] > data['200_MA'][-1] and data['Close'][-1] > data['200_MA'][-1]:\n"
          ]
        },
        {
          "output_type": "stream",
          "name": "stdout",
          "text": [
            "Analyzing BPCL...\n"
          ]
        },
        {
          "output_type": "stream",
          "name": "stderr",
          "text": [
            "\r[*********************100%%**********************]  1 of 1 completed\n",
            "<ipython-input-3-e619abe0b4cb>:29: FutureWarning: Series.__getitem__ treating keys as positions is deprecated. In a future version, integer keys will always be treated as labels (consistent with DataFrame behavior). To access a value by position, use `ser.iloc[pos]`\n",
            "  if data['50_MA'][-1] > data['200_MA'][-1] and data['Close'][-1] > data['200_MA'][-1]:\n"
          ]
        },
        {
          "output_type": "stream",
          "name": "stdout",
          "text": [
            "Analyzing BRITANNIA...\n"
          ]
        },
        {
          "output_type": "stream",
          "name": "stderr",
          "text": [
            "\r[*********************100%%**********************]  1 of 1 completed\n",
            "<ipython-input-3-e619abe0b4cb>:29: FutureWarning: Series.__getitem__ treating keys as positions is deprecated. In a future version, integer keys will always be treated as labels (consistent with DataFrame behavior). To access a value by position, use `ser.iloc[pos]`\n",
            "  if data['50_MA'][-1] > data['200_MA'][-1] and data['Close'][-1] > data['200_MA'][-1]:\n"
          ]
        },
        {
          "output_type": "stream",
          "name": "stdout",
          "text": [
            "Analyzing BSOFT...\n"
          ]
        },
        {
          "output_type": "stream",
          "name": "stderr",
          "text": [
            "[*********************100%%**********************]  1 of 1 completed\n",
            "<ipython-input-3-e619abe0b4cb>:29: FutureWarning: Series.__getitem__ treating keys as positions is deprecated. In a future version, integer keys will always be treated as labels (consistent with DataFrame behavior). To access a value by position, use `ser.iloc[pos]`\n",
            "  if data['50_MA'][-1] > data['200_MA'][-1] and data['Close'][-1] > data['200_MA'][-1]:\n",
            "<ipython-input-3-e619abe0b4cb>:31: FutureWarning: Series.__getitem__ treating keys as positions is deprecated. In a future version, integer keys will always be treated as labels (consistent with DataFrame behavior). To access a value by position, use `ser.iloc[pos]`\n",
            "  elif data['50_MA'][-1] < data['200_MA'][-1] and data['Close'][-1] < data['200_MA'][-1]:\n",
            "[*********************100%%**********************]  1 of 1 completed\n",
            "<ipython-input-3-e619abe0b4cb>:29: FutureWarning: Series.__getitem__ treating keys as positions is deprecated. In a future version, integer keys will always be treated as labels (consistent with DataFrame behavior). To access a value by position, use `ser.iloc[pos]`\n",
            "  if data['50_MA'][-1] > data['200_MA'][-1] and data['Close'][-1] > data['200_MA'][-1]:\n"
          ]
        },
        {
          "output_type": "stream",
          "name": "stdout",
          "text": [
            "Analyzing CAMPUS...\n",
            "Analyzing CAMS...\n"
          ]
        },
        {
          "output_type": "stream",
          "name": "stderr",
          "text": [
            "\r[*********************100%%**********************]  1 of 1 completed\n",
            "<ipython-input-3-e619abe0b4cb>:29: FutureWarning: Series.__getitem__ treating keys as positions is deprecated. In a future version, integer keys will always be treated as labels (consistent with DataFrame behavior). To access a value by position, use `ser.iloc[pos]`\n",
            "  if data['50_MA'][-1] > data['200_MA'][-1] and data['Close'][-1] > data['200_MA'][-1]:\n"
          ]
        },
        {
          "output_type": "stream",
          "name": "stdout",
          "text": [
            "Analyzing CANBK...\n"
          ]
        },
        {
          "output_type": "stream",
          "name": "stderr",
          "text": [
            "\r[*********************100%%**********************]  1 of 1 completed\n",
            "<ipython-input-3-e619abe0b4cb>:29: FutureWarning: Series.__getitem__ treating keys as positions is deprecated. In a future version, integer keys will always be treated as labels (consistent with DataFrame behavior). To access a value by position, use `ser.iloc[pos]`\n",
            "  if data['50_MA'][-1] > data['200_MA'][-1] and data['Close'][-1] > data['200_MA'][-1]:\n",
            "[*********************100%%**********************]  1 of 1 completed\n",
            "<ipython-input-3-e619abe0b4cb>:29: FutureWarning: Series.__getitem__ treating keys as positions is deprecated. In a future version, integer keys will always be treated as labels (consistent with DataFrame behavior). To access a value by position, use `ser.iloc[pos]`\n",
            "  if data['50_MA'][-1] > data['200_MA'][-1] and data['Close'][-1] > data['200_MA'][-1]:\n"
          ]
        },
        {
          "output_type": "stream",
          "name": "stdout",
          "text": [
            "Analyzing CAPLIPOINT...\n",
            "Analyzing CASTROLIND...\n"
          ]
        },
        {
          "output_type": "stream",
          "name": "stderr",
          "text": [
            "[*********************100%%**********************]  1 of 1 completed\n",
            "<ipython-input-3-e619abe0b4cb>:29: FutureWarning: Series.__getitem__ treating keys as positions is deprecated. In a future version, integer keys will always be treated as labels (consistent with DataFrame behavior). To access a value by position, use `ser.iloc[pos]`\n",
            "  if data['50_MA'][-1] > data['200_MA'][-1] and data['Close'][-1] > data['200_MA'][-1]:\n",
            "[*********************100%%**********************]  1 of 1 completed\n",
            "<ipython-input-3-e619abe0b4cb>:29: FutureWarning: Series.__getitem__ treating keys as positions is deprecated. In a future version, integer keys will always be treated as labels (consistent with DataFrame behavior). To access a value by position, use `ser.iloc[pos]`\n",
            "  if data['50_MA'][-1] > data['200_MA'][-1] and data['Close'][-1] > data['200_MA'][-1]:\n"
          ]
        },
        {
          "output_type": "stream",
          "name": "stdout",
          "text": [
            "Analyzing CDSL...\n",
            "Analyzing CENTRALBK...\n"
          ]
        },
        {
          "output_type": "stream",
          "name": "stderr",
          "text": [
            "\r[*********************100%%**********************]  1 of 1 completed\n",
            "<ipython-input-3-e619abe0b4cb>:29: FutureWarning: Series.__getitem__ treating keys as positions is deprecated. In a future version, integer keys will always be treated as labels (consistent with DataFrame behavior). To access a value by position, use `ser.iloc[pos]`\n",
            "  if data['50_MA'][-1] > data['200_MA'][-1] and data['Close'][-1] > data['200_MA'][-1]:\n",
            "<ipython-input-3-e619abe0b4cb>:31: FutureWarning: Series.__getitem__ treating keys as positions is deprecated. In a future version, integer keys will always be treated as labels (consistent with DataFrame behavior). To access a value by position, use `ser.iloc[pos]`\n",
            "  elif data['50_MA'][-1] < data['200_MA'][-1] and data['Close'][-1] < data['200_MA'][-1]:\n",
            "<ipython-input-3-e619abe0b4cb>:33: FutureWarning: Series.__getitem__ treating keys as positions is deprecated. In a future version, integer keys will always be treated as labels (consistent with DataFrame behavior). To access a value by position, use `ser.iloc[pos]`\n",
            "  elif data['Close'][-1] < data['200_MA'][-1]:\n"
          ]
        },
        {
          "output_type": "stream",
          "name": "stdout",
          "text": [
            "Analyzing CERA...\n"
          ]
        },
        {
          "output_type": "stream",
          "name": "stderr",
          "text": [
            "\r[*********************100%%**********************]  1 of 1 completed\n",
            "<ipython-input-3-e619abe0b4cb>:29: FutureWarning: Series.__getitem__ treating keys as positions is deprecated. In a future version, integer keys will always be treated as labels (consistent with DataFrame behavior). To access a value by position, use `ser.iloc[pos]`\n",
            "  if data['50_MA'][-1] > data['200_MA'][-1] and data['Close'][-1] > data['200_MA'][-1]:\n"
          ]
        },
        {
          "output_type": "stream",
          "name": "stdout",
          "text": [
            "Analyzing CHOLAFIN...\n"
          ]
        },
        {
          "output_type": "stream",
          "name": "stderr",
          "text": [
            "\r[*********************100%%**********************]  1 of 1 completed\n",
            "<ipython-input-3-e619abe0b4cb>:29: FutureWarning: Series.__getitem__ treating keys as positions is deprecated. In a future version, integer keys will always be treated as labels (consistent with DataFrame behavior). To access a value by position, use `ser.iloc[pos]`\n",
            "  if data['50_MA'][-1] > data['200_MA'][-1] and data['Close'][-1] > data['200_MA'][-1]:\n"
          ]
        },
        {
          "output_type": "stream",
          "name": "stdout",
          "text": [
            "Analyzing CIPLA...\n"
          ]
        },
        {
          "output_type": "stream",
          "name": "stderr",
          "text": [
            "[*********************100%%**********************]  1 of 1 completed\n",
            "<ipython-input-3-e619abe0b4cb>:29: FutureWarning: Series.__getitem__ treating keys as positions is deprecated. In a future version, integer keys will always be treated as labels (consistent with DataFrame behavior). To access a value by position, use `ser.iloc[pos]`\n",
            "  if data['50_MA'][-1] > data['200_MA'][-1] and data['Close'][-1] > data['200_MA'][-1]:\n",
            "[*********************100%%**********************]  1 of 1 completed\n",
            "<ipython-input-3-e619abe0b4cb>:29: FutureWarning: Series.__getitem__ treating keys as positions is deprecated. In a future version, integer keys will always be treated as labels (consistent with DataFrame behavior). To access a value by position, use `ser.iloc[pos]`\n",
            "  if data['50_MA'][-1] > data['200_MA'][-1] and data['Close'][-1] > data['200_MA'][-1]:\n"
          ]
        },
        {
          "output_type": "stream",
          "name": "stdout",
          "text": [
            "Analyzing CLEAN...\n",
            "Analyzing COALINDIA...\n"
          ]
        },
        {
          "output_type": "stream",
          "name": "stderr",
          "text": [
            "[*********************100%%**********************]  1 of 1 completed\n",
            "<ipython-input-3-e619abe0b4cb>:29: FutureWarning: Series.__getitem__ treating keys as positions is deprecated. In a future version, integer keys will always be treated as labels (consistent with DataFrame behavior). To access a value by position, use `ser.iloc[pos]`\n",
            "  if data['50_MA'][-1] > data['200_MA'][-1] and data['Close'][-1] > data['200_MA'][-1]:\n",
            "[*********************100%%**********************]  1 of 1 completed\n",
            "<ipython-input-3-e619abe0b4cb>:29: FutureWarning: Series.__getitem__ treating keys as positions is deprecated. In a future version, integer keys will always be treated as labels (consistent with DataFrame behavior). To access a value by position, use `ser.iloc[pos]`\n",
            "  if data['50_MA'][-1] > data['200_MA'][-1] and data['Close'][-1] > data['200_MA'][-1]:\n",
            "<ipython-input-3-e619abe0b4cb>:31: FutureWarning: Series.__getitem__ treating keys as positions is deprecated. In a future version, integer keys will always be treated as labels (consistent with DataFrame behavior). To access a value by position, use `ser.iloc[pos]`\n",
            "  elif data['50_MA'][-1] < data['200_MA'][-1] and data['Close'][-1] < data['200_MA'][-1]:\n"
          ]
        },
        {
          "output_type": "stream",
          "name": "stdout",
          "text": [
            "Analyzing COFFEEDAY...\n",
            "Analyzing COLPAL...\n"
          ]
        },
        {
          "output_type": "stream",
          "name": "stderr",
          "text": [
            "[*********************100%%**********************]  1 of 1 completed\n",
            "<ipython-input-3-e619abe0b4cb>:29: FutureWarning: Series.__getitem__ treating keys as positions is deprecated. In a future version, integer keys will always be treated as labels (consistent with DataFrame behavior). To access a value by position, use `ser.iloc[pos]`\n",
            "  if data['50_MA'][-1] > data['200_MA'][-1] and data['Close'][-1] > data['200_MA'][-1]:\n",
            "[*********************100%%**********************]  1 of 1 completed\n",
            "<ipython-input-3-e619abe0b4cb>:29: FutureWarning: Series.__getitem__ treating keys as positions is deprecated. In a future version, integer keys will always be treated as labels (consistent with DataFrame behavior). To access a value by position, use `ser.iloc[pos]`\n",
            "  if data['50_MA'][-1] > data['200_MA'][-1] and data['Close'][-1] > data['200_MA'][-1]:\n"
          ]
        },
        {
          "output_type": "stream",
          "name": "stdout",
          "text": [
            "Analyzing CROMPTON...\n",
            "Analyzing CUB...\n"
          ]
        },
        {
          "output_type": "stream",
          "name": "stderr",
          "text": [
            "\r[*********************100%%**********************]  1 of 1 completed\n",
            "<ipython-input-3-e619abe0b4cb>:29: FutureWarning: Series.__getitem__ treating keys as positions is deprecated. In a future version, integer keys will always be treated as labels (consistent with DataFrame behavior). To access a value by position, use `ser.iloc[pos]`\n",
            "  if data['50_MA'][-1] > data['200_MA'][-1] and data['Close'][-1] > data['200_MA'][-1]:\n"
          ]
        },
        {
          "output_type": "stream",
          "name": "stdout",
          "text": [
            "Analyzing DABUR...\n"
          ]
        },
        {
          "output_type": "stream",
          "name": "stderr",
          "text": [
            "[*********************100%%**********************]  1 of 1 completed\n",
            "<ipython-input-3-e619abe0b4cb>:29: FutureWarning: Series.__getitem__ treating keys as positions is deprecated. In a future version, integer keys will always be treated as labels (consistent with DataFrame behavior). To access a value by position, use `ser.iloc[pos]`\n",
            "  if data['50_MA'][-1] > data['200_MA'][-1] and data['Close'][-1] > data['200_MA'][-1]:\n",
            "[*********************100%%**********************]  1 of 1 completed\n",
            "<ipython-input-3-e619abe0b4cb>:29: FutureWarning: Series.__getitem__ treating keys as positions is deprecated. In a future version, integer keys will always be treated as labels (consistent with DataFrame behavior). To access a value by position, use `ser.iloc[pos]`\n",
            "  if data['50_MA'][-1] > data['200_MA'][-1] and data['Close'][-1] > data['200_MA'][-1]:\n",
            "<ipython-input-3-e619abe0b4cb>:31: FutureWarning: Series.__getitem__ treating keys as positions is deprecated. In a future version, integer keys will always be treated as labels (consistent with DataFrame behavior). To access a value by position, use `ser.iloc[pos]`\n",
            "  elif data['50_MA'][-1] < data['200_MA'][-1] and data['Close'][-1] < data['200_MA'][-1]:\n",
            "<ipython-input-3-e619abe0b4cb>:33: FutureWarning: Series.__getitem__ treating keys as positions is deprecated. In a future version, integer keys will always be treated as labels (consistent with DataFrame behavior). To access a value by position, use `ser.iloc[pos]`\n",
            "  elif data['Close'][-1] < data['200_MA'][-1]:\n"
          ]
        },
        {
          "output_type": "stream",
          "name": "stdout",
          "text": [
            "Analyzing DCBBANK...\n",
            "Analyzing DEEPAKNTR...\n"
          ]
        },
        {
          "output_type": "stream",
          "name": "stderr",
          "text": [
            "[*********************100%%**********************]  1 of 1 completed\n",
            "<ipython-input-3-e619abe0b4cb>:29: FutureWarning: Series.__getitem__ treating keys as positions is deprecated. In a future version, integer keys will always be treated as labels (consistent with DataFrame behavior). To access a value by position, use `ser.iloc[pos]`\n",
            "  if data['50_MA'][-1] > data['200_MA'][-1] and data['Close'][-1] > data['200_MA'][-1]:\n",
            "[*********************100%%**********************]  1 of 1 completed\n",
            "<ipython-input-3-e619abe0b4cb>:29: FutureWarning: Series.__getitem__ treating keys as positions is deprecated. In a future version, integer keys will always be treated as labels (consistent with DataFrame behavior). To access a value by position, use `ser.iloc[pos]`\n",
            "  if data['50_MA'][-1] > data['200_MA'][-1] and data['Close'][-1] > data['200_MA'][-1]:\n",
            "<ipython-input-3-e619abe0b4cb>:31: FutureWarning: Series.__getitem__ treating keys as positions is deprecated. In a future version, integer keys will always be treated as labels (consistent with DataFrame behavior). To access a value by position, use `ser.iloc[pos]`\n",
            "  elif data['50_MA'][-1] < data['200_MA'][-1] and data['Close'][-1] < data['200_MA'][-1]:\n"
          ]
        },
        {
          "output_type": "stream",
          "name": "stdout",
          "text": [
            "Analyzing DEN...\n",
            "Analyzing DIVISLAB...\n"
          ]
        },
        {
          "output_type": "stream",
          "name": "stderr",
          "text": [
            "[*********************100%%**********************]  1 of 1 completed\n",
            "<ipython-input-3-e619abe0b4cb>:29: FutureWarning: Series.__getitem__ treating keys as positions is deprecated. In a future version, integer keys will always be treated as labels (consistent with DataFrame behavior). To access a value by position, use `ser.iloc[pos]`\n",
            "  if data['50_MA'][-1] > data['200_MA'][-1] and data['Close'][-1] > data['200_MA'][-1]:\n",
            "[*********************100%%**********************]  1 of 1 completed\n",
            "<ipython-input-3-e619abe0b4cb>:29: FutureWarning: Series.__getitem__ treating keys as positions is deprecated. In a future version, integer keys will always be treated as labels (consistent with DataFrame behavior). To access a value by position, use `ser.iloc[pos]`\n",
            "  if data['50_MA'][-1] > data['200_MA'][-1] and data['Close'][-1] > data['200_MA'][-1]:\n"
          ]
        },
        {
          "output_type": "stream",
          "name": "stdout",
          "text": [
            "Analyzing DIXON...\n",
            "Analyzing DLF...\n"
          ]
        },
        {
          "output_type": "stream",
          "name": "stderr",
          "text": [
            "\r[*********************100%%**********************]  1 of 1 completed\n",
            "<ipython-input-3-e619abe0b4cb>:29: FutureWarning: Series.__getitem__ treating keys as positions is deprecated. In a future version, integer keys will always be treated as labels (consistent with DataFrame behavior). To access a value by position, use `ser.iloc[pos]`\n",
            "  if data['50_MA'][-1] > data['200_MA'][-1] and data['Close'][-1] > data['200_MA'][-1]:\n",
            "[*********************100%%**********************]  1 of 1 completed\n",
            "<ipython-input-3-e619abe0b4cb>:29: FutureWarning: Series.__getitem__ treating keys as positions is deprecated. In a future version, integer keys will always be treated as labels (consistent with DataFrame behavior). To access a value by position, use `ser.iloc[pos]`\n",
            "  if data['50_MA'][-1] > data['200_MA'][-1] and data['Close'][-1] > data['200_MA'][-1]:\n"
          ]
        },
        {
          "output_type": "stream",
          "name": "stdout",
          "text": [
            "Analyzing DMART...\n",
            "Analyzing DREAMFOLKS...\n"
          ]
        },
        {
          "output_type": "stream",
          "name": "stderr",
          "text": [
            "\r[*********************100%%**********************]  1 of 1 completed\n",
            "<ipython-input-3-e619abe0b4cb>:29: FutureWarning: Series.__getitem__ treating keys as positions is deprecated. In a future version, integer keys will always be treated as labels (consistent with DataFrame behavior). To access a value by position, use `ser.iloc[pos]`\n",
            "  if data['50_MA'][-1] > data['200_MA'][-1] and data['Close'][-1] > data['200_MA'][-1]:\n",
            "<ipython-input-3-e619abe0b4cb>:31: FutureWarning: Series.__getitem__ treating keys as positions is deprecated. In a future version, integer keys will always be treated as labels (consistent with DataFrame behavior). To access a value by position, use `ser.iloc[pos]`\n",
            "  elif data['50_MA'][-1] < data['200_MA'][-1] and data['Close'][-1] < data['200_MA'][-1]:\n"
          ]
        },
        {
          "output_type": "stream",
          "name": "stdout",
          "text": [
            "Analyzing DRREDDY...\n"
          ]
        },
        {
          "output_type": "stream",
          "name": "stderr",
          "text": [
            "[*********************100%%**********************]  1 of 1 completed\n",
            "<ipython-input-3-e619abe0b4cb>:29: FutureWarning: Series.__getitem__ treating keys as positions is deprecated. In a future version, integer keys will always be treated as labels (consistent with DataFrame behavior). To access a value by position, use `ser.iloc[pos]`\n",
            "  if data['50_MA'][-1] > data['200_MA'][-1] and data['Close'][-1] > data['200_MA'][-1]:\n",
            "[*********************100%%**********************]  1 of 1 completed\n",
            "<ipython-input-3-e619abe0b4cb>:29: FutureWarning: Series.__getitem__ treating keys as positions is deprecated. In a future version, integer keys will always be treated as labels (consistent with DataFrame behavior). To access a value by position, use `ser.iloc[pos]`\n",
            "  if data['50_MA'][-1] > data['200_MA'][-1] and data['Close'][-1] > data['200_MA'][-1]:\n",
            "<ipython-input-3-e619abe0b4cb>:31: FutureWarning: Series.__getitem__ treating keys as positions is deprecated. In a future version, integer keys will always be treated as labels (consistent with DataFrame behavior). To access a value by position, use `ser.iloc[pos]`\n",
            "  elif data['50_MA'][-1] < data['200_MA'][-1] and data['Close'][-1] < data['200_MA'][-1]:\n"
          ]
        },
        {
          "output_type": "stream",
          "name": "stdout",
          "text": [
            "Analyzing EASEMYTRIP...\n",
            "Analyzing EICHERMOT...\n"
          ]
        },
        {
          "output_type": "stream",
          "name": "stderr",
          "text": [
            "\r[*********************100%%**********************]  1 of 1 completed\n",
            "<ipython-input-3-e619abe0b4cb>:29: FutureWarning: Series.__getitem__ treating keys as positions is deprecated. In a future version, integer keys will always be treated as labels (consistent with DataFrame behavior). To access a value by position, use `ser.iloc[pos]`\n",
            "  if data['50_MA'][-1] > data['200_MA'][-1] and data['Close'][-1] > data['200_MA'][-1]:\n"
          ]
        },
        {
          "output_type": "stream",
          "name": "stdout",
          "text": [
            "Analyzing EMAMILTD...\n"
          ]
        },
        {
          "output_type": "stream",
          "name": "stderr",
          "text": [
            "[*********************100%%**********************]  1 of 1 completed\n",
            "<ipython-input-3-e619abe0b4cb>:29: FutureWarning: Series.__getitem__ treating keys as positions is deprecated. In a future version, integer keys will always be treated as labels (consistent with DataFrame behavior). To access a value by position, use `ser.iloc[pos]`\n",
            "  if data['50_MA'][-1] > data['200_MA'][-1] and data['Close'][-1] > data['200_MA'][-1]:\n",
            "[*********************100%%**********************]  1 of 1 completed\n",
            "<ipython-input-3-e619abe0b4cb>:29: FutureWarning: Series.__getitem__ treating keys as positions is deprecated. In a future version, integer keys will always be treated as labels (consistent with DataFrame behavior). To access a value by position, use `ser.iloc[pos]`\n",
            "  if data['50_MA'][-1] > data['200_MA'][-1] and data['Close'][-1] > data['200_MA'][-1]:\n",
            "<ipython-input-3-e619abe0b4cb>:31: FutureWarning: Series.__getitem__ treating keys as positions is deprecated. In a future version, integer keys will always be treated as labels (consistent with DataFrame behavior). To access a value by position, use `ser.iloc[pos]`\n",
            "  elif data['50_MA'][-1] < data['200_MA'][-1] and data['Close'][-1] < data['200_MA'][-1]:\n"
          ]
        },
        {
          "output_type": "stream",
          "name": "stdout",
          "text": [
            "Analyzing EQUITASBNK...\n",
            "Analyzing ERIS...\n"
          ]
        },
        {
          "output_type": "stream",
          "name": "stderr",
          "text": [
            "\r[*********************100%%**********************]  1 of 1 completed\n",
            "<ipython-input-3-e619abe0b4cb>:29: FutureWarning: Series.__getitem__ treating keys as positions is deprecated. In a future version, integer keys will always be treated as labels (consistent with DataFrame behavior). To access a value by position, use `ser.iloc[pos]`\n",
            "  if data['50_MA'][-1] > data['200_MA'][-1] and data['Close'][-1] > data['200_MA'][-1]:\n"
          ]
        },
        {
          "output_type": "stream",
          "name": "stdout",
          "text": [
            "Analyzing EXIDEIND...\n"
          ]
        },
        {
          "output_type": "stream",
          "name": "stderr",
          "text": [
            "\r[*********************100%%**********************]  1 of 1 completed\n",
            "<ipython-input-3-e619abe0b4cb>:29: FutureWarning: Series.__getitem__ treating keys as positions is deprecated. In a future version, integer keys will always be treated as labels (consistent with DataFrame behavior). To access a value by position, use `ser.iloc[pos]`\n",
            "  if data['50_MA'][-1] > data['200_MA'][-1] and data['Close'][-1] > data['200_MA'][-1]:\n"
          ]
        },
        {
          "output_type": "stream",
          "name": "stdout",
          "text": [
            "Analyzing FEDERALBNK...\n"
          ]
        },
        {
          "output_type": "stream",
          "name": "stderr",
          "text": [
            "\r[*********************100%%**********************]  1 of 1 completed\n",
            "<ipython-input-3-e619abe0b4cb>:29: FutureWarning: Series.__getitem__ treating keys as positions is deprecated. In a future version, integer keys will always be treated as labels (consistent with DataFrame behavior). To access a value by position, use `ser.iloc[pos]`\n",
            "  if data['50_MA'][-1] > data['200_MA'][-1] and data['Close'][-1] > data['200_MA'][-1]:\n"
          ]
        },
        {
          "output_type": "stream",
          "name": "stdout",
          "text": [
            "Analyzing FINCABLES...\n"
          ]
        },
        {
          "output_type": "stream",
          "name": "stderr",
          "text": [
            "[*********************100%%**********************]  1 of 1 completed\n",
            "<ipython-input-3-e619abe0b4cb>:29: FutureWarning: Series.__getitem__ treating keys as positions is deprecated. In a future version, integer keys will always be treated as labels (consistent with DataFrame behavior). To access a value by position, use `ser.iloc[pos]`\n",
            "  if data['50_MA'][-1] > data['200_MA'][-1] and data['Close'][-1] > data['200_MA'][-1]:\n",
            "[*********************100%%**********************]  1 of 1 completed\n",
            "<ipython-input-3-e619abe0b4cb>:29: FutureWarning: Series.__getitem__ treating keys as positions is deprecated. In a future version, integer keys will always be treated as labels (consistent with DataFrame behavior). To access a value by position, use `ser.iloc[pos]`\n",
            "  if data['50_MA'][-1] > data['200_MA'][-1] and data['Close'][-1] > data['200_MA'][-1]:\n"
          ]
        },
        {
          "output_type": "stream",
          "name": "stdout",
          "text": [
            "Analyzing FINEORG...\n",
            "Analyzing FOSECOIND...\n"
          ]
        },
        {
          "output_type": "stream",
          "name": "stderr",
          "text": [
            "\r[*********************100%%**********************]  1 of 1 completed\n",
            "<ipython-input-3-e619abe0b4cb>:29: FutureWarning: Series.__getitem__ treating keys as positions is deprecated. In a future version, integer keys will always be treated as labels (consistent with DataFrame behavior). To access a value by position, use `ser.iloc[pos]`\n",
            "  if data['50_MA'][-1] > data['200_MA'][-1] and data['Close'][-1] > data['200_MA'][-1]:\n"
          ]
        },
        {
          "output_type": "stream",
          "name": "stdout",
          "text": [
            "Analyzing GAIL...\n"
          ]
        },
        {
          "output_type": "stream",
          "name": "stderr",
          "text": [
            "\r[*********************100%%**********************]  1 of 1 completed\n",
            "<ipython-input-3-e619abe0b4cb>:29: FutureWarning: Series.__getitem__ treating keys as positions is deprecated. In a future version, integer keys will always be treated as labels (consistent with DataFrame behavior). To access a value by position, use `ser.iloc[pos]`\n",
            "  if data['50_MA'][-1] > data['200_MA'][-1] and data['Close'][-1] > data['200_MA'][-1]:\n"
          ]
        },
        {
          "output_type": "stream",
          "name": "stdout",
          "text": [
            "Analyzing GEOJITFSL...\n"
          ]
        },
        {
          "output_type": "stream",
          "name": "stderr",
          "text": [
            "[*********************100%%**********************]  1 of 1 completed\n",
            "<ipython-input-3-e619abe0b4cb>:29: FutureWarning: Series.__getitem__ treating keys as positions is deprecated. In a future version, integer keys will always be treated as labels (consistent with DataFrame behavior). To access a value by position, use `ser.iloc[pos]`\n",
            "  if data['50_MA'][-1] > data['200_MA'][-1] and data['Close'][-1] > data['200_MA'][-1]:\n",
            "[*********************100%%**********************]  1 of 1 completed\n",
            "<ipython-input-3-e619abe0b4cb>:29: FutureWarning: Series.__getitem__ treating keys as positions is deprecated. In a future version, integer keys will always be treated as labels (consistent with DataFrame behavior). To access a value by position, use `ser.iloc[pos]`\n",
            "  if data['50_MA'][-1] > data['200_MA'][-1] and data['Close'][-1] > data['200_MA'][-1]:\n"
          ]
        },
        {
          "output_type": "stream",
          "name": "stdout",
          "text": [
            "Analyzing GICRE...\n",
            "Analyzing GILLETTE...\n"
          ]
        },
        {
          "output_type": "stream",
          "name": "stderr",
          "text": [
            "[*********************100%%**********************]  1 of 1 completed\n",
            "<ipython-input-3-e619abe0b4cb>:29: FutureWarning: Series.__getitem__ treating keys as positions is deprecated. In a future version, integer keys will always be treated as labels (consistent with DataFrame behavior). To access a value by position, use `ser.iloc[pos]`\n",
            "  if data['50_MA'][-1] > data['200_MA'][-1] and data['Close'][-1] > data['200_MA'][-1]:\n",
            "[*********************100%%**********************]  1 of 1 completed\n",
            "<ipython-input-3-e619abe0b4cb>:29: FutureWarning: Series.__getitem__ treating keys as positions is deprecated. In a future version, integer keys will always be treated as labels (consistent with DataFrame behavior). To access a value by position, use `ser.iloc[pos]`\n",
            "  if data['50_MA'][-1] > data['200_MA'][-1] and data['Close'][-1] > data['200_MA'][-1]:\n"
          ]
        },
        {
          "output_type": "stream",
          "name": "stdout",
          "text": [
            "Analyzing GLAND...\n",
            "Analyzing GLAXO...\n"
          ]
        },
        {
          "output_type": "stream",
          "name": "stderr",
          "text": [
            "\r[*********************100%%**********************]  1 of 1 completed\n",
            "<ipython-input-3-e619abe0b4cb>:29: FutureWarning: Series.__getitem__ treating keys as positions is deprecated. In a future version, integer keys will always be treated as labels (consistent with DataFrame behavior). To access a value by position, use `ser.iloc[pos]`\n",
            "  if data['50_MA'][-1] > data['200_MA'][-1] and data['Close'][-1] > data['200_MA'][-1]:\n"
          ]
        },
        {
          "output_type": "stream",
          "name": "stdout",
          "text": [
            "Analyzing GODREJCP...\n"
          ]
        },
        {
          "output_type": "stream",
          "name": "stderr",
          "text": [
            "\r[*********************100%%**********************]  1 of 1 completed\n",
            "<ipython-input-3-e619abe0b4cb>:29: FutureWarning: Series.__getitem__ treating keys as positions is deprecated. In a future version, integer keys will always be treated as labels (consistent with DataFrame behavior). To access a value by position, use `ser.iloc[pos]`\n",
            "  if data['50_MA'][-1] > data['200_MA'][-1] and data['Close'][-1] > data['200_MA'][-1]:\n"
          ]
        },
        {
          "output_type": "stream",
          "name": "stdout",
          "text": [
            "Analyzing GODREJIND...\n"
          ]
        },
        {
          "output_type": "stream",
          "name": "stderr",
          "text": [
            "\r[*********************100%%**********************]  1 of 1 completed\n",
            "<ipython-input-3-e619abe0b4cb>:29: FutureWarning: Series.__getitem__ treating keys as positions is deprecated. In a future version, integer keys will always be treated as labels (consistent with DataFrame behavior). To access a value by position, use `ser.iloc[pos]`\n",
            "  if data['50_MA'][-1] > data['200_MA'][-1] and data['Close'][-1] > data['200_MA'][-1]:\n"
          ]
        },
        {
          "output_type": "stream",
          "name": "stdout",
          "text": [
            "Analyzing GRASIM...\n"
          ]
        },
        {
          "output_type": "stream",
          "name": "stderr",
          "text": [
            "[*********************100%%**********************]  1 of 1 completed\n",
            "<ipython-input-3-e619abe0b4cb>:29: FutureWarning: Series.__getitem__ treating keys as positions is deprecated. In a future version, integer keys will always be treated as labels (consistent with DataFrame behavior). To access a value by position, use `ser.iloc[pos]`\n",
            "  if data['50_MA'][-1] > data['200_MA'][-1] and data['Close'][-1] > data['200_MA'][-1]:\n",
            "[*********************100%%**********************]  1 of 1 completed\n",
            "<ipython-input-3-e619abe0b4cb>:29: FutureWarning: Series.__getitem__ treating keys as positions is deprecated. In a future version, integer keys will always be treated as labels (consistent with DataFrame behavior). To access a value by position, use `ser.iloc[pos]`\n",
            "  if data['50_MA'][-1] > data['200_MA'][-1] and data['Close'][-1] > data['200_MA'][-1]:\n",
            "<ipython-input-3-e619abe0b4cb>:31: FutureWarning: Series.__getitem__ treating keys as positions is deprecated. In a future version, integer keys will always be treated as labels (consistent with DataFrame behavior). To access a value by position, use `ser.iloc[pos]`\n",
            "  elif data['50_MA'][-1] < data['200_MA'][-1] and data['Close'][-1] < data['200_MA'][-1]:\n",
            "<ipython-input-3-e619abe0b4cb>:33: FutureWarning: Series.__getitem__ treating keys as positions is deprecated. In a future version, integer keys will always be treated as labels (consistent with DataFrame behavior). To access a value by position, use `ser.iloc[pos]`\n",
            "  elif data['Close'][-1] < data['200_MA'][-1]:\n",
            "<ipython-input-3-e619abe0b4cb>:35: FutureWarning: Series.__getitem__ treating keys as positions is deprecated. In a future version, integer keys will always be treated as labels (consistent with DataFrame behavior). To access a value by position, use `ser.iloc[pos]`\n",
            "  elif data['50_MA'][-1] < data['200_MA'][-1] and data['Close'][-1] < data['50_MA'][-1]:\n"
          ]
        },
        {
          "output_type": "stream",
          "name": "stdout",
          "text": [
            "Analyzing GREENPANEL...\n",
            "Analyzing GULFOILLUB...\n"
          ]
        },
        {
          "output_type": "stream",
          "name": "stderr",
          "text": [
            "\r[*********************100%%**********************]  1 of 1 completed\n",
            "<ipython-input-3-e619abe0b4cb>:29: FutureWarning: Series.__getitem__ treating keys as positions is deprecated. In a future version, integer keys will always be treated as labels (consistent with DataFrame behavior). To access a value by position, use `ser.iloc[pos]`\n",
            "  if data['50_MA'][-1] > data['200_MA'][-1] and data['Close'][-1] > data['200_MA'][-1]:\n",
            "[*********************100%%**********************]  1 of 1 completed\n",
            "<ipython-input-3-e619abe0b4cb>:29: FutureWarning: Series.__getitem__ treating keys as positions is deprecated. In a future version, integer keys will always be treated as labels (consistent with DataFrame behavior). To access a value by position, use `ser.iloc[pos]`\n",
            "  if data['50_MA'][-1] > data['200_MA'][-1] and data['Close'][-1] > data['200_MA'][-1]:\n",
            "<ipython-input-3-e619abe0b4cb>:31: FutureWarning: Series.__getitem__ treating keys as positions is deprecated. In a future version, integer keys will always be treated as labels (consistent with DataFrame behavior). To access a value by position, use `ser.iloc[pos]`\n",
            "  elif data['50_MA'][-1] < data['200_MA'][-1] and data['Close'][-1] < data['200_MA'][-1]:\n"
          ]
        },
        {
          "output_type": "stream",
          "name": "stdout",
          "text": [
            "Analyzing HAPPSTMNDS...\n",
            "Analyzing HATHWAY...\n"
          ]
        },
        {
          "output_type": "stream",
          "name": "stderr",
          "text": [
            "\r[*********************100%%**********************]  1 of 1 completed\n",
            "<ipython-input-3-e619abe0b4cb>:29: FutureWarning: Series.__getitem__ treating keys as positions is deprecated. In a future version, integer keys will always be treated as labels (consistent with DataFrame behavior). To access a value by position, use `ser.iloc[pos]`\n",
            "  if data['50_MA'][-1] > data['200_MA'][-1] and data['Close'][-1] > data['200_MA'][-1]:\n",
            "<ipython-input-3-e619abe0b4cb>:31: FutureWarning: Series.__getitem__ treating keys as positions is deprecated. In a future version, integer keys will always be treated as labels (consistent with DataFrame behavior). To access a value by position, use `ser.iloc[pos]`\n",
            "  elif data['50_MA'][-1] < data['200_MA'][-1] and data['Close'][-1] < data['200_MA'][-1]:\n",
            "<ipython-input-3-e619abe0b4cb>:33: FutureWarning: Series.__getitem__ treating keys as positions is deprecated. In a future version, integer keys will always be treated as labels (consistent with DataFrame behavior). To access a value by position, use `ser.iloc[pos]`\n",
            "  elif data['Close'][-1] < data['200_MA'][-1]:\n"
          ]
        },
        {
          "output_type": "stream",
          "name": "stdout",
          "text": [
            "Analyzing HAVELLS...\n"
          ]
        },
        {
          "output_type": "stream",
          "name": "stderr",
          "text": [
            "\r[*********************100%%**********************]  1 of 1 completed\n",
            "<ipython-input-3-e619abe0b4cb>:29: FutureWarning: Series.__getitem__ treating keys as positions is deprecated. In a future version, integer keys will always be treated as labels (consistent with DataFrame behavior). To access a value by position, use `ser.iloc[pos]`\n",
            "  if data['50_MA'][-1] > data['200_MA'][-1] and data['Close'][-1] > data['200_MA'][-1]:\n"
          ]
        },
        {
          "output_type": "stream",
          "name": "stdout",
          "text": [
            "Analyzing HCLTECH...\n"
          ]
        },
        {
          "output_type": "stream",
          "name": "stderr",
          "text": [
            "[*********************100%%**********************]  1 of 1 completed\n",
            "<ipython-input-3-e619abe0b4cb>:29: FutureWarning: Series.__getitem__ treating keys as positions is deprecated. In a future version, integer keys will always be treated as labels (consistent with DataFrame behavior). To access a value by position, use `ser.iloc[pos]`\n",
            "  if data['50_MA'][-1] > data['200_MA'][-1] and data['Close'][-1] > data['200_MA'][-1]:\n",
            "[*********************100%%**********************]  1 of 1 completed\n",
            "<ipython-input-3-e619abe0b4cb>:29: FutureWarning: Series.__getitem__ treating keys as positions is deprecated. In a future version, integer keys will always be treated as labels (consistent with DataFrame behavior). To access a value by position, use `ser.iloc[pos]`\n",
            "  if data['50_MA'][-1] > data['200_MA'][-1] and data['Close'][-1] > data['200_MA'][-1]:\n"
          ]
        },
        {
          "output_type": "stream",
          "name": "stdout",
          "text": [
            "Analyzing HDFCAMC...\n",
            "Analyzing HDFCBANK...\n"
          ]
        },
        {
          "output_type": "stream",
          "name": "stderr",
          "text": [
            "\r[*********************100%%**********************]  1 of 1 completed\n",
            "<ipython-input-3-e619abe0b4cb>:29: FutureWarning: Series.__getitem__ treating keys as positions is deprecated. In a future version, integer keys will always be treated as labels (consistent with DataFrame behavior). To access a value by position, use `ser.iloc[pos]`\n",
            "  if data['50_MA'][-1] > data['200_MA'][-1] and data['Close'][-1] > data['200_MA'][-1]:\n",
            "[*********************100%%**********************]  1 of 1 completed\n",
            "<ipython-input-3-e619abe0b4cb>:29: FutureWarning: Series.__getitem__ treating keys as positions is deprecated. In a future version, integer keys will always be treated as labels (consistent with DataFrame behavior). To access a value by position, use `ser.iloc[pos]`\n",
            "  if data['50_MA'][-1] > data['200_MA'][-1] and data['Close'][-1] > data['200_MA'][-1]:\n"
          ]
        },
        {
          "output_type": "stream",
          "name": "stdout",
          "text": [
            "Analyzing HDFCLIFE...\n",
            "Analyzing HEROMOTOCO...\n"
          ]
        },
        {
          "output_type": "stream",
          "name": "stderr",
          "text": [
            "\r[*********************100%%**********************]  1 of 1 completed\n",
            "<ipython-input-3-e619abe0b4cb>:29: FutureWarning: Series.__getitem__ treating keys as positions is deprecated. In a future version, integer keys will always be treated as labels (consistent with DataFrame behavior). To access a value by position, use `ser.iloc[pos]`\n",
            "  if data['50_MA'][-1] > data['200_MA'][-1] and data['Close'][-1] > data['200_MA'][-1]:\n",
            "[*********************100%%**********************]  1 of 1 completed\n",
            "<ipython-input-3-e619abe0b4cb>:29: FutureWarning: Series.__getitem__ treating keys as positions is deprecated. In a future version, integer keys will always be treated as labels (consistent with DataFrame behavior). To access a value by position, use `ser.iloc[pos]`\n",
            "  if data['50_MA'][-1] > data['200_MA'][-1] and data['Close'][-1] > data['200_MA'][-1]:\n"
          ]
        },
        {
          "output_type": "stream",
          "name": "stdout",
          "text": [
            "Analyzing HSCL...\n",
            "Analyzing HINDALCO...\n"
          ]
        },
        {
          "output_type": "stream",
          "name": "stderr",
          "text": [
            "\r[*********************100%%**********************]  1 of 1 completed\n",
            "<ipython-input-3-e619abe0b4cb>:29: FutureWarning: Series.__getitem__ treating keys as positions is deprecated. In a future version, integer keys will always be treated as labels (consistent with DataFrame behavior). To access a value by position, use `ser.iloc[pos]`\n",
            "  if data['50_MA'][-1] > data['200_MA'][-1] and data['Close'][-1] > data['200_MA'][-1]:\n"
          ]
        },
        {
          "output_type": "stream",
          "name": "stdout",
          "text": [
            "Analyzing HINDPETRO...\n"
          ]
        },
        {
          "output_type": "stream",
          "name": "stderr",
          "text": [
            "\r[*********************100%%**********************]  1 of 1 completed\n",
            "<ipython-input-3-e619abe0b4cb>:29: FutureWarning: Series.__getitem__ treating keys as positions is deprecated. In a future version, integer keys will always be treated as labels (consistent with DataFrame behavior). To access a value by position, use `ser.iloc[pos]`\n",
            "  if data['50_MA'][-1] > data['200_MA'][-1] and data['Close'][-1] > data['200_MA'][-1]:\n"
          ]
        },
        {
          "output_type": "stream",
          "name": "stdout",
          "text": [
            "Analyzing HINDUNILVR...\n"
          ]
        },
        {
          "output_type": "stream",
          "name": "stderr",
          "text": [
            "[*********************100%%**********************]  1 of 1 completed\n",
            "<ipython-input-3-e619abe0b4cb>:29: FutureWarning: Series.__getitem__ treating keys as positions is deprecated. In a future version, integer keys will always be treated as labels (consistent with DataFrame behavior). To access a value by position, use `ser.iloc[pos]`\n",
            "  if data['50_MA'][-1] > data['200_MA'][-1] and data['Close'][-1] > data['200_MA'][-1]:\n",
            "[*********************100%%**********************]  1 of 1 completed\n",
            "<ipython-input-3-e619abe0b4cb>:29: FutureWarning: Series.__getitem__ treating keys as positions is deprecated. In a future version, integer keys will always be treated as labels (consistent with DataFrame behavior). To access a value by position, use `ser.iloc[pos]`\n",
            "  if data['50_MA'][-1] > data['200_MA'][-1] and data['Close'][-1] > data['200_MA'][-1]:\n"
          ]
        },
        {
          "output_type": "stream",
          "name": "stdout",
          "text": [
            "Analyzing HONAUT...\n",
            "Analyzing IBREALEST...\n"
          ]
        },
        {
          "output_type": "stream",
          "name": "stderr",
          "text": [
            "\r[*********************100%%**********************]  1 of 1 completed\n",
            "<ipython-input-3-e619abe0b4cb>:29: FutureWarning: Series.__getitem__ treating keys as positions is deprecated. In a future version, integer keys will always be treated as labels (consistent with DataFrame behavior). To access a value by position, use `ser.iloc[pos]`\n",
            "  if data['50_MA'][-1] > data['200_MA'][-1] and data['Close'][-1] > data['200_MA'][-1]:\n"
          ]
        },
        {
          "output_type": "stream",
          "name": "stdout",
          "text": [
            "Analyzing ICICIBANK...\n"
          ]
        },
        {
          "output_type": "stream",
          "name": "stderr",
          "text": [
            "[*********************100%%**********************]  1 of 1 completed\n",
            "<ipython-input-3-e619abe0b4cb>:29: FutureWarning: Series.__getitem__ treating keys as positions is deprecated. In a future version, integer keys will always be treated as labels (consistent with DataFrame behavior). To access a value by position, use `ser.iloc[pos]`\n",
            "  if data['50_MA'][-1] > data['200_MA'][-1] and data['Close'][-1] > data['200_MA'][-1]:\n",
            "[*********************100%%**********************]  1 of 1 completed\n",
            "<ipython-input-3-e619abe0b4cb>:29: FutureWarning: Series.__getitem__ treating keys as positions is deprecated. In a future version, integer keys will always be treated as labels (consistent with DataFrame behavior). To access a value by position, use `ser.iloc[pos]`\n",
            "  if data['50_MA'][-1] > data['200_MA'][-1] and data['Close'][-1] > data['200_MA'][-1]:\n"
          ]
        },
        {
          "output_type": "stream",
          "name": "stdout",
          "text": [
            "Analyzing ICICIGI...\n",
            "Analyzing ICICIPRULI...\n"
          ]
        },
        {
          "output_type": "stream",
          "name": "stderr",
          "text": [
            "\r[*********************100%%**********************]  1 of 1 completed\n",
            "<ipython-input-3-e619abe0b4cb>:29: FutureWarning: Series.__getitem__ treating keys as positions is deprecated. In a future version, integer keys will always be treated as labels (consistent with DataFrame behavior). To access a value by position, use `ser.iloc[pos]`\n",
            "  if data['50_MA'][-1] > data['200_MA'][-1] and data['Close'][-1] > data['200_MA'][-1]:\n",
            "[*********************100%%**********************]  1 of 1 completed\n",
            "<ipython-input-3-e619abe0b4cb>:29: FutureWarning: Series.__getitem__ treating keys as positions is deprecated. In a future version, integer keys will always be treated as labels (consistent with DataFrame behavior). To access a value by position, use `ser.iloc[pos]`\n",
            "  if data['50_MA'][-1] > data['200_MA'][-1] and data['Close'][-1] > data['200_MA'][-1]:\n"
          ]
        },
        {
          "output_type": "stream",
          "name": "stdout",
          "text": [
            "Analyzing IEX...\n",
            "Analyzing IGL...\n"
          ]
        },
        {
          "output_type": "stream",
          "name": "stderr",
          "text": [
            "\r[*********************100%%**********************]  1 of 1 completed\n",
            "<ipython-input-3-e619abe0b4cb>:29: FutureWarning: Series.__getitem__ treating keys as positions is deprecated. In a future version, integer keys will always be treated as labels (consistent with DataFrame behavior). To access a value by position, use `ser.iloc[pos]`\n",
            "  if data['50_MA'][-1] > data['200_MA'][-1] and data['Close'][-1] > data['200_MA'][-1]:\n",
            "[*********************100%%**********************]  1 of 1 completed"
          ]
        },
        {
          "output_type": "stream",
          "name": "stdout",
          "text": [
            "Analyzing INDIANB...\n",
            "Analyzing INDIGO...\n"
          ]
        },
        {
          "output_type": "stream",
          "name": "stderr",
          "text": [
            "\n",
            "<ipython-input-3-e619abe0b4cb>:29: FutureWarning: Series.__getitem__ treating keys as positions is deprecated. In a future version, integer keys will always be treated as labels (consistent with DataFrame behavior). To access a value by position, use `ser.iloc[pos]`\n",
            "  if data['50_MA'][-1] > data['200_MA'][-1] and data['Close'][-1] > data['200_MA'][-1]:\n",
            "\r[*********************100%%**********************]  1 of 1 completed\n",
            "<ipython-input-3-e619abe0b4cb>:29: FutureWarning: Series.__getitem__ treating keys as positions is deprecated. In a future version, integer keys will always be treated as labels (consistent with DataFrame behavior). To access a value by position, use `ser.iloc[pos]`\n",
            "  if data['50_MA'][-1] > data['200_MA'][-1] and data['Close'][-1] > data['200_MA'][-1]:\n",
            "[*********************100%%**********************]  1 of 1 completed\n",
            "<ipython-input-3-e619abe0b4cb>:29: FutureWarning: Series.__getitem__ treating keys as positions is deprecated. In a future version, integer keys will always be treated as labels (consistent with DataFrame behavior). To access a value by position, use `ser.iloc[pos]`\n",
            "  if data['50_MA'][-1] > data['200_MA'][-1] and data['Close'][-1] > data['200_MA'][-1]:\n"
          ]
        },
        {
          "output_type": "stream",
          "name": "stdout",
          "text": [
            "Analyzing INDIGOPNTS...\n",
            "Analyzing INDUSINDBK...\n"
          ]
        },
        {
          "output_type": "stream",
          "name": "stderr",
          "text": [
            "\r[*********************100%%**********************]  1 of 1 completed\n",
            "<ipython-input-3-e619abe0b4cb>:29: FutureWarning: Series.__getitem__ treating keys as positions is deprecated. In a future version, integer keys will always be treated as labels (consistent with DataFrame behavior). To access a value by position, use `ser.iloc[pos]`\n",
            "  if data['50_MA'][-1] > data['200_MA'][-1] and data['Close'][-1] > data['200_MA'][-1]:\n",
            "<ipython-input-3-e619abe0b4cb>:31: FutureWarning: Series.__getitem__ treating keys as positions is deprecated. In a future version, integer keys will always be treated as labels (consistent with DataFrame behavior). To access a value by position, use `ser.iloc[pos]`\n",
            "  elif data['50_MA'][-1] < data['200_MA'][-1] and data['Close'][-1] < data['200_MA'][-1]:\n"
          ]
        },
        {
          "output_type": "stream",
          "name": "stdout",
          "text": [
            "Analyzing INDUSTOWER...\n"
          ]
        },
        {
          "output_type": "stream",
          "name": "stderr",
          "text": [
            "[*********************100%%**********************]  1 of 1 completed\n",
            "<ipython-input-3-e619abe0b4cb>:29: FutureWarning: Series.__getitem__ treating keys as positions is deprecated. In a future version, integer keys will always be treated as labels (consistent with DataFrame behavior). To access a value by position, use `ser.iloc[pos]`\n",
            "  if data['50_MA'][-1] > data['200_MA'][-1] and data['Close'][-1] > data['200_MA'][-1]:\n",
            "[*********************100%%**********************]  1 of 1 completed\n",
            "<ipython-input-3-e619abe0b4cb>:29: FutureWarning: Series.__getitem__ treating keys as positions is deprecated. In a future version, integer keys will always be treated as labels (consistent with DataFrame behavior). To access a value by position, use `ser.iloc[pos]`\n",
            "  if data['50_MA'][-1] > data['200_MA'][-1] and data['Close'][-1] > data['200_MA'][-1]:\n"
          ]
        },
        {
          "output_type": "stream",
          "name": "stdout",
          "text": [
            "Analyzing INFIBEAM...\n",
            "Analyzing INFY...\n"
          ]
        },
        {
          "output_type": "stream",
          "name": "stderr",
          "text": [
            "\r[*********************100%%**********************]  1 of 1 completed\n",
            "<ipython-input-3-e619abe0b4cb>:29: FutureWarning: Series.__getitem__ treating keys as positions is deprecated. In a future version, integer keys will always be treated as labels (consistent with DataFrame behavior). To access a value by position, use `ser.iloc[pos]`\n",
            "  if data['50_MA'][-1] > data['200_MA'][-1] and data['Close'][-1] > data['200_MA'][-1]:\n"
          ]
        },
        {
          "output_type": "stream",
          "name": "stdout",
          "text": [
            "Analyzing IOC...\n"
          ]
        },
        {
          "output_type": "stream",
          "name": "stderr",
          "text": [
            "[*********************100%%**********************]  1 of 1 completed\n",
            "<ipython-input-3-e619abe0b4cb>:29: FutureWarning: Series.__getitem__ treating keys as positions is deprecated. In a future version, integer keys will always be treated as labels (consistent with DataFrame behavior). To access a value by position, use `ser.iloc[pos]`\n",
            "  if data['50_MA'][-1] > data['200_MA'][-1] and data['Close'][-1] > data['200_MA'][-1]:\n",
            "[*********************100%%**********************]  1 of 1 completed\n",
            "<ipython-input-3-e619abe0b4cb>:29: FutureWarning: Series.__getitem__ treating keys as positions is deprecated. In a future version, integer keys will always be treated as labels (consistent with DataFrame behavior). To access a value by position, use `ser.iloc[pos]`\n",
            "  if data['50_MA'][-1] > data['200_MA'][-1] and data['Close'][-1] > data['200_MA'][-1]:\n"
          ]
        },
        {
          "output_type": "stream",
          "name": "stdout",
          "text": [
            "Analyzing IRCTC...\n",
            "Analyzing ISEC...\n"
          ]
        },
        {
          "output_type": "stream",
          "name": "stderr",
          "text": [
            "\r[*********************100%%**********************]  1 of 1 completed\n",
            "<ipython-input-3-e619abe0b4cb>:29: FutureWarning: Series.__getitem__ treating keys as positions is deprecated. In a future version, integer keys will always be treated as labels (consistent with DataFrame behavior). To access a value by position, use `ser.iloc[pos]`\n",
            "  if data['50_MA'][-1] > data['200_MA'][-1] and data['Close'][-1] > data['200_MA'][-1]:\n",
            "[*********************100%%**********************]  1 of 1 completed\n",
            "<ipython-input-3-e619abe0b4cb>:29: FutureWarning: Series.__getitem__ treating keys as positions is deprecated. In a future version, integer keys will always be treated as labels (consistent with DataFrame behavior). To access a value by position, use `ser.iloc[pos]`\n",
            "  if data['50_MA'][-1] > data['200_MA'][-1] and data['Close'][-1] > data['200_MA'][-1]:\n"
          ]
        },
        {
          "output_type": "stream",
          "name": "stdout",
          "text": [
            "Analyzing ITBEES...\n",
            "Analyzing ITC...\n"
          ]
        },
        {
          "output_type": "stream",
          "name": "stderr",
          "text": [
            "\r[*********************100%%**********************]  1 of 1 completed\n",
            "<ipython-input-3-e619abe0b4cb>:29: FutureWarning: Series.__getitem__ treating keys as positions is deprecated. In a future version, integer keys will always be treated as labels (consistent with DataFrame behavior). To access a value by position, use `ser.iloc[pos]`\n",
            "  if data['50_MA'][-1] > data['200_MA'][-1] and data['Close'][-1] > data['200_MA'][-1]:\n"
          ]
        },
        {
          "output_type": "stream",
          "name": "stdout",
          "text": [
            "Analyzing J&KBANK...\n"
          ]
        },
        {
          "output_type": "stream",
          "name": "stderr",
          "text": [
            "\r[*********************100%%**********************]  1 of 1 completed\n",
            "<ipython-input-3-e619abe0b4cb>:29: FutureWarning: Series.__getitem__ treating keys as positions is deprecated. In a future version, integer keys will always be treated as labels (consistent with DataFrame behavior). To access a value by position, use `ser.iloc[pos]`\n",
            "  if data['50_MA'][-1] > data['200_MA'][-1] and data['Close'][-1] > data['200_MA'][-1]:\n",
            "<ipython-input-3-e619abe0b4cb>:31: FutureWarning: Series.__getitem__ treating keys as positions is deprecated. In a future version, integer keys will always be treated as labels (consistent with DataFrame behavior). To access a value by position, use `ser.iloc[pos]`\n",
            "  elif data['50_MA'][-1] < data['200_MA'][-1] and data['Close'][-1] < data['200_MA'][-1]:\n"
          ]
        },
        {
          "output_type": "stream",
          "name": "stdout",
          "text": [
            "Analyzing JCHAC...\n"
          ]
        },
        {
          "output_type": "stream",
          "name": "stderr",
          "text": [
            "\r[*********************100%%**********************]  1 of 1 completed\n",
            "<ipython-input-3-e619abe0b4cb>:29: FutureWarning: Series.__getitem__ treating keys as positions is deprecated. In a future version, integer keys will always be treated as labels (consistent with DataFrame behavior). To access a value by position, use `ser.iloc[pos]`\n",
            "  if data['50_MA'][-1] > data['200_MA'][-1] and data['Close'][-1] > data['200_MA'][-1]:\n"
          ]
        },
        {
          "output_type": "stream",
          "name": "stdout",
          "text": [
            "Analyzing JINDALSTEL...\n"
          ]
        },
        {
          "output_type": "stream",
          "name": "stderr",
          "text": [
            "[*********************100%%**********************]  1 of 1 completed\n",
            "<ipython-input-3-e619abe0b4cb>:29: FutureWarning: Series.__getitem__ treating keys as positions is deprecated. In a future version, integer keys will always be treated as labels (consistent with DataFrame behavior). To access a value by position, use `ser.iloc[pos]`\n",
            "  if data['50_MA'][-1] > data['200_MA'][-1] and data['Close'][-1] > data['200_MA'][-1]:\n",
            "[*********************100%%**********************]  1 of 1 completed\n",
            "<ipython-input-3-e619abe0b4cb>:29: FutureWarning: Series.__getitem__ treating keys as positions is deprecated. In a future version, integer keys will always be treated as labels (consistent with DataFrame behavior). To access a value by position, use `ser.iloc[pos]`\n",
            "  if data['50_MA'][-1] > data['200_MA'][-1] and data['Close'][-1] > data['200_MA'][-1]:\n"
          ]
        },
        {
          "output_type": "stream",
          "name": "stdout",
          "text": [
            "Analyzing JIOFIN...\n",
            "Analyzing JMFINANCIL...\n"
          ]
        },
        {
          "output_type": "stream",
          "name": "stderr",
          "text": [
            "\r[*********************100%%**********************]  1 of 1 completed\n",
            "<ipython-input-3-e619abe0b4cb>:29: FutureWarning: Series.__getitem__ treating keys as positions is deprecated. In a future version, integer keys will always be treated as labels (consistent with DataFrame behavior). To access a value by position, use `ser.iloc[pos]`\n",
            "  if data['50_MA'][-1] > data['200_MA'][-1] and data['Close'][-1] > data['200_MA'][-1]:\n",
            "[*********************100%%**********************]  1 of 1 completed\n",
            "<ipython-input-3-e619abe0b4cb>:29: FutureWarning: Series.__getitem__ treating keys as positions is deprecated. In a future version, integer keys will always be treated as labels (consistent with DataFrame behavior). To access a value by position, use `ser.iloc[pos]`\n",
            "  if data['50_MA'][-1] > data['200_MA'][-1] and data['Close'][-1] > data['200_MA'][-1]:\n"
          ]
        },
        {
          "output_type": "stream",
          "name": "stdout",
          "text": [
            "Analyzing JPPOWER...\n",
            "Analyzing JSWHL...\n"
          ]
        },
        {
          "output_type": "stream",
          "name": "stderr",
          "text": [
            "\r[*********************100%%**********************]  1 of 1 completed\n",
            "<ipython-input-3-e619abe0b4cb>:29: FutureWarning: Series.__getitem__ treating keys as positions is deprecated. In a future version, integer keys will always be treated as labels (consistent with DataFrame behavior). To access a value by position, use `ser.iloc[pos]`\n",
            "  if data['50_MA'][-1] > data['200_MA'][-1] and data['Close'][-1] > data['200_MA'][-1]:\n"
          ]
        },
        {
          "output_type": "stream",
          "name": "stdout",
          "text": [
            "Analyzing JSWSTEEL...\n"
          ]
        },
        {
          "output_type": "stream",
          "name": "stderr",
          "text": [
            "[*********************100%%**********************]  1 of 1 completed\n",
            "<ipython-input-3-e619abe0b4cb>:29: FutureWarning: Series.__getitem__ treating keys as positions is deprecated. In a future version, integer keys will always be treated as labels (consistent with DataFrame behavior). To access a value by position, use `ser.iloc[pos]`\n",
            "  if data['50_MA'][-1] > data['200_MA'][-1] and data['Close'][-1] > data['200_MA'][-1]:\n",
            "[*********************100%%**********************]  1 of 1 completed\n",
            "<ipython-input-3-e619abe0b4cb>:29: FutureWarning: Series.__getitem__ treating keys as positions is deprecated. In a future version, integer keys will always be treated as labels (consistent with DataFrame behavior). To access a value by position, use `ser.iloc[pos]`\n",
            "  if data['50_MA'][-1] > data['200_MA'][-1] and data['Close'][-1] > data['200_MA'][-1]:\n"
          ]
        },
        {
          "output_type": "stream",
          "name": "stdout",
          "text": [
            "Analyzing JUBLFOOD...\n",
            "Analyzing JYOTHYLAB...\n"
          ]
        },
        {
          "output_type": "stream",
          "name": "stderr",
          "text": [
            "\r[*********************100%%**********************]  1 of 1 completed\n",
            "<ipython-input-3-e619abe0b4cb>:29: FutureWarning: Series.__getitem__ treating keys as positions is deprecated. In a future version, integer keys will always be treated as labels (consistent with DataFrame behavior). To access a value by position, use `ser.iloc[pos]`\n",
            "  if data['50_MA'][-1] > data['200_MA'][-1] and data['Close'][-1] > data['200_MA'][-1]:\n",
            "[*********************100%%**********************]  1 of 1 completed\n",
            "<ipython-input-3-e619abe0b4cb>:29: FutureWarning: Series.__getitem__ treating keys as positions is deprecated. In a future version, integer keys will always be treated as labels (consistent with DataFrame behavior). To access a value by position, use `ser.iloc[pos]`\n",
            "  if data['50_MA'][-1] > data['200_MA'][-1] and data['Close'][-1] > data['200_MA'][-1]:\n",
            "<ipython-input-3-e619abe0b4cb>:31: FutureWarning: Series.__getitem__ treating keys as positions is deprecated. In a future version, integer keys will always be treated as labels (consistent with DataFrame behavior). To access a value by position, use `ser.iloc[pos]`\n",
            "  elif data['50_MA'][-1] < data['200_MA'][-1] and data['Close'][-1] < data['200_MA'][-1]:\n"
          ]
        },
        {
          "output_type": "stream",
          "name": "stdout",
          "text": [
            "Analyzing KANSAINER...\n",
            "Analyzing KOTAKBANK...\n"
          ]
        },
        {
          "output_type": "stream",
          "name": "stderr",
          "text": [
            "\r[*********************100%%**********************]  1 of 1 completed\n",
            "<ipython-input-3-e619abe0b4cb>:29: FutureWarning: Series.__getitem__ treating keys as positions is deprecated. In a future version, integer keys will always be treated as labels (consistent with DataFrame behavior). To access a value by position, use `ser.iloc[pos]`\n",
            "  if data['50_MA'][-1] > data['200_MA'][-1] and data['Close'][-1] > data['200_MA'][-1]:\n"
          ]
        },
        {
          "output_type": "stream",
          "name": "stdout",
          "text": [
            "Analyzing LALPATHLAB...\n"
          ]
        },
        {
          "output_type": "stream",
          "name": "stderr",
          "text": [
            "\r[*********************100%%**********************]  1 of 1 completed\n",
            "<ipython-input-3-e619abe0b4cb>:29: FutureWarning: Series.__getitem__ treating keys as positions is deprecated. In a future version, integer keys will always be treated as labels (consistent with DataFrame behavior). To access a value by position, use `ser.iloc[pos]`\n",
            "  if data['50_MA'][-1] > data['200_MA'][-1] and data['Close'][-1] > data['200_MA'][-1]:\n"
          ]
        },
        {
          "output_type": "stream",
          "name": "stdout",
          "text": [
            "Analyzing LICHSGFIN...\n"
          ]
        },
        {
          "output_type": "stream",
          "name": "stderr",
          "text": [
            "[*********************100%%**********************]  1 of 1 completed\n",
            "<ipython-input-3-e619abe0b4cb>:29: FutureWarning: Series.__getitem__ treating keys as positions is deprecated. In a future version, integer keys will always be treated as labels (consistent with DataFrame behavior). To access a value by position, use `ser.iloc[pos]`\n",
            "  if data['50_MA'][-1] > data['200_MA'][-1] and data['Close'][-1] > data['200_MA'][-1]:\n",
            "[*********************100%%**********************]  1 of 1 completed\n",
            "<ipython-input-3-e619abe0b4cb>:29: FutureWarning: Series.__getitem__ treating keys as positions is deprecated. In a future version, integer keys will always be treated as labels (consistent with DataFrame behavior). To access a value by position, use `ser.iloc[pos]`\n",
            "  if data['50_MA'][-1] > data['200_MA'][-1] and data['Close'][-1] > data['200_MA'][-1]:\n"
          ]
        },
        {
          "output_type": "stream",
          "name": "stdout",
          "text": [
            "Analyzing LICI...\n",
            "Analyzing LT...\n"
          ]
        },
        {
          "output_type": "stream",
          "name": "stderr",
          "text": [
            "\r[*********************100%%**********************]  1 of 1 completed\n",
            "<ipython-input-3-e619abe0b4cb>:29: FutureWarning: Series.__getitem__ treating keys as positions is deprecated. In a future version, integer keys will always be treated as labels (consistent with DataFrame behavior). To access a value by position, use `ser.iloc[pos]`\n",
            "  if data['50_MA'][-1] > data['200_MA'][-1] and data['Close'][-1] > data['200_MA'][-1]:\n"
          ]
        },
        {
          "output_type": "stream",
          "name": "stdout",
          "text": [
            "Analyzing LTIM...\n"
          ]
        },
        {
          "output_type": "stream",
          "name": "stderr",
          "text": [
            "[*********************100%%**********************]  1 of 1 completed\n",
            "<ipython-input-3-e619abe0b4cb>:29: FutureWarning: Series.__getitem__ treating keys as positions is deprecated. In a future version, integer keys will always be treated as labels (consistent with DataFrame behavior). To access a value by position, use `ser.iloc[pos]`\n",
            "  if data['50_MA'][-1] > data['200_MA'][-1] and data['Close'][-1] > data['200_MA'][-1]:\n",
            "[*********************100%%**********************]  1 of 1 completed\n",
            "<ipython-input-3-e619abe0b4cb>:29: FutureWarning: Series.__getitem__ treating keys as positions is deprecated. In a future version, integer keys will always be treated as labels (consistent with DataFrame behavior). To access a value by position, use `ser.iloc[pos]`\n",
            "  if data['50_MA'][-1] > data['200_MA'][-1] and data['Close'][-1] > data['200_MA'][-1]:\n"
          ]
        },
        {
          "output_type": "stream",
          "name": "stdout",
          "text": [
            "Analyzing LUPIN...\n",
            "Analyzing LUXIND...\n"
          ]
        },
        {
          "output_type": "stream",
          "name": "stderr",
          "text": [
            "\r[*********************100%%**********************]  1 of 1 completed\n",
            "<ipython-input-3-e619abe0b4cb>:29: FutureWarning: Series.__getitem__ treating keys as positions is deprecated. In a future version, integer keys will always be treated as labels (consistent with DataFrame behavior). To access a value by position, use `ser.iloc[pos]`\n",
            "  if data['50_MA'][-1] > data['200_MA'][-1] and data['Close'][-1] > data['200_MA'][-1]:\n"
          ]
        },
        {
          "output_type": "stream",
          "name": "stdout",
          "text": [
            "Analyzing M&M...\n"
          ]
        },
        {
          "output_type": "stream",
          "name": "stderr",
          "text": [
            "\r[*********************100%%**********************]  1 of 1 completed\n",
            "<ipython-input-3-e619abe0b4cb>:29: FutureWarning: Series.__getitem__ treating keys as positions is deprecated. In a future version, integer keys will always be treated as labels (consistent with DataFrame behavior). To access a value by position, use `ser.iloc[pos]`\n",
            "  if data['50_MA'][-1] > data['200_MA'][-1] and data['Close'][-1] > data['200_MA'][-1]:\n",
            "[*********************100%%**********************]  1 of 1 completed"
          ]
        },
        {
          "output_type": "stream",
          "name": "stdout",
          "text": [
            "Analyzing MANAPPURAM...\n",
            "Analyzing MARICO...\n"
          ]
        },
        {
          "output_type": "stream",
          "name": "stderr",
          "text": [
            "\n",
            "<ipython-input-3-e619abe0b4cb>:29: FutureWarning: Series.__getitem__ treating keys as positions is deprecated. In a future version, integer keys will always be treated as labels (consistent with DataFrame behavior). To access a value by position, use `ser.iloc[pos]`\n",
            "  if data['50_MA'][-1] > data['200_MA'][-1] and data['Close'][-1] > data['200_MA'][-1]:\n",
            "[*********************100%%**********************]  1 of 1 completed\n",
            "<ipython-input-3-e619abe0b4cb>:29: FutureWarning: Series.__getitem__ treating keys as positions is deprecated. In a future version, integer keys will always be treated as labels (consistent with DataFrame behavior). To access a value by position, use `ser.iloc[pos]`\n",
            "  if data['50_MA'][-1] > data['200_MA'][-1] and data['Close'][-1] > data['200_MA'][-1]:\n",
            "[*********************100%%**********************]  1 of 1 completed\n",
            "<ipython-input-3-e619abe0b4cb>:29: FutureWarning: Series.__getitem__ treating keys as positions is deprecated. In a future version, integer keys will always be treated as labels (consistent with DataFrame behavior). To access a value by position, use `ser.iloc[pos]`\n",
            "  if data['50_MA'][-1] > data['200_MA'][-1] and data['Close'][-1] > data['200_MA'][-1]:\n"
          ]
        },
        {
          "output_type": "stream",
          "name": "stdout",
          "text": [
            "Analyzing MARUTI...\n",
            "Analyzing MASFIN...\n"
          ]
        },
        {
          "output_type": "stream",
          "name": "stderr",
          "text": [
            "\r[*********************100%%**********************]  1 of 1 completed\n",
            "<ipython-input-3-e619abe0b4cb>:29: FutureWarning: Series.__getitem__ treating keys as positions is deprecated. In a future version, integer keys will always be treated as labels (consistent with DataFrame behavior). To access a value by position, use `ser.iloc[pos]`\n",
            "  if data['50_MA'][-1] > data['200_MA'][-1] and data['Close'][-1] > data['200_MA'][-1]:\n",
            "<ipython-input-3-e619abe0b4cb>:31: FutureWarning: Series.__getitem__ treating keys as positions is deprecated. In a future version, integer keys will always be treated as labels (consistent with DataFrame behavior). To access a value by position, use `ser.iloc[pos]`\n",
            "  elif data['50_MA'][-1] < data['200_MA'][-1] and data['Close'][-1] < data['200_MA'][-1]:\n",
            "[*********************100%%**********************]  1 of 1 completed\n",
            "<ipython-input-3-e619abe0b4cb>:29: FutureWarning: Series.__getitem__ treating keys as positions is deprecated. In a future version, integer keys will always be treated as labels (consistent with DataFrame behavior). To access a value by position, use `ser.iloc[pos]`\n",
            "  if data['50_MA'][-1] > data['200_MA'][-1] and data['Close'][-1] > data['200_MA'][-1]:\n"
          ]
        },
        {
          "output_type": "stream",
          "name": "stdout",
          "text": [
            "Analyzing MAXHEALTH...\n",
            "Analyzing MCDOWELL-N...\n"
          ]
        },
        {
          "output_type": "stream",
          "name": "stderr",
          "text": [
            "\r[*********************100%%**********************]  1 of 1 completed\n",
            "ERROR:yfinance:\n",
            "1 Failed download:\n",
            "ERROR:yfinance:['MCDOWELL-N.NS']: YFTzMissingError('$%ticker%: possibly delisted; No timezone found')\n"
          ]
        },
        {
          "output_type": "stream",
          "name": "stdout",
          "text": [
            "Analyzing MCX...\n"
          ]
        },
        {
          "output_type": "stream",
          "name": "stderr",
          "text": [
            "[*********************100%%**********************]  1 of 1 completed\n",
            "<ipython-input-3-e619abe0b4cb>:29: FutureWarning: Series.__getitem__ treating keys as positions is deprecated. In a future version, integer keys will always be treated as labels (consistent with DataFrame behavior). To access a value by position, use `ser.iloc[pos]`\n",
            "  if data['50_MA'][-1] > data['200_MA'][-1] and data['Close'][-1] > data['200_MA'][-1]:\n",
            "[*********************100%%**********************]  1 of 1 completed\n",
            "<ipython-input-3-e619abe0b4cb>:29: FutureWarning: Series.__getitem__ treating keys as positions is deprecated. In a future version, integer keys will always be treated as labels (consistent with DataFrame behavior). To access a value by position, use `ser.iloc[pos]`\n",
            "  if data['50_MA'][-1] > data['200_MA'][-1] and data['Close'][-1] > data['200_MA'][-1]:\n"
          ]
        },
        {
          "output_type": "stream",
          "name": "stdout",
          "text": [
            "Analyzing METROPOLIS...\n",
            "Analyzing MOTILALOFS...\n"
          ]
        },
        {
          "output_type": "stream",
          "name": "stderr",
          "text": [
            "\r[*********************100%%**********************]  1 of 1 completed\n",
            "<ipython-input-3-e619abe0b4cb>:29: FutureWarning: Series.__getitem__ treating keys as positions is deprecated. In a future version, integer keys will always be treated as labels (consistent with DataFrame behavior). To access a value by position, use `ser.iloc[pos]`\n",
            "  if data['50_MA'][-1] > data['200_MA'][-1] and data['Close'][-1] > data['200_MA'][-1]:\n",
            "<ipython-input-3-e619abe0b4cb>:31: FutureWarning: Series.__getitem__ treating keys as positions is deprecated. In a future version, integer keys will always be treated as labels (consistent with DataFrame behavior). To access a value by position, use `ser.iloc[pos]`\n",
            "  elif data['50_MA'][-1] < data['200_MA'][-1] and data['Close'][-1] < data['200_MA'][-1]:\n"
          ]
        },
        {
          "output_type": "stream",
          "name": "stdout",
          "text": [
            "Analyzing MRF...\n"
          ]
        },
        {
          "output_type": "stream",
          "name": "stderr",
          "text": [
            "\r[*********************100%%**********************]  1 of 1 completed\n",
            "<ipython-input-3-e619abe0b4cb>:29: FutureWarning: Series.__getitem__ treating keys as positions is deprecated. In a future version, integer keys will always be treated as labels (consistent with DataFrame behavior). To access a value by position, use `ser.iloc[pos]`\n",
            "  if data['50_MA'][-1] > data['200_MA'][-1] and data['Close'][-1] > data['200_MA'][-1]:\n"
          ]
        },
        {
          "output_type": "stream",
          "name": "stdout",
          "text": [
            "Analyzing MUTHOOTFIN...\n"
          ]
        },
        {
          "output_type": "stream",
          "name": "stderr",
          "text": [
            "[*********************100%%**********************]  1 of 1 completed\n",
            "<ipython-input-3-e619abe0b4cb>:29: FutureWarning: Series.__getitem__ treating keys as positions is deprecated. In a future version, integer keys will always be treated as labels (consistent with DataFrame behavior). To access a value by position, use `ser.iloc[pos]`\n",
            "  if data['50_MA'][-1] > data['200_MA'][-1] and data['Close'][-1] > data['200_MA'][-1]:\n",
            "[*********************100%%**********************]  1 of 1 completed\n",
            "<ipython-input-3-e619abe0b4cb>:29: FutureWarning: Series.__getitem__ treating keys as positions is deprecated. In a future version, integer keys will always be treated as labels (consistent with DataFrame behavior). To access a value by position, use `ser.iloc[pos]`\n",
            "  if data['50_MA'][-1] > data['200_MA'][-1] and data['Close'][-1] > data['200_MA'][-1]:\n"
          ]
        },
        {
          "output_type": "stream",
          "name": "stdout",
          "text": [
            "Analyzing NAM-INDIA...\n",
            "Analyzing NATIONALUM...\n"
          ]
        },
        {
          "output_type": "stream",
          "name": "stderr",
          "text": [
            "[*********************100%%**********************]  1 of 1 completed\n",
            "<ipython-input-3-e619abe0b4cb>:29: FutureWarning: Series.__getitem__ treating keys as positions is deprecated. In a future version, integer keys will always be treated as labels (consistent with DataFrame behavior). To access a value by position, use `ser.iloc[pos]`\n",
            "  if data['50_MA'][-1] > data['200_MA'][-1] and data['Close'][-1] > data['200_MA'][-1]:\n",
            "[*********************100%%**********************]  1 of 1 completed\n",
            "<ipython-input-3-e619abe0b4cb>:29: FutureWarning: Series.__getitem__ treating keys as positions is deprecated. In a future version, integer keys will always be treated as labels (consistent with DataFrame behavior). To access a value by position, use `ser.iloc[pos]`\n",
            "  if data['50_MA'][-1] > data['200_MA'][-1] and data['Close'][-1] > data['200_MA'][-1]:\n"
          ]
        },
        {
          "output_type": "stream",
          "name": "stdout",
          "text": [
            "Analyzing NAUKRI...\n",
            "Analyzing NEOGEN...\n"
          ]
        },
        {
          "output_type": "stream",
          "name": "stderr",
          "text": [
            "\r[*********************100%%**********************]  1 of 1 completed\n",
            "<ipython-input-3-e619abe0b4cb>:29: FutureWarning: Series.__getitem__ treating keys as positions is deprecated. In a future version, integer keys will always be treated as labels (consistent with DataFrame behavior). To access a value by position, use `ser.iloc[pos]`\n",
            "  if data['50_MA'][-1] > data['200_MA'][-1] and data['Close'][-1] > data['200_MA'][-1]:\n"
          ]
        },
        {
          "output_type": "stream",
          "name": "stdout",
          "text": [
            "Analyzing NESTLEIND...\n"
          ]
        },
        {
          "output_type": "stream",
          "name": "stderr",
          "text": [
            "[*********************100%%**********************]  1 of 1 completed\n",
            "<ipython-input-3-e619abe0b4cb>:29: FutureWarning: Series.__getitem__ treating keys as positions is deprecated. In a future version, integer keys will always be treated as labels (consistent with DataFrame behavior). To access a value by position, use `ser.iloc[pos]`\n",
            "  if data['50_MA'][-1] > data['200_MA'][-1] and data['Close'][-1] > data['200_MA'][-1]:\n",
            "[*********************100%%**********************]  1 of 1 completed\n",
            "<ipython-input-3-e619abe0b4cb>:29: FutureWarning: Series.__getitem__ treating keys as positions is deprecated. In a future version, integer keys will always be treated as labels (consistent with DataFrame behavior). To access a value by position, use `ser.iloc[pos]`\n",
            "  if data['50_MA'][-1] > data['200_MA'][-1] and data['Close'][-1] > data['200_MA'][-1]:\n",
            "<ipython-input-3-e619abe0b4cb>:31: FutureWarning: Series.__getitem__ treating keys as positions is deprecated. In a future version, integer keys will always be treated as labels (consistent with DataFrame behavior). To access a value by position, use `ser.iloc[pos]`\n",
            "  elif data['50_MA'][-1] < data['200_MA'][-1] and data['Close'][-1] < data['200_MA'][-1]:\n",
            "<ipython-input-3-e619abe0b4cb>:33: FutureWarning: Series.__getitem__ treating keys as positions is deprecated. In a future version, integer keys will always be treated as labels (consistent with DataFrame behavior). To access a value by position, use `ser.iloc[pos]`\n",
            "  elif data['Close'][-1] < data['200_MA'][-1]:\n",
            "<ipython-input-3-e619abe0b4cb>:35: FutureWarning: Series.__getitem__ treating keys as positions is deprecated. In a future version, integer keys will always be treated as labels (consistent with DataFrame behavior). To access a value by position, use `ser.iloc[pos]`\n",
            "  elif data['50_MA'][-1] < data['200_MA'][-1] and data['Close'][-1] < data['50_MA'][-1]:\n"
          ]
        },
        {
          "output_type": "stream",
          "name": "stdout",
          "text": [
            "Analyzing NETWORK18...\n",
            "Analyzing NIACL...\n"
          ]
        },
        {
          "output_type": "stream",
          "name": "stderr",
          "text": [
            "\r[*********************100%%**********************]  1 of 1 completed\n",
            "<ipython-input-3-e619abe0b4cb>:29: FutureWarning: Series.__getitem__ treating keys as positions is deprecated. In a future version, integer keys will always be treated as labels (consistent with DataFrame behavior). To access a value by position, use `ser.iloc[pos]`\n",
            "  if data['50_MA'][-1] > data['200_MA'][-1] and data['Close'][-1] > data['200_MA'][-1]:\n"
          ]
        },
        {
          "output_type": "stream",
          "name": "stdout",
          "text": [
            "Analyzing NMDC...\n"
          ]
        },
        {
          "output_type": "stream",
          "name": "stderr",
          "text": [
            "\r[*********************100%%**********************]  1 of 1 completed\n",
            "<ipython-input-3-e619abe0b4cb>:29: FutureWarning: Series.__getitem__ treating keys as positions is deprecated. In a future version, integer keys will always be treated as labels (consistent with DataFrame behavior). To access a value by position, use `ser.iloc[pos]`\n",
            "  if data['50_MA'][-1] > data['200_MA'][-1] and data['Close'][-1] > data['200_MA'][-1]:\n",
            "<ipython-input-3-e619abe0b4cb>:31: FutureWarning: Series.__getitem__ treating keys as positions is deprecated. In a future version, integer keys will always be treated as labels (consistent with DataFrame behavior). To access a value by position, use `ser.iloc[pos]`\n",
            "  elif data['50_MA'][-1] < data['200_MA'][-1] and data['Close'][-1] < data['200_MA'][-1]:\n",
            "<ipython-input-3-e619abe0b4cb>:33: FutureWarning: Series.__getitem__ treating keys as positions is deprecated. In a future version, integer keys will always be treated as labels (consistent with DataFrame behavior). To access a value by position, use `ser.iloc[pos]`\n",
            "  elif data['Close'][-1] < data['200_MA'][-1]:\n"
          ]
        },
        {
          "output_type": "stream",
          "name": "stdout",
          "text": [
            "Analyzing NTPC...\n"
          ]
        },
        {
          "output_type": "stream",
          "name": "stderr",
          "text": [
            "\r[*********************100%%**********************]  1 of 1 completed\n",
            "<ipython-input-3-e619abe0b4cb>:29: FutureWarning: Series.__getitem__ treating keys as positions is deprecated. In a future version, integer keys will always be treated as labels (consistent with DataFrame behavior). To access a value by position, use `ser.iloc[pos]`\n",
            "  if data['50_MA'][-1] > data['200_MA'][-1] and data['Close'][-1] > data['200_MA'][-1]:\n"
          ]
        },
        {
          "output_type": "stream",
          "name": "stdout",
          "text": [
            "Analyzing OFSS...\n"
          ]
        },
        {
          "output_type": "stream",
          "name": "stderr",
          "text": [
            "\r[*********************100%%**********************]  1 of 1 completed\n",
            "<ipython-input-3-e619abe0b4cb>:29: FutureWarning: Series.__getitem__ treating keys as positions is deprecated. In a future version, integer keys will always be treated as labels (consistent with DataFrame behavior). To access a value by position, use `ser.iloc[pos]`\n",
            "  if data['50_MA'][-1] > data['200_MA'][-1] and data['Close'][-1] > data['200_MA'][-1]:\n"
          ]
        },
        {
          "output_type": "stream",
          "name": "stdout",
          "text": [
            "Analyzing ONGC...\n"
          ]
        },
        {
          "output_type": "stream",
          "name": "stderr",
          "text": [
            "[*********************100%%**********************]  1 of 1 completed\n",
            "<ipython-input-3-e619abe0b4cb>:29: FutureWarning: Series.__getitem__ treating keys as positions is deprecated. In a future version, integer keys will always be treated as labels (consistent with DataFrame behavior). To access a value by position, use `ser.iloc[pos]`\n",
            "  if data['50_MA'][-1] > data['200_MA'][-1] and data['Close'][-1] > data['200_MA'][-1]:\n",
            "[*********************100%%**********************]  1 of 1 completed\n",
            "<ipython-input-3-e619abe0b4cb>:29: FutureWarning: Series.__getitem__ treating keys as positions is deprecated. In a future version, integer keys will always be treated as labels (consistent with DataFrame behavior). To access a value by position, use `ser.iloc[pos]`\n",
            "  if data['50_MA'][-1] > data['200_MA'][-1] and data['Close'][-1] > data['200_MA'][-1]:\n"
          ]
        },
        {
          "output_type": "stream",
          "name": "stdout",
          "text": [
            "Analyzing PAGEIND...\n",
            "Analyzing PARAGMILK...\n"
          ]
        },
        {
          "output_type": "stream",
          "name": "stderr",
          "text": [
            "\r[*********************100%%**********************]  1 of 1 completed\n",
            "<ipython-input-3-e619abe0b4cb>:29: FutureWarning: Series.__getitem__ treating keys as positions is deprecated. In a future version, integer keys will always be treated as labels (consistent with DataFrame behavior). To access a value by position, use `ser.iloc[pos]`\n",
            "  if data['50_MA'][-1] > data['200_MA'][-1] and data['Close'][-1] > data['200_MA'][-1]:\n",
            "<ipython-input-3-e619abe0b4cb>:31: FutureWarning: Series.__getitem__ treating keys as positions is deprecated. In a future version, integer keys will always be treated as labels (consistent with DataFrame behavior). To access a value by position, use `ser.iloc[pos]`\n",
            "  elif data['50_MA'][-1] < data['200_MA'][-1] and data['Close'][-1] < data['200_MA'][-1]:\n"
          ]
        },
        {
          "output_type": "stream",
          "name": "stdout",
          "text": [
            "Analyzing PEL...\n"
          ]
        },
        {
          "output_type": "stream",
          "name": "stderr",
          "text": [
            "\r[*********************100%%**********************]  1 of 1 completed\n",
            "<ipython-input-3-e619abe0b4cb>:29: FutureWarning: Series.__getitem__ treating keys as positions is deprecated. In a future version, integer keys will always be treated as labels (consistent with DataFrame behavior). To access a value by position, use `ser.iloc[pos]`\n",
            "  if data['50_MA'][-1] > data['200_MA'][-1] and data['Close'][-1] > data['200_MA'][-1]:\n"
          ]
        },
        {
          "output_type": "stream",
          "name": "stdout",
          "text": [
            "Analyzing PFIZER...\n"
          ]
        },
        {
          "output_type": "stream",
          "name": "stderr",
          "text": [
            "\r[*********************100%%**********************]  1 of 1 completed\n",
            "<ipython-input-3-e619abe0b4cb>:29: FutureWarning: Series.__getitem__ treating keys as positions is deprecated. In a future version, integer keys will always be treated as labels (consistent with DataFrame behavior). To access a value by position, use `ser.iloc[pos]`\n",
            "  if data['50_MA'][-1] > data['200_MA'][-1] and data['Close'][-1] > data['200_MA'][-1]:\n"
          ]
        },
        {
          "output_type": "stream",
          "name": "stdout",
          "text": [
            "Analyzing PGHH...\n"
          ]
        },
        {
          "output_type": "stream",
          "name": "stderr",
          "text": [
            "\r[*********************100%%**********************]  1 of 1 completed\n",
            "<ipython-input-3-e619abe0b4cb>:29: FutureWarning: Series.__getitem__ treating keys as positions is deprecated. In a future version, integer keys will always be treated as labels (consistent with DataFrame behavior). To access a value by position, use `ser.iloc[pos]`\n",
            "  if data['50_MA'][-1] > data['200_MA'][-1] and data['Close'][-1] > data['200_MA'][-1]:\n"
          ]
        },
        {
          "output_type": "stream",
          "name": "stdout",
          "text": [
            "Analyzing PIDILITIND...\n"
          ]
        },
        {
          "output_type": "stream",
          "name": "stderr",
          "text": [
            "\r[*********************100%%**********************]  1 of 1 completed\n",
            "<ipython-input-3-e619abe0b4cb>:29: FutureWarning: Series.__getitem__ treating keys as positions is deprecated. In a future version, integer keys will always be treated as labels (consistent with DataFrame behavior). To access a value by position, use `ser.iloc[pos]`\n",
            "  if data['50_MA'][-1] > data['200_MA'][-1] and data['Close'][-1] > data['200_MA'][-1]:\n"
          ]
        },
        {
          "output_type": "stream",
          "name": "stdout",
          "text": [
            "Analyzing PIIND...\n"
          ]
        },
        {
          "output_type": "stream",
          "name": "stderr",
          "text": [
            "\r[*********************100%%**********************]  1 of 1 completed\n",
            "<ipython-input-3-e619abe0b4cb>:29: FutureWarning: Series.__getitem__ treating keys as positions is deprecated. In a future version, integer keys will always be treated as labels (consistent with DataFrame behavior). To access a value by position, use `ser.iloc[pos]`\n",
            "  if data['50_MA'][-1] > data['200_MA'][-1] and data['Close'][-1] > data['200_MA'][-1]:\n"
          ]
        },
        {
          "output_type": "stream",
          "name": "stdout",
          "text": [
            "Analyzing PNB...\n"
          ]
        },
        {
          "output_type": "stream",
          "name": "stderr",
          "text": [
            "[*********************100%%**********************]  1 of 1 completed\n",
            "<ipython-input-3-e619abe0b4cb>:29: FutureWarning: Series.__getitem__ treating keys as positions is deprecated. In a future version, integer keys will always be treated as labels (consistent with DataFrame behavior). To access a value by position, use `ser.iloc[pos]`\n",
            "  if data['50_MA'][-1] > data['200_MA'][-1] and data['Close'][-1] > data['200_MA'][-1]:\n",
            "[*********************100%%**********************]  1 of 1 completed\n",
            "<ipython-input-3-e619abe0b4cb>:29: FutureWarning: Series.__getitem__ treating keys as positions is deprecated. In a future version, integer keys will always be treated as labels (consistent with DataFrame behavior). To access a value by position, use `ser.iloc[pos]`\n",
            "  if data['50_MA'][-1] > data['200_MA'][-1] and data['Close'][-1] > data['200_MA'][-1]:\n"
          ]
        },
        {
          "output_type": "stream",
          "name": "stdout",
          "text": [
            "Analyzing POLYCAB...\n",
            "Analyzing POWERGRID...\n"
          ]
        },
        {
          "output_type": "stream",
          "name": "stderr",
          "text": [
            "\r[*********************100%%**********************]  1 of 1 completed\n",
            "<ipython-input-3-e619abe0b4cb>:29: FutureWarning: Series.__getitem__ treating keys as positions is deprecated. In a future version, integer keys will always be treated as labels (consistent with DataFrame behavior). To access a value by position, use `ser.iloc[pos]`\n",
            "  if data['50_MA'][-1] > data['200_MA'][-1] and data['Close'][-1] > data['200_MA'][-1]:\n"
          ]
        },
        {
          "output_type": "stream",
          "name": "stdout",
          "text": [
            "Analyzing PRAJIND...\n"
          ]
        },
        {
          "output_type": "stream",
          "name": "stderr",
          "text": [
            "[*********************100%%**********************]  1 of 1 completed\n",
            "<ipython-input-3-e619abe0b4cb>:29: FutureWarning: Series.__getitem__ treating keys as positions is deprecated. In a future version, integer keys will always be treated as labels (consistent with DataFrame behavior). To access a value by position, use `ser.iloc[pos]`\n",
            "  if data['50_MA'][-1] > data['200_MA'][-1] and data['Close'][-1] > data['200_MA'][-1]:\n",
            "[*********************100%%**********************]  1 of 1 completed\n",
            "<ipython-input-3-e619abe0b4cb>:29: FutureWarning: Series.__getitem__ treating keys as positions is deprecated. In a future version, integer keys will always be treated as labels (consistent with DataFrame behavior). To access a value by position, use `ser.iloc[pos]`\n",
            "  if data['50_MA'][-1] > data['200_MA'][-1] and data['Close'][-1] > data['200_MA'][-1]:\n",
            "<ipython-input-3-e619abe0b4cb>:31: FutureWarning: Series.__getitem__ treating keys as positions is deprecated. In a future version, integer keys will always be treated as labels (consistent with DataFrame behavior). To access a value by position, use `ser.iloc[pos]`\n",
            "  elif data['50_MA'][-1] < data['200_MA'][-1] and data['Close'][-1] < data['200_MA'][-1]:\n",
            "<ipython-input-3-e619abe0b4cb>:33: FutureWarning: Series.__getitem__ treating keys as positions is deprecated. In a future version, integer keys will always be treated as labels (consistent with DataFrame behavior). To access a value by position, use `ser.iloc[pos]`\n",
            "  elif data['Close'][-1] < data['200_MA'][-1]:\n",
            "<ipython-input-3-e619abe0b4cb>:35: FutureWarning: Series.__getitem__ treating keys as positions is deprecated. In a future version, integer keys will always be treated as labels (consistent with DataFrame behavior). To access a value by position, use `ser.iloc[pos]`\n",
            "  elif data['50_MA'][-1] < data['200_MA'][-1] and data['Close'][-1] < data['50_MA'][-1]:\n"
          ]
        },
        {
          "output_type": "stream",
          "name": "stdout",
          "text": [
            "Analyzing PVRINOX...\n",
            "Analyzing QUESS...\n"
          ]
        },
        {
          "output_type": "stream",
          "name": "stderr",
          "text": [
            "\r[*********************100%%**********************]  1 of 1 completed\n",
            "<ipython-input-3-e619abe0b4cb>:29: FutureWarning: Series.__getitem__ treating keys as positions is deprecated. In a future version, integer keys will always be treated as labels (consistent with DataFrame behavior). To access a value by position, use `ser.iloc[pos]`\n",
            "  if data['50_MA'][-1] > data['200_MA'][-1] and data['Close'][-1] > data['200_MA'][-1]:\n"
          ]
        },
        {
          "output_type": "stream",
          "name": "stdout",
          "text": [
            "Analyzing RADICO...\n"
          ]
        },
        {
          "output_type": "stream",
          "name": "stderr",
          "text": [
            "\r[*********************100%%**********************]  1 of 1 completed\n",
            "<ipython-input-3-e619abe0b4cb>:29: FutureWarning: Series.__getitem__ treating keys as positions is deprecated. In a future version, integer keys will always be treated as labels (consistent with DataFrame behavior). To access a value by position, use `ser.iloc[pos]`\n",
            "  if data['50_MA'][-1] > data['200_MA'][-1] and data['Close'][-1] > data['200_MA'][-1]:\n"
          ]
        },
        {
          "output_type": "stream",
          "name": "stdout",
          "text": [
            "Analyzing RAJESHEXPO...\n"
          ]
        },
        {
          "output_type": "stream",
          "name": "stderr",
          "text": [
            "[*********************100%%**********************]  1 of 1 completed\n",
            "<ipython-input-3-e619abe0b4cb>:29: FutureWarning: Series.__getitem__ treating keys as positions is deprecated. In a future version, integer keys will always be treated as labels (consistent with DataFrame behavior). To access a value by position, use `ser.iloc[pos]`\n",
            "  if data['50_MA'][-1] > data['200_MA'][-1] and data['Close'][-1] > data['200_MA'][-1]:\n",
            "<ipython-input-3-e619abe0b4cb>:31: FutureWarning: Series.__getitem__ treating keys as positions is deprecated. In a future version, integer keys will always be treated as labels (consistent with DataFrame behavior). To access a value by position, use `ser.iloc[pos]`\n",
            "  elif data['50_MA'][-1] < data['200_MA'][-1] and data['Close'][-1] < data['200_MA'][-1]:\n",
            "[*********************100%%**********************]  1 of 1 completed\n",
            "<ipython-input-3-e619abe0b4cb>:29: FutureWarning: Series.__getitem__ treating keys as positions is deprecated. In a future version, integer keys will always be treated as labels (consistent with DataFrame behavior). To access a value by position, use `ser.iloc[pos]`\n",
            "  if data['50_MA'][-1] > data['200_MA'][-1] and data['Close'][-1] > data['200_MA'][-1]:\n",
            "<ipython-input-3-e619abe0b4cb>:31: FutureWarning: Series.__getitem__ treating keys as positions is deprecated. In a future version, integer keys will always be treated as labels (consistent with DataFrame behavior). To access a value by position, use `ser.iloc[pos]`\n",
            "  elif data['50_MA'][-1] < data['200_MA'][-1] and data['Close'][-1] < data['200_MA'][-1]:\n"
          ]
        },
        {
          "output_type": "stream",
          "name": "stdout",
          "text": [
            "Analyzing RBLBANK...\n",
            "Analyzing RELAXO...\n"
          ]
        },
        {
          "output_type": "stream",
          "name": "stderr",
          "text": [
            "[*********************100%%**********************]  1 of 1 completed\n",
            "<ipython-input-3-e619abe0b4cb>:29: FutureWarning: Series.__getitem__ treating keys as positions is deprecated. In a future version, integer keys will always be treated as labels (consistent with DataFrame behavior). To access a value by position, use `ser.iloc[pos]`\n",
            "  if data['50_MA'][-1] > data['200_MA'][-1] and data['Close'][-1] > data['200_MA'][-1]:\n",
            "<ipython-input-3-e619abe0b4cb>:31: FutureWarning: Series.__getitem__ treating keys as positions is deprecated. In a future version, integer keys will always be treated as labels (consistent with DataFrame behavior). To access a value by position, use `ser.iloc[pos]`\n",
            "  elif data['50_MA'][-1] < data['200_MA'][-1] and data['Close'][-1] < data['200_MA'][-1]:\n",
            "[*********************100%%**********************]  1 of 1 completed\n",
            "<ipython-input-3-e619abe0b4cb>:29: FutureWarning: Series.__getitem__ treating keys as positions is deprecated. In a future version, integer keys will always be treated as labels (consistent with DataFrame behavior). To access a value by position, use `ser.iloc[pos]`\n",
            "  if data['50_MA'][-1] > data['200_MA'][-1] and data['Close'][-1] > data['200_MA'][-1]:\n"
          ]
        },
        {
          "output_type": "stream",
          "name": "stdout",
          "text": [
            "Analyzing RELIANCE...\n",
            "Analyzing REPCOHOME...\n"
          ]
        },
        {
          "output_type": "stream",
          "name": "stderr",
          "text": [
            "\r[*********************100%%**********************]  1 of 1 completed\n",
            "<ipython-input-3-e619abe0b4cb>:29: FutureWarning: Series.__getitem__ treating keys as positions is deprecated. In a future version, integer keys will always be treated as labels (consistent with DataFrame behavior). To access a value by position, use `ser.iloc[pos]`\n",
            "  if data['50_MA'][-1] > data['200_MA'][-1] and data['Close'][-1] > data['200_MA'][-1]:\n",
            "[*********************100%%**********************]  1 of 1 completed\n",
            "<ipython-input-3-e619abe0b4cb>:29: FutureWarning: Series.__getitem__ treating keys as positions is deprecated. In a future version, integer keys will always be treated as labels (consistent with DataFrame behavior). To access a value by position, use `ser.iloc[pos]`\n",
            "  if data['50_MA'][-1] > data['200_MA'][-1] and data['Close'][-1] > data['200_MA'][-1]:\n"
          ]
        },
        {
          "output_type": "stream",
          "name": "stdout",
          "text": [
            "Analyzing ROSSARI...\n",
            "Analyzing ROUTE...\n"
          ]
        },
        {
          "output_type": "stream",
          "name": "stderr",
          "text": [
            "\r[*********************100%%**********************]  1 of 1 completed\n",
            "<ipython-input-3-e619abe0b4cb>:29: FutureWarning: Series.__getitem__ treating keys as positions is deprecated. In a future version, integer keys will always be treated as labels (consistent with DataFrame behavior). To access a value by position, use `ser.iloc[pos]`\n",
            "  if data['50_MA'][-1] > data['200_MA'][-1] and data['Close'][-1] > data['200_MA'][-1]:\n",
            "<ipython-input-3-e619abe0b4cb>:31: FutureWarning: Series.__getitem__ treating keys as positions is deprecated. In a future version, integer keys will always be treated as labels (consistent with DataFrame behavior). To access a value by position, use `ser.iloc[pos]`\n",
            "  elif data['50_MA'][-1] < data['200_MA'][-1] and data['Close'][-1] < data['200_MA'][-1]:\n",
            "<ipython-input-3-e619abe0b4cb>:33: FutureWarning: Series.__getitem__ treating keys as positions is deprecated. In a future version, integer keys will always be treated as labels (consistent with DataFrame behavior). To access a value by position, use `ser.iloc[pos]`\n",
            "  elif data['Close'][-1] < data['200_MA'][-1]:\n"
          ]
        },
        {
          "output_type": "stream",
          "name": "stdout",
          "text": [
            "Analyzing SAIL...\n"
          ]
        },
        {
          "output_type": "stream",
          "name": "stderr",
          "text": [
            "\r[*********************100%%**********************]  1 of 1 completed\n",
            "<ipython-input-3-e619abe0b4cb>:29: FutureWarning: Series.__getitem__ treating keys as positions is deprecated. In a future version, integer keys will always be treated as labels (consistent with DataFrame behavior). To access a value by position, use `ser.iloc[pos]`\n",
            "  if data['50_MA'][-1] > data['200_MA'][-1] and data['Close'][-1] > data['200_MA'][-1]:\n",
            "<ipython-input-3-e619abe0b4cb>:31: FutureWarning: Series.__getitem__ treating keys as positions is deprecated. In a future version, integer keys will always be treated as labels (consistent with DataFrame behavior). To access a value by position, use `ser.iloc[pos]`\n",
            "  elif data['50_MA'][-1] < data['200_MA'][-1] and data['Close'][-1] < data['200_MA'][-1]:\n",
            "<ipython-input-3-e619abe0b4cb>:33: FutureWarning: Series.__getitem__ treating keys as positions is deprecated. In a future version, integer keys will always be treated as labels (consistent with DataFrame behavior). To access a value by position, use `ser.iloc[pos]`\n",
            "  elif data['Close'][-1] < data['200_MA'][-1]:\n"
          ]
        },
        {
          "output_type": "stream",
          "name": "stdout",
          "text": [
            "Analyzing SAMMAANCAP...\n"
          ]
        },
        {
          "output_type": "stream",
          "name": "stderr",
          "text": [
            "\r[*********************100%%**********************]  1 of 1 completed\n",
            "<ipython-input-3-e619abe0b4cb>:29: FutureWarning: Series.__getitem__ treating keys as positions is deprecated. In a future version, integer keys will always be treated as labels (consistent with DataFrame behavior). To access a value by position, use `ser.iloc[pos]`\n",
            "  if data['50_MA'][-1] > data['200_MA'][-1] and data['Close'][-1] > data['200_MA'][-1]:\n",
            "<ipython-input-3-e619abe0b4cb>:31: FutureWarning: Series.__getitem__ treating keys as positions is deprecated. In a future version, integer keys will always be treated as labels (consistent with DataFrame behavior). To access a value by position, use `ser.iloc[pos]`\n",
            "  elif data['50_MA'][-1] < data['200_MA'][-1] and data['Close'][-1] < data['200_MA'][-1]:\n"
          ]
        },
        {
          "output_type": "stream",
          "name": "stdout",
          "text": [
            "Analyzing SANOFI...\n"
          ]
        },
        {
          "output_type": "stream",
          "name": "stderr",
          "text": [
            "[*********************100%%**********************]  1 of 1 completed\n",
            "<ipython-input-3-e619abe0b4cb>:29: FutureWarning: Series.__getitem__ treating keys as positions is deprecated. In a future version, integer keys will always be treated as labels (consistent with DataFrame behavior). To access a value by position, use `ser.iloc[pos]`\n",
            "  if data['50_MA'][-1] > data['200_MA'][-1] and data['Close'][-1] > data['200_MA'][-1]:\n",
            "<ipython-input-3-e619abe0b4cb>:31: FutureWarning: Series.__getitem__ treating keys as positions is deprecated. In a future version, integer keys will always be treated as labels (consistent with DataFrame behavior). To access a value by position, use `ser.iloc[pos]`\n",
            "  elif data['50_MA'][-1] < data['200_MA'][-1] and data['Close'][-1] < data['200_MA'][-1]:\n",
            "[*********************100%%**********************]  1 of 1 completed\n",
            "<ipython-input-3-e619abe0b4cb>:29: FutureWarning: Series.__getitem__ treating keys as positions is deprecated. In a future version, integer keys will always be treated as labels (consistent with DataFrame behavior). To access a value by position, use `ser.iloc[pos]`\n",
            "  if data['50_MA'][-1] > data['200_MA'][-1] and data['Close'][-1] > data['200_MA'][-1]:\n",
            "<ipython-input-3-e619abe0b4cb>:31: FutureWarning: Series.__getitem__ treating keys as positions is deprecated. In a future version, integer keys will always be treated as labels (consistent with DataFrame behavior). To access a value by position, use `ser.iloc[pos]`\n",
            "  elif data['50_MA'][-1] < data['200_MA'][-1] and data['Close'][-1] < data['200_MA'][-1]:\n"
          ]
        },
        {
          "output_type": "stream",
          "name": "stdout",
          "text": [
            "Analyzing SBICARD...\n",
            "Analyzing SBIETFPB...\n"
          ]
        },
        {
          "output_type": "stream",
          "name": "stderr",
          "text": [
            "\r[*********************100%%**********************]  1 of 1 completed\n",
            "<ipython-input-3-e619abe0b4cb>:29: FutureWarning: Series.__getitem__ treating keys as positions is deprecated. In a future version, integer keys will always be treated as labels (consistent with DataFrame behavior). To access a value by position, use `ser.iloc[pos]`\n",
            "  if data['50_MA'][-1] > data['200_MA'][-1] and data['Close'][-1] > data['200_MA'][-1]:\n"
          ]
        },
        {
          "output_type": "stream",
          "name": "stdout",
          "text": [
            "Analyzing SBILIFE...\n"
          ]
        },
        {
          "output_type": "stream",
          "name": "stderr",
          "text": [
            "\r[*********************100%%**********************]  1 of 1 completed\n",
            "<ipython-input-3-e619abe0b4cb>:29: FutureWarning: Series.__getitem__ treating keys as positions is deprecated. In a future version, integer keys will always be treated as labels (consistent with DataFrame behavior). To access a value by position, use `ser.iloc[pos]`\n",
            "  if data['50_MA'][-1] > data['200_MA'][-1] and data['Close'][-1] > data['200_MA'][-1]:\n"
          ]
        },
        {
          "output_type": "stream",
          "name": "stdout",
          "text": [
            "Analyzing SBIN...\n"
          ]
        },
        {
          "output_type": "stream",
          "name": "stderr",
          "text": [
            "\r[*********************100%%**********************]  1 of 1 completed\n",
            "<ipython-input-3-e619abe0b4cb>:29: FutureWarning: Series.__getitem__ treating keys as positions is deprecated. In a future version, integer keys will always be treated as labels (consistent with DataFrame behavior). To access a value by position, use `ser.iloc[pos]`\n",
            "  if data['50_MA'][-1] > data['200_MA'][-1] and data['Close'][-1] > data['200_MA'][-1]:\n"
          ]
        },
        {
          "output_type": "stream",
          "name": "stdout",
          "text": [
            "Analyzing SCHAEFFLER ...\n"
          ]
        },
        {
          "output_type": "stream",
          "name": "stderr",
          "text": [
            "[*********************100%%**********************]  2 of 2 completed\n",
            "ERROR:yfinance:\n",
            "2 Failed downloads:\n",
            "ERROR:yfinance:['SCHAEFFLER', '.NS']: YFTzMissingError('$%ticker%: possibly delisted; No timezone found')\n",
            "[*********************100%%**********************]  1 of 1 completed\n",
            "<ipython-input-3-e619abe0b4cb>:29: FutureWarning: Series.__getitem__ treating keys as positions is deprecated. In a future version, integer keys will always be treated as labels (consistent with DataFrame behavior). To access a value by position, use `ser.iloc[pos]`\n",
            "  if data['50_MA'][-1] > data['200_MA'][-1] and data['Close'][-1] > data['200_MA'][-1]:\n",
            "<ipython-input-3-e619abe0b4cb>:31: FutureWarning: Series.__getitem__ treating keys as positions is deprecated. In a future version, integer keys will always be treated as labels (consistent with DataFrame behavior). To access a value by position, use `ser.iloc[pos]`\n",
            "  elif data['50_MA'][-1] < data['200_MA'][-1] and data['Close'][-1] < data['200_MA'][-1]:\n"
          ]
        },
        {
          "output_type": "stream",
          "name": "stdout",
          "text": [
            "Analyzing SFL...\n",
            "Analyzing SHALBY...\n"
          ]
        },
        {
          "output_type": "stream",
          "name": "stderr",
          "text": [
            "\r[*********************100%%**********************]  1 of 1 completed\n",
            "<ipython-input-3-e619abe0b4cb>:29: FutureWarning: Series.__getitem__ treating keys as positions is deprecated. In a future version, integer keys will always be treated as labels (consistent with DataFrame behavior). To access a value by position, use `ser.iloc[pos]`\n",
            "  if data['50_MA'][-1] > data['200_MA'][-1] and data['Close'][-1] > data['200_MA'][-1]:\n",
            "<ipython-input-3-e619abe0b4cb>:31: FutureWarning: Series.__getitem__ treating keys as positions is deprecated. In a future version, integer keys will always be treated as labels (consistent with DataFrame behavior). To access a value by position, use `ser.iloc[pos]`\n",
            "  elif data['50_MA'][-1] < data['200_MA'][-1] and data['Close'][-1] < data['200_MA'][-1]:\n",
            "[*********************100%%**********************]  1 of 1 completed\n",
            "<ipython-input-3-e619abe0b4cb>:29: FutureWarning: Series.__getitem__ treating keys as positions is deprecated. In a future version, integer keys will always be treated as labels (consistent with DataFrame behavior). To access a value by position, use `ser.iloc[pos]`\n",
            "  if data['50_MA'][-1] > data['200_MA'][-1] and data['Close'][-1] > data['200_MA'][-1]:\n"
          ]
        },
        {
          "output_type": "stream",
          "name": "stdout",
          "text": [
            "Analyzing SHARDACROP...\n",
            "Analyzing SHREECEM...\n"
          ]
        },
        {
          "output_type": "stream",
          "name": "stderr",
          "text": [
            "[*********************100%%**********************]  1 of 1 completed\n",
            "<ipython-input-3-e619abe0b4cb>:29: FutureWarning: Series.__getitem__ treating keys as positions is deprecated. In a future version, integer keys will always be treated as labels (consistent with DataFrame behavior). To access a value by position, use `ser.iloc[pos]`\n",
            "  if data['50_MA'][-1] > data['200_MA'][-1] and data['Close'][-1] > data['200_MA'][-1]:\n",
            "<ipython-input-3-e619abe0b4cb>:31: FutureWarning: Series.__getitem__ treating keys as positions is deprecated. In a future version, integer keys will always be treated as labels (consistent with DataFrame behavior). To access a value by position, use `ser.iloc[pos]`\n",
            "  elif data['50_MA'][-1] < data['200_MA'][-1] and data['Close'][-1] < data['200_MA'][-1]:\n",
            "<ipython-input-3-e619abe0b4cb>:33: FutureWarning: Series.__getitem__ treating keys as positions is deprecated. In a future version, integer keys will always be treated as labels (consistent with DataFrame behavior). To access a value by position, use `ser.iloc[pos]`\n",
            "  elif data['Close'][-1] < data['200_MA'][-1]:\n",
            "[*********************100%%**********************]  1 of 1 completed\n",
            "<ipython-input-3-e619abe0b4cb>:29: FutureWarning: Series.__getitem__ treating keys as positions is deprecated. In a future version, integer keys will always be treated as labels (consistent with DataFrame behavior). To access a value by position, use `ser.iloc[pos]`\n",
            "  if data['50_MA'][-1] > data['200_MA'][-1] and data['Close'][-1] > data['200_MA'][-1]:\n"
          ]
        },
        {
          "output_type": "stream",
          "name": "stdout",
          "text": [
            "Analyzing SIEMENS...\n",
            "Analyzing SIS...\n"
          ]
        },
        {
          "output_type": "stream",
          "name": "stderr",
          "text": [
            "\r[*********************100%%**********************]  1 of 1 completed\n",
            "<ipython-input-3-e619abe0b4cb>:29: FutureWarning: Series.__getitem__ treating keys as positions is deprecated. In a future version, integer keys will always be treated as labels (consistent with DataFrame behavior). To access a value by position, use `ser.iloc[pos]`\n",
            "  if data['50_MA'][-1] > data['200_MA'][-1] and data['Close'][-1] > data['200_MA'][-1]:\n",
            "<ipython-input-3-e619abe0b4cb>:31: FutureWarning: Series.__getitem__ treating keys as positions is deprecated. In a future version, integer keys will always be treated as labels (consistent with DataFrame behavior). To access a value by position, use `ser.iloc[pos]`\n",
            "  elif data['50_MA'][-1] < data['200_MA'][-1] and data['Close'][-1] < data['200_MA'][-1]:\n",
            "[*********************100%%**********************]  1 of 1 completed\n",
            "<ipython-input-3-e619abe0b4cb>:29: FutureWarning: Series.__getitem__ treating keys as positions is deprecated. In a future version, integer keys will always be treated as labels (consistent with DataFrame behavior). To access a value by position, use `ser.iloc[pos]`\n",
            "  if data['50_MA'][-1] > data['200_MA'][-1] and data['Close'][-1] > data['200_MA'][-1]:\n"
          ]
        },
        {
          "output_type": "stream",
          "name": "stdout",
          "text": [
            "Analyzing SONACOMS...\n",
            "Analyzing SONATSOFTW...\n"
          ]
        },
        {
          "output_type": "stream",
          "name": "stderr",
          "text": [
            "[*********************100%%**********************]  1 of 1 completed\n",
            "<ipython-input-3-e619abe0b4cb>:29: FutureWarning: Series.__getitem__ treating keys as positions is deprecated. In a future version, integer keys will always be treated as labels (consistent with DataFrame behavior). To access a value by position, use `ser.iloc[pos]`\n",
            "  if data['50_MA'][-1] > data['200_MA'][-1] and data['Close'][-1] > data['200_MA'][-1]:\n",
            "<ipython-input-3-e619abe0b4cb>:31: FutureWarning: Series.__getitem__ treating keys as positions is deprecated. In a future version, integer keys will always be treated as labels (consistent with DataFrame behavior). To access a value by position, use `ser.iloc[pos]`\n",
            "  elif data['50_MA'][-1] < data['200_MA'][-1] and data['Close'][-1] < data['200_MA'][-1]:\n",
            "[*********************100%%**********************]  1 of 1 completed\n",
            "<ipython-input-3-e619abe0b4cb>:29: FutureWarning: Series.__getitem__ treating keys as positions is deprecated. In a future version, integer keys will always be treated as labels (consistent with DataFrame behavior). To access a value by position, use `ser.iloc[pos]`\n",
            "  if data['50_MA'][-1] > data['200_MA'][-1] and data['Close'][-1] > data['200_MA'][-1]:\n"
          ]
        },
        {
          "output_type": "stream",
          "name": "stdout",
          "text": [
            "Analyzing SPORTKING...\n",
            "Analyzing SRF...\n"
          ]
        },
        {
          "output_type": "stream",
          "name": "stderr",
          "text": [
            "[*********************100%%**********************]  1 of 1 completed\n",
            "<ipython-input-3-e619abe0b4cb>:29: FutureWarning: Series.__getitem__ treating keys as positions is deprecated. In a future version, integer keys will always be treated as labels (consistent with DataFrame behavior). To access a value by position, use `ser.iloc[pos]`\n",
            "  if data['50_MA'][-1] > data['200_MA'][-1] and data['Close'][-1] > data['200_MA'][-1]:\n",
            "[*********************100%%**********************]  1 of 1 completed\n",
            "<ipython-input-3-e619abe0b4cb>:29: FutureWarning: Series.__getitem__ treating keys as positions is deprecated. In a future version, integer keys will always be treated as labels (consistent with DataFrame behavior). To access a value by position, use `ser.iloc[pos]`\n",
            "  if data['50_MA'][-1] > data['200_MA'][-1] and data['Close'][-1] > data['200_MA'][-1]:\n"
          ]
        },
        {
          "output_type": "stream",
          "name": "stdout",
          "text": [
            "Analyzing STARHEALTH...\n",
            "Analyzing SUNPHARMA...\n"
          ]
        },
        {
          "output_type": "stream",
          "name": "stderr",
          "text": [
            "\r[*********************100%%**********************]  1 of 1 completed\n",
            "<ipython-input-3-e619abe0b4cb>:29: FutureWarning: Series.__getitem__ treating keys as positions is deprecated. In a future version, integer keys will always be treated as labels (consistent with DataFrame behavior). To access a value by position, use `ser.iloc[pos]`\n",
            "  if data['50_MA'][-1] > data['200_MA'][-1] and data['Close'][-1] > data['200_MA'][-1]:\n"
          ]
        },
        {
          "output_type": "stream",
          "name": "stdout",
          "text": [
            "Analyzing SUNTV...\n"
          ]
        },
        {
          "output_type": "stream",
          "name": "stderr",
          "text": [
            "[*********************100%%**********************]  1 of 1 completed\n",
            "<ipython-input-3-e619abe0b4cb>:29: FutureWarning: Series.__getitem__ treating keys as positions is deprecated. In a future version, integer keys will always be treated as labels (consistent with DataFrame behavior). To access a value by position, use `ser.iloc[pos]`\n",
            "  if data['50_MA'][-1] > data['200_MA'][-1] and data['Close'][-1] > data['200_MA'][-1]:\n",
            "[*********************100%%**********************]  1 of 1 completed\n",
            "<ipython-input-3-e619abe0b4cb>:29: FutureWarning: Series.__getitem__ treating keys as positions is deprecated. In a future version, integer keys will always be treated as labels (consistent with DataFrame behavior). To access a value by position, use `ser.iloc[pos]`\n",
            "  if data['50_MA'][-1] > data['200_MA'][-1] and data['Close'][-1] > data['200_MA'][-1]:\n"
          ]
        },
        {
          "output_type": "stream",
          "name": "stdout",
          "text": [
            "Analyzing SURYODAY...\n",
            "Analyzing SUZLON...\n"
          ]
        },
        {
          "output_type": "stream",
          "name": "stderr",
          "text": [
            "\r[*********************100%%**********************]  1 of 1 completed\n",
            "<ipython-input-3-e619abe0b4cb>:29: FutureWarning: Series.__getitem__ treating keys as positions is deprecated. In a future version, integer keys will always be treated as labels (consistent with DataFrame behavior). To access a value by position, use `ser.iloc[pos]`\n",
            "  if data['50_MA'][-1] > data['200_MA'][-1] and data['Close'][-1] > data['200_MA'][-1]:\n"
          ]
        },
        {
          "output_type": "stream",
          "name": "stdout",
          "text": [
            "Analyzing SYMPHONY...\n"
          ]
        },
        {
          "output_type": "stream",
          "name": "stderr",
          "text": [
            "[*********************100%%**********************]  1 of 1 completed\n",
            "<ipython-input-3-e619abe0b4cb>:29: FutureWarning: Series.__getitem__ treating keys as positions is deprecated. In a future version, integer keys will always be treated as labels (consistent with DataFrame behavior). To access a value by position, use `ser.iloc[pos]`\n",
            "  if data['50_MA'][-1] > data['200_MA'][-1] and data['Close'][-1] > data['200_MA'][-1]:\n",
            "[*********************100%%**********************]  1 of 1 completed\n",
            "<ipython-input-3-e619abe0b4cb>:29: FutureWarning: Series.__getitem__ treating keys as positions is deprecated. In a future version, integer keys will always be treated as labels (consistent with DataFrame behavior). To access a value by position, use `ser.iloc[pos]`\n",
            "  if data['50_MA'][-1] > data['200_MA'][-1] and data['Close'][-1] > data['200_MA'][-1]:\n",
            "<ipython-input-3-e619abe0b4cb>:31: FutureWarning: Series.__getitem__ treating keys as positions is deprecated. In a future version, integer keys will always be treated as labels (consistent with DataFrame behavior). To access a value by position, use `ser.iloc[pos]`\n",
            "  elif data['50_MA'][-1] < data['200_MA'][-1] and data['Close'][-1] < data['200_MA'][-1]:\n"
          ]
        },
        {
          "output_type": "stream",
          "name": "stdout",
          "text": [
            "Analyzing TANLA...\n",
            "Analyzing TASTYBITE...\n"
          ]
        },
        {
          "output_type": "stream",
          "name": "stderr",
          "text": [
            "\r[*********************100%%**********************]  1 of 1 completed\n",
            "<ipython-input-3-e619abe0b4cb>:29: FutureWarning: Series.__getitem__ treating keys as positions is deprecated. In a future version, integer keys will always be treated as labels (consistent with DataFrame behavior). To access a value by position, use `ser.iloc[pos]`\n",
            "  if data['50_MA'][-1] > data['200_MA'][-1] and data['Close'][-1] > data['200_MA'][-1]:\n",
            "<ipython-input-3-e619abe0b4cb>:31: FutureWarning: Series.__getitem__ treating keys as positions is deprecated. In a future version, integer keys will always be treated as labels (consistent with DataFrame behavior). To access a value by position, use `ser.iloc[pos]`\n",
            "  elif data['50_MA'][-1] < data['200_MA'][-1] and data['Close'][-1] < data['200_MA'][-1]:\n"
          ]
        },
        {
          "output_type": "stream",
          "name": "stdout",
          "text": [
            "Analyzing TATACOMM...\n"
          ]
        },
        {
          "output_type": "stream",
          "name": "stderr",
          "text": [
            "\r[*********************100%%**********************]  1 of 1 completed\n",
            "<ipython-input-3-e619abe0b4cb>:29: FutureWarning: Series.__getitem__ treating keys as positions is deprecated. In a future version, integer keys will always be treated as labels (consistent with DataFrame behavior). To access a value by position, use `ser.iloc[pos]`\n",
            "  if data['50_MA'][-1] > data['200_MA'][-1] and data['Close'][-1] > data['200_MA'][-1]:\n"
          ]
        },
        {
          "output_type": "stream",
          "name": "stdout",
          "text": [
            "Analyzing TATACONSUM...\n"
          ]
        },
        {
          "output_type": "stream",
          "name": "stderr",
          "text": [
            "\r[*********************100%%**********************]  1 of 1 completed\n",
            "<ipython-input-3-e619abe0b4cb>:29: FutureWarning: Series.__getitem__ treating keys as positions is deprecated. In a future version, integer keys will always be treated as labels (consistent with DataFrame behavior). To access a value by position, use `ser.iloc[pos]`\n",
            "  if data['50_MA'][-1] > data['200_MA'][-1] and data['Close'][-1] > data['200_MA'][-1]:\n"
          ]
        },
        {
          "output_type": "stream",
          "name": "stdout",
          "text": [
            "Analyzing TATAELXSI...\n"
          ]
        },
        {
          "output_type": "stream",
          "name": "stderr",
          "text": [
            "[*********************100%%**********************]  1 of 1 completed\n",
            "<ipython-input-3-e619abe0b4cb>:29: FutureWarning: Series.__getitem__ treating keys as positions is deprecated. In a future version, integer keys will always be treated as labels (consistent with DataFrame behavior). To access a value by position, use `ser.iloc[pos]`\n",
            "  if data['50_MA'][-1] > data['200_MA'][-1] and data['Close'][-1] > data['200_MA'][-1]:\n",
            "<ipython-input-3-e619abe0b4cb>:31: FutureWarning: Series.__getitem__ treating keys as positions is deprecated. In a future version, integer keys will always be treated as labels (consistent with DataFrame behavior). To access a value by position, use `ser.iloc[pos]`\n",
            "  elif data['50_MA'][-1] < data['200_MA'][-1] and data['Close'][-1] < data['200_MA'][-1]:\n",
            "[*********************100%%**********************]  1 of 1 completed\n",
            "<ipython-input-3-e619abe0b4cb>:29: FutureWarning: Series.__getitem__ treating keys as positions is deprecated. In a future version, integer keys will always be treated as labels (consistent with DataFrame behavior). To access a value by position, use `ser.iloc[pos]`\n",
            "  if data['50_MA'][-1] > data['200_MA'][-1] and data['Close'][-1] > data['200_MA'][-1]:\n"
          ]
        },
        {
          "output_type": "stream",
          "name": "stdout",
          "text": [
            "Analyzing TATAMOTORS...\n",
            "Analyzing TATAPOWER...\n"
          ]
        },
        {
          "output_type": "stream",
          "name": "stderr",
          "text": [
            "\r[*********************100%%**********************]  1 of 1 completed\n",
            "<ipython-input-3-e619abe0b4cb>:29: FutureWarning: Series.__getitem__ treating keys as positions is deprecated. In a future version, integer keys will always be treated as labels (consistent with DataFrame behavior). To access a value by position, use `ser.iloc[pos]`\n",
            "  if data['50_MA'][-1] > data['200_MA'][-1] and data['Close'][-1] > data['200_MA'][-1]:\n"
          ]
        },
        {
          "output_type": "stream",
          "name": "stdout",
          "text": [
            "Analyzing TATASTEEL...\n"
          ]
        },
        {
          "output_type": "stream",
          "name": "stderr",
          "text": [
            "\r[*********************100%%**********************]  1 of 1 completed\n",
            "<ipython-input-3-e619abe0b4cb>:29: FutureWarning: Series.__getitem__ treating keys as positions is deprecated. In a future version, integer keys will always be treated as labels (consistent with DataFrame behavior). To access a value by position, use `ser.iloc[pos]`\n",
            "  if data['50_MA'][-1] > data['200_MA'][-1] and data['Close'][-1] > data['200_MA'][-1]:\n",
            "<ipython-input-3-e619abe0b4cb>:31: FutureWarning: Series.__getitem__ treating keys as positions is deprecated. In a future version, integer keys will always be treated as labels (consistent with DataFrame behavior). To access a value by position, use `ser.iloc[pos]`\n",
            "  elif data['50_MA'][-1] < data['200_MA'][-1] and data['Close'][-1] < data['200_MA'][-1]:\n",
            "<ipython-input-3-e619abe0b4cb>:33: FutureWarning: Series.__getitem__ treating keys as positions is deprecated. In a future version, integer keys will always be treated as labels (consistent with DataFrame behavior). To access a value by position, use `ser.iloc[pos]`\n",
            "  elif data['Close'][-1] < data['200_MA'][-1]:\n"
          ]
        },
        {
          "output_type": "stream",
          "name": "stdout",
          "text": [
            "Analyzing TCS...\n"
          ]
        },
        {
          "output_type": "stream",
          "name": "stderr",
          "text": [
            "[*********************100%%**********************]  1 of 1 completed\n",
            "<ipython-input-3-e619abe0b4cb>:29: FutureWarning: Series.__getitem__ treating keys as positions is deprecated. In a future version, integer keys will always be treated as labels (consistent with DataFrame behavior). To access a value by position, use `ser.iloc[pos]`\n",
            "  if data['50_MA'][-1] > data['200_MA'][-1] and data['Close'][-1] > data['200_MA'][-1]:\n",
            "[*********************100%%**********************]  1 of 1 completed\n",
            "<ipython-input-3-e619abe0b4cb>:29: FutureWarning: Series.__getitem__ treating keys as positions is deprecated. In a future version, integer keys will always be treated as labels (consistent with DataFrame behavior). To access a value by position, use `ser.iloc[pos]`\n",
            "  if data['50_MA'][-1] > data['200_MA'][-1] and data['Close'][-1] > data['200_MA'][-1]:\n"
          ]
        },
        {
          "output_type": "stream",
          "name": "stdout",
          "text": [
            "Analyzing TEAMLEASE...\n",
            "Analyzing TECHM...\n"
          ]
        },
        {
          "output_type": "stream",
          "name": "stderr",
          "text": [
            "\r[*********************100%%**********************]  1 of 1 completed\n",
            "<ipython-input-3-e619abe0b4cb>:29: FutureWarning: Series.__getitem__ treating keys as positions is deprecated. In a future version, integer keys will always be treated as labels (consistent with DataFrame behavior). To access a value by position, use `ser.iloc[pos]`\n",
            "  if data['50_MA'][-1] > data['200_MA'][-1] and data['Close'][-1] > data['200_MA'][-1]:\n"
          ]
        },
        {
          "output_type": "stream",
          "name": "stdout",
          "text": [
            "Analyzing TIDEWATER...\n"
          ]
        },
        {
          "output_type": "stream",
          "name": "stderr",
          "text": [
            "\r[*********************100%%**********************]  1 of 1 completed\n",
            "<ipython-input-3-e619abe0b4cb>:29: FutureWarning: Series.__getitem__ treating keys as positions is deprecated. In a future version, integer keys will always be treated as labels (consistent with DataFrame behavior). To access a value by position, use `ser.iloc[pos]`\n",
            "  if data['50_MA'][-1] > data['200_MA'][-1] and data['Close'][-1] > data['200_MA'][-1]:\n"
          ]
        },
        {
          "output_type": "stream",
          "name": "stdout",
          "text": [
            "Analyzing TIPSINDLTD...\n"
          ]
        },
        {
          "output_type": "stream",
          "name": "stderr",
          "text": [
            "\r[*********************100%%**********************]  1 of 1 completed\n",
            "<ipython-input-3-e619abe0b4cb>:29: FutureWarning: Series.__getitem__ treating keys as positions is deprecated. In a future version, integer keys will always be treated as labels (consistent with DataFrame behavior). To access a value by position, use `ser.iloc[pos]`\n",
            "  if data['50_MA'][-1] > data['200_MA'][-1] and data['Close'][-1] > data['200_MA'][-1]:\n",
            "[*********************100%%**********************]  1 of 1 completed"
          ]
        },
        {
          "output_type": "stream",
          "name": "stdout",
          "text": [
            "Analyzing TITAN...\n"
          ]
        },
        {
          "output_type": "stream",
          "name": "stderr",
          "text": [
            "\n",
            "<ipython-input-3-e619abe0b4cb>:29: FutureWarning: Series.__getitem__ treating keys as positions is deprecated. In a future version, integer keys will always be treated as labels (consistent with DataFrame behavior). To access a value by position, use `ser.iloc[pos]`\n",
            "  if data['50_MA'][-1] > data['200_MA'][-1] and data['Close'][-1] > data['200_MA'][-1]:\n",
            "<ipython-input-3-e619abe0b4cb>:31: FutureWarning: Series.__getitem__ treating keys as positions is deprecated. In a future version, integer keys will always be treated as labels (consistent with DataFrame behavior). To access a value by position, use `ser.iloc[pos]`\n",
            "  elif data['50_MA'][-1] < data['200_MA'][-1] and data['Close'][-1] < data['200_MA'][-1]:\n"
          ]
        },
        {
          "output_type": "stream",
          "name": "stdout",
          "text": [
            "Analyzing TORNTPHARM...\n"
          ]
        },
        {
          "output_type": "stream",
          "name": "stderr",
          "text": [
            "\r[*********************100%%**********************]  1 of 1 completed\n",
            "<ipython-input-3-e619abe0b4cb>:29: FutureWarning: Series.__getitem__ treating keys as positions is deprecated. In a future version, integer keys will always be treated as labels (consistent with DataFrame behavior). To access a value by position, use `ser.iloc[pos]`\n",
            "  if data['50_MA'][-1] > data['200_MA'][-1] and data['Close'][-1] > data['200_MA'][-1]:\n"
          ]
        },
        {
          "output_type": "stream",
          "name": "stdout",
          "text": [
            "Analyzing TRIDENT...\n"
          ]
        },
        {
          "output_type": "stream",
          "name": "stderr",
          "text": [
            "\r[*********************100%%**********************]  1 of 1 completed\n",
            "<ipython-input-3-e619abe0b4cb>:29: FutureWarning: Series.__getitem__ treating keys as positions is deprecated. In a future version, integer keys will always be treated as labels (consistent with DataFrame behavior). To access a value by position, use `ser.iloc[pos]`\n",
            "  if data['50_MA'][-1] > data['200_MA'][-1] and data['Close'][-1] > data['200_MA'][-1]:\n",
            "<ipython-input-3-e619abe0b4cb>:31: FutureWarning: Series.__getitem__ treating keys as positions is deprecated. In a future version, integer keys will always be treated as labels (consistent with DataFrame behavior). To access a value by position, use `ser.iloc[pos]`\n",
            "  elif data['50_MA'][-1] < data['200_MA'][-1] and data['Close'][-1] < data['200_MA'][-1]:\n"
          ]
        },
        {
          "output_type": "stream",
          "name": "stdout",
          "text": [
            "Analyzing TTKPRESTIG...\n"
          ]
        },
        {
          "output_type": "stream",
          "name": "stderr",
          "text": [
            "[*********************100%%**********************]  1 of 1 completed\n",
            "<ipython-input-3-e619abe0b4cb>:29: FutureWarning: Series.__getitem__ treating keys as positions is deprecated. In a future version, integer keys will always be treated as labels (consistent with DataFrame behavior). To access a value by position, use `ser.iloc[pos]`\n",
            "  if data['50_MA'][-1] > data['200_MA'][-1] and data['Close'][-1] > data['200_MA'][-1]:\n",
            "[*********************100%%**********************]  1 of 1 completed\n",
            "<ipython-input-3-e619abe0b4cb>:29: FutureWarning: Series.__getitem__ treating keys as positions is deprecated. In a future version, integer keys will always be treated as labels (consistent with DataFrame behavior). To access a value by position, use `ser.iloc[pos]`\n",
            "  if data['50_MA'][-1] > data['200_MA'][-1] and data['Close'][-1] > data['200_MA'][-1]:\n",
            "<ipython-input-3-e619abe0b4cb>:31: FutureWarning: Series.__getitem__ treating keys as positions is deprecated. In a future version, integer keys will always be treated as labels (consistent with DataFrame behavior). To access a value by position, use `ser.iloc[pos]`\n",
            "  elif data['50_MA'][-1] < data['200_MA'][-1] and data['Close'][-1] < data['200_MA'][-1]:\n"
          ]
        },
        {
          "output_type": "stream",
          "name": "stdout",
          "text": [
            "Analyzing TV18BRDCST...\n",
            "Analyzing UJJIVAN...\n"
          ]
        },
        {
          "output_type": "stream",
          "name": "stderr",
          "text": [
            "\r[*********************100%%**********************]  1 of 1 completed\n",
            "<ipython-input-3-e619abe0b4cb>:29: FutureWarning: Series.__getitem__ treating keys as positions is deprecated. In a future version, integer keys will always be treated as labels (consistent with DataFrame behavior). To access a value by position, use `ser.iloc[pos]`\n",
            "  if data['50_MA'][-1] > data['200_MA'][-1] and data['Close'][-1] > data['200_MA'][-1]:\n",
            "<ipython-input-3-e619abe0b4cb>:31: FutureWarning: Series.__getitem__ treating keys as positions is deprecated. In a future version, integer keys will always be treated as labels (consistent with DataFrame behavior). To access a value by position, use `ser.iloc[pos]`\n",
            "  elif data['50_MA'][-1] < data['200_MA'][-1] and data['Close'][-1] < data['200_MA'][-1]:\n",
            "<ipython-input-3-e619abe0b4cb>:33: FutureWarning: Series.__getitem__ treating keys as positions is deprecated. In a future version, integer keys will always be treated as labels (consistent with DataFrame behavior). To access a value by position, use `ser.iloc[pos]`\n",
            "  elif data['Close'][-1] < data['200_MA'][-1]:\n",
            "<ipython-input-3-e619abe0b4cb>:35: FutureWarning: Series.__getitem__ treating keys as positions is deprecated. In a future version, integer keys will always be treated as labels (consistent with DataFrame behavior). To access a value by position, use `ser.iloc[pos]`\n",
            "  elif data['50_MA'][-1] < data['200_MA'][-1] and data['Close'][-1] < data['50_MA'][-1]:\n",
            "[*********************100%%**********************]  1 of 1 completed\n",
            "<ipython-input-3-e619abe0b4cb>:29: FutureWarning: Series.__getitem__ treating keys as positions is deprecated. In a future version, integer keys will always be treated as labels (consistent with DataFrame behavior). To access a value by position, use `ser.iloc[pos]`\n",
            "  if data['50_MA'][-1] > data['200_MA'][-1] and data['Close'][-1] > data['200_MA'][-1]:\n",
            "<ipython-input-3-e619abe0b4cb>:31: FutureWarning: Series.__getitem__ treating keys as positions is deprecated. In a future version, integer keys will always be treated as labels (consistent with DataFrame behavior). To access a value by position, use `ser.iloc[pos]`\n",
            "  elif data['50_MA'][-1] < data['200_MA'][-1] and data['Close'][-1] < data['200_MA'][-1]:\n"
          ]
        },
        {
          "output_type": "stream",
          "name": "stdout",
          "text": [
            "Analyzing UJJIVANSFB...\n",
            "Analyzing ULTRACEMCO...\n"
          ]
        },
        {
          "output_type": "stream",
          "name": "stderr",
          "text": [
            "\r[*********************100%%**********************]  1 of 1 completed\n",
            "<ipython-input-3-e619abe0b4cb>:29: FutureWarning: Series.__getitem__ treating keys as positions is deprecated. In a future version, integer keys will always be treated as labels (consistent with DataFrame behavior). To access a value by position, use `ser.iloc[pos]`\n",
            "  if data['50_MA'][-1] > data['200_MA'][-1] and data['Close'][-1] > data['200_MA'][-1]:\n"
          ]
        },
        {
          "output_type": "stream",
          "name": "stdout",
          "text": [
            "Analyzing UNIONBANK...\n"
          ]
        },
        {
          "output_type": "stream",
          "name": "stderr",
          "text": [
            "\r[*********************100%%**********************]  1 of 1 completed\n",
            "<ipython-input-3-e619abe0b4cb>:29: FutureWarning: Series.__getitem__ treating keys as positions is deprecated. In a future version, integer keys will always be treated as labels (consistent with DataFrame behavior). To access a value by position, use `ser.iloc[pos]`\n",
            "  if data['50_MA'][-1] > data['200_MA'][-1] and data['Close'][-1] > data['200_MA'][-1]:\n",
            "<ipython-input-3-e619abe0b4cb>:31: FutureWarning: Series.__getitem__ treating keys as positions is deprecated. In a future version, integer keys will always be treated as labels (consistent with DataFrame behavior). To access a value by position, use `ser.iloc[pos]`\n",
            "  elif data['50_MA'][-1] < data['200_MA'][-1] and data['Close'][-1] < data['200_MA'][-1]:\n",
            "<ipython-input-3-e619abe0b4cb>:33: FutureWarning: Series.__getitem__ treating keys as positions is deprecated. In a future version, integer keys will always be treated as labels (consistent with DataFrame behavior). To access a value by position, use `ser.iloc[pos]`\n",
            "  elif data['Close'][-1] < data['200_MA'][-1]:\n"
          ]
        },
        {
          "output_type": "stream",
          "name": "stdout",
          "text": [
            "Analyzing UPL...\n"
          ]
        },
        {
          "output_type": "stream",
          "name": "stderr",
          "text": [
            "[*********************100%%**********************]  1 of 1 completed\n",
            "<ipython-input-3-e619abe0b4cb>:29: FutureWarning: Series.__getitem__ treating keys as positions is deprecated. In a future version, integer keys will always be treated as labels (consistent with DataFrame behavior). To access a value by position, use `ser.iloc[pos]`\n",
            "  if data['50_MA'][-1] > data['200_MA'][-1] and data['Close'][-1] > data['200_MA'][-1]:\n",
            "[*********************100%%**********************]  1 of 1 completed\n",
            "<ipython-input-3-e619abe0b4cb>:29: FutureWarning: Series.__getitem__ treating keys as positions is deprecated. In a future version, integer keys will always be treated as labels (consistent with DataFrame behavior). To access a value by position, use `ser.iloc[pos]`\n",
            "  if data['50_MA'][-1] > data['200_MA'][-1] and data['Close'][-1] > data['200_MA'][-1]:\n"
          ]
        },
        {
          "output_type": "stream",
          "name": "stdout",
          "text": [
            "Analyzing UTIAMC...\n",
            "Analyzing VAIBHAVGBL...\n"
          ]
        },
        {
          "output_type": "stream",
          "name": "stderr",
          "text": [
            "[*********************100%%**********************]  1 of 1 completed\n",
            "<ipython-input-3-e619abe0b4cb>:29: FutureWarning: Series.__getitem__ treating keys as positions is deprecated. In a future version, integer keys will always be treated as labels (consistent with DataFrame behavior). To access a value by position, use `ser.iloc[pos]`\n",
            "  if data['50_MA'][-1] > data['200_MA'][-1] and data['Close'][-1] > data['200_MA'][-1]:\n",
            "<ipython-input-3-e619abe0b4cb>:31: FutureWarning: Series.__getitem__ treating keys as positions is deprecated. In a future version, integer keys will always be treated as labels (consistent with DataFrame behavior). To access a value by position, use `ser.iloc[pos]`\n",
            "  elif data['50_MA'][-1] < data['200_MA'][-1] and data['Close'][-1] < data['200_MA'][-1]:\n",
            "[*********************100%%**********************]  1 of 1 completed\n",
            "<ipython-input-3-e619abe0b4cb>:29: FutureWarning: Series.__getitem__ treating keys as positions is deprecated. In a future version, integer keys will always be treated as labels (consistent with DataFrame behavior). To access a value by position, use `ser.iloc[pos]`\n",
            "  if data['50_MA'][-1] > data['200_MA'][-1] and data['Close'][-1] > data['200_MA'][-1]:\n",
            "<ipython-input-3-e619abe0b4cb>:31: FutureWarning: Series.__getitem__ treating keys as positions is deprecated. In a future version, integer keys will always be treated as labels (consistent with DataFrame behavior). To access a value by position, use `ser.iloc[pos]`\n",
            "  elif data['50_MA'][-1] < data['200_MA'][-1] and data['Close'][-1] < data['200_MA'][-1]:\n"
          ]
        },
        {
          "output_type": "stream",
          "name": "stdout",
          "text": [
            "Analyzing VALIANTORG...\n",
            "Analyzing VEDL...\n"
          ]
        },
        {
          "output_type": "stream",
          "name": "stderr",
          "text": [
            "\r[*********************100%%**********************]  1 of 1 completed\n",
            "<ipython-input-3-e619abe0b4cb>:29: FutureWarning: Series.__getitem__ treating keys as positions is deprecated. In a future version, integer keys will always be treated as labels (consistent with DataFrame behavior). To access a value by position, use `ser.iloc[pos]`\n",
            "  if data['50_MA'][-1] > data['200_MA'][-1] and data['Close'][-1] > data['200_MA'][-1]:\n"
          ]
        },
        {
          "output_type": "stream",
          "name": "stdout",
          "text": [
            "Analyzing VGUARD...\n"
          ]
        },
        {
          "output_type": "stream",
          "name": "stderr",
          "text": [
            "\r[*********************100%%**********************]  1 of 1 completed\n",
            "<ipython-input-3-e619abe0b4cb>:29: FutureWarning: Series.__getitem__ treating keys as positions is deprecated. In a future version, integer keys will always be treated as labels (consistent with DataFrame behavior). To access a value by position, use `ser.iloc[pos]`\n",
            "  if data['50_MA'][-1] > data['200_MA'][-1] and data['Close'][-1] > data['200_MA'][-1]:\n"
          ]
        },
        {
          "output_type": "stream",
          "name": "stdout",
          "text": [
            "Analyzing VINATIORGA...\n"
          ]
        },
        {
          "output_type": "stream",
          "name": "stderr",
          "text": [
            "\r[*********************100%%**********************]  1 of 1 completed\n",
            "<ipython-input-3-e619abe0b4cb>:29: FutureWarning: Series.__getitem__ treating keys as positions is deprecated. In a future version, integer keys will always be treated as labels (consistent with DataFrame behavior). To access a value by position, use `ser.iloc[pos]`\n",
            "  if data['50_MA'][-1] > data['200_MA'][-1] and data['Close'][-1] > data['200_MA'][-1]:\n",
            "[*********************100%%**********************]  1 of 1 completed"
          ]
        },
        {
          "output_type": "stream",
          "name": "stdout",
          "text": [
            "Analyzing VIPIND...\n",
            "Analyzing VOLTAS...\n"
          ]
        },
        {
          "output_type": "stream",
          "name": "stderr",
          "text": [
            "\n",
            "<ipython-input-3-e619abe0b4cb>:29: FutureWarning: Series.__getitem__ treating keys as positions is deprecated. In a future version, integer keys will always be treated as labels (consistent with DataFrame behavior). To access a value by position, use `ser.iloc[pos]`\n",
            "  if data['50_MA'][-1] > data['200_MA'][-1] and data['Close'][-1] > data['200_MA'][-1]:\n",
            "<ipython-input-3-e619abe0b4cb>:31: FutureWarning: Series.__getitem__ treating keys as positions is deprecated. In a future version, integer keys will always be treated as labels (consistent with DataFrame behavior). To access a value by position, use `ser.iloc[pos]`\n",
            "  elif data['50_MA'][-1] < data['200_MA'][-1] and data['Close'][-1] < data['200_MA'][-1]:\n",
            "[*********************100%%**********************]  1 of 1 completed\n",
            "<ipython-input-3-e619abe0b4cb>:29: FutureWarning: Series.__getitem__ treating keys as positions is deprecated. In a future version, integer keys will always be treated as labels (consistent with DataFrame behavior). To access a value by position, use `ser.iloc[pos]`\n",
            "  if data['50_MA'][-1] > data['200_MA'][-1] and data['Close'][-1] > data['200_MA'][-1]:\n",
            "[*********************100%%**********************]  1 of 1 completed\n",
            "<ipython-input-3-e619abe0b4cb>:29: FutureWarning: Series.__getitem__ treating keys as positions is deprecated. In a future version, integer keys will always be treated as labels (consistent with DataFrame behavior). To access a value by position, use `ser.iloc[pos]`\n",
            "  if data['50_MA'][-1] > data['200_MA'][-1] and data['Close'][-1] > data['200_MA'][-1]:\n",
            "<ipython-input-3-e619abe0b4cb>:31: FutureWarning: Series.__getitem__ treating keys as positions is deprecated. In a future version, integer keys will always be treated as labels (consistent with DataFrame behavior). To access a value by position, use `ser.iloc[pos]`\n",
            "  elif data['50_MA'][-1] < data['200_MA'][-1] and data['Close'][-1] < data['200_MA'][-1]:\n",
            "<ipython-input-3-e619abe0b4cb>:33: FutureWarning: Series.__getitem__ treating keys as positions is deprecated. In a future version, integer keys will always be treated as labels (consistent with DataFrame behavior). To access a value by position, use `ser.iloc[pos]`\n",
            "  elif data['Close'][-1] < data['200_MA'][-1]:\n"
          ]
        },
        {
          "output_type": "stream",
          "name": "stdout",
          "text": [
            "Analyzing WESTLIFE...\n",
            "Analyzing WHIRLPOOL...\n"
          ]
        },
        {
          "output_type": "stream",
          "name": "stderr",
          "text": [
            "\r[*********************100%%**********************]  1 of 1 completed\n",
            "<ipython-input-3-e619abe0b4cb>:29: FutureWarning: Series.__getitem__ treating keys as positions is deprecated. In a future version, integer keys will always be treated as labels (consistent with DataFrame behavior). To access a value by position, use `ser.iloc[pos]`\n",
            "  if data['50_MA'][-1] > data['200_MA'][-1] and data['Close'][-1] > data['200_MA'][-1]:\n"
          ]
        },
        {
          "output_type": "stream",
          "name": "stdout",
          "text": [
            "Analyzing WIPRO...\n"
          ]
        },
        {
          "output_type": "stream",
          "name": "stderr",
          "text": [
            "\r[*********************100%%**********************]  1 of 1 completed\n",
            "<ipython-input-3-e619abe0b4cb>:29: FutureWarning: Series.__getitem__ treating keys as positions is deprecated. In a future version, integer keys will always be treated as labels (consistent with DataFrame behavior). To access a value by position, use `ser.iloc[pos]`\n",
            "  if data['50_MA'][-1] > data['200_MA'][-1] and data['Close'][-1] > data['200_MA'][-1]:\n"
          ]
        },
        {
          "output_type": "stream",
          "name": "stdout",
          "text": [
            "Analyzing WSTCSTPAPR...\n"
          ]
        },
        {
          "output_type": "stream",
          "name": "stderr",
          "text": [
            "[*********************100%%**********************]  1 of 1 completed\n",
            "<ipython-input-3-e619abe0b4cb>:29: FutureWarning: Series.__getitem__ treating keys as positions is deprecated. In a future version, integer keys will always be treated as labels (consistent with DataFrame behavior). To access a value by position, use `ser.iloc[pos]`\n",
            "  if data['50_MA'][-1] > data['200_MA'][-1] and data['Close'][-1] > data['200_MA'][-1]:\n",
            "<ipython-input-3-e619abe0b4cb>:31: FutureWarning: Series.__getitem__ treating keys as positions is deprecated. In a future version, integer keys will always be treated as labels (consistent with DataFrame behavior). To access a value by position, use `ser.iloc[pos]`\n",
            "  elif data['50_MA'][-1] < data['200_MA'][-1] and data['Close'][-1] < data['200_MA'][-1]:\n",
            "[*********************100%%**********************]  1 of 1 completed"
          ]
        },
        {
          "output_type": "stream",
          "name": "stdout",
          "text": [
            "Analyzing YESBANK...\n",
            "Analyzing ZEEL...\n"
          ]
        },
        {
          "output_type": "stream",
          "name": "stderr",
          "text": [
            "\n",
            "<ipython-input-3-e619abe0b4cb>:29: FutureWarning: Series.__getitem__ treating keys as positions is deprecated. In a future version, integer keys will always be treated as labels (consistent with DataFrame behavior). To access a value by position, use `ser.iloc[pos]`\n",
            "  if data['50_MA'][-1] > data['200_MA'][-1] and data['Close'][-1] > data['200_MA'][-1]:\n",
            "\r[*********************100%%**********************]  1 of 1 completed\n",
            "<ipython-input-3-e619abe0b4cb>:29: FutureWarning: Series.__getitem__ treating keys as positions is deprecated. In a future version, integer keys will always be treated as labels (consistent with DataFrame behavior). To access a value by position, use `ser.iloc[pos]`\n",
            "  if data['50_MA'][-1] > data['200_MA'][-1] and data['Close'][-1] > data['200_MA'][-1]:\n",
            "<ipython-input-3-e619abe0b4cb>:31: FutureWarning: Series.__getitem__ treating keys as positions is deprecated. In a future version, integer keys will always be treated as labels (consistent with DataFrame behavior). To access a value by position, use `ser.iloc[pos]`\n",
            "  elif data['50_MA'][-1] < data['200_MA'][-1] and data['Close'][-1] < data['200_MA'][-1]:\n"
          ]
        },
        {
          "output_type": "execute_result",
          "data": {
            "text/plain": [
              "          Stock                    Stage\n",
              "0       3MINDIA      Stage 2 (Advancing)\n",
              "1        5PAISA      Stage 4 (Declining)\n",
              "2      AARTIIND  Stage 1 (Base Building)\n",
              "3         AAVAS      Stage 2 (Advancing)\n",
              "4    ABBOTINDIA      Stage 2 (Advancing)\n",
              "..          ...                      ...\n",
              "243   WHIRLPOOL      Stage 2 (Advancing)\n",
              "244       WIPRO      Stage 2 (Advancing)\n",
              "245  WSTCSTPAPR      Stage 4 (Declining)\n",
              "246     YESBANK      Stage 2 (Advancing)\n",
              "247        ZEEL      Stage 4 (Declining)\n",
              "\n",
              "[248 rows x 2 columns]"
            ],
            "text/html": [
              "\n",
              "  <div id=\"df-c368a364-a32c-4b23-8bf3-58cb6a80fa5e\" class=\"colab-df-container\">\n",
              "    <div>\n",
              "<style scoped>\n",
              "    .dataframe tbody tr th:only-of-type {\n",
              "        vertical-align: middle;\n",
              "    }\n",
              "\n",
              "    .dataframe tbody tr th {\n",
              "        vertical-align: top;\n",
              "    }\n",
              "\n",
              "    .dataframe thead th {\n",
              "        text-align: right;\n",
              "    }\n",
              "</style>\n",
              "<table border=\"1\" class=\"dataframe\">\n",
              "  <thead>\n",
              "    <tr style=\"text-align: right;\">\n",
              "      <th></th>\n",
              "      <th>Stock</th>\n",
              "      <th>Stage</th>\n",
              "    </tr>\n",
              "  </thead>\n",
              "  <tbody>\n",
              "    <tr>\n",
              "      <th>0</th>\n",
              "      <td>3MINDIA</td>\n",
              "      <td>Stage 2 (Advancing)</td>\n",
              "    </tr>\n",
              "    <tr>\n",
              "      <th>1</th>\n",
              "      <td>5PAISA</td>\n",
              "      <td>Stage 4 (Declining)</td>\n",
              "    </tr>\n",
              "    <tr>\n",
              "      <th>2</th>\n",
              "      <td>AARTIIND</td>\n",
              "      <td>Stage 1 (Base Building)</td>\n",
              "    </tr>\n",
              "    <tr>\n",
              "      <th>3</th>\n",
              "      <td>AAVAS</td>\n",
              "      <td>Stage 2 (Advancing)</td>\n",
              "    </tr>\n",
              "    <tr>\n",
              "      <th>4</th>\n",
              "      <td>ABBOTINDIA</td>\n",
              "      <td>Stage 2 (Advancing)</td>\n",
              "    </tr>\n",
              "    <tr>\n",
              "      <th>...</th>\n",
              "      <td>...</td>\n",
              "      <td>...</td>\n",
              "    </tr>\n",
              "    <tr>\n",
              "      <th>243</th>\n",
              "      <td>WHIRLPOOL</td>\n",
              "      <td>Stage 2 (Advancing)</td>\n",
              "    </tr>\n",
              "    <tr>\n",
              "      <th>244</th>\n",
              "      <td>WIPRO</td>\n",
              "      <td>Stage 2 (Advancing)</td>\n",
              "    </tr>\n",
              "    <tr>\n",
              "      <th>245</th>\n",
              "      <td>WSTCSTPAPR</td>\n",
              "      <td>Stage 4 (Declining)</td>\n",
              "    </tr>\n",
              "    <tr>\n",
              "      <th>246</th>\n",
              "      <td>YESBANK</td>\n",
              "      <td>Stage 2 (Advancing)</td>\n",
              "    </tr>\n",
              "    <tr>\n",
              "      <th>247</th>\n",
              "      <td>ZEEL</td>\n",
              "      <td>Stage 4 (Declining)</td>\n",
              "    </tr>\n",
              "  </tbody>\n",
              "</table>\n",
              "<p>248 rows × 2 columns</p>\n",
              "</div>\n",
              "    <div class=\"colab-df-buttons\">\n",
              "\n",
              "  <div class=\"colab-df-container\">\n",
              "    <button class=\"colab-df-convert\" onclick=\"convertToInteractive('df-c368a364-a32c-4b23-8bf3-58cb6a80fa5e')\"\n",
              "            title=\"Convert this dataframe to an interactive table.\"\n",
              "            style=\"display:none;\">\n",
              "\n",
              "  <svg xmlns=\"http://www.w3.org/2000/svg\" height=\"24px\" viewBox=\"0 -960 960 960\">\n",
              "    <path d=\"M120-120v-720h720v720H120Zm60-500h600v-160H180v160Zm220 220h160v-160H400v160Zm0 220h160v-160H400v160ZM180-400h160v-160H180v160Zm440 0h160v-160H620v160ZM180-180h160v-160H180v160Zm440 0h160v-160H620v160Z\"/>\n",
              "  </svg>\n",
              "    </button>\n",
              "\n",
              "  <style>\n",
              "    .colab-df-container {\n",
              "      display:flex;\n",
              "      gap: 12px;\n",
              "    }\n",
              "\n",
              "    .colab-df-convert {\n",
              "      background-color: #E8F0FE;\n",
              "      border: none;\n",
              "      border-radius: 50%;\n",
              "      cursor: pointer;\n",
              "      display: none;\n",
              "      fill: #1967D2;\n",
              "      height: 32px;\n",
              "      padding: 0 0 0 0;\n",
              "      width: 32px;\n",
              "    }\n",
              "\n",
              "    .colab-df-convert:hover {\n",
              "      background-color: #E2EBFA;\n",
              "      box-shadow: 0px 1px 2px rgba(60, 64, 67, 0.3), 0px 1px 3px 1px rgba(60, 64, 67, 0.15);\n",
              "      fill: #174EA6;\n",
              "    }\n",
              "\n",
              "    .colab-df-buttons div {\n",
              "      margin-bottom: 4px;\n",
              "    }\n",
              "\n",
              "    [theme=dark] .colab-df-convert {\n",
              "      background-color: #3B4455;\n",
              "      fill: #D2E3FC;\n",
              "    }\n",
              "\n",
              "    [theme=dark] .colab-df-convert:hover {\n",
              "      background-color: #434B5C;\n",
              "      box-shadow: 0px 1px 3px 1px rgba(0, 0, 0, 0.15);\n",
              "      filter: drop-shadow(0px 1px 2px rgba(0, 0, 0, 0.3));\n",
              "      fill: #FFFFFF;\n",
              "    }\n",
              "  </style>\n",
              "\n",
              "    <script>\n",
              "      const buttonEl =\n",
              "        document.querySelector('#df-c368a364-a32c-4b23-8bf3-58cb6a80fa5e button.colab-df-convert');\n",
              "      buttonEl.style.display =\n",
              "        google.colab.kernel.accessAllowed ? 'block' : 'none';\n",
              "\n",
              "      async function convertToInteractive(key) {\n",
              "        const element = document.querySelector('#df-c368a364-a32c-4b23-8bf3-58cb6a80fa5e');\n",
              "        const dataTable =\n",
              "          await google.colab.kernel.invokeFunction('convertToInteractive',\n",
              "                                                    [key], {});\n",
              "        if (!dataTable) return;\n",
              "\n",
              "        const docLinkHtml = 'Like what you see? Visit the ' +\n",
              "          '<a target=\"_blank\" href=https://colab.research.google.com/notebooks/data_table.ipynb>data table notebook</a>'\n",
              "          + ' to learn more about interactive tables.';\n",
              "        element.innerHTML = '';\n",
              "        dataTable['output_type'] = 'display_data';\n",
              "        await google.colab.output.renderOutput(dataTable, element);\n",
              "        const docLink = document.createElement('div');\n",
              "        docLink.innerHTML = docLinkHtml;\n",
              "        element.appendChild(docLink);\n",
              "      }\n",
              "    </script>\n",
              "  </div>\n",
              "\n",
              "\n",
              "<div id=\"df-1cb7a3e4-fc98-4af6-81ae-7f4d36e6b9bf\">\n",
              "  <button class=\"colab-df-quickchart\" onclick=\"quickchart('df-1cb7a3e4-fc98-4af6-81ae-7f4d36e6b9bf')\"\n",
              "            title=\"Suggest charts\"\n",
              "            style=\"display:none;\">\n",
              "\n",
              "<svg xmlns=\"http://www.w3.org/2000/svg\" height=\"24px\"viewBox=\"0 0 24 24\"\n",
              "     width=\"24px\">\n",
              "    <g>\n",
              "        <path d=\"M19 3H5c-1.1 0-2 .9-2 2v14c0 1.1.9 2 2 2h14c1.1 0 2-.9 2-2V5c0-1.1-.9-2-2-2zM9 17H7v-7h2v7zm4 0h-2V7h2v10zm4 0h-2v-4h2v4z\"/>\n",
              "    </g>\n",
              "</svg>\n",
              "  </button>\n",
              "\n",
              "<style>\n",
              "  .colab-df-quickchart {\n",
              "      --bg-color: #E8F0FE;\n",
              "      --fill-color: #1967D2;\n",
              "      --hover-bg-color: #E2EBFA;\n",
              "      --hover-fill-color: #174EA6;\n",
              "      --disabled-fill-color: #AAA;\n",
              "      --disabled-bg-color: #DDD;\n",
              "  }\n",
              "\n",
              "  [theme=dark] .colab-df-quickchart {\n",
              "      --bg-color: #3B4455;\n",
              "      --fill-color: #D2E3FC;\n",
              "      --hover-bg-color: #434B5C;\n",
              "      --hover-fill-color: #FFFFFF;\n",
              "      --disabled-bg-color: #3B4455;\n",
              "      --disabled-fill-color: #666;\n",
              "  }\n",
              "\n",
              "  .colab-df-quickchart {\n",
              "    background-color: var(--bg-color);\n",
              "    border: none;\n",
              "    border-radius: 50%;\n",
              "    cursor: pointer;\n",
              "    display: none;\n",
              "    fill: var(--fill-color);\n",
              "    height: 32px;\n",
              "    padding: 0;\n",
              "    width: 32px;\n",
              "  }\n",
              "\n",
              "  .colab-df-quickchart:hover {\n",
              "    background-color: var(--hover-bg-color);\n",
              "    box-shadow: 0 1px 2px rgba(60, 64, 67, 0.3), 0 1px 3px 1px rgba(60, 64, 67, 0.15);\n",
              "    fill: var(--button-hover-fill-color);\n",
              "  }\n",
              "\n",
              "  .colab-df-quickchart-complete:disabled,\n",
              "  .colab-df-quickchart-complete:disabled:hover {\n",
              "    background-color: var(--disabled-bg-color);\n",
              "    fill: var(--disabled-fill-color);\n",
              "    box-shadow: none;\n",
              "  }\n",
              "\n",
              "  .colab-df-spinner {\n",
              "    border: 2px solid var(--fill-color);\n",
              "    border-color: transparent;\n",
              "    border-bottom-color: var(--fill-color);\n",
              "    animation:\n",
              "      spin 1s steps(1) infinite;\n",
              "  }\n",
              "\n",
              "  @keyframes spin {\n",
              "    0% {\n",
              "      border-color: transparent;\n",
              "      border-bottom-color: var(--fill-color);\n",
              "      border-left-color: var(--fill-color);\n",
              "    }\n",
              "    20% {\n",
              "      border-color: transparent;\n",
              "      border-left-color: var(--fill-color);\n",
              "      border-top-color: var(--fill-color);\n",
              "    }\n",
              "    30% {\n",
              "      border-color: transparent;\n",
              "      border-left-color: var(--fill-color);\n",
              "      border-top-color: var(--fill-color);\n",
              "      border-right-color: var(--fill-color);\n",
              "    }\n",
              "    40% {\n",
              "      border-color: transparent;\n",
              "      border-right-color: var(--fill-color);\n",
              "      border-top-color: var(--fill-color);\n",
              "    }\n",
              "    60% {\n",
              "      border-color: transparent;\n",
              "      border-right-color: var(--fill-color);\n",
              "    }\n",
              "    80% {\n",
              "      border-color: transparent;\n",
              "      border-right-color: var(--fill-color);\n",
              "      border-bottom-color: var(--fill-color);\n",
              "    }\n",
              "    90% {\n",
              "      border-color: transparent;\n",
              "      border-bottom-color: var(--fill-color);\n",
              "    }\n",
              "  }\n",
              "</style>\n",
              "\n",
              "  <script>\n",
              "    async function quickchart(key) {\n",
              "      const quickchartButtonEl =\n",
              "        document.querySelector('#' + key + ' button');\n",
              "      quickchartButtonEl.disabled = true;  // To prevent multiple clicks.\n",
              "      quickchartButtonEl.classList.add('colab-df-spinner');\n",
              "      try {\n",
              "        const charts = await google.colab.kernel.invokeFunction(\n",
              "            'suggestCharts', [key], {});\n",
              "      } catch (error) {\n",
              "        console.error('Error during call to suggestCharts:', error);\n",
              "      }\n",
              "      quickchartButtonEl.classList.remove('colab-df-spinner');\n",
              "      quickchartButtonEl.classList.add('colab-df-quickchart-complete');\n",
              "    }\n",
              "    (() => {\n",
              "      let quickchartButtonEl =\n",
              "        document.querySelector('#df-1cb7a3e4-fc98-4af6-81ae-7f4d36e6b9bf button');\n",
              "      quickchartButtonEl.style.display =\n",
              "        google.colab.kernel.accessAllowed ? 'block' : 'none';\n",
              "    })();\n",
              "  </script>\n",
              "</div>\n",
              "\n",
              "    </div>\n",
              "  </div>\n"
            ],
            "application/vnd.google.colaboratory.intrinsic+json": {
              "type": "dataframe",
              "summary": "{\n  \"name\": \"pd\",\n  \"rows\": 248,\n  \"fields\": [\n    {\n      \"column\": \"Stock\",\n      \"properties\": {\n        \"dtype\": \"string\",\n        \"num_unique_values\": 248,\n        \"samples\": [\n          \"BANKINDIA\",\n          \"ACC\",\n          \"RELAXO\"\n        ],\n        \"semantic_type\": \"\",\n        \"description\": \"\"\n      }\n    },\n    {\n      \"column\": \"Stage\",\n      \"properties\": {\n        \"dtype\": \"category\",\n        \"num_unique_values\": 5,\n        \"samples\": [\n          \"Stage 4 (Declining)\",\n          \"Data Not Available\",\n          \"Stage 1 (Base Building)\"\n        ],\n        \"semantic_type\": \"\",\n        \"description\": \"\"\n      }\n    }\n  ]\n}"
            }
          },
          "metadata": {},
          "execution_count": 4
        }
      ]
    }
  ]
}