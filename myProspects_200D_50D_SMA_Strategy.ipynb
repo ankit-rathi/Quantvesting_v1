{
  "nbformat": 4,
  "nbformat_minor": 0,
  "metadata": {
    "colab": {
      "provenance": [],
      "authorship_tag": "ABX9TyMNBmUxD/Cyd8bwjbIME5Bx",
      "include_colab_link": true
    },
    "kernelspec": {
      "name": "python3",
      "display_name": "Python 3"
    },
    "language_info": {
      "name": "python"
    }
  },
  "cells": [
    {
      "cell_type": "markdown",
      "metadata": {
        "id": "view-in-github",
        "colab_type": "text"
      },
      "source": [
        "<a href=\"https://colab.research.google.com/github/ankit-rathi/Tradevesting_v1/blob/main/myProspects_200D_50D_SMA_Strategy.ipynb\" target=\"_parent\"><img src=\"https://colab.research.google.com/assets/colab-badge.svg\" alt=\"Open In Colab\"/></a>"
      ]
    },
    {
      "cell_type": "code",
      "execution_count": 1,
      "metadata": {
        "colab": {
          "base_uri": "https://localhost:8080/"
        },
        "id": "TyNJ-EB-0P0W",
        "outputId": "9fa24e0d-ca0f-4ced-b128-859aee6171b7"
      },
      "outputs": [
        {
          "output_type": "execute_result",
          "data": {
            "text/plain": [
              "array(['3MINDIA', '5PAISA', 'AARTIIND', 'AAVAS', 'ABBOTINDIA', 'ABSLAMC',\n",
              "       'ACC', 'AETHER', 'AKZOINDIA', 'ALKYLAMINE', 'AMBUJACEM',\n",
              "       'ANGELONE', 'APEX', 'APLLTD', 'APOLLOHOSP', 'ARVINDFASN', 'ARE&M',\n",
              "       'ASIANPAINT', 'ASIANTILES', 'ASTRAZEN', 'AUBANK', 'AUROPHARMA',\n",
              "       'AVANTIFEED', 'AWL', 'AXISBANK', 'BAJAJ-AUTO', 'BAJAJFINSV',\n",
              "       'BAJAJHIND', 'BAJAJHLDNG', 'BAJFINANCE', 'BALKRISIND',\n",
              "       'BANDHANBNK', 'BANKBARODA', 'BANKINDIA', 'BATAINDIA', 'BAYERCROP',\n",
              "       'BERGEPAINT', 'BHARTIARTL', 'BIOCON', 'BIRLAMONEY', 'BLUESTARCO',\n",
              "       'BOROLTD', 'BOSCHLTD', 'BPCL', 'BRITANNIA', 'BSOFT', 'CAMPUS',\n",
              "       'CAMS', 'CANBK', 'CAPLIPOINT', 'CASTROLIND', 'CDSL', 'CENTRALBK',\n",
              "       'CERA', 'CHOLAFIN', 'CIPLA', 'CLEAN', 'COALINDIA', 'COFFEEDAY',\n",
              "       'COLPAL', 'CROMPTON', 'CUB', 'DABUR', 'DCBBANK', 'DEEPAKNTR',\n",
              "       'DEN', 'DIVISLAB', 'DIXON', 'DLF', 'DMART', 'DREAMFOLKS',\n",
              "       'DRREDDY', 'EASEMYTRIP', 'EICHERMOT', 'EMAMILTD', 'EQUITASBNK',\n",
              "       'ERIS', 'EXIDEIND', 'FEDERALBNK', 'FINCABLES', 'FINEORG',\n",
              "       'FOSECOIND', 'GAIL', 'GEOJITFSL', 'GICRE', 'GILLETTE', 'GLAND',\n",
              "       'GLAXO', 'GODREJCP', 'GODREJIND', 'GRASIM', 'GREENPANEL',\n",
              "       'GULFOILLUB', 'HAPPSTMNDS', 'HATHWAY', 'HAVELLS', 'HCLTECH',\n",
              "       'HDFCAMC', 'HDFCBANK', 'HDFCLIFE', 'HEROMOTOCO', 'HSCL',\n",
              "       'HINDALCO', 'HINDPETRO', 'HINDUNILVR', 'HONAUT', 'IBREALEST',\n",
              "       'ICICIBANK', 'ICICIGI', 'ICICIPRULI', 'IEX', 'IGL', 'INDIANB',\n",
              "       'INDIGO', 'INDIGOPNTS', 'INDUSINDBK', 'INDUSTOWER', 'INFIBEAM',\n",
              "       'INFY', 'IOC', 'IRCTC', 'ISEC', 'ITBEES', 'ITC', 'J&KBANK',\n",
              "       'JCHAC', 'JINDALSTEL', 'JIOFIN', 'JMFINANCIL', 'JPPOWER', 'JSWHL',\n",
              "       'JSWSTEEL', 'JUBLFOOD', 'JYOTHYLAB', 'KANSAINER', 'KOTAKBANK',\n",
              "       'LALPATHLAB', 'LICHSGFIN', 'LICI', 'LT', 'LTIM', 'LUPIN', 'LUXIND',\n",
              "       'M&M', 'MANAPPURAM', 'MARICO', 'MARUTI', 'MASFIN', 'MAXHEALTH',\n",
              "       'MCDOWELL-N', 'MCX', 'METROPOLIS', 'MOTILALOFS', 'MRF',\n",
              "       'MUTHOOTFIN', 'NAM-INDIA', 'NATIONALUM', 'NAUKRI', 'NEOGEN',\n",
              "       'NESTLEIND', 'NETWORK18', 'NIACL', 'NMDC', 'NTPC', 'OFSS', 'ONGC',\n",
              "       'PAGEIND', 'PARAGMILK', 'PEL', 'PFIZER', 'PGHH', 'PIDILITIND',\n",
              "       'PIIND', 'PNB', 'POLYCAB', 'POWERGRID', 'PRAJIND', 'PVRINOX',\n",
              "       'QUESS', 'RADICO', 'RAJESHEXPO', 'RBLBANK', 'RELAXO', 'RELIANCE',\n",
              "       'REPCOHOME', 'ROSSARI', 'ROUTE', 'SAIL', 'SAMMAANCAP', 'SANOFI',\n",
              "       'SBICARD', 'SBIETFPB', 'SBILIFE', 'SBIN', 'SCHAEFFLER ', 'SFL',\n",
              "       'SHALBY', 'SHARDACROP', 'SHREECEM', 'SIEMENS', 'SIS', 'SONACOMS',\n",
              "       'SONATSOFTW', 'SPORTKING', 'SRF', 'STARHEALTH', 'SUNPHARMA',\n",
              "       'SUNTV', 'SURYODAY', 'SUZLON', 'SYMPHONY', 'TANLA', 'TASTYBITE',\n",
              "       'TATACOMM', 'TATACONSUM', 'TATAELXSI', 'TATAMOTORS', 'TATAPOWER',\n",
              "       'TATASTEEL', 'TCS', 'TEAMLEASE', 'TECHM', 'TIDEWATER',\n",
              "       'TIPSINDLTD', 'TITAN', 'TORNTPHARM', 'TRIDENT', 'TTKPRESTIG',\n",
              "       'TV18BRDCST', 'UJJIVAN', 'UJJIVANSFB', 'ULTRACEMCO', 'UNIONBANK',\n",
              "       'UPL', 'UTIAMC', 'VAIBHAVGBL', 'VALIANTORG', 'VEDL', 'VGUARD',\n",
              "       'VINATIORGA', 'VIPIND', 'VOLTAS', 'WESTLIFE', 'WHIRLPOOL', 'WIPRO',\n",
              "       'WSTCSTPAPR', 'YESBANK', 'ZEEL'], dtype=object)"
            ]
          },
          "metadata": {},
          "execution_count": 1
        }
      ],
      "source": [
        "import pandas as pd\n",
        "import numpy as np\n",
        "#from google.colab import drive\n",
        "#drive.mount('/content/drive')\n",
        "\n",
        "#mypf = pd.read_csv('/content/drive/My Drive/data/stocks/myProspectsScrips.csv')\n",
        "\n",
        "path_mypf = 'https://raw.githubusercontent.com/ankit-rathi/Tradevesting_v1/main/data/'\n",
        "\n",
        "mypf = pd.read_csv(path_mypf + 'myProspectsScrips.csv')\n",
        "\n",
        "mypf['Symbol'].values"
      ]
    },
    {
      "cell_type": "code",
      "source": [
        "mypf['Category'].unique()"
      ],
      "metadata": {
        "colab": {
          "base_uri": "https://localhost:8080/"
        },
        "id": "w-hZKsZVPCVT",
        "outputId": "a719d933-6818-4a04-fd1d-dc47e936ca62"
      },
      "execution_count": 2,
      "outputs": [
        {
          "output_type": "execute_result",
          "data": {
            "text/plain": [
              "array(['MISC', 'FINANCE', 'CHEMICALS', 'PHARMA', 'CEMENT', 'PAINTS',\n",
              "       'HEALTHCARE', 'AUTO', 'CERAMICS', 'BANKS', 'FMCG', 'SUGAR',\n",
              "       'TYRES', 'FOOTWEAR', 'TELECOM', 'AC', 'GLASS', 'OIL', 'IT',\n",
              "       'MINING', 'HOTELS', 'ELECTRICAL', 'ENTERTAINMENT', 'REALTY',\n",
              "       'TRAVEL', 'CABLES', 'GAS', 'INSURANCE', 'TEXTILES', 'METALS',\n",
              "       'REFINERIES', 'AIRLINES', 'STEEL', 'POWER', 'RESTAURANTS',\n",
              "       'ENGINEERING', 'BREWERIES', 'MEDIA', 'APPARELS', 'JEWELLERY',\n",
              "       'BEARINGS', 'DURABLES', 'PAPER'], dtype=object)"
            ]
          },
          "metadata": {},
          "execution_count": 2
        }
      ]
    },
    {
      "cell_type": "code",
      "source": [
        "import yfinance as yf\n",
        "import pandas as pd\n",
        "\n",
        "class StockSMADeviationFilter:\n",
        "\n",
        "    def __init__(self, stock_list, start_date='2018-01-01', end_date=None):\n",
        "        self.stock_list = stock_list\n",
        "        self.start_date = start_date\n",
        "        self.end_date = end_date\n",
        "        self.filtered_stocks = []\n",
        "\n",
        "    def fetch_data(self, ticker):\n",
        "        \"\"\"Fetch stock data from Yahoo Finance.\"\"\"\n",
        "        try:\n",
        "            data = yf.download(ticker + '.NS', start=self.start_date, end=self.end_date)\n",
        "            return data\n",
        "        except Exception as e:\n",
        "            print(f\"Error fetching data for {ticker}: {e}\")\n",
        "            return None\n",
        "\n",
        "    def calculate_smas(self, data):\n",
        "        \"\"\"Calculate the 50-day and 200-day SMAs.\"\"\"\n",
        "        data['50_SMA'] = data['Close'].rolling(window=50).mean()\n",
        "        data['200_SMA'] = data['Close'].rolling(window=200).mean()\n",
        "        return data\n",
        "\n",
        "    def calculate_deviations(self, data):\n",
        "        \"\"\"Calculate the deviations of stock prices from 50D SMA and between 50D and 200D SMAs.\"\"\"\n",
        "        if data is not None and not data.empty:\n",
        "            # Calculate deviation from 50-day SMA\n",
        "            data['Price_Deviation_50SMA'] = abs(data['Close'] - data['50_SMA']) / data['50_SMA']\n",
        "\n",
        "            # Calculate deviation between 50-day SMA and 200-day SMA\n",
        "            data['SMA_Deviation'] = abs(data['50_SMA'] - data['200_SMA']) / data['200_SMA']\n",
        "\n",
        "            return data\n",
        "        return None\n",
        "\n",
        "    def filter_stocks(self):\n",
        "        \"\"\"Filter stocks based on minimum price deviation from 50D SMA and maximum SMA deviation.\"\"\"\n",
        "        for stock in self.stock_list:\n",
        "            print(f\"Analyzing {stock}...\")\n",
        "            data = self.fetch_data(stock)\n",
        "            if data is not None and not data.empty:\n",
        "                data = self.calculate_smas(data)\n",
        "                data = self.calculate_deviations(data)\n",
        "\n",
        "                # Check for stocks that meet both criteria\n",
        "                if data is not None and not data.empty:\n",
        "                    # Check average price deviation from 50D SMA over the entire time period\n",
        "                    avg_price_deviation = data['Price_Deviation_50SMA'].mean()\n",
        "\n",
        "                    # Check maximum deviation between 50D SMA and 200D SMA\n",
        "                    avg_sma_deviation = data['SMA_Deviation'].mean()\n",
        "\n",
        "                    # Append to the list of filtered stocks if both criteria are met\n",
        "                    self.filtered_stocks.append({\n",
        "                        'stock': stock,\n",
        "                        'avg_price_deviation': avg_price_deviation,\n",
        "                        'avg_sma_deviation': avg_sma_deviation\n",
        "                    })\n",
        "\n",
        "    def get_filtered_stocks(self):\n",
        "        \"\"\"Return the filtered stocks sorted by min price deviation and max SMA deviation.\"\"\"\n",
        "        # Sort by min price deviation and avg SMA deviation\n",
        "        filtered_stocks_sorted = sorted(\n",
        "            self.filtered_stocks,\n",
        "            key=lambda x: (x['avg_price_deviation'], -x['avg_sma_deviation'])\n",
        "        )\n",
        "        return filtered_stocks_sorted\n"
      ],
      "metadata": {
        "id": "-Z847nokev9V"
      },
      "execution_count": 3,
      "outputs": []
    },
    {
      "cell_type": "code",
      "source": [
        "# Define the list of stocks to analyze\n",
        "stock_n100 = mypf['Symbol'].unique()\n",
        "\n",
        "exclude = ['CADILAHC','MMTC','JIOFIN','SCHAEFFLER ']\n",
        "\n",
        "stock_n100 = mypf[~mypf['Symbol'].isin(exclude) ]['Symbol'].unique()\n",
        "\n",
        "stock_list = stock_n100\n",
        "\n",
        "# Define the list of stocks to analyze\n",
        "#stock_list = ['TATAMOTORS.NS', 'RELIANCE.NS', 'INFY.NS', 'HDFCBANK.NS']\n",
        "\n",
        "# Instantiate the StockSMADeviationFilter class\n",
        "sma_filter = StockSMADeviationFilter(stock_list, start_date='2023-01-01')\n",
        "\n",
        "# Filter stocks based on the criteria\n",
        "sma_filter.filter_stocks()\n",
        "\n",
        "# Get and print the filtered stocks\n",
        "filtered_stocks = sma_filter.get_filtered_stocks()\n",
        "for stock_info in filtered_stocks:\n",
        "    print(f\"Stock: {stock_info['stock']}, Avg Price Deviation: {stock_info['avg_price_deviation']:.4f}, Max SMA Deviation: {stock_info['avg_sma_deviation']:.4f}\")\n",
        "\n"
      ],
      "metadata": {
        "colab": {
          "base_uri": "https://localhost:8080/"
        },
        "id": "0zE6dtIcf3oo",
        "outputId": "13fc448e-6dcf-4bbf-f9d2-cd9a75c4b49b"
      },
      "execution_count": 4,
      "outputs": [
        {
          "output_type": "stream",
          "name": "stderr",
          "text": [
            "\r[*********************100%%**********************]  1 of 1 completed"
          ]
        },
        {
          "output_type": "stream",
          "name": "stdout",
          "text": [
            "Analyzing 3MINDIA...\n",
            "Analyzing 5PAISA...\n"
          ]
        },
        {
          "output_type": "stream",
          "name": "stderr",
          "text": [
            "\n",
            "[*********************100%%**********************]  1 of 1 completed\n",
            "[*********************100%%**********************]  1 of 1 completed\n",
            "[*********************100%%**********************]  1 of 1 completed\n"
          ]
        },
        {
          "output_type": "stream",
          "name": "stdout",
          "text": [
            "Analyzing AARTIIND...\n",
            "Analyzing AAVAS...\n",
            "Analyzing ABBOTINDIA...\n"
          ]
        },
        {
          "output_type": "stream",
          "name": "stderr",
          "text": [
            "[*********************100%%**********************]  1 of 1 completed\n",
            "[*********************100%%**********************]  1 of 1 completed\n"
          ]
        },
        {
          "output_type": "stream",
          "name": "stdout",
          "text": [
            "Analyzing ABSLAMC...\n",
            "Analyzing ACC...\n"
          ]
        },
        {
          "output_type": "stream",
          "name": "stderr",
          "text": [
            "[*********************100%%**********************]  1 of 1 completed\n",
            "[*********************100%%**********************]  1 of 1 completed\n"
          ]
        },
        {
          "output_type": "stream",
          "name": "stdout",
          "text": [
            "Analyzing AETHER...\n",
            "Analyzing AKZOINDIA...\n"
          ]
        },
        {
          "output_type": "stream",
          "name": "stderr",
          "text": [
            "[*********************100%%**********************]  1 of 1 completed\n",
            "[*********************100%%**********************]  1 of 1 completed\n"
          ]
        },
        {
          "output_type": "stream",
          "name": "stdout",
          "text": [
            "Analyzing ALKYLAMINE...\n",
            "Analyzing AMBUJACEM...\n"
          ]
        },
        {
          "output_type": "stream",
          "name": "stderr",
          "text": [
            "[*********************100%%**********************]  1 of 1 completed\n",
            "[*********************100%%**********************]  1 of 1 completed\n"
          ]
        },
        {
          "output_type": "stream",
          "name": "stdout",
          "text": [
            "Analyzing ANGELONE...\n",
            "Analyzing APEX...\n"
          ]
        },
        {
          "output_type": "stream",
          "name": "stderr",
          "text": [
            "[*********************100%%**********************]  1 of 1 completed\n",
            "[*********************100%%**********************]  1 of 1 completed\n"
          ]
        },
        {
          "output_type": "stream",
          "name": "stdout",
          "text": [
            "Analyzing APLLTD...\n",
            "Analyzing APOLLOHOSP...\n"
          ]
        },
        {
          "output_type": "stream",
          "name": "stderr",
          "text": [
            "[*********************100%%**********************]  1 of 1 completed\n",
            "[*********************100%%**********************]  1 of 1 completed\n"
          ]
        },
        {
          "output_type": "stream",
          "name": "stdout",
          "text": [
            "Analyzing ARVINDFASN...\n",
            "Analyzing ARE&M...\n"
          ]
        },
        {
          "output_type": "stream",
          "name": "stderr",
          "text": [
            "[*********************100%%**********************]  1 of 1 completed\n",
            "[*********************100%%**********************]  1 of 1 completed\n"
          ]
        },
        {
          "output_type": "stream",
          "name": "stdout",
          "text": [
            "Analyzing ASIANPAINT...\n",
            "Analyzing ASIANTILES...\n"
          ]
        },
        {
          "output_type": "stream",
          "name": "stderr",
          "text": [
            "[*********************100%%**********************]  1 of 1 completed\n",
            "[*********************100%%**********************]  1 of 1 completed\n"
          ]
        },
        {
          "output_type": "stream",
          "name": "stdout",
          "text": [
            "Analyzing ASTRAZEN...\n",
            "Analyzing AUBANK...\n"
          ]
        },
        {
          "output_type": "stream",
          "name": "stderr",
          "text": [
            "[*********************100%%**********************]  1 of 1 completed\n",
            "[*********************100%%**********************]  1 of 1 completed\n"
          ]
        },
        {
          "output_type": "stream",
          "name": "stdout",
          "text": [
            "Analyzing AUROPHARMA...\n",
            "Analyzing AVANTIFEED...\n"
          ]
        },
        {
          "output_type": "stream",
          "name": "stderr",
          "text": [
            "[*********************100%%**********************]  1 of 1 completed\n",
            "[*********************100%%**********************]  1 of 1 completed\n"
          ]
        },
        {
          "output_type": "stream",
          "name": "stdout",
          "text": [
            "Analyzing AWL...\n",
            "Analyzing AXISBANK...\n"
          ]
        },
        {
          "output_type": "stream",
          "name": "stderr",
          "text": [
            "[*********************100%%**********************]  1 of 1 completed\n",
            "[*********************100%%**********************]  1 of 1 completed\n"
          ]
        },
        {
          "output_type": "stream",
          "name": "stdout",
          "text": [
            "Analyzing BAJAJ-AUTO...\n",
            "Analyzing BAJAJFINSV...\n"
          ]
        },
        {
          "output_type": "stream",
          "name": "stderr",
          "text": [
            "[*********************100%%**********************]  1 of 1 completed\n",
            "[*********************100%%**********************]  1 of 1 completed\n"
          ]
        },
        {
          "output_type": "stream",
          "name": "stdout",
          "text": [
            "Analyzing BAJAJHIND...\n",
            "Analyzing BAJAJHLDNG...\n"
          ]
        },
        {
          "output_type": "stream",
          "name": "stderr",
          "text": [
            "[*********************100%%**********************]  1 of 1 completed\n",
            "[*********************100%%**********************]  1 of 1 completed\n"
          ]
        },
        {
          "output_type": "stream",
          "name": "stdout",
          "text": [
            "Analyzing BAJFINANCE...\n",
            "Analyzing BALKRISIND...\n"
          ]
        },
        {
          "output_type": "stream",
          "name": "stderr",
          "text": [
            "[*********************100%%**********************]  1 of 1 completed\n",
            "[*********************100%%**********************]  1 of 1 completed\n"
          ]
        },
        {
          "output_type": "stream",
          "name": "stdout",
          "text": [
            "Analyzing BANDHANBNK...\n",
            "Analyzing BANKBARODA...\n"
          ]
        },
        {
          "output_type": "stream",
          "name": "stderr",
          "text": [
            "[*********************100%%**********************]  1 of 1 completed\n",
            "[*********************100%%**********************]  1 of 1 completed\n"
          ]
        },
        {
          "output_type": "stream",
          "name": "stdout",
          "text": [
            "Analyzing BANKINDIA...\n",
            "Analyzing BATAINDIA...\n"
          ]
        },
        {
          "output_type": "stream",
          "name": "stderr",
          "text": [
            "[*********************100%%**********************]  1 of 1 completed\n",
            "[*********************100%%**********************]  1 of 1 completed\n"
          ]
        },
        {
          "output_type": "stream",
          "name": "stdout",
          "text": [
            "Analyzing BAYERCROP...\n",
            "Analyzing BERGEPAINT...\n"
          ]
        },
        {
          "output_type": "stream",
          "name": "stderr",
          "text": [
            "[*********************100%%**********************]  1 of 1 completed\n",
            "[*********************100%%**********************]  1 of 1 completed\n"
          ]
        },
        {
          "output_type": "stream",
          "name": "stdout",
          "text": [
            "Analyzing BHARTIARTL...\n",
            "Analyzing BIOCON...\n"
          ]
        },
        {
          "output_type": "stream",
          "name": "stderr",
          "text": [
            "[*********************100%%**********************]  1 of 1 completed\n",
            "[*********************100%%**********************]  1 of 1 completed\n"
          ]
        },
        {
          "output_type": "stream",
          "name": "stdout",
          "text": [
            "Analyzing BIRLAMONEY...\n",
            "Analyzing BLUESTARCO...\n"
          ]
        },
        {
          "output_type": "stream",
          "name": "stderr",
          "text": [
            "[*********************100%%**********************]  1 of 1 completed\n",
            "[*********************100%%**********************]  1 of 1 completed\n"
          ]
        },
        {
          "output_type": "stream",
          "name": "stdout",
          "text": [
            "Analyzing BOROLTD...\n",
            "Analyzing BOSCHLTD...\n"
          ]
        },
        {
          "output_type": "stream",
          "name": "stderr",
          "text": [
            "[*********************100%%**********************]  1 of 1 completed\n",
            "[*********************100%%**********************]  1 of 1 completed\n"
          ]
        },
        {
          "output_type": "stream",
          "name": "stdout",
          "text": [
            "Analyzing BPCL...\n",
            "Analyzing BRITANNIA...\n"
          ]
        },
        {
          "output_type": "stream",
          "name": "stderr",
          "text": [
            "[*********************100%%**********************]  1 of 1 completed\n",
            "[*********************100%%**********************]  1 of 1 completed\n",
            "[*********************100%%**********************]  1 of 1 completed\n"
          ]
        },
        {
          "output_type": "stream",
          "name": "stdout",
          "text": [
            "Analyzing BSOFT...\n",
            "Analyzing CAMPUS...\n",
            "Analyzing CAMS...\n"
          ]
        },
        {
          "output_type": "stream",
          "name": "stderr",
          "text": [
            "[*********************100%%**********************]  1 of 1 completed\n",
            "[*********************100%%**********************]  1 of 1 completed\n",
            "[*********************100%%**********************]  1 of 1 completed\n"
          ]
        },
        {
          "output_type": "stream",
          "name": "stdout",
          "text": [
            "Analyzing CANBK...\n",
            "Analyzing CAPLIPOINT...\n",
            "Analyzing CASTROLIND...\n"
          ]
        },
        {
          "output_type": "stream",
          "name": "stderr",
          "text": [
            "[*********************100%%**********************]  1 of 1 completed\n",
            "[*********************100%%**********************]  1 of 1 completed\n",
            "[*********************100%%**********************]  1 of 1 completed\n"
          ]
        },
        {
          "output_type": "stream",
          "name": "stdout",
          "text": [
            "Analyzing CDSL...\n",
            "Analyzing CENTRALBK...\n",
            "Analyzing CERA...\n"
          ]
        },
        {
          "output_type": "stream",
          "name": "stderr",
          "text": [
            "[*********************100%%**********************]  1 of 1 completed\n",
            "[*********************100%%**********************]  1 of 1 completed\n",
            "[*********************100%%**********************]  1 of 1 completed"
          ]
        },
        {
          "output_type": "stream",
          "name": "stdout",
          "text": [
            "Analyzing CHOLAFIN...\n",
            "Analyzing CIPLA...\n"
          ]
        },
        {
          "output_type": "stream",
          "name": "stderr",
          "text": [
            "\n",
            "[*********************100%%**********************]  1 of 1 completed\n",
            "[*********************100%%**********************]  1 of 1 completed\n"
          ]
        },
        {
          "output_type": "stream",
          "name": "stdout",
          "text": [
            "Analyzing CLEAN...\n",
            "Analyzing COALINDIA...\n",
            "Analyzing COFFEEDAY...\n"
          ]
        },
        {
          "output_type": "stream",
          "name": "stderr",
          "text": [
            "[*********************100%%**********************]  1 of 1 completed\n",
            "[*********************100%%**********************]  1 of 1 completed\n"
          ]
        },
        {
          "output_type": "stream",
          "name": "stdout",
          "text": [
            "Analyzing COLPAL...\n",
            "Analyzing CROMPTON...\n"
          ]
        },
        {
          "output_type": "stream",
          "name": "stderr",
          "text": [
            "[*********************100%%**********************]  1 of 1 completed\n",
            "[*********************100%%**********************]  1 of 1 completed\n"
          ]
        },
        {
          "output_type": "stream",
          "name": "stdout",
          "text": [
            "Analyzing CUB...\n",
            "Analyzing DABUR...\n"
          ]
        },
        {
          "output_type": "stream",
          "name": "stderr",
          "text": [
            "[*********************100%%**********************]  1 of 1 completed\n",
            "[*********************100%%**********************]  1 of 1 completed\n",
            "[*********************100%%**********************]  1 of 1 completed\n"
          ]
        },
        {
          "output_type": "stream",
          "name": "stdout",
          "text": [
            "Analyzing DCBBANK...\n",
            "Analyzing DEEPAKNTR...\n",
            "Analyzing DEN...\n"
          ]
        },
        {
          "output_type": "stream",
          "name": "stderr",
          "text": [
            "[*********************100%%**********************]  1 of 1 completed\n",
            "[*********************100%%**********************]  1 of 1 completed\n"
          ]
        },
        {
          "output_type": "stream",
          "name": "stdout",
          "text": [
            "Analyzing DIVISLAB...\n",
            "Analyzing DIXON...\n"
          ]
        },
        {
          "output_type": "stream",
          "name": "stderr",
          "text": [
            "[*********************100%%**********************]  1 of 1 completed\n",
            "[*********************100%%**********************]  1 of 1 completed\n",
            "[*********************100%%**********************]  1 of 1 completed\n"
          ]
        },
        {
          "output_type": "stream",
          "name": "stdout",
          "text": [
            "Analyzing DLF...\n",
            "Analyzing DMART...\n",
            "Analyzing DREAMFOLKS...\n"
          ]
        },
        {
          "output_type": "stream",
          "name": "stderr",
          "text": [
            "[*********************100%%**********************]  1 of 1 completed\n",
            "[*********************100%%**********************]  1 of 1 completed\n",
            "[*********************100%%**********************]  1 of 1 completed\n"
          ]
        },
        {
          "output_type": "stream",
          "name": "stdout",
          "text": [
            "Analyzing DRREDDY...\n",
            "Analyzing EASEMYTRIP...\n",
            "Analyzing EICHERMOT...\n"
          ]
        },
        {
          "output_type": "stream",
          "name": "stderr",
          "text": [
            "[*********************100%%**********************]  1 of 1 completed\n",
            "[*********************100%%**********************]  1 of 1 completed\n"
          ]
        },
        {
          "output_type": "stream",
          "name": "stdout",
          "text": [
            "Analyzing EMAMILTD...\n",
            "Analyzing EQUITASBNK...\n"
          ]
        },
        {
          "output_type": "stream",
          "name": "stderr",
          "text": [
            "[*********************100%%**********************]  1 of 1 completed\n",
            "[*********************100%%**********************]  1 of 1 completed\n",
            "[*********************100%%**********************]  1 of 1 completed\n"
          ]
        },
        {
          "output_type": "stream",
          "name": "stdout",
          "text": [
            "Analyzing ERIS...\n",
            "Analyzing EXIDEIND...\n",
            "Analyzing FEDERALBNK...\n"
          ]
        },
        {
          "output_type": "stream",
          "name": "stderr",
          "text": [
            "[*********************100%%**********************]  1 of 1 completed\n",
            "[*********************100%%**********************]  1 of 1 completed\n"
          ]
        },
        {
          "output_type": "stream",
          "name": "stdout",
          "text": [
            "Analyzing FINCABLES...\n",
            "Analyzing FINEORG...\n"
          ]
        },
        {
          "output_type": "stream",
          "name": "stderr",
          "text": [
            "[*********************100%%**********************]  1 of 1 completed\n",
            "[*********************100%%**********************]  1 of 1 completed\n"
          ]
        },
        {
          "output_type": "stream",
          "name": "stdout",
          "text": [
            "Analyzing FOSECOIND...\n",
            "Analyzing GAIL...\n"
          ]
        },
        {
          "output_type": "stream",
          "name": "stderr",
          "text": [
            "[*********************100%%**********************]  1 of 1 completed\n",
            "[*********************100%%**********************]  1 of 1 completed\n",
            "[*********************100%%**********************]  1 of 1 completed"
          ]
        },
        {
          "output_type": "stream",
          "name": "stdout",
          "text": [
            "Analyzing GEOJITFSL...\n",
            "Analyzing GICRE...\n"
          ]
        },
        {
          "output_type": "stream",
          "name": "stderr",
          "text": [
            "\n",
            "[*********************100%%**********************]  1 of 1 completed\n",
            "[*********************100%%**********************]  1 of 1 completed\n"
          ]
        },
        {
          "output_type": "stream",
          "name": "stdout",
          "text": [
            "Analyzing GILLETTE...\n",
            "Analyzing GLAND...\n",
            "Analyzing GLAXO...\n"
          ]
        },
        {
          "output_type": "stream",
          "name": "stderr",
          "text": [
            "[*********************100%%**********************]  1 of 1 completed\n",
            "[*********************100%%**********************]  1 of 1 completed\n",
            "[*********************100%%**********************]  1 of 1 completed\n"
          ]
        },
        {
          "output_type": "stream",
          "name": "stdout",
          "text": [
            "Analyzing GODREJCP...\n",
            "Analyzing GODREJIND...\n",
            "Analyzing GRASIM...\n"
          ]
        },
        {
          "output_type": "stream",
          "name": "stderr",
          "text": [
            "[*********************100%%**********************]  1 of 1 completed\n",
            "[*********************100%%**********************]  1 of 1 completed\n",
            "[*********************100%%**********************]  1 of 1 completed\n"
          ]
        },
        {
          "output_type": "stream",
          "name": "stdout",
          "text": [
            "Analyzing GREENPANEL...\n",
            "Analyzing GULFOILLUB...\n",
            "Analyzing HAPPSTMNDS...\n"
          ]
        },
        {
          "output_type": "stream",
          "name": "stderr",
          "text": [
            "[*********************100%%**********************]  1 of 1 completed\n",
            "[*********************100%%**********************]  1 of 1 completed\n",
            "[*********************100%%**********************]  1 of 1 completed\n"
          ]
        },
        {
          "output_type": "stream",
          "name": "stdout",
          "text": [
            "Analyzing HATHWAY...\n",
            "Analyzing HAVELLS...\n",
            "Analyzing HCLTECH...\n"
          ]
        },
        {
          "output_type": "stream",
          "name": "stderr",
          "text": [
            "[*********************100%%**********************]  1 of 1 completed\n",
            "[*********************100%%**********************]  1 of 1 completed\n",
            "[*********************100%%**********************]  1 of 1 completed\n"
          ]
        },
        {
          "output_type": "stream",
          "name": "stdout",
          "text": [
            "Analyzing HDFCAMC...\n",
            "Analyzing HDFCBANK...\n",
            "Analyzing HDFCLIFE...\n"
          ]
        },
        {
          "output_type": "stream",
          "name": "stderr",
          "text": [
            "[*********************100%%**********************]  1 of 1 completed\n",
            "[*********************100%%**********************]  1 of 1 completed\n"
          ]
        },
        {
          "output_type": "stream",
          "name": "stdout",
          "text": [
            "Analyzing HEROMOTOCO...\n",
            "Analyzing HSCL...\n"
          ]
        },
        {
          "output_type": "stream",
          "name": "stderr",
          "text": [
            "[*********************100%%**********************]  1 of 1 completed\n",
            "[*********************100%%**********************]  1 of 1 completed\n",
            "[*********************100%%**********************]  1 of 1 completed\n"
          ]
        },
        {
          "output_type": "stream",
          "name": "stdout",
          "text": [
            "Analyzing HINDALCO...\n",
            "Analyzing HINDPETRO...\n",
            "Analyzing HINDUNILVR...\n"
          ]
        },
        {
          "output_type": "stream",
          "name": "stderr",
          "text": [
            "[*********************100%%**********************]  1 of 1 completed\n",
            "[*********************100%%**********************]  1 of 1 completed\n",
            "[*********************100%%**********************]  1 of 1 completed\n"
          ]
        },
        {
          "output_type": "stream",
          "name": "stdout",
          "text": [
            "Analyzing HONAUT...\n",
            "Analyzing IBREALEST...\n",
            "Analyzing ICICIBANK...\n"
          ]
        },
        {
          "output_type": "stream",
          "name": "stderr",
          "text": [
            "[*********************100%%**********************]  1 of 1 completed\n",
            "[*********************100%%**********************]  1 of 1 completed\n",
            "[*********************100%%**********************]  1 of 1 completed\n"
          ]
        },
        {
          "output_type": "stream",
          "name": "stdout",
          "text": [
            "Analyzing ICICIGI...\n",
            "Analyzing ICICIPRULI...\n",
            "Analyzing IEX...\n"
          ]
        },
        {
          "output_type": "stream",
          "name": "stderr",
          "text": [
            "[*********************100%%**********************]  1 of 1 completed\n",
            "[*********************100%%**********************]  1 of 1 completed\n"
          ]
        },
        {
          "output_type": "stream",
          "name": "stdout",
          "text": [
            "Analyzing IGL...\n",
            "Analyzing INDIANB...\n"
          ]
        },
        {
          "output_type": "stream",
          "name": "stderr",
          "text": [
            "[*********************100%%**********************]  1 of 1 completed\n",
            "[*********************100%%**********************]  1 of 1 completed\n",
            "[*********************100%%**********************]  1 of 1 completed\n"
          ]
        },
        {
          "output_type": "stream",
          "name": "stdout",
          "text": [
            "Analyzing INDIGO...\n",
            "Analyzing INDIGOPNTS...\n",
            "Analyzing INDUSINDBK...\n"
          ]
        },
        {
          "output_type": "stream",
          "name": "stderr",
          "text": [
            "[*********************100%%**********************]  1 of 1 completed\n",
            "[*********************100%%**********************]  1 of 1 completed\n",
            "[*********************100%%**********************]  1 of 1 completed\n"
          ]
        },
        {
          "output_type": "stream",
          "name": "stdout",
          "text": [
            "Analyzing INDUSTOWER...\n",
            "Analyzing INFIBEAM...\n",
            "Analyzing INFY...\n"
          ]
        },
        {
          "output_type": "stream",
          "name": "stderr",
          "text": [
            "[*********************100%%**********************]  1 of 1 completed\n",
            "[*********************100%%**********************]  1 of 1 completed\n",
            "[*********************100%%**********************]  1 of 1 completed\n"
          ]
        },
        {
          "output_type": "stream",
          "name": "stdout",
          "text": [
            "Analyzing IOC...\n",
            "Analyzing IRCTC...\n",
            "Analyzing ISEC...\n"
          ]
        },
        {
          "output_type": "stream",
          "name": "stderr",
          "text": [
            "[*********************100%%**********************]  1 of 1 completed\n",
            "[*********************100%%**********************]  1 of 1 completed\n",
            "[*********************100%%**********************]  1 of 1 completed\n"
          ]
        },
        {
          "output_type": "stream",
          "name": "stdout",
          "text": [
            "Analyzing ITBEES...\n",
            "Analyzing ITC...\n",
            "Analyzing J&KBANK...\n"
          ]
        },
        {
          "output_type": "stream",
          "name": "stderr",
          "text": [
            "[*********************100%%**********************]  1 of 1 completed\n",
            "[*********************100%%**********************]  1 of 1 completed\n",
            "[*********************100%%**********************]  1 of 1 completed\n"
          ]
        },
        {
          "output_type": "stream",
          "name": "stdout",
          "text": [
            "Analyzing JCHAC...\n",
            "Analyzing JINDALSTEL...\n",
            "Analyzing JMFINANCIL...\n"
          ]
        },
        {
          "output_type": "stream",
          "name": "stderr",
          "text": [
            "[*********************100%%**********************]  1 of 1 completed\n",
            "[*********************100%%**********************]  1 of 1 completed\n",
            "[*********************100%%**********************]  1 of 1 completed\n"
          ]
        },
        {
          "output_type": "stream",
          "name": "stdout",
          "text": [
            "Analyzing JPPOWER...\n",
            "Analyzing JSWHL...\n",
            "Analyzing JSWSTEEL...\n"
          ]
        },
        {
          "output_type": "stream",
          "name": "stderr",
          "text": [
            "[*********************100%%**********************]  1 of 1 completed\n",
            "[*********************100%%**********************]  1 of 1 completed\n"
          ]
        },
        {
          "output_type": "stream",
          "name": "stdout",
          "text": [
            "Analyzing JUBLFOOD...\n",
            "Analyzing JYOTHYLAB...\n"
          ]
        },
        {
          "output_type": "stream",
          "name": "stderr",
          "text": [
            "[*********************100%%**********************]  1 of 1 completed\n",
            "[*********************100%%**********************]  1 of 1 completed\n"
          ]
        },
        {
          "output_type": "stream",
          "name": "stdout",
          "text": [
            "Analyzing KANSAINER...\n",
            "Analyzing KOTAKBANK...\n"
          ]
        },
        {
          "output_type": "stream",
          "name": "stderr",
          "text": [
            "[*********************100%%**********************]  1 of 1 completed\n",
            "[*********************100%%**********************]  1 of 1 completed\n",
            "[*********************100%%**********************]  1 of 1 completed\n"
          ]
        },
        {
          "output_type": "stream",
          "name": "stdout",
          "text": [
            "Analyzing LALPATHLAB...\n",
            "Analyzing LICHSGFIN...\n",
            "Analyzing LICI...\n"
          ]
        },
        {
          "output_type": "stream",
          "name": "stderr",
          "text": [
            "[*********************100%%**********************]  1 of 1 completed\n",
            "[*********************100%%**********************]  1 of 1 completed\n",
            "[*********************100%%**********************]  1 of 1 completed\n"
          ]
        },
        {
          "output_type": "stream",
          "name": "stdout",
          "text": [
            "Analyzing LT...\n",
            "Analyzing LTIM...\n",
            "Analyzing LUPIN...\n"
          ]
        },
        {
          "output_type": "stream",
          "name": "stderr",
          "text": [
            "[*********************100%%**********************]  1 of 1 completed\n",
            "[*********************100%%**********************]  1 of 1 completed\n",
            "[*********************100%%**********************]  1 of 1 completed\n"
          ]
        },
        {
          "output_type": "stream",
          "name": "stdout",
          "text": [
            "Analyzing LUXIND...\n",
            "Analyzing M&M...\n",
            "Analyzing MANAPPURAM...\n"
          ]
        },
        {
          "output_type": "stream",
          "name": "stderr",
          "text": [
            "[*********************100%%**********************]  1 of 1 completed\n",
            "[*********************100%%**********************]  1 of 1 completed\n",
            "[*********************100%%**********************]  1 of 1 completed\n"
          ]
        },
        {
          "output_type": "stream",
          "name": "stdout",
          "text": [
            "Analyzing MARICO...\n",
            "Analyzing MARUTI...\n",
            "Analyzing MASFIN...\n"
          ]
        },
        {
          "output_type": "stream",
          "name": "stderr",
          "text": [
            "[*********************100%%**********************]  1 of 1 completed\n",
            "[*********************100%%**********************]  1 of 1 completed\n"
          ]
        },
        {
          "output_type": "stream",
          "name": "stdout",
          "text": [
            "Analyzing MAXHEALTH...\n",
            "Analyzing MCDOWELL-N...\n"
          ]
        },
        {
          "output_type": "stream",
          "name": "stderr",
          "text": [
            "\r[*********************100%%**********************]  1 of 1 completed\n",
            "ERROR:yfinance:\n",
            "1 Failed download:\n",
            "ERROR:yfinance:['MCDOWELL-N.NS']: YFTzMissingError('$%ticker%: possibly delisted; No timezone found')\n",
            "[*********************100%%**********************]  1 of 1 completed\n",
            "[*********************100%%**********************]  1 of 1 completed\n"
          ]
        },
        {
          "output_type": "stream",
          "name": "stdout",
          "text": [
            "Analyzing MCX...\n",
            "Analyzing METROPOLIS...\n",
            "Analyzing MOTILALOFS...\n"
          ]
        },
        {
          "output_type": "stream",
          "name": "stderr",
          "text": [
            "[*********************100%%**********************]  1 of 1 completed\n",
            "[*********************100%%**********************]  1 of 1 completed\n"
          ]
        },
        {
          "output_type": "stream",
          "name": "stdout",
          "text": [
            "Analyzing MRF...\n",
            "Analyzing MUTHOOTFIN...\n"
          ]
        },
        {
          "output_type": "stream",
          "name": "stderr",
          "text": [
            "[*********************100%%**********************]  1 of 1 completed\n",
            "[*********************100%%**********************]  1 of 1 completed\n",
            "[*********************100%%**********************]  1 of 1 completed\n"
          ]
        },
        {
          "output_type": "stream",
          "name": "stdout",
          "text": [
            "Analyzing NAM-INDIA...\n",
            "Analyzing NATIONALUM...\n"
          ]
        },
        {
          "output_type": "stream",
          "name": "stderr",
          "text": [
            "\r[*********************100%%**********************]  1 of 1 completed\n"
          ]
        },
        {
          "output_type": "stream",
          "name": "stdout",
          "text": [
            "Analyzing NAUKRI...\n",
            "Analyzing NEOGEN...\n"
          ]
        },
        {
          "output_type": "stream",
          "name": "stderr",
          "text": [
            "[*********************100%%**********************]  1 of 1 completed\n",
            "[*********************100%%**********************]  1 of 1 completed\n",
            "[*********************100%%**********************]  1 of 1 completed\n"
          ]
        },
        {
          "output_type": "stream",
          "name": "stdout",
          "text": [
            "Analyzing NESTLEIND...\n",
            "Analyzing NETWORK18...\n",
            "Analyzing NIACL...\n"
          ]
        },
        {
          "output_type": "stream",
          "name": "stderr",
          "text": [
            "[*********************100%%**********************]  1 of 1 completed\n",
            "[*********************100%%**********************]  1 of 1 completed\n",
            "[*********************100%%**********************]  1 of 1 completed\n"
          ]
        },
        {
          "output_type": "stream",
          "name": "stdout",
          "text": [
            "Analyzing NMDC...\n",
            "Analyzing NTPC...\n",
            "Analyzing OFSS...\n"
          ]
        },
        {
          "output_type": "stream",
          "name": "stderr",
          "text": [
            "[*********************100%%**********************]  1 of 1 completed\n",
            "[*********************100%%**********************]  1 of 1 completed\n"
          ]
        },
        {
          "output_type": "stream",
          "name": "stdout",
          "text": [
            "Analyzing ONGC...\n",
            "Analyzing PAGEIND...\n"
          ]
        },
        {
          "output_type": "stream",
          "name": "stderr",
          "text": [
            "[*********************100%%**********************]  1 of 1 completed\n",
            "[*********************100%%**********************]  1 of 1 completed\n",
            "[*********************100%%**********************]  1 of 1 completed\n"
          ]
        },
        {
          "output_type": "stream",
          "name": "stdout",
          "text": [
            "Analyzing PARAGMILK...\n",
            "Analyzing PEL...\n",
            "Analyzing PFIZER...\n"
          ]
        },
        {
          "output_type": "stream",
          "name": "stderr",
          "text": [
            "[*********************100%%**********************]  1 of 1 completed\n",
            "[*********************100%%**********************]  1 of 1 completed\n"
          ]
        },
        {
          "output_type": "stream",
          "name": "stdout",
          "text": [
            "Analyzing PGHH...\n",
            "Analyzing PIDILITIND...\n"
          ]
        },
        {
          "output_type": "stream",
          "name": "stderr",
          "text": [
            "[*********************100%%**********************]  1 of 1 completed\n",
            "[*********************100%%**********************]  1 of 1 completed\n",
            "[*********************100%%**********************]  1 of 1 completed\n"
          ]
        },
        {
          "output_type": "stream",
          "name": "stdout",
          "text": [
            "Analyzing PIIND...\n",
            "Analyzing PNB...\n",
            "Analyzing POLYCAB...\n"
          ]
        },
        {
          "output_type": "stream",
          "name": "stderr",
          "text": [
            "[*********************100%%**********************]  1 of 1 completed\n",
            "[*********************100%%**********************]  1 of 1 completed\n",
            "[*********************100%%**********************]  1 of 1 completed\n"
          ]
        },
        {
          "output_type": "stream",
          "name": "stdout",
          "text": [
            "Analyzing POWERGRID...\n",
            "Analyzing PRAJIND...\n"
          ]
        },
        {
          "output_type": "stream",
          "name": "stderr",
          "text": [
            "[*********************100%%**********************]  1 of 1 completed\n",
            "[*********************100%%**********************]  1 of 1 completed\n"
          ]
        },
        {
          "output_type": "stream",
          "name": "stdout",
          "text": [
            "Analyzing PVRINOX...\n",
            "Analyzing QUESS...\n",
            "Analyzing RADICO...\n"
          ]
        },
        {
          "output_type": "stream",
          "name": "stderr",
          "text": [
            "[*********************100%%**********************]  1 of 1 completed\n",
            "[*********************100%%**********************]  1 of 1 completed\n",
            "[*********************100%%**********************]  1 of 1 completed\n"
          ]
        },
        {
          "output_type": "stream",
          "name": "stdout",
          "text": [
            "Analyzing RAJESHEXPO...\n",
            "Analyzing RBLBANK...\n",
            "Analyzing RELAXO...\n"
          ]
        },
        {
          "output_type": "stream",
          "name": "stderr",
          "text": [
            "[*********************100%%**********************]  1 of 1 completed\n",
            "[*********************100%%**********************]  1 of 1 completed\n",
            "[*********************100%%**********************]  1 of 1 completed\n"
          ]
        },
        {
          "output_type": "stream",
          "name": "stdout",
          "text": [
            "Analyzing RELIANCE...\n",
            "Analyzing REPCOHOME...\n",
            "Analyzing ROSSARI...\n"
          ]
        },
        {
          "output_type": "stream",
          "name": "stderr",
          "text": [
            "[*********************100%%**********************]  1 of 1 completed\n",
            "[*********************100%%**********************]  1 of 1 completed\n",
            "[*********************100%%**********************]  1 of 1 completed\n"
          ]
        },
        {
          "output_type": "stream",
          "name": "stdout",
          "text": [
            "Analyzing ROUTE...\n",
            "Analyzing SAIL...\n"
          ]
        },
        {
          "output_type": "stream",
          "name": "stderr",
          "text": [
            "[*********************100%%**********************]  1 of 1 completed\n",
            "[*********************100%%**********************]  1 of 1 completed\n"
          ]
        },
        {
          "output_type": "stream",
          "name": "stdout",
          "text": [
            "Analyzing SAMMAANCAP...\n",
            "Analyzing SANOFI...\n",
            "Analyzing SBICARD...\n"
          ]
        },
        {
          "output_type": "stream",
          "name": "stderr",
          "text": [
            "[*********************100%%**********************]  1 of 1 completed\n",
            "[*********************100%%**********************]  1 of 1 completed\n",
            "[*********************100%%**********************]  1 of 1 completed\n"
          ]
        },
        {
          "output_type": "stream",
          "name": "stdout",
          "text": [
            "Analyzing SBIETFPB...\n",
            "Analyzing SBILIFE...\n",
            "Analyzing SBIN...\n"
          ]
        },
        {
          "output_type": "stream",
          "name": "stderr",
          "text": [
            "[*********************100%%**********************]  1 of 1 completed\n",
            "[*********************100%%**********************]  1 of 1 completed\n",
            "[*********************100%%**********************]  1 of 1 completed\n"
          ]
        },
        {
          "output_type": "stream",
          "name": "stdout",
          "text": [
            "Analyzing SFL...\n",
            "Analyzing SHALBY...\n",
            "Analyzing SHARDACROP...\n"
          ]
        },
        {
          "output_type": "stream",
          "name": "stderr",
          "text": [
            "[*********************100%%**********************]  1 of 1 completed\n",
            "[*********************100%%**********************]  1 of 1 completed\n"
          ]
        },
        {
          "output_type": "stream",
          "name": "stdout",
          "text": [
            "Analyzing SHREECEM...\n",
            "Analyzing SIEMENS...\n"
          ]
        },
        {
          "output_type": "stream",
          "name": "stderr",
          "text": [
            "[*********************100%%**********************]  1 of 1 completed\n",
            "[*********************100%%**********************]  1 of 1 completed\n",
            "[*********************100%%**********************]  1 of 1 completed\n"
          ]
        },
        {
          "output_type": "stream",
          "name": "stdout",
          "text": [
            "Analyzing SIS...\n",
            "Analyzing SONACOMS...\n",
            "Analyzing SONATSOFTW...\n"
          ]
        },
        {
          "output_type": "stream",
          "name": "stderr",
          "text": [
            "[*********************100%%**********************]  1 of 1 completed\n",
            "[*********************100%%**********************]  1 of 1 completed\n",
            "[*********************100%%**********************]  1 of 1 completed\n"
          ]
        },
        {
          "output_type": "stream",
          "name": "stdout",
          "text": [
            "Analyzing SPORTKING...\n",
            "Analyzing SRF...\n",
            "Analyzing STARHEALTH...\n"
          ]
        },
        {
          "output_type": "stream",
          "name": "stderr",
          "text": [
            "[*********************100%%**********************]  1 of 1 completed\n",
            "[*********************100%%**********************]  1 of 1 completed\n"
          ]
        },
        {
          "output_type": "stream",
          "name": "stdout",
          "text": [
            "Analyzing SUNPHARMA...\n",
            "Analyzing SUNTV...\n"
          ]
        },
        {
          "output_type": "stream",
          "name": "stderr",
          "text": [
            "[*********************100%%**********************]  1 of 1 completed\n",
            "[*********************100%%**********************]  1 of 1 completed\n",
            "[*********************100%%**********************]  1 of 1 completed\n"
          ]
        },
        {
          "output_type": "stream",
          "name": "stdout",
          "text": [
            "Analyzing SURYODAY...\n",
            "Analyzing SUZLON...\n",
            "Analyzing SYMPHONY...\n"
          ]
        },
        {
          "output_type": "stream",
          "name": "stderr",
          "text": [
            "[*********************100%%**********************]  1 of 1 completed\n",
            "[*********************100%%**********************]  1 of 1 completed\n",
            "[*********************100%%**********************]  1 of 1 completed\n"
          ]
        },
        {
          "output_type": "stream",
          "name": "stdout",
          "text": [
            "Analyzing TANLA...\n",
            "Analyzing TASTYBITE...\n",
            "Analyzing TATACOMM...\n"
          ]
        },
        {
          "output_type": "stream",
          "name": "stderr",
          "text": [
            "[*********************100%%**********************]  1 of 1 completed\n",
            "[*********************100%%**********************]  1 of 1 completed\n",
            "[*********************100%%**********************]  1 of 1 completed\n"
          ]
        },
        {
          "output_type": "stream",
          "name": "stdout",
          "text": [
            "Analyzing TATACONSUM...\n",
            "Analyzing TATAELXSI...\n",
            "Analyzing TATAMOTORS...\n"
          ]
        },
        {
          "output_type": "stream",
          "name": "stderr",
          "text": [
            "[*********************100%%**********************]  1 of 1 completed\n",
            "[*********************100%%**********************]  1 of 1 completed\n",
            "[*********************100%%**********************]  1 of 1 completed\n"
          ]
        },
        {
          "output_type": "stream",
          "name": "stdout",
          "text": [
            "Analyzing TATAPOWER...\n",
            "Analyzing TATASTEEL...\n",
            "Analyzing TCS...\n"
          ]
        },
        {
          "output_type": "stream",
          "name": "stderr",
          "text": [
            "[*********************100%%**********************]  1 of 1 completed\n",
            "[*********************100%%**********************]  1 of 1 completed\n",
            "[*********************100%%**********************]  1 of 1 completed\n"
          ]
        },
        {
          "output_type": "stream",
          "name": "stdout",
          "text": [
            "Analyzing TEAMLEASE...\n",
            "Analyzing TECHM...\n",
            "Analyzing TIDEWATER...\n"
          ]
        },
        {
          "output_type": "stream",
          "name": "stderr",
          "text": [
            "[*********************100%%**********************]  1 of 1 completed\n",
            "[*********************100%%**********************]  1 of 1 completed\n"
          ]
        },
        {
          "output_type": "stream",
          "name": "stdout",
          "text": [
            "Analyzing TIPSINDLTD...\n",
            "Analyzing TITAN...\n"
          ]
        },
        {
          "output_type": "stream",
          "name": "stderr",
          "text": [
            "[*********************100%%**********************]  1 of 1 completed\n",
            "[*********************100%%**********************]  1 of 1 completed\n",
            "[*********************100%%**********************]  1 of 1 completed\n"
          ]
        },
        {
          "output_type": "stream",
          "name": "stdout",
          "text": [
            "Analyzing TORNTPHARM...\n",
            "Analyzing TRIDENT...\n",
            "Analyzing TTKPRESTIG...\n"
          ]
        },
        {
          "output_type": "stream",
          "name": "stderr",
          "text": [
            "[*********************100%%**********************]  1 of 1 completed\n",
            "[*********************100%%**********************]  1 of 1 completed\n",
            "[*********************100%%**********************]  1 of 1 completed\n"
          ]
        },
        {
          "output_type": "stream",
          "name": "stdout",
          "text": [
            "Analyzing TV18BRDCST...\n",
            "Analyzing UJJIVAN...\n",
            "Analyzing UJJIVANSFB...\n"
          ]
        },
        {
          "output_type": "stream",
          "name": "stderr",
          "text": [
            "[*********************100%%**********************]  1 of 1 completed\n",
            "[*********************100%%**********************]  1 of 1 completed\n",
            "[*********************100%%**********************]  1 of 1 completed\n"
          ]
        },
        {
          "output_type": "stream",
          "name": "stdout",
          "text": [
            "Analyzing ULTRACEMCO...\n",
            "Analyzing UNIONBANK...\n",
            "Analyzing UPL...\n"
          ]
        },
        {
          "output_type": "stream",
          "name": "stderr",
          "text": [
            "[*********************100%%**********************]  1 of 1 completed\n",
            "[*********************100%%**********************]  1 of 1 completed\n",
            "[*********************100%%**********************]  1 of 1 completed\n"
          ]
        },
        {
          "output_type": "stream",
          "name": "stdout",
          "text": [
            "Analyzing UTIAMC...\n",
            "Analyzing VAIBHAVGBL...\n",
            "Analyzing VALIANTORG...\n"
          ]
        },
        {
          "output_type": "stream",
          "name": "stderr",
          "text": [
            "[*********************100%%**********************]  1 of 1 completed\n",
            "[*********************100%%**********************]  1 of 1 completed\n"
          ]
        },
        {
          "output_type": "stream",
          "name": "stdout",
          "text": [
            "Analyzing VEDL...\n",
            "Analyzing VGUARD...\n"
          ]
        },
        {
          "output_type": "stream",
          "name": "stderr",
          "text": [
            "[*********************100%%**********************]  1 of 1 completed\n",
            "[*********************100%%**********************]  1 of 1 completed\n",
            "[*********************100%%**********************]  1 of 1 completed\n"
          ]
        },
        {
          "output_type": "stream",
          "name": "stdout",
          "text": [
            "Analyzing VINATIORGA...\n",
            "Analyzing VIPIND...\n",
            "Analyzing VOLTAS...\n"
          ]
        },
        {
          "output_type": "stream",
          "name": "stderr",
          "text": [
            "[*********************100%%**********************]  1 of 1 completed\n",
            "[*********************100%%**********************]  1 of 1 completed\n",
            "[*********************100%%**********************]  1 of 1 completed\n"
          ]
        },
        {
          "output_type": "stream",
          "name": "stdout",
          "text": [
            "Analyzing WESTLIFE...\n",
            "Analyzing WHIRLPOOL...\n",
            "Analyzing WIPRO...\n"
          ]
        },
        {
          "output_type": "stream",
          "name": "stderr",
          "text": [
            "[*********************100%%**********************]  1 of 1 completed\n",
            "[*********************100%%**********************]  1 of 1 completed\n",
            "[*********************100%%**********************]  1 of 1 completed\n"
          ]
        },
        {
          "output_type": "stream",
          "name": "stdout",
          "text": [
            "Analyzing WSTCSTPAPR...\n",
            "Analyzing YESBANK...\n",
            "Analyzing ZEEL...\n"
          ]
        },
        {
          "output_type": "stream",
          "name": "stderr",
          "text": [
            "\r[*********************100%%**********************]  1 of 1 completed\n"
          ]
        },
        {
          "output_type": "stream",
          "name": "stdout",
          "text": [
            "Stock: RELAXO, Avg Price Deviation: 0.0257, Max SMA Deviation: 0.0385\n",
            "Stock: SBIETFPB, Avg Price Deviation: 0.0284, Max SMA Deviation: 0.0322\n",
            "Stock: PGHH, Avg Price Deviation: 0.0321, Max SMA Deviation: 0.0649\n",
            "Stock: ICICIBANK, Avg Price Deviation: 0.0323, Max SMA Deviation: 0.0602\n",
            "Stock: KOTAKBANK, Avg Price Deviation: 0.0328, Max SMA Deviation: 0.0191\n",
            "Stock: DABUR, Avg Price Deviation: 0.0334, Max SMA Deviation: 0.0277\n",
            "Stock: NESTLEIND, Avg Price Deviation: 0.0336, Max SMA Deviation: 0.0568\n",
            "Stock: HINDUNILVR, Avg Price Deviation: 0.0342, Max SMA Deviation: 0.0318\n",
            "Stock: BAJAJFINSV, Avg Price Deviation: 0.0347, Max SMA Deviation: 0.0381\n",
            "Stock: PIDILITIND, Avg Price Deviation: 0.0354, Max SMA Deviation: 0.0585\n",
            "Stock: TCS, Avg Price Deviation: 0.0359, Max SMA Deviation: 0.0604\n",
            "Stock: SBICARD, Avg Price Deviation: 0.0369, Max SMA Deviation: 0.0534\n",
            "Stock: SHREECEM, Avg Price Deviation: 0.0377, Max SMA Deviation: 0.0354\n",
            "Stock: JSWSTEEL, Avg Price Deviation: 0.0378, Max SMA Deviation: 0.0507\n",
            "Stock: ASIANPAINT, Avg Price Deviation: 0.0381, Max SMA Deviation: 0.0373\n",
            "Stock: HDFCBANK, Avg Price Deviation: 0.0391, Max SMA Deviation: 0.0348\n",
            "Stock: PAGEIND, Avg Price Deviation: 0.0393, Max SMA Deviation: 0.0332\n",
            "Stock: SBILIFE, Avg Price Deviation: 0.0397, Max SMA Deviation: 0.0637\n",
            "Stock: GRASIM, Avg Price Deviation: 0.0397, Max SMA Deviation: 0.1095\n",
            "Stock: PFIZER, Avg Price Deviation: 0.0398, Max SMA Deviation: 0.0597\n",
            "Stock: ABBOTINDIA, Avg Price Deviation: 0.0400, Max SMA Deviation: 0.0631\n",
            "Stock: MARUTI, Avg Price Deviation: 0.0404, Max SMA Deviation: 0.0915\n",
            "Stock: BERGEPAINT, Avg Price Deviation: 0.0406, Max SMA Deviation: 0.0521\n",
            "Stock: AXISBANK, Avg Price Deviation: 0.0409, Max SMA Deviation: 0.0718\n",
            "Stock: ITC, Avg Price Deviation: 0.0410, Max SMA Deviation: 0.0261\n",
            "Stock: ULTRACEMCO, Avg Price Deviation: 0.0415, Max SMA Deviation: 0.0920\n",
            "Stock: TITAN, Avg Price Deviation: 0.0423, Max SMA Deviation: 0.0897\n",
            "Stock: RELIANCE, Avg Price Deviation: 0.0423, Max SMA Deviation: 0.0765\n",
            "Stock: DMART, Avg Price Deviation: 0.0424, Max SMA Deviation: 0.0738\n",
            "Stock: AETHER, Avg Price Deviation: 0.0425, Max SMA Deviation: 0.0617\n",
            "Stock: ROUTE, Avg Price Deviation: 0.0429, Max SMA Deviation: 0.0383\n",
            "Stock: HAPPSTMNDS, Avg Price Deviation: 0.0430, Max SMA Deviation: 0.0299\n",
            "Stock: FEDERALBNK, Avg Price Deviation: 0.0430, Max SMA Deviation: 0.0744\n",
            "Stock: MARICO, Avg Price Deviation: 0.0434, Max SMA Deviation: 0.0441\n",
            "Stock: INDUSINDBK, Avg Price Deviation: 0.0435, Max SMA Deviation: 0.0629\n",
            "Stock: SIS, Avg Price Deviation: 0.0437, Max SMA Deviation: 0.0486\n",
            "Stock: BRITANNIA, Avg Price Deviation: 0.0445, Max SMA Deviation: 0.0374\n",
            "Stock: SRF, Avg Price Deviation: 0.0445, Max SMA Deviation: 0.0198\n",
            "Stock: VINATIORGA, Avg Price Deviation: 0.0446, Max SMA Deviation: 0.0514\n",
            "Stock: GODREJCP, Avg Price Deviation: 0.0448, Max SMA Deviation: 0.0872\n",
            "Stock: APOLLOHOSP, Avg Price Deviation: 0.0451, Max SMA Deviation: 0.0904\n",
            "Stock: STARHEALTH, Avg Price Deviation: 0.0451, Max SMA Deviation: 0.0360\n",
            "Stock: UTIAMC, Avg Price Deviation: 0.0455, Max SMA Deviation: 0.0881\n",
            "Stock: TTKPRESTIG, Avg Price Deviation: 0.0455, Max SMA Deviation: 0.0372\n",
            "Stock: TECHM, Avg Price Deviation: 0.0456, Max SMA Deviation: 0.0534\n",
            "Stock: BATAINDIA, Avg Price Deviation: 0.0459, Max SMA Deviation: 0.0550\n",
            "Stock: SBIN, Avg Price Deviation: 0.0460, Max SMA Deviation: 0.1133\n",
            "Stock: HAVELLS, Avg Price Deviation: 0.0465, Max SMA Deviation: 0.0863\n",
            "Stock: DRREDDY, Avg Price Deviation: 0.0467, Max SMA Deviation: 0.0684\n",
            "Stock: LT, Avg Price Deviation: 0.0470, Max SMA Deviation: 0.1418\n",
            "Stock: MASFIN, Avg Price Deviation: 0.0471, Max SMA Deviation: 0.0633\n",
            "Stock: CLEAN, Avg Price Deviation: 0.0472, Max SMA Deviation: 0.0252\n",
            "Stock: KANSAINER, Avg Price Deviation: 0.0473, Max SMA Deviation: 0.0729\n",
            "Stock: BAJFINANCE, Avg Price Deviation: 0.0480, Max SMA Deviation: 0.0486\n",
            "Stock: BHARTIARTL, Avg Price Deviation: 0.0480, Max SMA Deviation: 0.1580\n",
            "Stock: METROPOLIS, Avg Price Deviation: 0.0483, Max SMA Deviation: 0.1102\n",
            "Stock: TATACONSUM, Avg Price Deviation: 0.0483, Max SMA Deviation: 0.1233\n",
            "Stock: UPL, Avg Price Deviation: 0.0485, Max SMA Deviation: 0.0931\n",
            "Stock: WESTLIFE, Avg Price Deviation: 0.0489, Max SMA Deviation: 0.0511\n",
            "Stock: BAJAJHLDNG, Avg Price Deviation: 0.0492, Max SMA Deviation: 0.0735\n",
            "Stock: TATASTEEL, Avg Price Deviation: 0.0493, Max SMA Deviation: 0.1247\n",
            "Stock: IGL, Avg Price Deviation: 0.0493, Max SMA Deviation: 0.0542\n",
            "Stock: TATAELXSI, Avg Price Deviation: 0.0499, Max SMA Deviation: 0.0644\n",
            "Stock: SUNPHARMA, Avg Price Deviation: 0.0501, Max SMA Deviation: 0.1384\n",
            "Stock: PIIND, Avg Price Deviation: 0.0510, Max SMA Deviation: 0.0258\n",
            "Stock: ITBEES, Avg Price Deviation: 0.0510, Max SMA Deviation: 0.0730\n",
            "Stock: ICICIGI, Avg Price Deviation: 0.0511, Max SMA Deviation: 0.1081\n",
            "Stock: INDIGOPNTS, Avg Price Deviation: 0.0511, Max SMA Deviation: 0.0494\n",
            "Stock: AWL, Avg Price Deviation: 0.0512, Max SMA Deviation: 0.0542\n",
            "Stock: SONACOMS, Avg Price Deviation: 0.0514, Max SMA Deviation: 0.0746\n",
            "Stock: ALKYLAMINE, Avg Price Deviation: 0.0517, Max SMA Deviation: 0.0610\n",
            "Stock: GILLETTE, Avg Price Deviation: 0.0517, Max SMA Deviation: 0.1164\n",
            "Stock: VIPIND, Avg Price Deviation: 0.0518, Max SMA Deviation: 0.0801\n",
            "Stock: EASEMYTRIP, Avg Price Deviation: 0.0518, Max SMA Deviation: 0.0530\n",
            "Stock: EICHERMOT, Avg Price Deviation: 0.0531, Max SMA Deviation: 0.0968\n",
            "Stock: BOSCHLTD, Avg Price Deviation: 0.0532, Max SMA Deviation: 0.1741\n",
            "Stock: CIPLA, Avg Price Deviation: 0.0533, Max SMA Deviation: 0.1191\n",
            "Stock: AKZOINDIA, Avg Price Deviation: 0.0537, Max SMA Deviation: 0.0283\n",
            "Stock: BANKBARODA, Avg Price Deviation: 0.0539, Max SMA Deviation: 0.1231\n",
            "Stock: LTIM, Avg Price Deviation: 0.0540, Max SMA Deviation: 0.0685\n",
            "Stock: MRF, Avg Price Deviation: 0.0540, Max SMA Deviation: 0.1096\n",
            "Stock: BOROLTD, Avg Price Deviation: 0.0542, Max SMA Deviation: 0.0193\n",
            "Stock: FINEORG, Avg Price Deviation: 0.0543, Max SMA Deviation: 0.0343\n",
            "Stock: POWERGRID, Avg Price Deviation: 0.0543, Max SMA Deviation: 0.1834\n",
            "Stock: WIPRO, Avg Price Deviation: 0.0544, Max SMA Deviation: 0.0715\n",
            "Stock: VGUARD, Avg Price Deviation: 0.0546, Max SMA Deviation: 0.0991\n",
            "Stock: IRCTC, Avg Price Deviation: 0.0550, Max SMA Deviation: 0.1645\n",
            "Stock: BAYERCROP, Avg Price Deviation: 0.0556, Max SMA Deviation: 0.0918\n",
            "Stock: ACC, Avg Price Deviation: 0.0557, Max SMA Deviation: 0.1123\n",
            "Stock: HCLTECH, Avg Price Deviation: 0.0558, Max SMA Deviation: 0.1053\n",
            "Stock: JSWHL, Avg Price Deviation: 0.0559, Max SMA Deviation: 0.1530\n",
            "Stock: QUESS, Avg Price Deviation: 0.0560, Max SMA Deviation: 0.1290\n",
            "Stock: SFL, Avg Price Deviation: 0.0562, Max SMA Deviation: 0.0653\n",
            "Stock: DIVISLAB, Avg Price Deviation: 0.0562, Max SMA Deviation: 0.0575\n",
            "Stock: CUB, Avg Price Deviation: 0.0563, Max SMA Deviation: 0.0531\n",
            "Stock: TRIDENT, Avg Price Deviation: 0.0565, Max SMA Deviation: 0.0749\n",
            "Stock: COLPAL, Avg Price Deviation: 0.0567, Max SMA Deviation: 0.1706\n",
            "Stock: SYMPHONY, Avg Price Deviation: 0.0568, Max SMA Deviation: 0.0657\n",
            "Stock: HDFCLIFE, Avg Price Deviation: 0.0568, Max SMA Deviation: 0.0496\n",
            "Stock: ERIS, Avg Price Deviation: 0.0570, Max SMA Deviation: 0.1015\n",
            "Stock: PVRINOX, Avg Price Deviation: 0.0572, Max SMA Deviation: 0.0780\n",
            "Stock: DEEPAKNTR, Avg Price Deviation: 0.0577, Max SMA Deviation: 0.0605\n",
            "Stock: TATACOMM, Avg Price Deviation: 0.0581, Max SMA Deviation: 0.0701\n",
            "Stock: JUBLFOOD, Avg Price Deviation: 0.0585, Max SMA Deviation: 0.0663\n",
            "Stock: CAMS, Avg Price Deviation: 0.0585, Max SMA Deviation: 0.1357\n",
            "Stock: BALKRISIND, Avg Price Deviation: 0.0586, Max SMA Deviation: 0.0771\n",
            "Stock: HINDALCO, Avg Price Deviation: 0.0586, Max SMA Deviation: 0.1302\n",
            "Stock: INFY, Avg Price Deviation: 0.0588, Max SMA Deviation: 0.0540\n",
            "Stock: RADICO, Avg Price Deviation: 0.0588, Max SMA Deviation: 0.1165\n",
            "Stock: 3MINDIA, Avg Price Deviation: 0.0589, Max SMA Deviation: 0.0860\n",
            "Stock: ISEC, Avg Price Deviation: 0.0590, Max SMA Deviation: 0.1145\n",
            "Stock: CAMPUS, Avg Price Deviation: 0.0590, Max SMA Deviation: 0.0962\n",
            "Stock: APEX, Avg Price Deviation: 0.0591, Max SMA Deviation: 0.0370\n",
            "Stock: AMBUJACEM, Avg Price Deviation: 0.0593, Max SMA Deviation: 0.1377\n",
            "Stock: ONGC, Avg Price Deviation: 0.0593, Max SMA Deviation: 0.1839\n",
            "Stock: HONAUT, Avg Price Deviation: 0.0597, Max SMA Deviation: 0.0897\n",
            "Stock: DCBBANK, Avg Price Deviation: 0.0599, Max SMA Deviation: 0.0445\n",
            "Stock: ICICIPRULI, Avg Price Deviation: 0.0601, Max SMA Deviation: 0.0527\n",
            "Stock: NEOGEN, Avg Price Deviation: 0.0601, Max SMA Deviation: 0.0722\n",
            "Stock: TORNTPHARM, Avg Price Deviation: 0.0602, Max SMA Deviation: 0.1482\n",
            "Stock: AARTIIND, Avg Price Deviation: 0.0609, Max SMA Deviation: 0.1212\n",
            "Stock: SPORTKING, Avg Price Deviation: 0.0614, Max SMA Deviation: 0.0328\n",
            "Stock: VALIANTORG, Avg Price Deviation: 0.0616, Max SMA Deviation: 0.0635\n",
            "Stock: YESBANK, Avg Price Deviation: 0.0620, Max SMA Deviation: 0.1415\n",
            "Stock: CANBK, Avg Price Deviation: 0.0621, Max SMA Deviation: 0.2217\n",
            "Stock: TEAMLEASE, Avg Price Deviation: 0.0623, Max SMA Deviation: 0.0962\n",
            "Stock: SANOFI, Avg Price Deviation: 0.0623, Max SMA Deviation: 0.0956\n",
            "Stock: BIOCON, Avg Price Deviation: 0.0625, Max SMA Deviation: 0.0734\n",
            "Stock: VOLTAS, Avg Price Deviation: 0.0627, Max SMA Deviation: 0.1676\n",
            "Stock: NTPC, Avg Price Deviation: 0.0629, Max SMA Deviation: 0.2261\n",
            "Stock: MUTHOOTFIN, Avg Price Deviation: 0.0630, Max SMA Deviation: 0.1155\n",
            "Stock: NAUKRI, Avg Price Deviation: 0.0631, Max SMA Deviation: 0.1257\n",
            "Stock: ABSLAMC, Avg Price Deviation: 0.0631, Max SMA Deviation: 0.1339\n",
            "Stock: GAIL, Avg Price Deviation: 0.0633, Max SMA Deviation: 0.2171\n",
            "Stock: ARVINDFASN, Avg Price Deviation: 0.0635, Max SMA Deviation: 0.1553\n",
            "Stock: AUBANK, Avg Price Deviation: 0.0645, Max SMA Deviation: 0.0564\n",
            "Stock: CROMPTON, Avg Price Deviation: 0.0645, Max SMA Deviation: 0.0668\n",
            "Stock: LALPATHLAB, Avg Price Deviation: 0.0646, Max SMA Deviation: 0.0812\n",
            "Stock: AVANTIFEED, Avg Price Deviation: 0.0655, Max SMA Deviation: 0.1162\n",
            "Stock: CERA, Avg Price Deviation: 0.0658, Max SMA Deviation: 0.0795\n",
            "Stock: BPCL, Avg Price Deviation: 0.0658, Max SMA Deviation: 0.1936\n",
            "Stock: INDIANB, Avg Price Deviation: 0.0660, Max SMA Deviation: 0.1837\n",
            "Stock: COALINDIA, Avg Price Deviation: 0.0663, Max SMA Deviation: 0.2547\n",
            "Stock: ROSSARI, Avg Price Deviation: 0.0664, Max SMA Deviation: 0.0408\n",
            "Stock: JINDALSTEL, Avg Price Deviation: 0.0665, Max SMA Deviation: 0.1513\n",
            "Stock: TATAPOWER, Avg Price Deviation: 0.0667, Max SMA Deviation: 0.2364\n",
            "Stock: EQUITASBNK, Avg Price Deviation: 0.0671, Max SMA Deviation: 0.0781\n",
            "Stock: BANDHANBNK, Avg Price Deviation: 0.0672, Max SMA Deviation: 0.0633\n",
            "Stock: GODREJIND, Avg Price Deviation: 0.0677, Max SMA Deviation: 0.2066\n",
            "Stock: HDFCAMC, Avg Price Deviation: 0.0682, Max SMA Deviation: 0.2136\n",
            "Stock: IEX, Avg Price Deviation: 0.0685, Max SMA Deviation: 0.0642\n",
            "Stock: MANAPPURAM, Avg Price Deviation: 0.0688, Max SMA Deviation: 0.1391\n",
            "Stock: VAIBHAVGBL, Avg Price Deviation: 0.0690, Max SMA Deviation: 0.1316\n",
            "Stock: GREENPANEL, Avg Price Deviation: 0.0691, Max SMA Deviation: 0.0821\n",
            "Stock: MAXHEALTH, Avg Price Deviation: 0.0692, Max SMA Deviation: 0.1554\n",
            "Stock: PEL, Avg Price Deviation: 0.0693, Max SMA Deviation: 0.0707\n",
            "Stock: AAVAS, Avg Price Deviation: 0.0697, Max SMA Deviation: 0.0400\n",
            "Stock: WHIRLPOOL, Avg Price Deviation: 0.0697, Max SMA Deviation: 0.0919\n",
            "Stock: RAJESHEXPO, Avg Price Deviation: 0.0704, Max SMA Deviation: 0.2098\n",
            "Stock: BAJAJ-AUTO, Avg Price Deviation: 0.0707, Max SMA Deviation: 0.2509\n",
            "Stock: SAIL, Avg Price Deviation: 0.0707, Max SMA Deviation: 0.1876\n",
            "Stock: WSTCSTPAPR, Avg Price Deviation: 0.0714, Max SMA Deviation: 0.1071\n",
            "Stock: HATHWAY, Avg Price Deviation: 0.0715, Max SMA Deviation: 0.1381\n",
            "Stock: SUNTV, Avg Price Deviation: 0.0718, Max SMA Deviation: 0.1268\n",
            "Stock: HEROMOTOCO, Avg Price Deviation: 0.0721, Max SMA Deviation: 0.2066\n",
            "Stock: TATAMOTORS, Avg Price Deviation: 0.0721, Max SMA Deviation: 0.2065\n",
            "Stock: BLUESTARCO, Avg Price Deviation: 0.0723, Max SMA Deviation: 0.2407\n",
            "Stock: INDIGO, Avg Price Deviation: 0.0723, Max SMA Deviation: 0.1758\n",
            "Stock: LICI, Avg Price Deviation: 0.0725, Max SMA Deviation: 0.1772\n",
            "Stock: M&M, Avg Price Deviation: 0.0730, Max SMA Deviation: 0.1723\n",
            "Stock: LICHSGFIN, Avg Price Deviation: 0.0732, Max SMA Deviation: 0.1967\n",
            "Stock: IOC, Avg Price Deviation: 0.0733, Max SMA Deviation: 0.2347\n",
            "Stock: RBLBANK, Avg Price Deviation: 0.0734, Max SMA Deviation: 0.1202\n",
            "Stock: BANKINDIA, Avg Price Deviation: 0.0735, Max SMA Deviation: 0.1837\n",
            "Stock: CHOLAFIN, Avg Price Deviation: 0.0737, Max SMA Deviation: 0.0786\n",
            "Stock: DLF, Avg Price Deviation: 0.0755, Max SMA Deviation: 0.2297\n",
            "Stock: ASTRAZEN, Avg Price Deviation: 0.0770, Max SMA Deviation: 0.1736\n",
            "Stock: NATIONALUM, Avg Price Deviation: 0.0772, Max SMA Deviation: 0.2587\n",
            "Stock: JMFINANCIL, Avg Price Deviation: 0.0772, Max SMA Deviation: 0.1151\n",
            "Stock: CDSL, Avg Price Deviation: 0.0774, Max SMA Deviation: 0.2318\n",
            "Stock: UNIONBANK, Avg Price Deviation: 0.0774, Max SMA Deviation: 0.2288\n",
            "Stock: GLAXO, Avg Price Deviation: 0.0777, Max SMA Deviation: 0.1866\n",
            "Stock: 5PAISA, Avg Price Deviation: 0.0779, Max SMA Deviation: 0.1446\n",
            "Stock: VEDL, Avg Price Deviation: 0.0781, Max SMA Deviation: 0.1845\n",
            "Stock: DEN, Avg Price Deviation: 0.0788, Max SMA Deviation: 0.1716\n",
            "Stock: APLLTD, Avg Price Deviation: 0.0789, Max SMA Deviation: 0.1508\n",
            "Stock: SIEMENS, Avg Price Deviation: 0.0796, Max SMA Deviation: 0.1844\n",
            "Stock: CASTROLIND, Avg Price Deviation: 0.0800, Max SMA Deviation: 0.1725\n",
            "Stock: FOSECOIND, Avg Price Deviation: 0.0801, Max SMA Deviation: 0.1097\n",
            "Stock: SHARDACROP, Avg Price Deviation: 0.0806, Max SMA Deviation: 0.0935\n",
            "Stock: LUPIN, Avg Price Deviation: 0.0816, Max SMA Deviation: 0.2289\n",
            "Stock: LUXIND, Avg Price Deviation: 0.0821, Max SMA Deviation: 0.0808\n",
            "Stock: PRAJIND, Avg Price Deviation: 0.0822, Max SMA Deviation: 0.1291\n",
            "Stock: SURYODAY, Avg Price Deviation: 0.0845, Max SMA Deviation: 0.0795\n",
            "Stock: PNB, Avg Price Deviation: 0.0848, Max SMA Deviation: 0.2985\n",
            "Stock: SAMMAANCAP, Avg Price Deviation: 0.0854, Max SMA Deviation: 0.1681\n",
            "Stock: CENTRALBK, Avg Price Deviation: 0.0860, Max SMA Deviation: 0.2739\n",
            "Stock: NMDC, Avg Price Deviation: 0.0861, Max SMA Deviation: 0.2852\n",
            "Stock: INDUSTOWER, Avg Price Deviation: 0.0871, Max SMA Deviation: 0.2420\n",
            "Stock: TASTYBITE, Avg Price Deviation: 0.0872, Max SMA Deviation: 0.1565\n",
            "Stock: JCHAC, Avg Price Deviation: 0.0880, Max SMA Deviation: 0.0944\n",
            "Stock: CAPLIPOINT, Avg Price Deviation: 0.0882, Max SMA Deviation: 0.1989\n",
            "Stock: SHALBY, Avg Price Deviation: 0.0883, Max SMA Deviation: 0.1969\n",
            "Stock: TIDEWATER, Avg Price Deviation: 0.0888, Max SMA Deviation: 0.2132\n",
            "Stock: NAM-INDIA, Avg Price Deviation: 0.0892, Max SMA Deviation: 0.2777\n",
            "Stock: UJJIVANSFB, Avg Price Deviation: 0.0896, Max SMA Deviation: 0.1592\n",
            "Stock: POLYCAB, Avg Price Deviation: 0.0898, Max SMA Deviation: 0.1527\n",
            "Stock: DREAMFOLKS, Avg Price Deviation: 0.0898, Max SMA Deviation: 0.0372\n",
            "Stock: AUROPHARMA, Avg Price Deviation: 0.0898, Max SMA Deviation: 0.1924\n",
            "Stock: IBREALEST, Avg Price Deviation: 0.0907, Max SMA Deviation: 0.2485\n",
            "Stock: GEOJITFSL, Avg Price Deviation: 0.0909, Max SMA Deviation: 0.2518\n",
            "Stock: MCX, Avg Price Deviation: 0.0910, Max SMA Deviation: 0.3376\n",
            "Stock: GULFOILLUB, Avg Price Deviation: 0.0924, Max SMA Deviation: 0.2701\n",
            "Stock: HINDPETRO, Avg Price Deviation: 0.0925, Max SMA Deviation: 0.2476\n",
            "Stock: EMAMILTD, Avg Price Deviation: 0.0928, Max SMA Deviation: 0.1208\n",
            "Stock: NETWORK18, Avg Price Deviation: 0.0930, Max SMA Deviation: 0.1764\n",
            "Stock: GLAND, Avg Price Deviation: 0.0934, Max SMA Deviation: 0.1360\n",
            "Stock: EXIDEIND, Avg Price Deviation: 0.0951, Max SMA Deviation: 0.2402\n",
            "Stock: NIACL, Avg Price Deviation: 0.0953, Max SMA Deviation: 0.2746\n",
            "Stock: TV18BRDCST, Avg Price Deviation: 0.0956, Max SMA Deviation: 0.1546\n",
            "Stock: SONATSOFTW, Avg Price Deviation: 0.0957, Max SMA Deviation: 0.1803\n",
            "Stock: J&KBANK, Avg Price Deviation: 0.0957, Max SMA Deviation: 0.2721\n",
            "Stock: ZEEL, Avg Price Deviation: 0.0963, Max SMA Deviation: 0.2005\n",
            "Stock: TANLA, Avg Price Deviation: 0.0978, Max SMA Deviation: 0.0798\n",
            "Stock: REPCOHOME, Avg Price Deviation: 0.0999, Max SMA Deviation: 0.1927\n",
            "Stock: JYOTHYLAB, Avg Price Deviation: 0.1002, Max SMA Deviation: 0.2327\n",
            "Stock: ASIANTILES, Avg Price Deviation: 0.1002, Max SMA Deviation: 0.1603\n",
            "Stock: GICRE, Avg Price Deviation: 0.1018, Max SMA Deviation: 0.2583\n",
            "Stock: COFFEEDAY, Avg Price Deviation: 0.1021, Max SMA Deviation: 0.1596\n",
            "Stock: INFIBEAM, Avg Price Deviation: 0.1025, Max SMA Deviation: 0.2931\n",
            "Stock: OFSS, Avg Price Deviation: 0.1046, Max SMA Deviation: 0.2922\n",
            "Stock: DIXON, Avg Price Deviation: 0.1075, Max SMA Deviation: 0.2933\n",
            "Stock: BAJAJHIND, Avg Price Deviation: 0.1114, Max SMA Deviation: 0.2647\n",
            "Stock: BSOFT, Avg Price Deviation: 0.1129, Max SMA Deviation: 0.2650\n",
            "Stock: FINCABLES, Avg Price Deviation: 0.1135, Max SMA Deviation: 0.1110\n",
            "Stock: ANGELONE, Avg Price Deviation: 0.1151, Max SMA Deviation: 0.2817\n",
            "Stock: BIRLAMONEY, Avg Price Deviation: 0.1157, Max SMA Deviation: 0.3079\n",
            "Stock: TIPSINDLTD, Avg Price Deviation: 0.1195, Max SMA Deviation: 0.2523\n",
            "Stock: PARAGMILK, Avg Price Deviation: 0.1203, Max SMA Deviation: 0.2399\n",
            "Stock: JPPOWER, Avg Price Deviation: 0.1204, Max SMA Deviation: 0.3972\n",
            "Stock: HSCL, Avg Price Deviation: 0.1369, Max SMA Deviation: 0.3681\n",
            "Stock: ARE&M, Avg Price Deviation: 0.1448, Max SMA Deviation: 0.5046\n",
            "Stock: MOTILALOFS, Avg Price Deviation: 0.1529, Max SMA Deviation: 0.2648\n",
            "Stock: SUZLON, Avg Price Deviation: 0.1768, Max SMA Deviation: 0.4441\n",
            "Stock: UJJIVAN, Avg Price Deviation: nan, Max SMA Deviation: nan\n"
          ]
        }
      ]
    },
    {
      "cell_type": "code",
      "source": [
        "filtered_stocks = pd.DataFrame(filtered_stocks)\n",
        "filtered_stocks[(filtered_stocks['avg_price_deviation'] < 0.2)  & (filtered_stocks['avg_sma_deviation'] > 0.3)]\n",
        "## 0.025, 0.50"
      ],
      "metadata": {
        "id": "y2IYJVj3TCou",
        "outputId": "464e5e1b-e51f-4fbe-d5e9-027d50ef5616",
        "colab": {
          "base_uri": "https://localhost:8080/",
          "height": 237
        }
      },
      "execution_count": 14,
      "outputs": [
        {
          "output_type": "execute_result",
          "data": {
            "text/plain": [
              "          stock  avg_price_deviation  avg_sma_deviation\n",
              "211         MCX             0.091011           0.337600\n",
              "236  BIRLAMONEY             0.115731           0.307925\n",
              "239     JPPOWER             0.120352           0.397203\n",
              "240        HSCL             0.136858           0.368071\n",
              "241       ARE&M             0.144822           0.504554\n",
              "243      SUZLON             0.176849           0.444090"
            ],
            "text/html": [
              "\n",
              "  <div id=\"df-efa14fdb-fe60-442c-a520-09f182fea5b1\" class=\"colab-df-container\">\n",
              "    <div>\n",
              "<style scoped>\n",
              "    .dataframe tbody tr th:only-of-type {\n",
              "        vertical-align: middle;\n",
              "    }\n",
              "\n",
              "    .dataframe tbody tr th {\n",
              "        vertical-align: top;\n",
              "    }\n",
              "\n",
              "    .dataframe thead th {\n",
              "        text-align: right;\n",
              "    }\n",
              "</style>\n",
              "<table border=\"1\" class=\"dataframe\">\n",
              "  <thead>\n",
              "    <tr style=\"text-align: right;\">\n",
              "      <th></th>\n",
              "      <th>stock</th>\n",
              "      <th>avg_price_deviation</th>\n",
              "      <th>avg_sma_deviation</th>\n",
              "    </tr>\n",
              "  </thead>\n",
              "  <tbody>\n",
              "    <tr>\n",
              "      <th>211</th>\n",
              "      <td>MCX</td>\n",
              "      <td>0.091011</td>\n",
              "      <td>0.337600</td>\n",
              "    </tr>\n",
              "    <tr>\n",
              "      <th>236</th>\n",
              "      <td>BIRLAMONEY</td>\n",
              "      <td>0.115731</td>\n",
              "      <td>0.307925</td>\n",
              "    </tr>\n",
              "    <tr>\n",
              "      <th>239</th>\n",
              "      <td>JPPOWER</td>\n",
              "      <td>0.120352</td>\n",
              "      <td>0.397203</td>\n",
              "    </tr>\n",
              "    <tr>\n",
              "      <th>240</th>\n",
              "      <td>HSCL</td>\n",
              "      <td>0.136858</td>\n",
              "      <td>0.368071</td>\n",
              "    </tr>\n",
              "    <tr>\n",
              "      <th>241</th>\n",
              "      <td>ARE&amp;M</td>\n",
              "      <td>0.144822</td>\n",
              "      <td>0.504554</td>\n",
              "    </tr>\n",
              "    <tr>\n",
              "      <th>243</th>\n",
              "      <td>SUZLON</td>\n",
              "      <td>0.176849</td>\n",
              "      <td>0.444090</td>\n",
              "    </tr>\n",
              "  </tbody>\n",
              "</table>\n",
              "</div>\n",
              "    <div class=\"colab-df-buttons\">\n",
              "\n",
              "  <div class=\"colab-df-container\">\n",
              "    <button class=\"colab-df-convert\" onclick=\"convertToInteractive('df-efa14fdb-fe60-442c-a520-09f182fea5b1')\"\n",
              "            title=\"Convert this dataframe to an interactive table.\"\n",
              "            style=\"display:none;\">\n",
              "\n",
              "  <svg xmlns=\"http://www.w3.org/2000/svg\" height=\"24px\" viewBox=\"0 -960 960 960\">\n",
              "    <path d=\"M120-120v-720h720v720H120Zm60-500h600v-160H180v160Zm220 220h160v-160H400v160Zm0 220h160v-160H400v160ZM180-400h160v-160H180v160Zm440 0h160v-160H620v160ZM180-180h160v-160H180v160Zm440 0h160v-160H620v160Z\"/>\n",
              "  </svg>\n",
              "    </button>\n",
              "\n",
              "  <style>\n",
              "    .colab-df-container {\n",
              "      display:flex;\n",
              "      gap: 12px;\n",
              "    }\n",
              "\n",
              "    .colab-df-convert {\n",
              "      background-color: #E8F0FE;\n",
              "      border: none;\n",
              "      border-radius: 50%;\n",
              "      cursor: pointer;\n",
              "      display: none;\n",
              "      fill: #1967D2;\n",
              "      height: 32px;\n",
              "      padding: 0 0 0 0;\n",
              "      width: 32px;\n",
              "    }\n",
              "\n",
              "    .colab-df-convert:hover {\n",
              "      background-color: #E2EBFA;\n",
              "      box-shadow: 0px 1px 2px rgba(60, 64, 67, 0.3), 0px 1px 3px 1px rgba(60, 64, 67, 0.15);\n",
              "      fill: #174EA6;\n",
              "    }\n",
              "\n",
              "    .colab-df-buttons div {\n",
              "      margin-bottom: 4px;\n",
              "    }\n",
              "\n",
              "    [theme=dark] .colab-df-convert {\n",
              "      background-color: #3B4455;\n",
              "      fill: #D2E3FC;\n",
              "    }\n",
              "\n",
              "    [theme=dark] .colab-df-convert:hover {\n",
              "      background-color: #434B5C;\n",
              "      box-shadow: 0px 1px 3px 1px rgba(0, 0, 0, 0.15);\n",
              "      filter: drop-shadow(0px 1px 2px rgba(0, 0, 0, 0.3));\n",
              "      fill: #FFFFFF;\n",
              "    }\n",
              "  </style>\n",
              "\n",
              "    <script>\n",
              "      const buttonEl =\n",
              "        document.querySelector('#df-efa14fdb-fe60-442c-a520-09f182fea5b1 button.colab-df-convert');\n",
              "      buttonEl.style.display =\n",
              "        google.colab.kernel.accessAllowed ? 'block' : 'none';\n",
              "\n",
              "      async function convertToInteractive(key) {\n",
              "        const element = document.querySelector('#df-efa14fdb-fe60-442c-a520-09f182fea5b1');\n",
              "        const dataTable =\n",
              "          await google.colab.kernel.invokeFunction('convertToInteractive',\n",
              "                                                    [key], {});\n",
              "        if (!dataTable) return;\n",
              "\n",
              "        const docLinkHtml = 'Like what you see? Visit the ' +\n",
              "          '<a target=\"_blank\" href=https://colab.research.google.com/notebooks/data_table.ipynb>data table notebook</a>'\n",
              "          + ' to learn more about interactive tables.';\n",
              "        element.innerHTML = '';\n",
              "        dataTable['output_type'] = 'display_data';\n",
              "        await google.colab.output.renderOutput(dataTable, element);\n",
              "        const docLink = document.createElement('div');\n",
              "        docLink.innerHTML = docLinkHtml;\n",
              "        element.appendChild(docLink);\n",
              "      }\n",
              "    </script>\n",
              "  </div>\n",
              "\n",
              "\n",
              "<div id=\"df-763633fd-5ac2-45a4-8694-a20f86f37e81\">\n",
              "  <button class=\"colab-df-quickchart\" onclick=\"quickchart('df-763633fd-5ac2-45a4-8694-a20f86f37e81')\"\n",
              "            title=\"Suggest charts\"\n",
              "            style=\"display:none;\">\n",
              "\n",
              "<svg xmlns=\"http://www.w3.org/2000/svg\" height=\"24px\"viewBox=\"0 0 24 24\"\n",
              "     width=\"24px\">\n",
              "    <g>\n",
              "        <path d=\"M19 3H5c-1.1 0-2 .9-2 2v14c0 1.1.9 2 2 2h14c1.1 0 2-.9 2-2V5c0-1.1-.9-2-2-2zM9 17H7v-7h2v7zm4 0h-2V7h2v10zm4 0h-2v-4h2v4z\"/>\n",
              "    </g>\n",
              "</svg>\n",
              "  </button>\n",
              "\n",
              "<style>\n",
              "  .colab-df-quickchart {\n",
              "      --bg-color: #E8F0FE;\n",
              "      --fill-color: #1967D2;\n",
              "      --hover-bg-color: #E2EBFA;\n",
              "      --hover-fill-color: #174EA6;\n",
              "      --disabled-fill-color: #AAA;\n",
              "      --disabled-bg-color: #DDD;\n",
              "  }\n",
              "\n",
              "  [theme=dark] .colab-df-quickchart {\n",
              "      --bg-color: #3B4455;\n",
              "      --fill-color: #D2E3FC;\n",
              "      --hover-bg-color: #434B5C;\n",
              "      --hover-fill-color: #FFFFFF;\n",
              "      --disabled-bg-color: #3B4455;\n",
              "      --disabled-fill-color: #666;\n",
              "  }\n",
              "\n",
              "  .colab-df-quickchart {\n",
              "    background-color: var(--bg-color);\n",
              "    border: none;\n",
              "    border-radius: 50%;\n",
              "    cursor: pointer;\n",
              "    display: none;\n",
              "    fill: var(--fill-color);\n",
              "    height: 32px;\n",
              "    padding: 0;\n",
              "    width: 32px;\n",
              "  }\n",
              "\n",
              "  .colab-df-quickchart:hover {\n",
              "    background-color: var(--hover-bg-color);\n",
              "    box-shadow: 0 1px 2px rgba(60, 64, 67, 0.3), 0 1px 3px 1px rgba(60, 64, 67, 0.15);\n",
              "    fill: var(--button-hover-fill-color);\n",
              "  }\n",
              "\n",
              "  .colab-df-quickchart-complete:disabled,\n",
              "  .colab-df-quickchart-complete:disabled:hover {\n",
              "    background-color: var(--disabled-bg-color);\n",
              "    fill: var(--disabled-fill-color);\n",
              "    box-shadow: none;\n",
              "  }\n",
              "\n",
              "  .colab-df-spinner {\n",
              "    border: 2px solid var(--fill-color);\n",
              "    border-color: transparent;\n",
              "    border-bottom-color: var(--fill-color);\n",
              "    animation:\n",
              "      spin 1s steps(1) infinite;\n",
              "  }\n",
              "\n",
              "  @keyframes spin {\n",
              "    0% {\n",
              "      border-color: transparent;\n",
              "      border-bottom-color: var(--fill-color);\n",
              "      border-left-color: var(--fill-color);\n",
              "    }\n",
              "    20% {\n",
              "      border-color: transparent;\n",
              "      border-left-color: var(--fill-color);\n",
              "      border-top-color: var(--fill-color);\n",
              "    }\n",
              "    30% {\n",
              "      border-color: transparent;\n",
              "      border-left-color: var(--fill-color);\n",
              "      border-top-color: var(--fill-color);\n",
              "      border-right-color: var(--fill-color);\n",
              "    }\n",
              "    40% {\n",
              "      border-color: transparent;\n",
              "      border-right-color: var(--fill-color);\n",
              "      border-top-color: var(--fill-color);\n",
              "    }\n",
              "    60% {\n",
              "      border-color: transparent;\n",
              "      border-right-color: var(--fill-color);\n",
              "    }\n",
              "    80% {\n",
              "      border-color: transparent;\n",
              "      border-right-color: var(--fill-color);\n",
              "      border-bottom-color: var(--fill-color);\n",
              "    }\n",
              "    90% {\n",
              "      border-color: transparent;\n",
              "      border-bottom-color: var(--fill-color);\n",
              "    }\n",
              "  }\n",
              "</style>\n",
              "\n",
              "  <script>\n",
              "    async function quickchart(key) {\n",
              "      const quickchartButtonEl =\n",
              "        document.querySelector('#' + key + ' button');\n",
              "      quickchartButtonEl.disabled = true;  // To prevent multiple clicks.\n",
              "      quickchartButtonEl.classList.add('colab-df-spinner');\n",
              "      try {\n",
              "        const charts = await google.colab.kernel.invokeFunction(\n",
              "            'suggestCharts', [key], {});\n",
              "      } catch (error) {\n",
              "        console.error('Error during call to suggestCharts:', error);\n",
              "      }\n",
              "      quickchartButtonEl.classList.remove('colab-df-spinner');\n",
              "      quickchartButtonEl.classList.add('colab-df-quickchart-complete');\n",
              "    }\n",
              "    (() => {\n",
              "      let quickchartButtonEl =\n",
              "        document.querySelector('#df-763633fd-5ac2-45a4-8694-a20f86f37e81 button');\n",
              "      quickchartButtonEl.style.display =\n",
              "        google.colab.kernel.accessAllowed ? 'block' : 'none';\n",
              "    })();\n",
              "  </script>\n",
              "</div>\n",
              "\n",
              "    </div>\n",
              "  </div>\n"
            ],
            "application/vnd.google.colaboratory.intrinsic+json": {
              "type": "dataframe",
              "summary": "{\n  \"name\": \"## 0\",\n  \"rows\": 6,\n  \"fields\": [\n    {\n      \"column\": \"stock\",\n      \"properties\": {\n        \"dtype\": \"string\",\n        \"num_unique_values\": 6,\n        \"samples\": [\n          \"MCX\",\n          \"BIRLAMONEY\",\n          \"SUZLON\"\n        ],\n        \"semantic_type\": \"\",\n        \"description\": \"\"\n      }\n    },\n    {\n      \"column\": \"avg_price_deviation\",\n      \"properties\": {\n        \"dtype\": \"number\",\n        \"std\": 0.02923406540470527,\n        \"min\": 0.09101055389069011,\n        \"max\": 0.17684908714678588,\n        \"num_unique_values\": 6,\n        \"samples\": [\n          0.09101055389069011,\n          0.1157310211883795,\n          0.17684908714678588\n        ],\n        \"semantic_type\": \"\",\n        \"description\": \"\"\n      }\n    },\n    {\n      \"column\": \"avg_sma_deviation\",\n      \"properties\": {\n        \"dtype\": \"number\",\n        \"std\": 0.07211097097136289,\n        \"min\": 0.307925485491969,\n        \"max\": 0.504553568662385,\n        \"num_unique_values\": 6,\n        \"samples\": [\n          0.3376000392578601,\n          0.307925485491969,\n          0.44408959325762176\n        ],\n        \"semantic_type\": \"\",\n        \"description\": \"\"\n      }\n    }\n  ]\n}"
            }
          },
          "metadata": {},
          "execution_count": 14
        }
      ]
    },
    {
      "cell_type": "code",
      "source": [
        "import yfinance as yf\n",
        "import pandas as pd\n",
        "import numpy as np\n",
        "\n",
        "class StockTradingSignals:\n",
        "\n",
        "    def __init__(self, stock_list, start_date='2023-01-01', end_date=None):\n",
        "        self.stock_list = stock_list\n",
        "        self.start_date = start_date\n",
        "        self.end_date = end_date\n",
        "        self.trading_signals = {}\n",
        "\n",
        "    def fetch_data(self, ticker):\n",
        "        \"\"\"Fetch stock data from Yahoo Finance.\"\"\"\n",
        "        try:\n",
        "            data = yf.download(ticker+ '.NS', start=self.start_date, end=self.end_date)\n",
        "            return data\n",
        "        except Exception as e:\n",
        "            print(f\"Error fetching data for {ticker}: {e}\")\n",
        "            return None\n",
        "\n",
        "    def calculate_smas(self, data):\n",
        "        \"\"\"Calculate the 50-day and 200-day SMAs.\"\"\"\n",
        "        data['50_SMA'] = data['Close'].rolling(window=50).mean()\n",
        "        data['200_SMA'] = data['Close'].rolling(window=200).mean()\n",
        "        return data\n",
        "\n",
        "    def generate_trading_signals(self, data):\n",
        "        \"\"\"Generate buy and sell signals based on SMA crossovers.\"\"\"\n",
        "        data['Signal'] = 0  # 0 for no action, 1 for buy, -1 for sell\n",
        "\n",
        "        # Buy signal: when 50D SMA < 200D SMA and Close crosses above 50D SMA\n",
        "        buy_condition = (data['Close'] > data['50_SMA']) & (data['50_SMA'] < data['200_SMA']) & (data['Close'].shift(1) <= data['50_SMA'].shift(1))\n",
        "\n",
        "        # Sell signal: when 50D SMA > 200D SMA and Close crosses below 50D SMA\n",
        "        sell_condition = (data['Close'] < data['50_SMA']) & (data['50_SMA'] > data['200_SMA']) & (data['Close'].shift(1) >= data['50_SMA'].shift(1))\n",
        "\n",
        "        # Assign signals\n",
        "        data.loc[buy_condition, 'Signal'] = 1\n",
        "        data.loc[sell_condition, 'Signal'] = -1\n",
        "\n",
        "        return data\n",
        "\n",
        "    def analyze_stocks(self):\n",
        "        \"\"\"Analyze all stocks in the list and generate trading signals.\"\"\"\n",
        "        for stock in self.stock_list:\n",
        "            print(f\"Analyzing {stock}...\")\n",
        "            data = self.fetch_data(stock)\n",
        "            if data is not None and not data.empty:\n",
        "                data = self.calculate_smas(data)\n",
        "                data = self.generate_trading_signals(data)\n",
        "                self.trading_signals[stock] = data[['Close', '50_SMA', '200_SMA', 'Signal']]\n",
        "\n",
        "    def get_trading_signals(self):\n",
        "        \"\"\"Return the generated trading signals for all stocks.\"\"\"\n",
        "        return self.trading_signals\n"
      ],
      "metadata": {
        "id": "bw7CI7gmZqLz"
      },
      "execution_count": 6,
      "outputs": []
    },
    {
      "cell_type": "code",
      "source": [
        "# Define the list of stocks to analyze\n",
        "stock_list = ['BIRLAMONEY'] #filtered_stocks['stock'].values\n",
        "\n",
        "# Instantiate the StockTradingSignals class\n",
        "trading_signals = StockTradingSignals(stock_list, start_date='2023-01-01')\n",
        "\n",
        "# Analyze stocks and generate trading signals\n",
        "trading_signals.analyze_stocks()\n",
        "\n",
        "# Get and print the trading signals\n",
        "signals = trading_signals.get_trading_signals()\n",
        "for stock, signal_data in signals.items():\n",
        "    print(f\"\\n{stock} Trading Signals:\")\n",
        "    print(signal_data[signal_data['Signal'] != 0])  # Print only rows where there is a buy/sell signal\n"
      ],
      "metadata": {
        "id": "abMV384eZtZj",
        "outputId": "c3e65c80-a687-41e8-b346-a69c5acfd518",
        "colab": {
          "base_uri": "https://localhost:8080/"
        }
      },
      "execution_count": 16,
      "outputs": [
        {
          "output_type": "stream",
          "name": "stderr",
          "text": [
            "\r[*********************100%%**********************]  1 of 1 completed"
          ]
        },
        {
          "output_type": "stream",
          "name": "stdout",
          "text": [
            "Analyzing BIRLAMONEY...\n",
            "\n",
            "BIRLAMONEY Trading Signals:\n",
            "                 Close      50_SMA    200_SMA  Signal\n",
            "Date                                                 \n",
            "2023-12-20  100.250000  104.041000   69.90550      -1\n",
            "2024-02-09  115.750000  116.288000   81.82100      -1\n",
            "2024-02-16  115.400002  117.080000   83.43925      -1\n",
            "2024-02-21  115.199997  117.569000   84.42750      -1\n",
            "2024-04-08  110.400002  110.761000   92.29100      -1\n",
            "2024-04-15  105.050003  109.194000   93.33950      -1\n",
            "2024-08-05  155.720001  157.850799  124.00495      -1\n",
            "2024-08-14  156.740005  162.921400  126.34660      -1\n"
          ]
        },
        {
          "output_type": "stream",
          "name": "stderr",
          "text": [
            "\n"
          ]
        }
      ]
    }
  ]
}