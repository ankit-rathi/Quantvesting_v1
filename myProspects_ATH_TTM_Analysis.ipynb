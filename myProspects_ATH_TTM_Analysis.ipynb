{
  "metadata": {
    "kernelspec": {
      "language": "python",
      "display_name": "Python 3",
      "name": "python3"
    },
    "language_info": {
      "name": "python",
      "version": "3.7.12",
      "mimetype": "text/x-python",
      "codemirror_mode": {
        "name": "ipython",
        "version": 3
      },
      "pygments_lexer": "ipython3",
      "nbconvert_exporter": "python",
      "file_extension": ".py"
    },
    "colab": {
      "provenance": [],
      "include_colab_link": true
    }
  },
  "nbformat_minor": 0,
  "nbformat": 4,
  "cells": [
    {
      "cell_type": "markdown",
      "metadata": {
        "id": "view-in-github",
        "colab_type": "text"
      },
      "source": [
        "<a href=\"https://colab.research.google.com/github/ankit-rathi/Tradevesting/blob/main/myProspects_ATH_TTM_Analysis.ipynb\" target=\"_parent\"><img src=\"https://colab.research.google.com/assets/colab-badge.svg\" alt=\"Open In Colab\"/></a>"
      ]
    },
    {
      "cell_type": "code",
      "source": [
        "import datetime\n",
        "import pytz\n",
        "tz_NY = pytz.timezone('Asia/Kolkata')\n",
        "datetime_NY = datetime.datetime.now(tz_NY)\n",
        "print(\"Run date time (IST):\", datetime_NY.strftime(\"%Y-%m-%d %H:%M:%S\"))"
      ],
      "metadata": {
        "colab": {
          "base_uri": "https://localhost:8080/"
        },
        "id": "kzCrEFX1HrX0",
        "outputId": "3b15f867-7b11-4a0a-b400-e03f11ed5944"
      },
      "execution_count": 1,
      "outputs": [
        {
          "output_type": "stream",
          "name": "stdout",
          "text": [
            "Run date time (IST): 2024-05-12 11:05:21\n"
          ]
        }
      ]
    },
    {
      "cell_type": "code",
      "source": [
        "!pip install yfinance"
      ],
      "metadata": {
        "_uuid": "8f2839f25d086af736a60e9eeb907d3b93b6e0e5",
        "_cell_guid": "b1076dfc-b9ad-4769-8c92-a6c4dae69d19",
        "execution": {
          "iopub.status.busy": "2023-05-01T06:56:49.921648Z",
          "iopub.execute_input": "2023-05-01T06:56:49.921996Z",
          "iopub.status.idle": "2023-05-01T06:57:01.955306Z",
          "shell.execute_reply.started": "2023-05-01T06:56:49.921961Z",
          "shell.execute_reply": "2023-05-01T06:57:01.953961Z"
        },
        "trusted": true,
        "id": "7wWe7jU67N8M",
        "outputId": "c9fb8ed3-c42c-4a12-b8b4-a55b80292194",
        "colab": {
          "base_uri": "https://localhost:8080/"
        }
      },
      "execution_count": 2,
      "outputs": [
        {
          "output_type": "stream",
          "name": "stdout",
          "text": [
            "Requirement already satisfied: yfinance in /usr/local/lib/python3.10/dist-packages (0.2.38)\n",
            "Requirement already satisfied: pandas>=1.3.0 in /usr/local/lib/python3.10/dist-packages (from yfinance) (2.0.3)\n",
            "Requirement already satisfied: numpy>=1.16.5 in /usr/local/lib/python3.10/dist-packages (from yfinance) (1.25.2)\n",
            "Requirement already satisfied: requests>=2.31 in /usr/local/lib/python3.10/dist-packages (from yfinance) (2.31.0)\n",
            "Requirement already satisfied: multitasking>=0.0.7 in /usr/local/lib/python3.10/dist-packages (from yfinance) (0.0.11)\n",
            "Requirement already satisfied: lxml>=4.9.1 in /usr/local/lib/python3.10/dist-packages (from yfinance) (4.9.4)\n",
            "Requirement already satisfied: appdirs>=1.4.4 in /usr/local/lib/python3.10/dist-packages (from yfinance) (1.4.4)\n",
            "Requirement already satisfied: pytz>=2022.5 in /usr/local/lib/python3.10/dist-packages (from yfinance) (2023.4)\n",
            "Requirement already satisfied: frozendict>=2.3.4 in /usr/local/lib/python3.10/dist-packages (from yfinance) (2.4.4)\n",
            "Requirement already satisfied: peewee>=3.16.2 in /usr/local/lib/python3.10/dist-packages (from yfinance) (3.17.3)\n",
            "Requirement already satisfied: beautifulsoup4>=4.11.1 in /usr/local/lib/python3.10/dist-packages (from yfinance) (4.12.3)\n",
            "Requirement already satisfied: html5lib>=1.1 in /usr/local/lib/python3.10/dist-packages (from yfinance) (1.1)\n",
            "Requirement already satisfied: soupsieve>1.2 in /usr/local/lib/python3.10/dist-packages (from beautifulsoup4>=4.11.1->yfinance) (2.5)\n",
            "Requirement already satisfied: six>=1.9 in /usr/local/lib/python3.10/dist-packages (from html5lib>=1.1->yfinance) (1.16.0)\n",
            "Requirement already satisfied: webencodings in /usr/local/lib/python3.10/dist-packages (from html5lib>=1.1->yfinance) (0.5.1)\n",
            "Requirement already satisfied: python-dateutil>=2.8.2 in /usr/local/lib/python3.10/dist-packages (from pandas>=1.3.0->yfinance) (2.8.2)\n",
            "Requirement already satisfied: tzdata>=2022.1 in /usr/local/lib/python3.10/dist-packages (from pandas>=1.3.0->yfinance) (2024.1)\n",
            "Requirement already satisfied: charset-normalizer<4,>=2 in /usr/local/lib/python3.10/dist-packages (from requests>=2.31->yfinance) (3.3.2)\n",
            "Requirement already satisfied: idna<4,>=2.5 in /usr/local/lib/python3.10/dist-packages (from requests>=2.31->yfinance) (3.7)\n",
            "Requirement already satisfied: urllib3<3,>=1.21.1 in /usr/local/lib/python3.10/dist-packages (from requests>=2.31->yfinance) (2.0.7)\n",
            "Requirement already satisfied: certifi>=2017.4.17 in /usr/local/lib/python3.10/dist-packages (from requests>=2.31->yfinance) (2024.2.2)\n"
          ]
        }
      ]
    },
    {
      "cell_type": "code",
      "source": [
        "import pandas as pd\n",
        "import numpy as np\n",
        "from google.colab import drive\n",
        "drive.mount('/content/drive')\n",
        "\n",
        "mypf = pd.read_csv('/content/drive/My Drive/data/stocks/myProspectsScrips.csv')\n",
        "\n",
        "mypf = mypf[mypf['LatestQtr'] == 0]\n",
        "#mypf = mypf[mypf['v80'] == 1]\n",
        "\n",
        "stock_n100 = mypf['Symbol'].unique()\n",
        "\n",
        "exclude = ['ACC','AMBUJACEM','CADILAHC','PGHH','SIEMENS', 'GILLETTE', 'NESTLEIND', 'SANOFI', 'ADANITRANS', 'AMARAJABAT', 'SCHAEFFLER ', 'VALIANTORG', 'VINATIORGA']\n",
        "\n",
        "stock_n100 = mypf[~mypf['Symbol'].isin(exclude) ]['Symbol']\n",
        "\n",
        "#stock_ids\n",
        "\n",
        "stock_ids = stock_n100[80:]\n",
        "#stock_ids = ['AMBUJACEM']\n",
        "start_year = 'Mar 2018'\n",
        "curr_qtr = 'Mar 2024' # 'Dec 2023'\n",
        "curr_year = 'Mar 2024'\n",
        "print('Stocks to be scanned:',len(stock_ids))"
      ],
      "metadata": {
        "execution": {
          "iopub.status.busy": "2023-05-01T06:57:01.958043Z",
          "iopub.execute_input": "2023-05-01T06:57:01.958470Z",
          "iopub.status.idle": "2023-05-01T06:57:02.180599Z",
          "shell.execute_reply.started": "2023-05-01T06:57:01.958416Z",
          "shell.execute_reply": "2023-05-01T06:57:02.179469Z"
        },
        "trusted": true,
        "id": "y8eigjss7N8O",
        "outputId": "cdd3a4eb-0a96-4918-ad7f-96b2280f1994",
        "colab": {
          "base_uri": "https://localhost:8080/"
        }
      },
      "execution_count": 3,
      "outputs": [
        {
          "output_type": "stream",
          "name": "stdout",
          "text": [
            "Drive already mounted at /content/drive; to attempt to forcibly remount, call drive.mount(\"/content/drive\", force_remount=True).\n",
            "Stocks to be scanned: 1\n"
          ]
        }
      ]
    },
    {
      "cell_type": "code",
      "source": [
        "#stock_ids = sorted(stock_ids, reverse=True)"
      ],
      "metadata": {
        "id": "ncttoTR8oxI7"
      },
      "execution_count": 4,
      "outputs": []
    },
    {
      "cell_type": "code",
      "source": [
        "import requests\n",
        "from bs4 import BeautifulSoup\n",
        "import pandas as pd\n",
        "\n",
        "df_latest_analysis = pd.DataFrame()\n",
        "\n",
        "for stock_name in stock_ids:\n",
        "\n",
        "  print(stock_name)\n",
        "\n",
        "  link_blueprint = \"https://www.screener.in/company/\"\n",
        "\n",
        "  stock_list = ['3MINDIA', 'AUBANK', 'COLPAL', 'GLAND', 'LUXIND', 'WHIRLPOOL' , 'IEX', 'ROSSARI',  'TATAELXSI',\n",
        "                 'EQUITAS', 'AAVAS', 'BIRLAMONEY', 'ABBOTINDIA', 'AKZOINDIA', 'ALKYLAMINE','ARE&M', 'SURYODAY']\n",
        "\n",
        "  if stock_name in stock_list:\n",
        "      actual_link = link_blueprint + stock_name.upper()\n",
        "  else:\n",
        "      actual_link = link_blueprint + stock_name.upper()  + \"/consolidated/\"\n",
        "\n",
        "  def get_list(actual_link):\n",
        "      page = requests.get(actual_link)\n",
        "      link_soup = BeautifulSoup(page.content, 'html.parser')\n",
        "\n",
        "      try:\n",
        "        test_list = link_soup.find(id=\"profit-loss\").text.replace(\"  \", \"\").split('\\n')\n",
        "      except ValueError:\n",
        "        print(stock_name + ' => No Test List')\n",
        "      pass  # do nothing!\n",
        "\n",
        "      while(\"\" in test_list) :\n",
        "          test_list.remove(\"\")\n",
        "      while(\"\\r\" in test_list) :\n",
        "          test_list.remove(\"\\r\")\n",
        "      while(\" \\r\" in test_list) :\n",
        "          test_list.remove(\" \\r\")\n",
        "\n",
        "      return test_list\n",
        "  #print(actual_link)\n",
        "  test_list = get_list(actual_link)\n",
        "\n",
        "  def get_yoy(test_list):\n",
        "    #print(len(test_list))\n",
        "    n = len(test_list)\n",
        "\n",
        "    if n < 100:\n",
        "        actual_link = link_blueprint + stock_name.upper()\n",
        "        test_list = get_list(actual_link)\n",
        "        #print(len(test_list))\n",
        "\n",
        "    #print(test_list)\n",
        "    if 'TTM' not in test_list:\n",
        "        end_year = curr_year\n",
        "    else:\n",
        "        end_year = 'TTM'\n",
        "\n",
        "    df_yoy = pd.DataFrame()\n",
        "\n",
        "    print(test_list.index(end_year))\n",
        "    s = test_list.index(end_year) +1 - test_list.index(start_year)\n",
        "\n",
        "    df_yoy['Year'] = test_list[test_list.index(start_year):test_list.index(end_year)+1]\n",
        "    df_yoy['Sales'] = test_list[test_list.index('Expenses\\xa0+')-s:test_list.index('Expenses\\xa0+')]\n",
        "    df_yoy['Profit'] = test_list[test_list.index('Tax %')-s:test_list.index('Tax %')]\n",
        "\n",
        "    df_yoy.set_index('Year', inplace=True)\n",
        "    df_yoy = df_yoy.T\n",
        "    df_yoy['Stock'] = stock_name.upper()\n",
        "    #df_yoy\n",
        "    return df_yoy\n",
        "  page = requests.get(actual_link)\n",
        "  link_soup = BeautifulSoup(page.content, 'html.parser')\n",
        "  scan_list = link_soup.find(id=\"quarters\").text.replace(\"  \", \"\").split('\\n')\n",
        "  #print(scan_list.index('Sep 2023'))\n",
        "  try:\n",
        "    scan_list.index(curr_qtr) > 30\n",
        "    df_latest_analysis = pd.concat([df_latest_analysis, get_yoy(test_list)])\n",
        "  except ValueError:\n",
        "      print(stock_name + ' => No ' + curr_qtr)\n",
        "      pass  # do nothing!"
      ],
      "metadata": {
        "execution": {
          "iopub.status.busy": "2023-05-01T06:57:02.181994Z",
          "iopub.execute_input": "2023-05-01T06:57:02.182375Z",
          "iopub.status.idle": "2023-05-01T06:57:46.732071Z",
          "shell.execute_reply.started": "2023-05-01T06:57:02.182335Z",
          "shell.execute_reply": "2023-05-01T06:57:46.730887Z"
        },
        "trusted": true,
        "id": "ZF74Upq_7N8O",
        "outputId": "24baf80e-3ca5-4635-a15d-0597ba511d9d",
        "colab": {
          "base_uri": "https://localhost:8080/"
        }
      },
      "execution_count": 17,
      "outputs": [
        {
          "output_type": "stream",
          "name": "stdout",
          "text": [
            "AMBUJACEM\n",
            "16\n",
            "AMBUJACEM => No Mar 2024\n"
          ]
        }
      ]
    },
    {
      "cell_type": "code",
      "source": [
        "print('Stocks updated:', df_latest_analysis.shape[0]/2)\n",
        "if df_latest_analysis.shape[0] > 0:\n",
        "  lastestq_stocks = list(df_latest_analysis['Stock'].unique())\n",
        "  len(lastestq_stocks)"
      ],
      "metadata": {
        "id": "VYs-ulzTVt1W",
        "outputId": "b34ebc7e-5585-471e-a33c-ad657fe389d3",
        "colab": {
          "base_uri": "https://localhost:8080/"
        }
      },
      "execution_count": 6,
      "outputs": [
        {
          "output_type": "stream",
          "name": "stdout",
          "text": [
            "Stocks updated: 0.0\n"
          ]
        }
      ]
    },
    {
      "cell_type": "code",
      "source": [
        "if df_latest_analysis.shape[0] > 0:\n",
        "  #df_analysis.columns\n",
        "  df_latest_analysis = df_latest_analysis.reset_index()\n",
        "  df_latest_analysis.rename({'TTM': 'Latest', 'index': 'Type'}, axis=1, inplace=True)\n",
        "  cols = [ 'Mar 2018', 'Mar 2019', 'Mar 2020', 'Mar 2021', 'Mar 2022', 'Mar 2023', 'Mar 2024'] # 'Latest'\n",
        "  #df_analysis[cols] = df_analysis[cols].apply(pd.to_numeric)\n",
        "  for col in cols:\n",
        "      df_latest_analysis[col] = df_latest_analysis[col].str.replace(',', '').astype(float)"
      ],
      "metadata": {
        "execution": {
          "iopub.status.busy": "2023-05-01T06:57:46.735241Z",
          "iopub.execute_input": "2023-05-01T06:57:46.735847Z",
          "iopub.status.idle": "2023-05-01T06:57:46.748618Z",
          "shell.execute_reply.started": "2023-05-01T06:57:46.735811Z",
          "shell.execute_reply": "2023-05-01T06:57:46.747261Z"
        },
        "trusted": true,
        "id": "OwTfkPY57N8O"
      },
      "execution_count": 7,
      "outputs": []
    },
    {
      "cell_type": "code",
      "source": [
        "cols = df_latest_analysis.columns[1:-1]\n",
        "if df_latest_analysis.shape[0] > 0:\n",
        "  df_latest_analysis['Max'] = df_latest_analysis[cols].max(axis=1)\n",
        "  df_latest_analysis['Diff%'] = round((df_latest_analysis['Max'] - df_latest_analysis['Mar 2024'])*100/df_latest_analysis['Max'],2) # 'Latest'"
      ],
      "metadata": {
        "execution": {
          "iopub.status.busy": "2023-05-01T06:57:46.781978Z",
          "iopub.execute_input": "2023-05-01T06:57:46.782232Z",
          "iopub.status.idle": "2023-05-01T06:57:46.797684Z",
          "shell.execute_reply.started": "2023-05-01T06:57:46.782206Z",
          "shell.execute_reply": "2023-05-01T06:57:46.796504Z"
        },
        "trusted": true,
        "id": "OoHSiIUx7N8P"
      },
      "execution_count": 8,
      "outputs": []
    },
    {
      "cell_type": "code",
      "source": [
        "if df_latest_analysis.shape[0] > 0:\n",
        "  df_master_analysis = pd.read_csv('/content/drive/My Drive/data/stocks/myProspects-ATH-TTM.csv')\n",
        "  df_master_analysis.columns = df_latest_analysis.columns\n",
        "  df_master_analysis = df_master_analysis[~df_master_analysis['Stock'].isin(lastestq_stocks)]\n",
        "  df_master_analysis = pd.concat([df_master_analysis, df_latest_analysis])\n",
        "  df_master_analysis.to_csv('/content/drive/My Drive/data/stocks/myProspects-ATH-TTM.csv', index=False)"
      ],
      "metadata": {
        "id": "aqvZvlLzZrJa"
      },
      "execution_count": 9,
      "outputs": []
    },
    {
      "cell_type": "code",
      "source": [
        "if df_latest_analysis.shape[0] > 0:\n",
        "  df_tmp = df_latest_analysis[df_latest_analysis['Diff%'] <= 5]\n",
        "  tmp = pd.DataFrame(df_tmp['Stock'].value_counts())\n",
        "  len(tmp[tmp['count']>1].index)\n",
        "  star_stocks = list(tmp[tmp['count']>1].index)\n",
        "  print(len(star_stocks))"
      ],
      "metadata": {
        "execution": {
          "iopub.status.busy": "2023-05-01T06:57:46.799279Z",
          "iopub.execute_input": "2023-05-01T06:57:46.800440Z",
          "iopub.status.idle": "2023-05-01T06:57:46.811808Z",
          "shell.execute_reply.started": "2023-05-01T06:57:46.800357Z",
          "shell.execute_reply": "2023-05-01T06:57:46.810821Z"
        },
        "trusted": true,
        "id": "qMvbuwBc7N8P"
      },
      "execution_count": 10,
      "outputs": []
    },
    {
      "cell_type": "code",
      "source": [
        "mypf = pd.read_csv('/content/drive/My Drive/data/stocks/myProspectsScrips.csv')\n",
        "mypf.loc[mypf['Symbol'].isin(lastestq_stocks), 'LatestQtr'] = 1\n",
        "mypf.loc[mypf['Symbol'].isin(lastestq_stocks), 'StarStock'] = 0\n",
        "mypf.loc[mypf['Symbol'].isin(star_stocks), 'StarStock'] = 1\n",
        "mypf.to_csv('/content/drive/My Drive/data/stocks/myProspectsScrips.csv', index=False)"
      ],
      "metadata": {
        "execution": {
          "iopub.status.busy": "2023-05-01T06:57:46.812909Z",
          "iopub.execute_input": "2023-05-01T06:57:46.813958Z",
          "iopub.status.idle": "2023-05-01T06:57:46.824657Z",
          "shell.execute_reply.started": "2023-05-01T06:57:46.813906Z",
          "shell.execute_reply": "2023-05-01T06:57:46.822327Z"
        },
        "trusted": true,
        "id": "os0pY4f67N8P",
        "colab": {
          "base_uri": "https://localhost:8080/",
          "height": 219
        },
        "outputId": "d7e56cca-9a14-436b-9a50-0e43a1fc506d"
      },
      "execution_count": 11,
      "outputs": [
        {
          "output_type": "error",
          "ename": "NameError",
          "evalue": "name 'lastestq_stocks' is not defined",
          "traceback": [
            "\u001b[0;31m---------------------------------------------------------------------------\u001b[0m",
            "\u001b[0;31mNameError\u001b[0m                                 Traceback (most recent call last)",
            "\u001b[0;32m<ipython-input-11-a39b0dc6765d>\u001b[0m in \u001b[0;36m<cell line: 2>\u001b[0;34m()\u001b[0m\n\u001b[1;32m      1\u001b[0m \u001b[0mmypf\u001b[0m \u001b[0;34m=\u001b[0m \u001b[0mpd\u001b[0m\u001b[0;34m.\u001b[0m\u001b[0mread_csv\u001b[0m\u001b[0;34m(\u001b[0m\u001b[0;34m'/content/drive/My Drive/data/stocks/myProspectsScrips.csv'\u001b[0m\u001b[0;34m)\u001b[0m\u001b[0;34m\u001b[0m\u001b[0;34m\u001b[0m\u001b[0m\n\u001b[0;32m----> 2\u001b[0;31m \u001b[0mmypf\u001b[0m\u001b[0;34m.\u001b[0m\u001b[0mloc\u001b[0m\u001b[0;34m[\u001b[0m\u001b[0mmypf\u001b[0m\u001b[0;34m[\u001b[0m\u001b[0;34m'Symbol'\u001b[0m\u001b[0;34m]\u001b[0m\u001b[0;34m.\u001b[0m\u001b[0misin\u001b[0m\u001b[0;34m(\u001b[0m\u001b[0mlastestq_stocks\u001b[0m\u001b[0;34m)\u001b[0m\u001b[0;34m,\u001b[0m \u001b[0;34m'LatestQtr'\u001b[0m\u001b[0;34m]\u001b[0m \u001b[0;34m=\u001b[0m \u001b[0;36m1\u001b[0m\u001b[0;34m\u001b[0m\u001b[0;34m\u001b[0m\u001b[0m\n\u001b[0m\u001b[1;32m      3\u001b[0m \u001b[0mmypf\u001b[0m\u001b[0;34m.\u001b[0m\u001b[0mloc\u001b[0m\u001b[0;34m[\u001b[0m\u001b[0mmypf\u001b[0m\u001b[0;34m[\u001b[0m\u001b[0;34m'Symbol'\u001b[0m\u001b[0;34m]\u001b[0m\u001b[0;34m.\u001b[0m\u001b[0misin\u001b[0m\u001b[0;34m(\u001b[0m\u001b[0mlastestq_stocks\u001b[0m\u001b[0;34m)\u001b[0m\u001b[0;34m,\u001b[0m \u001b[0;34m'StarStock'\u001b[0m\u001b[0;34m]\u001b[0m \u001b[0;34m=\u001b[0m \u001b[0;36m0\u001b[0m\u001b[0;34m\u001b[0m\u001b[0;34m\u001b[0m\u001b[0m\n\u001b[1;32m      4\u001b[0m \u001b[0mmypf\u001b[0m\u001b[0;34m.\u001b[0m\u001b[0mloc\u001b[0m\u001b[0;34m[\u001b[0m\u001b[0mmypf\u001b[0m\u001b[0;34m[\u001b[0m\u001b[0;34m'Symbol'\u001b[0m\u001b[0;34m]\u001b[0m\u001b[0;34m.\u001b[0m\u001b[0misin\u001b[0m\u001b[0;34m(\u001b[0m\u001b[0mstar_stocks\u001b[0m\u001b[0;34m)\u001b[0m\u001b[0;34m,\u001b[0m \u001b[0;34m'StarStock'\u001b[0m\u001b[0;34m]\u001b[0m \u001b[0;34m=\u001b[0m \u001b[0;36m1\u001b[0m\u001b[0;34m\u001b[0m\u001b[0;34m\u001b[0m\u001b[0m\n\u001b[1;32m      5\u001b[0m \u001b[0mmypf\u001b[0m\u001b[0;34m.\u001b[0m\u001b[0mto_csv\u001b[0m\u001b[0;34m(\u001b[0m\u001b[0;34m'/content/drive/My Drive/data/stocks/myProspectsScrips.csv'\u001b[0m\u001b[0;34m,\u001b[0m \u001b[0mindex\u001b[0m\u001b[0;34m=\u001b[0m\u001b[0;32mFalse\u001b[0m\u001b[0;34m)\u001b[0m\u001b[0;34m\u001b[0m\u001b[0;34m\u001b[0m\u001b[0m\n",
            "\u001b[0;31mNameError\u001b[0m: name 'lastestq_stocks' is not defined"
          ]
        }
      ]
    }
  ]
}