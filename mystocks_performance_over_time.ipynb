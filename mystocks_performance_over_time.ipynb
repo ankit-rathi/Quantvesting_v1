{
  "cells": [
    {
      "cell_type": "markdown",
      "metadata": {
        "id": "view-in-github",
        "colab_type": "text"
      },
      "source": [
        "<a href=\"https://colab.research.google.com/github/ankit-rathi/Tradevesting_v1/blob/main/mystocks_performance_over_time.ipynb\" target=\"_parent\"><img src=\"https://colab.research.google.com/assets/colab-badge.svg\" alt=\"Open In Colab\"/></a>"
      ]
    },
    {
      "cell_type": "code",
      "source": [
        "# notebook start time\n",
        "import time\n",
        "import datetime\n",
        "import pytz\n",
        "\n",
        "start_time = time.time()\n",
        "\n",
        "# function to print date timestamp\n",
        "def print_date_time():\n",
        "  tz_NY = pytz.timezone('Asia/Kolkata')\n",
        "  datetime_NY = datetime.datetime.now(tz_NY)\n",
        "  print(\"Run date time (IST):\", datetime_NY.strftime(\"%Y-%m-%d %H:%M:%S\"))\n",
        "\n",
        "print_date_time()\n",
        "\n",
        "gen_output = 0"
      ],
      "metadata": {
        "id": "39H6ij4UZbM2",
        "outputId": "20d55751-48fe-46de-ddc7-fb36d50e4b15",
        "colab": {
          "base_uri": "https://localhost:8080/"
        }
      },
      "id": "39H6ij4UZbM2",
      "execution_count": null,
      "outputs": [
        {
          "output_type": "stream",
          "name": "stdout",
          "text": [
            "Run date time (IST): 2024-10-25 16:41:04\n"
          ]
        }
      ]
    },
    {
      "cell_type": "code",
      "source": [
        "!pip install yfinance"
      ],
      "metadata": {
        "id": "0kBIF1iSHJRg",
        "outputId": "bd74d6a4-cfc6-4e7a-afcf-90203853f97b",
        "colab": {
          "base_uri": "https://localhost:8080/"
        }
      },
      "id": "0kBIF1iSHJRg",
      "execution_count": null,
      "outputs": [
        {
          "output_type": "stream",
          "name": "stdout",
          "text": [
            "Requirement already satisfied: yfinance in /usr/local/lib/python3.10/dist-packages (0.2.46)\n",
            "Requirement already satisfied: pandas>=1.3.0 in /usr/local/lib/python3.10/dist-packages (from yfinance) (2.2.2)\n",
            "Requirement already satisfied: numpy>=1.16.5 in /usr/local/lib/python3.10/dist-packages (from yfinance) (1.26.4)\n",
            "Requirement already satisfied: requests>=2.31 in /usr/local/lib/python3.10/dist-packages (from yfinance) (2.32.3)\n",
            "Requirement already satisfied: multitasking>=0.0.7 in /usr/local/lib/python3.10/dist-packages (from yfinance) (0.0.11)\n",
            "Requirement already satisfied: lxml>=4.9.1 in /usr/local/lib/python3.10/dist-packages (from yfinance) (4.9.4)\n",
            "Requirement already satisfied: platformdirs>=2.0.0 in /usr/local/lib/python3.10/dist-packages (from yfinance) (4.3.6)\n",
            "Requirement already satisfied: pytz>=2022.5 in /usr/local/lib/python3.10/dist-packages (from yfinance) (2024.2)\n",
            "Requirement already satisfied: frozendict>=2.3.4 in /usr/local/lib/python3.10/dist-packages (from yfinance) (2.4.6)\n",
            "Requirement already satisfied: peewee>=3.16.2 in /usr/local/lib/python3.10/dist-packages (from yfinance) (3.17.7)\n",
            "Requirement already satisfied: beautifulsoup4>=4.11.1 in /usr/local/lib/python3.10/dist-packages (from yfinance) (4.12.3)\n",
            "Requirement already satisfied: html5lib>=1.1 in /usr/local/lib/python3.10/dist-packages (from yfinance) (1.1)\n",
            "Requirement already satisfied: soupsieve>1.2 in /usr/local/lib/python3.10/dist-packages (from beautifulsoup4>=4.11.1->yfinance) (2.6)\n",
            "Requirement already satisfied: six>=1.9 in /usr/local/lib/python3.10/dist-packages (from html5lib>=1.1->yfinance) (1.16.0)\n",
            "Requirement already satisfied: webencodings in /usr/local/lib/python3.10/dist-packages (from html5lib>=1.1->yfinance) (0.5.1)\n",
            "Requirement already satisfied: python-dateutil>=2.8.2 in /usr/local/lib/python3.10/dist-packages (from pandas>=1.3.0->yfinance) (2.8.2)\n",
            "Requirement already satisfied: tzdata>=2022.7 in /usr/local/lib/python3.10/dist-packages (from pandas>=1.3.0->yfinance) (2024.2)\n",
            "Requirement already satisfied: charset-normalizer<4,>=2 in /usr/local/lib/python3.10/dist-packages (from requests>=2.31->yfinance) (3.4.0)\n",
            "Requirement already satisfied: idna<4,>=2.5 in /usr/local/lib/python3.10/dist-packages (from requests>=2.31->yfinance) (3.10)\n",
            "Requirement already satisfied: urllib3<3,>=1.21.1 in /usr/local/lib/python3.10/dist-packages (from requests>=2.31->yfinance) (2.2.3)\n",
            "Requirement already satisfied: certifi>=2017.4.17 in /usr/local/lib/python3.10/dist-packages (from requests>=2.31->yfinance) (2024.8.30)\n"
          ]
        }
      ]
    },
    {
      "cell_type": "code",
      "execution_count": null,
      "id": "50415196",
      "metadata": {
        "id": "50415196"
      },
      "outputs": [],
      "source": [
        "import pandas as pd\n",
        "import numpy as np\n",
        "from google.colab import data_table\n",
        "\n",
        "mypfs = pd.read_csv('https://raw.githubusercontent.com/ankit-rathi/Tradevesting/main/data/myPortfolioStocks.csv')\n",
        "mypps = pd.read_csv('https://raw.githubusercontent.com/ankit-rathi/Tradevesting/main/data/myProspectsScrips.csv')\n",
        "\n",
        "mypf = pd.merge(mypfs, mypps, on=\"Symbol\")\n",
        "\n",
        "mypf = mypf[~mypf['InPortfolio'].isnull()]\n",
        "\n",
        "#mypf = mypf[mypf['StarStock'] == 1]\n",
        "\n",
        "stock_n100 = mypf['Symbol'].unique()\n",
        "\n",
        "exclude = ['CADILAHC','MMTC', 'ADANITRANS']\n",
        "\n",
        "#stock_n100 = mypf[~mypf['Symbol'].isin(exclude) ]['Symbol']\n",
        "stock_ids = list(set(list(stock_n100)) - set(exclude))"
      ]
    },
    {
      "cell_type": "code",
      "execution_count": null,
      "id": "f6102d75",
      "metadata": {
        "id": "f6102d75"
      },
      "outputs": [],
      "source": [
        "import pandas as pd\n",
        "import datetime\n",
        "import warnings\n",
        "warnings.filterwarnings('ignore')\n",
        "import pandas_datareader.data as web\n",
        "import yfinance as yfin\n",
        "\n",
        "start_date = (datetime.date.today() + datetime.timedelta(days=-5)).strftime('%Y-%m-%d')\n",
        "end_date = (datetime.date.today() + datetime.timedelta(days=1)).strftime('%Y-%m-%d')\n",
        "\n",
        "df_perform = pd.DataFrame()\n",
        "\n",
        "for stock_id in stock_ids:\n",
        "    stock_id = stock_id.upper() + '.NS'\n",
        "    #tmp = pd.DataFrame(web.DataReader(tickers = stock_id, start = start_date, end = end_date))\n",
        "    tmp = yfin.Ticker(stock_id).history(period='5d', interval='1d')[map(str.title, ['open', 'close', 'low', 'high', 'volume'])]\n",
        "    tmp['Stock'] = stock_id\n",
        "    tmp['Prev_Close'] = tmp['Close'].shift(1)\n",
        "    tmp['Change%'] = round((tmp['Close'] - tmp['Prev_Close'])*100/tmp['Prev_Close'],2)\n",
        "    tmp = tmp.tail(1)\n",
        "    #df_perform = df_perform.append(tmp)\n",
        "    df_perform = pd.concat([df_perform, tmp], ignore_index = True)\n"
      ]
    },
    {
      "cell_type": "code",
      "execution_count": null,
      "id": "7c6aa390",
      "metadata": {
        "id": "7c6aa390"
      },
      "outputs": [],
      "source": [
        "d = 365*5\n",
        "start_date = (datetime.date.today() + datetime.timedelta(days=-d)).strftime('%Y-%m-%d')\n",
        "end_date = (datetime.date.today() + datetime.timedelta(days=0)).strftime('%Y-%m-%d')\n",
        "\n",
        "df_perform = pd.DataFrame()\n",
        "\n",
        "for stock_id in stock_ids:\n",
        "    #stock_id = stock_id.upper() + '.NS'\n",
        "\n",
        "    #df_stock = pd.DataFrame(web.DataReader(tickers = stock_id, start = start_date, end = end_date))\n",
        "    df_stock = yfin.Ticker(stock_id + '.NS').history(period='max', interval='1d')[map(str.title, ['open', 'close', 'low', 'high', 'volume'])]\n",
        "\n",
        "    if df_stock.empty:\n",
        "        print(f\"Warning: No data found for {stock_id}. Skipping...\")\n",
        "        continue  # Skip to the next stock_id\n",
        "\n",
        "    CMP = round(df_stock['Close'].values[-1],0)\n",
        "    D1 = round((df_stock['Close'].values[-1] - df_stock['Close'].shift(1).values[-1])*100/df_stock['Close'].shift(1).values[-1],2)\n",
        "    W1 = round((df_stock['Close'].values[-1] - df_stock['Close'].shift(5).values[-1])*100/df_stock['Close'].shift(5).values[-1],2)\n",
        "    M1 = round((df_stock['Close'].values[-1] - df_stock['Close'].shift(20).values[-1])*100/df_stock['Close'].shift(20).values[-1],2)\n",
        "    M3 = round((df_stock['Close'].values[-1] - df_stock['Close'].shift(60).values[-1])*100/df_stock['Close'].shift(60).values[-1],2)\n",
        "    M6 = round((df_stock['Close'].values[-1] - df_stock['Close'].shift(120).values[-1])*100/df_stock['Close'].shift(120).values[-1],2)\n",
        "    Y1 = round((df_stock['Close'].values[-1] - df_stock['Close'].shift(240).values[-1])*100/df_stock['Close'].shift(240).values[-1],2)\n",
        "    Y2 = round(((df_stock['Close'].values[-1]/df_stock['Close'].shift(240*2).values[-1])**.5 - 1)*100,2)\n",
        "    Y3 = round(((df_stock['Close'].values[-1]/df_stock['Close'].shift(240*3).values[-1])**.33 - 1)*100,2)\n",
        "    Y5 = round(((df_stock['Close'].values[-1]/df_stock['Close'].shift(240*5).values[-1])**.2 - 1)*100,2)\n",
        "\n",
        "\n",
        "    tmp = {'Stock':[stock_id],\n",
        "           'CMP': CMP,\n",
        "           '1D%' : [D1],\n",
        "           '1W%' : [W1],\n",
        "           '1M%' : [M1],\n",
        "           '3M%' : [M3],\n",
        "           '6M%' : [M6],\n",
        "           '1Y%' : [Y1],\n",
        "           '2Y%' : [Y2],\n",
        "           '3Y%' : [Y3],\n",
        "           '5Y%' : [Y5]\n",
        "           }\n",
        "\n",
        "    tmp = pd.DataFrame(tmp)\n",
        "\n",
        "    #df_perform = df_perform.append(tmp)\n",
        "    df_perform = pd.concat([df_perform, tmp], ignore_index = True)\n",
        "\n",
        "#df_perform"
      ]
    },
    {
      "cell_type": "code",
      "execution_count": null,
      "id": "9987661f",
      "metadata": {
        "id": "9987661f",
        "outputId": "4ec84c12-fc30-40d8-9cd5-34a99b02a7aa",
        "colab": {
          "base_uri": "https://localhost:8080/",
          "height": 661
        }
      },
      "outputs": [
        {
          "output_type": "execute_result",
          "data": {
            "text/html": [
              "<div>\n",
              "<style scoped>\n",
              "    .dataframe tbody tr th:only-of-type {\n",
              "        vertical-align: middle;\n",
              "    }\n",
              "\n",
              "    .dataframe tbody tr th {\n",
              "        vertical-align: top;\n",
              "    }\n",
              "\n",
              "    .dataframe thead th {\n",
              "        text-align: right;\n",
              "    }\n",
              "</style>\n",
              "<table border=\"1\" class=\"dataframe\">\n",
              "  <thead>\n",
              "    <tr style=\"text-align: right;\">\n",
              "      <th></th>\n",
              "      <th>Stock</th>\n",
              "      <th>CMP</th>\n",
              "      <th>1D%</th>\n",
              "      <th>1W%</th>\n",
              "      <th>1M%</th>\n",
              "      <th>3M%</th>\n",
              "      <th>6M%</th>\n",
              "      <th>1Y%</th>\n",
              "      <th>2Y%</th>\n",
              "      <th>3Y%</th>\n",
              "      <th>5Y%</th>\n",
              "    </tr>\n",
              "  </thead>\n",
              "  <tbody>\n",
              "    <tr>\n",
              "      <th>0</th>\n",
              "      <td>AWL</td>\n",
              "      <td>324.0</td>\n",
              "      <td>-4.72</td>\n",
              "      <td>-1.44</td>\n",
              "      <td>-6.19</td>\n",
              "      <td>-6.86</td>\n",
              "      <td>-5.81</td>\n",
              "      <td>2.63</td>\n",
              "      <td>-30.33</td>\n",
              "      <td>NaN</td>\n",
              "      <td>NaN</td>\n",
              "    </tr>\n",
              "    <tr>\n",
              "      <th>1</th>\n",
              "      <td>RBLBANK</td>\n",
              "      <td>162.0</td>\n",
              "      <td>-2.41</td>\n",
              "      <td>-21.11</td>\n",
              "      <td>-22.15</td>\n",
              "      <td>-31.16</td>\n",
              "      <td>-38.39</td>\n",
              "      <td>-26.57</td>\n",
              "      <td>6.33</td>\n",
              "      <td>-4.02</td>\n",
              "      <td>-13.55</td>\n",
              "    </tr>\n",
              "    <tr>\n",
              "      <th>2</th>\n",
              "      <td>BAYERCROP</td>\n",
              "      <td>6323.0</td>\n",
              "      <td>-0.50</td>\n",
              "      <td>-3.85</td>\n",
              "      <td>0.97</td>\n",
              "      <td>-8.65</td>\n",
              "      <td>16.34</td>\n",
              "      <td>32.05</td>\n",
              "      <td>19.88</td>\n",
              "      <td>13.02</td>\n",
              "      <td>14.73</td>\n",
              "    </tr>\n",
              "    <tr>\n",
              "      <th>3</th>\n",
              "      <td>RAJESHEXPO</td>\n",
              "      <td>238.0</td>\n",
              "      <td>-4.22</td>\n",
              "      <td>-14.81</td>\n",
              "      <td>-17.15</td>\n",
              "      <td>-24.25</td>\n",
              "      <td>-23.01</td>\n",
              "      <td>-45.92</td>\n",
              "      <td>-43.68</td>\n",
              "      <td>-30.03</td>\n",
              "      <td>-18.92</td>\n",
              "    </tr>\n",
              "    <tr>\n",
              "      <th>4</th>\n",
              "      <td>IRCTC</td>\n",
              "      <td>812.0</td>\n",
              "      <td>-2.17</td>\n",
              "      <td>-7.82</td>\n",
              "      <td>-10.44</td>\n",
              "      <td>-17.42</td>\n",
              "      <td>-22.51</td>\n",
              "      <td>24.92</td>\n",
              "      <td>5.58</td>\n",
              "      <td>0.26</td>\n",
              "      <td>36.99</td>\n",
              "    </tr>\n",
              "    <tr>\n",
              "      <th>...</th>\n",
              "      <td>...</td>\n",
              "      <td>...</td>\n",
              "      <td>...</td>\n",
              "      <td>...</td>\n",
              "      <td>...</td>\n",
              "      <td>...</td>\n",
              "      <td>...</td>\n",
              "      <td>...</td>\n",
              "      <td>...</td>\n",
              "      <td>...</td>\n",
              "      <td>...</td>\n",
              "    </tr>\n",
              "    <tr>\n",
              "      <th>81</th>\n",
              "      <td>STARHEALTH</td>\n",
              "      <td>540.0</td>\n",
              "      <td>-1.05</td>\n",
              "      <td>-1.91</td>\n",
              "      <td>-11.34</td>\n",
              "      <td>-10.91</td>\n",
              "      <td>-3.10</td>\n",
              "      <td>-1.63</td>\n",
              "      <td>-10.27</td>\n",
              "      <td>NaN</td>\n",
              "      <td>NaN</td>\n",
              "    </tr>\n",
              "    <tr>\n",
              "      <th>82</th>\n",
              "      <td>WIPRO</td>\n",
              "      <td>543.0</td>\n",
              "      <td>-0.63</td>\n",
              "      <td>-0.95</td>\n",
              "      <td>0.29</td>\n",
              "      <td>4.11</td>\n",
              "      <td>18.83</td>\n",
              "      <td>41.95</td>\n",
              "      <td>17.25</td>\n",
              "      <td>-3.87</td>\n",
              "      <td>17.12</td>\n",
              "    </tr>\n",
              "    <tr>\n",
              "      <th>83</th>\n",
              "      <td>SUNTV</td>\n",
              "      <td>724.0</td>\n",
              "      <td>-1.97</td>\n",
              "      <td>-4.79</td>\n",
              "      <td>-13.20</td>\n",
              "      <td>-19.22</td>\n",
              "      <td>10.99</td>\n",
              "      <td>15.63</td>\n",
              "      <td>24.04</td>\n",
              "      <td>14.32</td>\n",
              "      <td>13.55</td>\n",
              "    </tr>\n",
              "    <tr>\n",
              "      <th>84</th>\n",
              "      <td>RELAXO</td>\n",
              "      <td>740.0</td>\n",
              "      <td>-2.41</td>\n",
              "      <td>-5.34</td>\n",
              "      <td>-8.44</td>\n",
              "      <td>-14.46</td>\n",
              "      <td>-9.98</td>\n",
              "      <td>-18.39</td>\n",
              "      <td>-9.85</td>\n",
              "      <td>-16.55</td>\n",
              "      <td>3.83</td>\n",
              "    </tr>\n",
              "    <tr>\n",
              "      <th>85</th>\n",
              "      <td>BSOFT</td>\n",
              "      <td>571.0</td>\n",
              "      <td>0.37</td>\n",
              "      <td>-3.98</td>\n",
              "      <td>-7.27</td>\n",
              "      <td>-15.47</td>\n",
              "      <td>-9.42</td>\n",
              "      <td>0.12</td>\n",
              "      <td>43.49</td>\n",
              "      <td>7.69</td>\n",
              "      <td>55.66</td>\n",
              "    </tr>\n",
              "  </tbody>\n",
              "</table>\n",
              "<p>86 rows × 11 columns</p>\n",
              "</div>"
            ],
            "application/vnd.google.colaboratory.module+javascript": "\n      import \"https://ssl.gstatic.com/colaboratory/data_table/81954c9606dcf997/data_table.js\";\n\n      const table = window.createDataTable({\n        data: [[\"AWL\",\n{\n            'v': 324.0,\n            'f': \"324.0\",\n        },\n{\n            'v': -4.72,\n            'f': \"-4.72\",\n        },\n{\n            'v': -1.44,\n            'f': \"-1.44\",\n        },\n{\n            'v': -6.19,\n            'f': \"-6.19\",\n        },\n{\n            'v': -6.86,\n            'f': \"-6.86\",\n        },\n{\n            'v': -5.81,\n            'f': \"-5.81\",\n        },\n{\n            'v': 2.63,\n            'f': \"2.63\",\n        },\n{\n            'v': -30.33,\n            'f': \"-30.33\",\n        },\n{\n            'v': NaN,\n            'f': \"NaN\",\n        },\n{\n            'v': NaN,\n            'f': \"NaN\",\n        }],\n [\"RBLBANK\",\n{\n            'v': 162.0,\n            'f': \"162.0\",\n        },\n{\n            'v': -2.41,\n            'f': \"-2.41\",\n        },\n{\n            'v': -21.11,\n            'f': \"-21.11\",\n        },\n{\n            'v': -22.15,\n            'f': \"-22.15\",\n        },\n{\n            'v': -31.16,\n            'f': \"-31.16\",\n        },\n{\n            'v': -38.39,\n            'f': \"-38.39\",\n        },\n{\n            'v': -26.57,\n            'f': \"-26.57\",\n        },\n{\n            'v': 6.33,\n            'f': \"6.33\",\n        },\n{\n            'v': -4.02,\n            'f': \"-4.02\",\n        },\n{\n            'v': -13.55,\n            'f': \"-13.55\",\n        }],\n [\"BAYERCROP\",\n{\n            'v': 6323.0,\n            'f': \"6323.0\",\n        },\n{\n            'v': -0.5,\n            'f': \"-0.5\",\n        },\n{\n            'v': -3.85,\n            'f': \"-3.85\",\n        },\n{\n            'v': 0.97,\n            'f': \"0.97\",\n        },\n{\n            'v': -8.65,\n            'f': \"-8.65\",\n        },\n{\n            'v': 16.34,\n            'f': \"16.34\",\n        },\n{\n            'v': 32.05,\n            'f': \"32.05\",\n        },\n{\n            'v': 19.88,\n            'f': \"19.88\",\n        },\n{\n            'v': 13.02,\n            'f': \"13.02\",\n        },\n{\n            'v': 14.73,\n            'f': \"14.73\",\n        }],\n [\"RAJESHEXPO\",\n{\n            'v': 238.0,\n            'f': \"238.0\",\n        },\n{\n            'v': -4.22,\n            'f': \"-4.22\",\n        },\n{\n            'v': -14.81,\n            'f': \"-14.81\",\n        },\n{\n            'v': -17.15,\n            'f': \"-17.15\",\n        },\n{\n            'v': -24.25,\n            'f': \"-24.25\",\n        },\n{\n            'v': -23.01,\n            'f': \"-23.01\",\n        },\n{\n            'v': -45.92,\n            'f': \"-45.92\",\n        },\n{\n            'v': -43.68,\n            'f': \"-43.68\",\n        },\n{\n            'v': -30.03,\n            'f': \"-30.03\",\n        },\n{\n            'v': -18.92,\n            'f': \"-18.92\",\n        }],\n [\"IRCTC\",\n{\n            'v': 812.0,\n            'f': \"812.0\",\n        },\n{\n            'v': -2.17,\n            'f': \"-2.17\",\n        },\n{\n            'v': -7.82,\n            'f': \"-7.82\",\n        },\n{\n            'v': -10.44,\n            'f': \"-10.44\",\n        },\n{\n            'v': -17.42,\n            'f': \"-17.42\",\n        },\n{\n            'v': -22.51,\n            'f': \"-22.51\",\n        },\n{\n            'v': 24.92,\n            'f': \"24.92\",\n        },\n{\n            'v': 5.58,\n            'f': \"5.58\",\n        },\n{\n            'v': 0.26,\n            'f': \"0.26\",\n        },\n{\n            'v': 36.99,\n            'f': \"36.99\",\n        }],\n [\"JUBLFOOD\",\n{\n            'v': 585.0,\n            'f': \"585.0\",\n        },\n{\n            'v': -2.59,\n            'f': \"-2.59\",\n        },\n{\n            'v': -6.36,\n            'f': \"-6.36\",\n        },\n{\n            'v': -14.92,\n            'f': \"-14.92\",\n        },\n{\n            'v': -2.26,\n            'f': \"-2.26\",\n        },\n{\n            'v': 26.73,\n            'f': \"26.73\",\n        },\n{\n            'v': 16.96,\n            'f': \"16.96\",\n        },\n{\n            'v': 2.37,\n            'f': \"2.37\",\n        },\n{\n            'v': -6.9,\n            'f': \"-6.9\",\n        },\n{\n            'v': 13.42,\n            'f': \"13.42\",\n        }],\n [\"TANLA\",\n{\n            'v': 729.0,\n            'f': \"729.0\",\n        },\n{\n            'v': -3.27,\n            'f': \"-3.27\",\n        },\n{\n            'v': -11.52,\n            'f': \"-11.52\",\n        },\n{\n            'v': -19.68,\n            'f': \"-19.68\",\n        },\n{\n            'v': -26.59,\n            'f': \"-26.59\",\n        },\n{\n            'v': -17.88,\n            'f': \"-17.88\",\n        },\n{\n            'v': -21.71,\n            'f': \"-21.71\",\n        },\n{\n            'v': -1.04,\n            'f': \"-1.04\",\n        },\n{\n            'v': -20.54,\n            'f': \"-20.54\",\n        },\n{\n            'v': 63.15,\n            'f': \"63.15\",\n        }],\n [\"JIOFIN\",\n{\n            'v': 311.0,\n            'f': \"311.0\",\n        },\n{\n            'v': -1.55,\n            'f': \"-1.55\",\n        },\n{\n            'v': -5.8,\n            'f': \"-5.8\",\n        },\n{\n            'v': -11.05,\n            'f': \"-11.05\",\n        },\n{\n            'v': -5.51,\n            'f': \"-5.51\",\n        },\n{\n            'v': -18.03,\n            'f': \"-18.03\",\n        },\n{\n            'v': 42.1,\n            'f': \"42.1\",\n        },\n{\n            'v': NaN,\n            'f': \"NaN\",\n        },\n{\n            'v': NaN,\n            'f': \"NaN\",\n        },\n{\n            'v': NaN,\n            'f': \"NaN\",\n        }],\n [\"TRIDENT\",\n{\n            'v': 32.0,\n            'f': \"32.0\",\n        },\n{\n            'v': -3.42,\n            'f': \"-3.42\",\n        },\n{\n            'v': -9.08,\n            'f': \"-9.08\",\n        },\n{\n            'v': -10.53,\n            'f': \"-10.53\",\n        },\n{\n            'v': -18.89,\n            'f': \"-18.89\",\n        },\n{\n            'v': -18.36,\n            'f': \"-18.36\",\n        },\n{\n            'v': -7.47,\n            'f': \"-7.47\",\n        },\n{\n            'v': -4.36,\n            'f': \"-4.36\",\n        },\n{\n            'v': -16.83,\n            'f': \"-16.83\",\n        },\n{\n            'v': 37.59,\n            'f': \"37.59\",\n        }],\n [\"IEX\",\n{\n            'v': 181.0,\n            'f': \"181.0\",\n        },\n{\n            'v': -1.98,\n            'f': \"-1.98\",\n        },\n{\n            'v': -5.34,\n            'f': \"-5.34\",\n        },\n{\n            'v': -13.37,\n            'f': \"-13.37\",\n        },\n{\n            'v': -5.91,\n            'f': \"-5.91\",\n        },\n{\n            'v': 15.86,\n            'f': \"15.86\",\n        },\n{\n            'v': 45.12,\n            'f': \"45.12\",\n        },\n{\n            'v': 13.38,\n            'f': \"13.38\",\n        },\n{\n            'v': -8.97,\n            'f': \"-8.97\",\n        },\n{\n            'v': 32.74,\n            'f': \"32.74\",\n        }],\n [\"SIS\",\n{\n            'v': 389.0,\n            'f': \"389.0\",\n        },\n{\n            'v': 1.47,\n            'f': \"1.47\",\n        },\n{\n            'v': -3.21,\n            'f': \"-3.21\",\n        },\n{\n            'v': -6.94,\n            'f': \"-6.94\",\n        },\n{\n            'v': -8.87,\n            'f': \"-8.87\",\n        },\n{\n            'v': -14.57,\n            'f': \"-14.57\",\n        },\n{\n            'v': -9.71,\n            'f': \"-9.71\",\n        },\n{\n            'v': -2.52,\n            'f': \"-2.52\",\n        },\n{\n            'v': -8.68,\n            'f': \"-8.68\",\n        },\n{\n            'v': -3.24,\n            'f': \"-3.24\",\n        }],\n [\"LUXIND\",\n{\n            'v': 1830.0,\n            'f': \"1830.0\",\n        },\n{\n            'v': -3.74,\n            'f': \"-3.74\",\n        },\n{\n            'v': -9.76,\n            'f': \"-9.76\",\n        },\n{\n            'v': -12.09,\n            'f': \"-12.09\",\n        },\n{\n            'v': -11.31,\n            'f': \"-11.31\",\n        },\n{\n            'v': 22.36,\n            'f': \"22.36\",\n        },\n{\n            'v': 36.78,\n            'f': \"36.78\",\n        },\n{\n            'v': 4.15,\n            'f': \"4.15\",\n        },\n{\n            'v': -22.47,\n            'f': \"-22.47\",\n        },\n{\n            'v': 5.8,\n            'f': \"5.8\",\n        }],\n [\"PAGEIND\",\n{\n            'v': 43039.0,\n            'f': \"43039.0\",\n        },\n{\n            'v': -0.93,\n            'f': \"-0.93\",\n        },\n{\n            'v': -5.56,\n            'f': \"-5.56\",\n        },\n{\n            'v': 2.39,\n            'f': \"2.39\",\n        },\n{\n            'v': 2.27,\n            'f': \"2.27\",\n        },\n{\n            'v': 25.01,\n            'f': \"25.01\",\n        },\n{\n            'v': 16.27,\n            'f': \"16.27\",\n        },\n{\n            'v': -2.95,\n            'f': \"-2.95\",\n        },\n{\n            'v': 4.25,\n            'f': \"4.25\",\n        },\n{\n            'v': 15.39,\n            'f': \"15.39\",\n        }],\n [\"JCHAC\",\n{\n            'v': 2007.0,\n            'f': \"2007.0\",\n        },\n{\n            'v': -8.52,\n            'f': \"-8.52\",\n        },\n{\n            'v': -19.6,\n            'f': \"-19.6\",\n        },\n{\n            'v': -9.42,\n            'f': \"-9.42\",\n        },\n{\n            'v': -1.14,\n            'f': \"-1.14\",\n        },\n{\n            'v': 58.67,\n            'f': \"58.67\",\n        },\n{\n            'v': 87.92,\n            'f': \"87.92\",\n        },\n{\n            'v': 29.16,\n            'f': \"29.16\",\n        },\n{\n            'v': 0.96,\n            'f': \"0.96\",\n        },\n{\n            'v': 0.69,\n            'f': \"0.69\",\n        }],\n [\"SBIETFPB\",\n{\n            'v': 255.0,\n            'f': \"255.0\",\n        },\n{\n            'v': -1.55,\n            'f': \"-1.55\",\n        },\n{\n            'v': -3.36,\n            'f': \"-3.36\",\n        },\n{\n            'v': -7.65,\n            'f': \"-7.65\",\n        },\n{\n            'v': -2.38,\n            'f': \"-2.38\",\n        },\n{\n            'v': 3.87,\n            'f': \"3.87\",\n        },\n{\n            'v': 13.07,\n            'f': \"13.07\",\n        },\n{\n            'v': 8.52,\n            'f': \"8.52\",\n        },\n{\n            'v': 11.19,\n            'f': \"11.19\",\n        },\n{\n            'v': NaN,\n            'f': \"NaN\",\n        }],\n [\"ATULAUTO\",\n{\n            'v': 576.0,\n            'f': \"576.0\",\n        },\n{\n            'v': -4.51,\n            'f': \"-4.51\",\n        },\n{\n            'v': -8.21,\n            'f': \"-8.21\",\n        },\n{\n            'v': -10.56,\n            'f': \"-10.56\",\n        },\n{\n            'v': -20.46,\n            'f': \"-20.46\",\n        },\n{\n            'v': -1.98,\n            'f': \"-1.98\",\n        },\n{\n            'v': -5.83,\n            'f': \"-5.83\",\n        },\n{\n            'v': 46.75,\n            'f': \"46.75\",\n        },\n{\n            'v': 38.08,\n            'f': \"38.08\",\n        },\n{\n            'v': 19.52,\n            'f': \"19.52\",\n        }],\n [\"ASIANPAINT\",\n{\n            'v': 2958.0,\n            'f': \"2958.0\",\n        },\n{\n            'v': -0.47,\n            'f': \"-0.47\",\n        },\n{\n            'v': -1.14,\n            'f': \"-1.14\",\n        },\n{\n            'v': -9.74,\n            'f': \"-9.74\",\n        },\n{\n            'v': -4.1,\n            'f': \"-4.1\",\n        },\n{\n            'v': 1.94,\n            'f': \"1.94\",\n        },\n{\n            'v': 1.23,\n            'f': \"1.23\",\n        },\n{\n            'v': -1.1,\n            'f': \"-1.1\",\n        },\n{\n            'v': -1.16,\n            'f': \"-1.16\",\n        },\n{\n            'v': 11.29,\n            'f': \"11.29\",\n        }],\n [\"BAJAJFINSV\",\n{\n            'v': 1707.0,\n            'f': \"1707.0\",\n        },\n{\n            'v': -1.99,\n            'f': \"-1.99\",\n        },\n{\n            'v': -6.18,\n            'f': \"-6.18\",\n        },\n{\n            'v': -13.89,\n            'f': \"-13.89\",\n        },\n{\n            'v': 3.38,\n            'f': \"3.38\",\n        },\n{\n            'v': 4.99,\n            'f': \"4.99\",\n        },\n{\n            'v': 8.43,\n            'f': \"8.43\",\n        },\n{\n            'v': 0.03,\n            'f': \"0.03\",\n        },\n{\n            'v': 0.82,\n            'f': \"0.82\",\n        },\n{\n            'v': 13.02,\n            'f': \"13.02\",\n        }],\n [\"BANKINDIA\",\n{\n            'v': 97.0,\n            'f': \"97.0\",\n        },\n{\n            'v': -2.69,\n            'f': \"-2.69\",\n        },\n{\n            'v': -7.88,\n            'f': \"-7.88\",\n        },\n{\n            'v': -12.62,\n            'f': \"-12.62\",\n        },\n{\n            'v': -23.24,\n            'f': \"-23.24\",\n        },\n{\n            'v': -34.07,\n            'f': \"-34.07\",\n        },\n{\n            'v': -1.34,\n            'f': \"-1.34\",\n        },\n{\n            'v': 16.9,\n            'f': \"16.9\",\n        },\n{\n            'v': 22.93,\n            'f': \"22.93\",\n        },\n{\n            'v': 8.68,\n            'f': \"8.68\",\n        }],\n [\"TTKPRESTIG\",\n{\n            'v': 835.0,\n            'f': \"835.0\",\n        },\n{\n            'v': -0.94,\n            'f': \"-0.94\",\n        },\n{\n            'v': -6.64,\n            'f': \"-6.64\",\n        },\n{\n            'v': -5.01,\n            'f': \"-5.01\",\n        },\n{\n            'v': -12.87,\n            'f': \"-12.87\",\n        },\n{\n            'v': 19.94,\n            'f': \"19.94\",\n        },\n{\n            'v': 6.85,\n            'f': \"6.85\",\n        },\n{\n            'v': -1.89,\n            'f': \"-1.89\",\n        },\n{\n            'v': -4.74,\n            'f': \"-4.74\",\n        },\n{\n            'v': 8.26,\n            'f': \"8.26\",\n        }],\n [\"KANSAINER\",\n{\n            'v': 279.0,\n            'f': \"279.0\",\n        },\n{\n            'v': 3.1,\n            'f': \"3.1\",\n        },\n{\n            'v': -2.75,\n            'f': \"-2.75\",\n        },\n{\n            'v': -8.19,\n            'f': \"-8.19\",\n        },\n{\n            'v': -9.13,\n            'f': \"-9.13\",\n        },\n{\n            'v': -2.49,\n            'f': \"-2.49\",\n        },\n{\n            'v': -9.81,\n            'f': \"-9.81\",\n        },\n{\n            'v': -2.33,\n            'f': \"-2.33\",\n        },\n{\n            'v': -9.79,\n            'f': \"-9.79\",\n        },\n{\n            'v': -4.31,\n            'f': \"-4.31\",\n        }],\n [\"VALIANTORG\",\n{\n            'v': 398.0,\n            'f': \"398.0\",\n        },\n{\n            'v': -3.58,\n            'f': \"-3.58\",\n        },\n{\n            'v': -4.68,\n            'f': \"-4.68\",\n        },\n{\n            'v': -3.76,\n            'f': \"-3.76\",\n        },\n{\n            'v': -1.77,\n            'f': \"-1.77\",\n        },\n{\n            'v': -4.48,\n            'f': \"-4.48\",\n        },\n{\n            'v': -9.71,\n            'f': \"-9.71\",\n        },\n{\n            'v': -21.77,\n            'f': \"-21.77\",\n        },\n{\n            'v': -27.5,\n            'f': \"-27.5\",\n        },\n{\n            'v': NaN,\n            'f': \"NaN\",\n        }],\n [\"UNIONBANK\",\n{\n            'v': 108.0,\n            'f': \"108.0\",\n        },\n{\n            'v': -1.84,\n            'f': \"-1.84\",\n        },\n{\n            'v': -3.55,\n            'f': \"-3.55\",\n        },\n{\n            'v': -14.74,\n            'f': \"-14.74\",\n        },\n{\n            'v': -19.7,\n            'f': \"-19.7\",\n        },\n{\n            'v': -27.15,\n            'f': \"-27.15\",\n        },\n{\n            'v': 4.96,\n            'f': \"4.96\",\n        },\n{\n            'v': 34.91,\n            'f': \"34.91\",\n        },\n{\n            'v': 40.03,\n            'f': \"40.03\",\n        },\n{\n            'v': 15.43,\n            'f': \"15.43\",\n        }],\n [\"CLEAN\",\n{\n            'v': 1490.0,\n            'f': \"1490.0\",\n        },\n{\n            'v': -1.75,\n            'f': \"-1.75\",\n        },\n{\n            'v': -7.48,\n            'f': \"-7.48\",\n        },\n{\n            'v': -4.31,\n            'f': \"-4.31\",\n        },\n{\n            'v': -7.92,\n            'f': \"-7.92\",\n        },\n{\n            'v': 14.61,\n            'f': \"14.61\",\n        },\n{\n            'v': 8.85,\n            'f': \"8.85\",\n        },\n{\n            'v': -0.02,\n            'f': \"-0.02\",\n        },\n{\n            'v': -10.7,\n            'f': \"-10.7\",\n        },\n{\n            'v': NaN,\n            'f': \"NaN\",\n        }],\n [\"ACC\",\n{\n            'v': 2238.0,\n            'f': \"2238.0\",\n        },\n{\n            'v': -1.43,\n            'f': \"-1.43\",\n        },\n{\n            'v': -2.09,\n            'f': \"-2.09\",\n        },\n{\n            'v': -9.49,\n            'f': \"-9.49\",\n        },\n{\n            'v': -13.62,\n            'f': \"-13.62\",\n        },\n{\n            'v': -11.35,\n            'f': \"-11.35\",\n        },\n{\n            'v': 20.39,\n            'f': \"20.39\",\n        },\n{\n            'v': -4.6,\n            'f': \"-4.6\",\n        },\n{\n            'v': 0.09,\n            'f': \"0.09\",\n        },\n{\n            'v': 10.34,\n            'f': \"10.34\",\n        }],\n [\"MEDANTA\",\n{\n            'v': 1060.0,\n            'f': \"1060.0\",\n        },\n{\n            'v': -0.54,\n            'f': \"-0.54\",\n        },\n{\n            'v': -0.71,\n            'f': \"-0.71\",\n        },\n{\n            'v': -0.12,\n            'f': \"-0.12\",\n        },\n{\n            'v': -14.63,\n            'f': \"-14.63\",\n        },\n{\n            'v': -24.76,\n            'f': \"-24.76\",\n        },\n{\n            'v': 29.81,\n            'f': \"29.81\",\n        },\n{\n            'v': NaN,\n            'f': \"NaN\",\n        },\n{\n            'v': NaN,\n            'f': \"NaN\",\n        },\n{\n            'v': NaN,\n            'f': \"NaN\",\n        }],\n [\"LALPATHLAB\",\n{\n            'v': 3138.0,\n            'f': \"3138.0\",\n        },\n{\n            'v': 2.9,\n            'f': \"2.9\",\n        },\n{\n            'v': -6.51,\n            'f': \"-6.51\",\n        },\n{\n            'v': -4.37,\n            'f': \"-4.37\",\n        },\n{\n            'v': 1.71,\n            'f': \"1.71\",\n        },\n{\n            'v': 35.87,\n            'f': \"35.87\",\n        },\n{\n            'v': 28.52,\n            'f': \"28.52\",\n        },\n{\n            'v': 13.23,\n            'f': \"13.23\",\n        },\n{\n            'v': -4.32,\n            'f': \"-4.32\",\n        },\n{\n            'v': 17.11,\n            'f': \"17.11\",\n        }],\n [\"HATHWAY\",\n{\n            'v': 18.0,\n            'f': \"18.0\",\n        },\n{\n            'v': -3.62,\n            'f': \"-3.62\",\n        },\n{\n            'v': -8.92,\n            'f': \"-8.92\",\n        },\n{\n            'v': -12.11,\n            'f': \"-12.11\",\n        },\n{\n            'v': -24.95,\n            'f': \"-24.95\",\n        },\n{\n            'v': -17.82,\n            'f': \"-17.82\",\n        },\n{\n            'v': 0.17,\n            'f': \"0.17\",\n        },\n{\n            'v': 6.47,\n            'f': \"6.47\",\n        },\n{\n            'v': -4.21,\n            'f': \"-4.21\",\n        },\n{\n            'v': -1.45,\n            'f': \"-1.45\",\n        }],\n [\"VAIBHAVGBL\",\n{\n            'v': 275.0,\n            'f': \"275.0\",\n        },\n{\n            'v': -2.79,\n            'f': \"-2.79\",\n        },\n{\n            'v': -5.32,\n            'f': \"-5.32\",\n        },\n{\n            'v': -9.62,\n            'f': \"-9.62\",\n        },\n{\n            'v': -18.9,\n            'f': \"-18.9\",\n        },\n{\n            'v': -30.95,\n            'f': \"-30.95\",\n        },\n{\n            'v': -33.05,\n            'f': \"-33.05\",\n        },\n{\n            'v': -7.26,\n            'f': \"-7.26\",\n        },\n{\n            'v': -17.93,\n            'f': \"-17.93\",\n        },\n{\n            'v': 14.87,\n            'f': \"14.87\",\n        }],\n [\"GLAND\",\n{\n            'v': 1606.0,\n            'f': \"1606.0\",\n        },\n{\n            'v': -2.2,\n            'f': \"-2.2\",\n        },\n{\n            'v': -2.68,\n            'f': \"-2.68\",\n        },\n{\n            'v': -13.12,\n            'f': \"-13.12\",\n        },\n{\n            'v': -24.24,\n            'f': \"-24.24\",\n        },\n{\n            'v': -3.8,\n            'f': \"-3.8\",\n        },\n{\n            'v': 8.83,\n            'f': \"8.83\",\n        },\n{\n            'v': -3.04,\n            'f': \"-3.04\",\n        },\n{\n            'v': -22.44,\n            'f': \"-22.44\",\n        },\n{\n            'v': NaN,\n            'f': \"NaN\",\n        }],\n [\"DEN\",\n{\n            'v': 43.0,\n            'f': \"43.0\",\n        },\n{\n            'v': -2.66,\n            'f': \"-2.66\",\n        },\n{\n            'v': -11.68,\n            'f': \"-11.68\",\n        },\n{\n            'v': -20.33,\n            'f': \"-20.33\",\n        },\n{\n            'v': -25.54,\n            'f': \"-25.54\",\n        },\n{\n            'v': -16.25,\n            'f': \"-16.25\",\n        },\n{\n            'v': -5.96,\n            'f': \"-5.96\",\n        },\n{\n            'v': 10.77,\n            'f': \"10.77\",\n        },\n{\n            'v': 2.11,\n            'f': \"2.11\",\n        },\n{\n            'v': 2.58,\n            'f': \"2.58\",\n        }],\n [\"INDIGOPNTS\",\n{\n            'v': 1601.0,\n            'f': \"1601.0\",\n        },\n{\n            'v': -3.63,\n            'f': \"-3.63\",\n        },\n{\n            'v': 2.2,\n            'f': \"2.2\",\n        },\n{\n            'v': 8.19,\n            'f': \"8.19\",\n        },\n{\n            'v': 7.09,\n            'f': \"7.09\",\n        },\n{\n            'v': 16.3,\n            'f': \"16.3\",\n        },\n{\n            'v': 12.09,\n            'f': \"12.09\",\n        },\n{\n            'v': 8.22,\n            'f': \"8.22\",\n        },\n{\n            'v': -10.22,\n            'f': \"-10.22\",\n        },\n{\n            'v': NaN,\n            'f': \"NaN\",\n        }],\n [\"HCLTECH\",\n{\n            'v': 1852.0,\n            'f': \"1852.0\",\n        },\n{\n            'v': 0.4,\n            'f': \"0.4\",\n        },\n{\n            'v': 0.37,\n            'f': \"0.37\",\n        },\n{\n            'v': 4.52,\n            'f': \"4.52\",\n        },\n{\n            'v': 13.51,\n            'f': \"13.51\",\n        },\n{\n            'v': 41.24,\n            'f': \"41.24\",\n        },\n{\n            'v': 50.67,\n            'f': \"50.67\",\n        },\n{\n            'v': 34.77,\n            'f': \"34.77\",\n        },\n{\n            'v': 23.41,\n            'f': \"23.41\",\n        },\n{\n            'v': 30.92,\n            'f': \"30.92\",\n        }],\n [\"SAIL\",\n{\n            'v': 111.0,\n            'f': \"111.0\",\n        },\n{\n            'v': -4.82,\n            'f': \"-4.82\",\n        },\n{\n            'v': -13.6,\n            'f': \"-13.6\",\n        },\n{\n            'v': -19.91,\n            'f': \"-19.91\",\n        },\n{\n            'v': -26.59,\n            'f': \"-26.59\",\n        },\n{\n            'v': -33.11,\n            'f': \"-33.11\",\n        },\n{\n            'v': 33.13,\n            'f': \"33.13\",\n        },\n{\n            'v': 15.58,\n            'f': \"15.58\",\n        },\n{\n            'v': 5.42,\n            'f': \"5.42\",\n        },\n{\n            'v': 25.57,\n            'f': \"25.57\",\n        }],\n [\"AAVAS\",\n{\n            'v': 1674.0,\n            'f': \"1674.0\",\n        },\n{\n            'v': 0.3,\n            'f': \"0.3\",\n        },\n{\n            'v': -3.3,\n            'f': \"-3.3\",\n        },\n{\n            'v': -11.2,\n            'f': \"-11.2\",\n        },\n{\n            'v': -0.1,\n            'f': \"-0.1\",\n        },\n{\n            'v': 5.54,\n            'f': \"5.54\",\n        },\n{\n            'v': 14.65,\n            'f': \"14.65\",\n        },\n{\n            'v': -9.3,\n            'f': \"-9.3\",\n        },\n{\n            'v': -14.34,\n            'f': \"-14.34\",\n        },\n{\n            'v': -1.49,\n            'f': \"-1.49\",\n        }],\n [\"SFL\",\n{\n            'v': 824.0,\n            'f': \"824.0\",\n        },\n{\n            'v': -2.01,\n            'f': \"-2.01\",\n        },\n{\n            'v': -7.26,\n            'f': \"-7.26\",\n        },\n{\n            'v': -9.18,\n            'f': \"-9.18\",\n        },\n{\n            'v': -19.54,\n            'f': \"-19.54\",\n        },\n{\n            'v': -9.16,\n            'f': \"-9.16\",\n        },\n{\n            'v': -25.18,\n            'f': \"-25.18\",\n        },\n{\n            'v': -22.28,\n            'f': \"-22.28\",\n        },\n{\n            'v': -19.22,\n            'f': \"-19.22\",\n        },\n{\n            'v': 5.24,\n            'f': \"5.24\",\n        }],\n [\"BERGEPAINT\",\n{\n            'v': 537.0,\n            'f': \"537.0\",\n        },\n{\n            'v': -1.3,\n            'f': \"-1.3\",\n        },\n{\n            'v': -3.49,\n            'f': \"-3.49\",\n        },\n{\n            'v': -12.53,\n            'f': \"-12.53\",\n        },\n{\n            'v': -2.62,\n            'f': \"-2.62\",\n        },\n{\n            'v': 3.28,\n            'f': \"3.28\",\n        },\n{\n            'v': -1.56,\n            'f': \"-1.56\",\n        },\n{\n            'v': 3.4,\n            'f': \"3.4\",\n        },\n{\n            'v': -4.91,\n            'f': \"-4.91\",\n        },\n{\n            'v': 5.4,\n            'f': \"5.4\",\n        }],\n [\"LAOPALA\",\n{\n            'v': 327.0,\n            'f': \"327.0\",\n        },\n{\n            'v': -2.95,\n            'f': \"-2.95\",\n        },\n{\n            'v': -7.1,\n            'f': \"-7.1\",\n        },\n{\n            'v': -8.64,\n            'f': \"-8.64\",\n        },\n{\n            'v': 3.0,\n            'f': \"3.0\",\n        },\n{\n            'v': 1.19,\n            'f': \"1.19\",\n        },\n{\n            'v': -21.98,\n            'f': \"-21.98\",\n        },\n{\n            'v': -11.42,\n            'f': \"-11.42\",\n        },\n{\n            'v': 0.62,\n            'f': \"0.62\",\n        },\n{\n            'v': 18.76,\n            'f': \"18.76\",\n        }],\n [\"SURYODAY\",\n{\n            'v': 136.0,\n            'f': \"136.0\",\n        },\n{\n            'v': -12.5,\n            'f': \"-12.5\",\n        },\n{\n            'v': -19.38,\n            'f': \"-19.38\",\n        },\n{\n            'v': -25.87,\n            'f': \"-25.87\",\n        },\n{\n            'v': -28.2,\n            'f': \"-28.2\",\n        },\n{\n            'v': -35.87,\n            'f': \"-35.87\",\n        },\n{\n            'v': -10.99,\n            'f': \"-10.99\",\n        },\n{\n            'v': 15.65,\n            'f': \"15.65\",\n        },\n{\n            'v': -4.79,\n            'f': \"-4.79\",\n        },\n{\n            'v': NaN,\n            'f': \"NaN\",\n        }],\n [\"SAMMAANCAP\",\n{\n            'v': 135.0,\n            'f': \"135.0\",\n        },\n{\n            'v': -2.97,\n            'f': \"-2.97\",\n        },\n{\n            'v': -6.33,\n            'f': \"-6.33\",\n        },\n{\n            'v': -19.25,\n            'f': \"-19.25\",\n        },\n{\n            'v': -21.54,\n            'f': \"-21.54\",\n        },\n{\n            'v': -18.64,\n            'f': \"-18.64\",\n        },\n{\n            'v': -7.49,\n            'f': \"-7.49\",\n        },\n{\n            'v': 7.76,\n            'f': \"7.76\",\n        },\n{\n            'v': -14.31,\n            'f': \"-14.31\",\n        },\n{\n            'v': -11.37,\n            'f': \"-11.37\",\n        }],\n [\"SBICARD\",\n{\n            'v': 691.0,\n            'f': \"691.0\",\n        },\n{\n            'v': -2.91,\n            'f': \"-2.91\",\n        },\n{\n            'v': -6.58,\n            'f': \"-6.58\",\n        },\n{\n            'v': -11.49,\n            'f': \"-11.49\",\n        },\n{\n            'v': -4.87,\n            'f': \"-4.87\",\n        },\n{\n            'v': -4.26,\n            'f': \"-4.26\",\n        },\n{\n            'v': -6.73,\n            'f': \"-6.73\",\n        },\n{\n            'v': -7.33,\n            'f': \"-7.33\",\n        },\n{\n            'v': -9.84,\n            'f': \"-9.84\",\n        },\n{\n            'v': NaN,\n            'f': \"NaN\",\n        }],\n [\"UJJIVANSFB\",\n{\n            'v': 36.0,\n            'f': \"36.0\",\n        },\n{\n            'v': -2.27,\n            'f': \"-2.27\",\n        },\n{\n            'v': -8.38,\n            'f': \"-8.38\",\n        },\n{\n            'v': -13.31,\n            'f': \"-13.31\",\n        },\n{\n            'v': -20.23,\n            'f': \"-20.23\",\n        },\n{\n            'v': -32.12,\n            'f': \"-32.12\",\n        },\n{\n            'v': -30.27,\n            'f': \"-30.27\",\n        },\n{\n            'v': 17.5,\n            'f': \"17.5\",\n        },\n{\n            'v': 27.04,\n            'f': \"27.04\",\n        },\n{\n            'v': -7.89,\n            'f': \"-7.89\",\n        }],\n [\"COFFEEDAY\",\n{\n            'v': 28.0,\n            'f': \"28.0\",\n        },\n{\n            'v': -5.01,\n            'f': \"-5.01\",\n        },\n{\n            'v': -17.21,\n            'f': \"-17.21\",\n        },\n{\n            'v': -27.03,\n            'f': \"-27.03\",\n        },\n{\n            'v': -46.01,\n            'f': \"-46.01\",\n        },\n{\n            'v': -53.89,\n            'f': \"-53.89\",\n        },\n{\n            'v': -40.86,\n            'f': \"-40.86\",\n        },\n{\n            'v': -25.51,\n            'f': \"-25.51\",\n        },\n{\n            'v': -10.03,\n            'f': \"-10.03\",\n        },\n{\n            'v': -8.61,\n            'f': \"-8.61\",\n        }],\n [\"SATIN\",\n{\n            'v': 155.0,\n            'f': \"155.0\",\n        },\n{\n            'v': -4.02,\n            'f': \"-4.02\",\n        },\n{\n            'v': -14.95,\n            'f': \"-14.95\",\n        },\n{\n            'v': -22.53,\n            'f': \"-22.53\",\n        },\n{\n            'v': -31.74,\n            'f': \"-31.74\",\n        },\n{\n            'v': -38.34,\n            'f': \"-38.34\",\n        },\n{\n            'v': -38.27,\n            'f': \"-38.27\",\n        },\n{\n            'v': 6.34,\n            'f': \"6.34\",\n        },\n{\n            'v': 29.87,\n            'f': \"29.87\",\n        },\n{\n            'v': -3.15,\n            'f': \"-3.15\",\n        }],\n [\"HINDUNILVR\",\n{\n            'v': 2528.0,\n            'f': \"2528.0\",\n        },\n{\n            'v': 0.92,\n            'f': \"0.92\",\n        },\n{\n            'v': -6.96,\n            'f': \"-6.96\",\n        },\n{\n            'v': -15.34,\n            'f': \"-15.34\",\n        },\n{\n            'v': -6.56,\n            'f': \"-6.56\",\n        },\n{\n            'v': 15.14,\n            'f': \"15.14\",\n        },\n{\n            'v': 2.65,\n            'f': \"2.65\",\n        },\n{\n            'v': 2.71,\n            'f': \"2.71\",\n        },\n{\n            'v': 4.04,\n            'f': \"4.04\",\n        },\n{\n            'v': 6.92,\n            'f': \"6.92\",\n        }],\n [\"5PAISA\",\n{\n            'v': 487.0,\n            'f': \"487.0\",\n        },\n{\n            'v': -2.03,\n            'f': \"-2.03\",\n        },\n{\n            'v': -8.48,\n            'f': \"-8.48\",\n        },\n{\n            'v': -10.13,\n            'f': \"-10.13\",\n        },\n{\n            'v': -0.89,\n            'f': \"-0.89\",\n        },\n{\n            'v': -7.49,\n            'f': \"-7.49\",\n        },\n{\n            'v': 9.76,\n            'f': \"9.76\",\n        },\n{\n            'v': 24.55,\n            'f': \"24.55\",\n        },\n{\n            'v': 8.8,\n            'f': \"8.8\",\n        },\n{\n            'v': 21.63,\n            'f': \"21.63\",\n        }],\n [\"TEAMLEASE\",\n{\n            'v': 2810.0,\n            'f': \"2810.0\",\n        },\n{\n            'v': -1.08,\n            'f': \"-1.08\",\n        },\n{\n            'v': -6.75,\n            'f': \"-6.75\",\n        },\n{\n            'v': -7.74,\n            'f': \"-7.74\",\n        },\n{\n            'v': -20.11,\n            'f': \"-20.11\",\n        },\n{\n            'v': -11.48,\n            'f': \"-11.48\",\n        },\n{\n            'v': 17.88,\n            'f': \"17.88\",\n        },\n{\n            'v': 8.12,\n            'f': \"8.12\",\n        },\n{\n            'v': -10.34,\n            'f': \"-10.34\",\n        },\n{\n            'v': 2.64,\n            'f': \"2.64\",\n        }],\n [\"REPCOHOME\",\n{\n            'v': 496.0,\n            'f': \"496.0\",\n        },\n{\n            'v': -1.17,\n            'f': \"-1.17\",\n        },\n{\n            'v': -0.35,\n            'f': \"-0.35\",\n        },\n{\n            'v': -7.41,\n            'f': \"-7.41\",\n        },\n{\n            'v': -10.99,\n            'f': \"-10.99\",\n        },\n{\n            'v': -3.67,\n            'f': \"-3.67\",\n        },\n{\n            'v': 24.48,\n            'f': \"24.48\",\n        },\n{\n            'v': 42.0,\n            'f': \"42.0\",\n        },\n{\n            'v': 20.18,\n            'f': \"20.18\",\n        },\n{\n            'v': 10.21,\n            'f': \"10.21\",\n        }],\n [\"ROUTE\",\n{\n            'v': 1508.0,\n            'f': \"1508.0\",\n        },\n{\n            'v': 0.28,\n            'f': \"0.28\",\n        },\n{\n            'v': -2.79,\n            'f': \"-2.79\",\n        },\n{\n            'v': -5.35,\n            'f': \"-5.35\",\n        },\n{\n            'v': -7.36,\n            'f': \"-7.36\",\n        },\n{\n            'v': -1.06,\n            'f': \"-1.06\",\n        },\n{\n            'v': -3.31,\n            'f': \"-3.31\",\n        },\n{\n            'v': 6.97,\n            'f': \"6.97\",\n        },\n{\n            'v': -4.83,\n            'f': \"-4.83\",\n        },\n{\n            'v': NaN,\n            'f': \"NaN\",\n        }],\n [\"DABUR\",\n{\n            'v': 539.0,\n            'f': \"539.0\",\n        },\n{\n            'v': -0.43,\n            'f': \"-0.43\",\n        },\n{\n            'v': -5.72,\n            'f': \"-5.72\",\n        },\n{\n            'v': -13.91,\n            'f': \"-13.91\",\n        },\n{\n            'v': -15.26,\n            'f': \"-15.26\",\n        },\n{\n            'v': 1.74,\n            'f': \"1.74\",\n        },\n{\n            'v': 2.53,\n            'f': \"2.53\",\n        },\n{\n            'v': -0.4,\n            'f': \"-0.4\",\n        },\n{\n            'v': -2.85,\n            'f': \"-2.85\",\n        },\n{\n            'v': 4.03,\n            'f': \"4.03\",\n        }],\n [\"JPPOWER\",\n{\n            'v': 18.0,\n            'f': \"18.0\",\n        },\n{\n            'v': -2.72,\n            'f': \"-2.72\",\n        },\n{\n            'v': -10.59,\n            'f': \"-10.59\",\n        },\n{\n            'v': 2.7,\n            'f': \"2.7\",\n        },\n{\n            'v': -9.87,\n            'f': \"-9.87\",\n        },\n{\n            'v': -9.19,\n            'f': \"-9.19\",\n        },\n{\n            'v': 72.02,\n            'f': \"72.02\",\n        },\n{\n            'v': 54.96,\n            'f': \"54.96\",\n        },\n{\n            'v': 54.9,\n            'f': \"54.9\",\n        },\n{\n            'v': 67.67,\n            'f': \"67.67\",\n        }],\n [\"BAJFINANCE\",\n{\n            'v': 6910.0,\n            'f': \"6910.0\",\n        },\n{\n            'v': -1.86,\n            'f': \"-1.86\",\n        },\n{\n            'v': 0.15,\n            'f': \"0.15\",\n        },\n{\n            'v': -11.05,\n            'f': \"-11.05\",\n        },\n{\n            'v': 1.52,\n            'f': \"1.52\",\n        },\n{\n            'v': 0.19,\n            'f': \"0.19\",\n        },\n{\n            'v': -6.77,\n            'f': \"-6.77\",\n        },\n{\n            'v': -0.37,\n            'f': \"-0.37\",\n        },\n{\n            'v': 0.93,\n            'f': \"0.93\",\n        },\n{\n            'v': 11.19,\n            'f': \"11.19\",\n        }],\n [\"PIDILITIND\",\n{\n            'v': 3179.0,\n            'f': \"3179.0\",\n        },\n{\n            'v': 1.84,\n            'f': \"1.84\",\n        },\n{\n            'v': -0.16,\n            'f': \"-0.16\",\n        },\n{\n            'v': -3.37,\n            'f': \"-3.37\",\n        },\n{\n            'v': -0.23,\n            'f': \"-0.23\",\n        },\n{\n            'v': 8.2,\n            'f': \"8.2\",\n        },\n{\n            'v': 31.58,\n            'f': \"31.58\",\n        },\n{\n            'v': 9.52,\n            'f': \"9.52\",\n        },\n{\n            'v': 12.88,\n            'f': \"12.88\",\n        },\n{\n            'v': 18.72,\n            'f': \"18.72\",\n        }],\n [\"VIPIND\",\n{\n            'v': 461.0,\n            'f': \"461.0\",\n        },\n{\n            'v': -2.22,\n            'f': \"-2.22\",\n        },\n{\n            'v': -11.34,\n            'f': \"-11.34\",\n        },\n{\n            'v': -15.85,\n            'f': \"-15.85\",\n        },\n{\n            'v': -0.91,\n            'f': \"-0.91\",\n        },\n{\n            'v': -17.54,\n            'f': \"-17.54\",\n        },\n{\n            'v': -22.31,\n            'f': \"-22.31\",\n        },\n{\n            'v': -19.13,\n            'f': \"-19.13\",\n        },\n{\n            'v': -5.5,\n            'f': \"-5.5\",\n        },\n{\n            'v': 2.23,\n            'f': \"2.23\",\n        }],\n [\"INDUSINDBK\",\n{\n            'v': 1042.0,\n            'f': \"1042.0\",\n        },\n{\n            'v': -18.63,\n            'f': \"-18.63\",\n        },\n{\n            'v': -22.69,\n            'f': \"-22.69\",\n        },\n{\n            'v': -28.3,\n            'f': \"-28.3\",\n        },\n{\n            'v': -27.05,\n            'f': \"-27.05\",\n        },\n{\n            'v': -29.02,\n            'f': \"-29.02\",\n        },\n{\n            'v': -27.92,\n            'f': \"-27.92\",\n        },\n{\n            'v': -3.9,\n            'f': \"-3.9\",\n        },\n{\n            'v': 5.91,\n            'f': \"5.91\",\n        },\n{\n            'v': -6.23,\n            'f': \"-6.23\",\n        }],\n [\"AARTIIND\",\n{\n            'v': 489.0,\n            'f': \"489.0\",\n        },\n{\n            'v': -3.22,\n            'f': \"-3.22\",\n        },\n{\n            'v': -6.8,\n            'f': \"-6.8\",\n        },\n{\n            'v': -16.11,\n            'f': \"-16.11\",\n        },\n{\n            'v': -34.75,\n            'f': \"-34.75\",\n        },\n{\n            'v': -33.83,\n            'f': \"-33.83\",\n        },\n{\n            'v': 7.18,\n            'f': \"7.18\",\n        },\n{\n            'v': -16.53,\n            'f': \"-16.53\",\n        },\n{\n            'v': -18.87,\n            'f': \"-18.87\",\n        },\n{\n            'v': 5.39,\n            'f': \"5.39\",\n        }],\n [\"KOTAKBANK\",\n{\n            'v': 1769.0,\n            'f': \"1769.0\",\n        },\n{\n            'v': 0.38,\n            'f': \"0.38\",\n        },\n{\n            'v': -5.46,\n            'f': \"-5.46\",\n        },\n{\n            'v': -7.02,\n            'f': \"-7.02\",\n        },\n{\n            'v': -2.16,\n            'f': \"-2.16\",\n        },\n{\n            'v': 14.49,\n            'f': \"14.49\",\n        },\n{\n            'v': 1.9,\n            'f': \"1.9\",\n        },\n{\n            'v': -3.73,\n            'f': \"-3.73\",\n        },\n{\n            'v': -3.32,\n            'f': \"-3.32\",\n        },\n{\n            'v': 0.94,\n            'f': \"0.94\",\n        }],\n [\"ASIANTILES\",\n{\n            'v': 67.0,\n            'f': \"67.0\",\n        },\n{\n            'v': -1.9,\n            'f': \"-1.9\",\n        },\n{\n            'v': -10.09,\n            'f': \"-10.09\",\n        },\n{\n            'v': -24.17,\n            'f': \"-24.17\",\n        },\n{\n            'v': -21.13,\n            'f': \"-21.13\",\n        },\n{\n            'v': 7.98,\n            'f': \"7.98\",\n        },\n{\n            'v': -19.89,\n            'f': \"-19.89\",\n        },\n{\n            'v': 13.2,\n            'f': \"13.2\",\n        },\n{\n            'v': -10.87,\n            'f': \"-10.87\",\n        },\n{\n            'v': -13.57,\n            'f': \"-13.57\",\n        }],\n [\"ALKYLAMINE\",\n{\n            'v': 2002.0,\n            'f': \"2002.0\",\n        },\n{\n            'v': -3.8,\n            'f': \"-3.8\",\n        },\n{\n            'v': -10.55,\n            'f': \"-10.55\",\n        },\n{\n            'v': -14.32,\n            'f': \"-14.32\",\n        },\n{\n            'v': -5.77,\n            'f': \"-5.77\",\n        },\n{\n            'v': -1.73,\n            'f': \"-1.73\",\n        },\n{\n            'v': -6.38,\n            'f': \"-6.38\",\n        },\n{\n            'v': -15.82,\n            'f': \"-15.82\",\n        },\n{\n            'v': -14.69,\n            'f': \"-14.69\",\n        },\n{\n            'v': 36.39,\n            'f': \"36.39\",\n        }],\n [\"MASFIN\",\n{\n            'v': 282.0,\n            'f': \"282.0\",\n        },\n{\n            'v': -1.28,\n            'f': \"-1.28\",\n        },\n{\n            'v': -5.92,\n            'f': \"-5.92\",\n        },\n{\n            'v': -6.03,\n            'f': \"-6.03\",\n        },\n{\n            'v': -1.8,\n            'f': \"-1.8\",\n        },\n{\n            'v': -5.93,\n            'f': \"-5.93\",\n        },\n{\n            'v': -6.42,\n            'f': \"-6.42\",\n        },\n{\n            'v': -0.24,\n            'f': \"-0.24\",\n        },\n{\n            'v': 5.52,\n            'f': \"5.52\",\n        },\n{\n            'v': 0.83,\n            'f': \"0.83\",\n        }],\n [\"BANKBARODA\",\n{\n            'v': 240.0,\n            'f': \"240.0\",\n        },\n{\n            'v': -2.14,\n            'f': \"-2.14\",\n        },\n{\n            'v': -3.41,\n            'f': \"-3.41\",\n        },\n{\n            'v': -2.3,\n            'f': \"-2.3\",\n        },\n{\n            'v': -5.57,\n            'f': \"-5.57\",\n        },\n{\n            'v': -10.71,\n            'f': \"-10.71\",\n        },\n{\n            'v': 23.16,\n            'f': \"23.16\",\n        },\n{\n            'v': 24.74,\n            'f': \"24.74\",\n        },\n{\n            'v': 42.74,\n            'f': \"42.74\",\n        },\n{\n            'v': 21.0,\n            'f': \"21.0\",\n        }],\n [\"LTIM\",\n{\n            'v': 5903.0,\n            'f': \"5903.0\",\n        },\n{\n            'v': -0.79,\n            'f': \"-0.79\",\n        },\n{\n            'v': -1.15,\n            'f': \"-1.15\",\n        },\n{\n            'v': -3.91,\n            'f': \"-3.91\",\n        },\n{\n            'v': 4.68,\n            'f': \"4.68\",\n        },\n{\n            'v': 28.46,\n            'f': \"28.46\",\n        },\n{\n            'v': 19.04,\n            'f': \"19.04\",\n        },\n{\n            'v': 9.0,\n            'f': \"9.0\",\n        },\n{\n            'v': -2.56,\n            'f': \"-2.56\",\n        },\n{\n            'v': 29.71,\n            'f': \"29.71\",\n        }],\n [\"TITAGARH\",\n{\n            'v': 1146.0,\n            'f': \"1146.0\",\n        },\n{\n            'v': -1.71,\n            'f': \"-1.71\",\n        },\n{\n            'v': -4.27,\n            'f': \"-4.27\",\n        },\n{\n            'v': -8.21,\n            'f': \"-8.21\",\n        },\n{\n            'v': -29.62,\n            'f': \"-29.62\",\n        },\n{\n            'v': 7.67,\n            'f': \"7.67\",\n        },\n{\n            'v': 51.38,\n            'f': \"51.38\",\n        },\n{\n            'v': 156.61,\n            'f': \"156.61\",\n        },\n{\n            'v': 127.96,\n            'f': \"127.96\",\n        },\n{\n            'v': 90.04,\n            'f': \"90.04\",\n        }],\n [\"METROPOLIS\",\n{\n            'v': 2106.0,\n            'f': \"2106.0\",\n        },\n{\n            'v': -1.4,\n            'f': \"-1.4\",\n        },\n{\n            'v': -4.54,\n            'f': \"-4.54\",\n        },\n{\n            'v': -2.57,\n            'f': \"-2.57\",\n        },\n{\n            'v': -0.63,\n            'f': \"-0.63\",\n        },\n{\n            'v': 17.6,\n            'f': \"17.6\",\n        },\n{\n            'v': 44.89,\n            'f': \"44.89\",\n        },\n{\n            'v': 16.8,\n            'f': \"16.8\",\n        },\n{\n            'v': -11.27,\n            'f': \"-11.27\",\n        },\n{\n            'v': 10.24,\n            'f': \"10.24\",\n        }],\n [\"FINEORG\",\n{\n            'v': 4625.0,\n            'f': \"4625.0\",\n        },\n{\n            'v': -2.38,\n            'f': \"-2.38\",\n        },\n{\n            'v': -8.52,\n            'f': \"-8.52\",\n        },\n{\n            'v': -12.19,\n            'f': \"-12.19\",\n        },\n{\n            'v': -16.3,\n            'f': \"-16.3\",\n        },\n{\n            'v': 7.79,\n            'f': \"7.79\",\n        },\n{\n            'v': 9.65,\n            'f': \"9.65\",\n        },\n{\n            'v': -12.39,\n            'f': \"-12.39\",\n        },\n{\n            'v': 8.15,\n            'f': \"8.15\",\n        },\n{\n            'v': 19.22,\n            'f': \"19.22\",\n        }],\n [\"BATAINDIA\",\n{\n            'v': 1365.0,\n            'f': \"1365.0\",\n        },\n{\n            'v': -1.44,\n            'f': \"-1.44\",\n        },\n{\n            'v': -6.84,\n            'f': \"-6.84\",\n        },\n{\n            'v': -4.3,\n            'f': \"-4.3\",\n        },\n{\n            'v': -13.89,\n            'f': \"-13.89\",\n        },\n{\n            'v': 3.49,\n            'f': \"3.49\",\n        },\n{\n            'v': -11.96,\n            'f': \"-11.96\",\n        },\n{\n            'v': -9.51,\n            'f': \"-9.51\",\n        },\n{\n            'v': -9.92,\n            'f': \"-9.92\",\n        },\n{\n            'v': -3.53,\n            'f': \"-3.53\",\n        }],\n [\"GREENPANEL\",\n{\n            'v': 370.0,\n            'f': \"370.0\",\n        },\n{\n            'v': -0.3,\n            'f': \"-0.3\",\n        },\n{\n            'v': -8.37,\n            'f': \"-8.37\",\n        },\n{\n            'v': -4.3,\n            'f': \"-4.3\",\n        },\n{\n            'v': 2.57,\n            'f': \"2.57\",\n        },\n{\n            'v': 21.06,\n            'f': \"21.06\",\n        },\n{\n            'v': 9.16,\n            'f': \"9.16\",\n        },\n{\n            'v': 1.87,\n            'f': \"1.87\",\n        },\n{\n            'v': 0.16,\n            'f': \"0.16\",\n        },\n{\n            'v': 54.14,\n            'f': \"54.14\",\n        }],\n [\"HAPPSTMNDS\",\n{\n            'v': 769.0,\n            'f': \"769.0\",\n        },\n{\n            'v': -0.83,\n            'f': \"-0.83\",\n        },\n{\n            'v': -3.46,\n            'f': \"-3.46\",\n        },\n{\n            'v': -3.75,\n            'f': \"-3.75\",\n        },\n{\n            'v': -5.48,\n            'f': \"-5.48\",\n        },\n{\n            'v': -4.48,\n            'f': \"-4.48\",\n        },\n{\n            'v': -4.87,\n            'f': \"-4.87\",\n        },\n{\n            'v': -11.57,\n            'f': \"-11.57\",\n        },\n{\n            'v': -14.08,\n            'f': \"-14.08\",\n        },\n{\n            'v': NaN,\n            'f': \"NaN\",\n        }],\n [\"JMFINANCIL\",\n{\n            'v': 135.0,\n            'f': \"135.0\",\n        },\n{\n            'v': -1.34,\n            'f': \"-1.34\",\n        },\n{\n            'v': -15.12,\n            'f': \"-15.12\",\n        },\n{\n            'v': -4.64,\n            'f': \"-4.64\",\n        },\n{\n            'v': 28.56,\n            'f': \"28.56\",\n        },\n{\n            'v': 61.76,\n            'f': \"61.76\",\n        },\n{\n            'v': 66.93,\n            'f': \"66.93\",\n        },\n{\n            'v': 40.64,\n            'f': \"40.64\",\n        },\n{\n            'v': 24.71,\n            'f': \"24.71\",\n        },\n{\n            'v': 9.64,\n            'f': \"9.64\",\n        }],\n [\"CERA\",\n{\n            'v': 6992.0,\n            'f': \"6992.0\",\n        },\n{\n            'v': -1.14,\n            'f': \"-1.14\",\n        },\n{\n            'v': -10.01,\n            'f': \"-10.01\",\n        },\n{\n            'v': -14.28,\n            'f': \"-14.28\",\n        },\n{\n            'v': -21.73,\n            'f': \"-21.73\",\n        },\n{\n            'v': 2.71,\n            'f': \"2.71\",\n        },\n{\n            'v': -13.45,\n            'f': \"-13.45\",\n        },\n{\n            'v': 14.8,\n            'f': \"14.8\",\n        },\n{\n            'v': 12.5,\n            'f': \"12.5\",\n        },\n{\n            'v': 22.66,\n            'f': \"22.66\",\n        }],\n [\"HDFCLIFE\",\n{\n            'v': 709.0,\n            'f': \"709.0\",\n        },\n{\n            'v': -0.76,\n            'f': \"-0.76\",\n        },\n{\n            'v': -4.44,\n            'f': \"-4.44\",\n        },\n{\n            'v': -2.76,\n            'f': \"-2.76\",\n        },\n{\n            'v': -0.85,\n            'f': \"-0.85\",\n        },\n{\n            'v': 25.79,\n            'f': \"25.79\",\n        },\n{\n            'v': 14.95,\n            'f': \"14.95\",\n        },\n{\n            'v': 15.77,\n            'f': \"15.77\",\n        },\n{\n            'v': 2.19,\n            'f': \"2.19\",\n        },\n{\n            'v': 3.23,\n            'f': \"3.23\",\n        }],\n [\"GICRE\",\n{\n            'v': 349.0,\n            'f': \"349.0\",\n        },\n{\n            'v': -3.11,\n            'f': \"-3.11\",\n        },\n{\n            'v': -10.03,\n            'f': \"-10.03\",\n        },\n{\n            'v': -12.8,\n            'f': \"-12.8\",\n        },\n{\n            'v': -16.79,\n            'f': \"-16.79\",\n        },\n{\n            'v': 5.23,\n            'f': \"5.23\",\n        },\n{\n            'v': 57.37,\n            'f': \"57.37\",\n        },\n{\n            'v': 61.93,\n            'f': \"61.93\",\n        },\n{\n            'v': 38.08,\n            'f': \"38.08\",\n        },\n{\n            'v': 10.09,\n            'f': \"10.09\",\n        }],\n [\"EASEMYTRIP\",\n{\n            'v': 29.0,\n            'f': \"29.0\",\n        },\n{\n            'v': -3.35,\n            'f': \"-3.35\",\n        },\n{\n            'v': -9.72,\n            'f': \"-9.72\",\n        },\n{\n            'v': -21.02,\n            'f': \"-21.02\",\n        },\n{\n            'v': -30.12,\n            'f': \"-30.12\",\n        },\n{\n            'v': -37.87,\n            'f': \"-37.87\",\n        },\n{\n            'v': -31.2,\n            'f': \"-31.2\",\n        },\n{\n            'v': -23.83,\n            'f': \"-23.83\",\n        },\n{\n            'v': -4.07,\n            'f': \"-4.07\",\n        },\n{\n            'v': NaN,\n            'f': \"NaN\",\n        }],\n [\"TATAELXSI\",\n{\n            'v': 6991.0,\n            'f': \"6991.0\",\n        },\n{\n            'v': 0.35,\n            'f': \"0.35\",\n        },\n{\n            'v': -4.61,\n            'f': \"-4.61\",\n        },\n{\n            'v': -10.77,\n            'f': \"-10.77\",\n        },\n{\n            'v': 0.09,\n            'f': \"0.09\",\n        },\n{\n            'v': -0.74,\n            'f': \"-0.74\",\n        },\n{\n            'v': -5.84,\n            'f': \"-5.84\",\n        },\n{\n            'v': 0.81,\n            'f': \"0.81\",\n        },\n{\n            'v': 6.92,\n            'f': \"6.92\",\n        },\n{\n            'v': 53.54,\n            'f': \"53.54\",\n        }],\n [\"CAMPUS\",\n{\n            'v': 285.0,\n            'f': \"285.0\",\n        },\n{\n            'v': -0.61,\n            'f': \"-0.61\",\n        },\n{\n            'v': -5.73,\n            'f': \"-5.73\",\n        },\n{\n            'v': -20.44,\n            'f': \"-20.44\",\n        },\n{\n            'v': -9.36,\n            'f': \"-9.36\",\n        },\n{\n            'v': 14.67,\n            'f': \"14.67\",\n        },\n{\n            'v': 4.94,\n            'f': \"4.94\",\n        },\n{\n            'v': -18.17,\n            'f': \"-18.17\",\n        },\n{\n            'v': NaN,\n            'f': \"NaN\",\n        },\n{\n            'v': NaN,\n            'f': \"NaN\",\n        }],\n [\"HDFCBANK\",\n{\n            'v': 1743.0,\n            'f': \"1743.0\",\n        },\n{\n            'v': -0.36,\n            'f': \"-0.36\",\n        },\n{\n            'v': 3.66,\n            'f': \"3.66\",\n        },\n{\n            'v': -2.25,\n            'f': \"-2.25\",\n        },\n{\n            'v': 7.9,\n            'f': \"7.9\",\n        },\n{\n            'v': 16.29,\n            'f': \"16.29\",\n        },\n{\n            'v': 19.67,\n            'f': \"19.67\",\n        },\n{\n            'v': 5.07,\n            'f': \"5.07\",\n        },\n{\n            'v': 6.6,\n            'f': \"6.6\",\n        },\n{\n            'v': 6.97,\n            'f': \"6.97\",\n        }],\n [\"SONACOMS\",\n{\n            'v': 699.0,\n            'f': \"699.0\",\n        },\n{\n            'v': -4.14,\n            'f': \"-4.14\",\n        },\n{\n            'v': 9.72,\n            'f': \"9.72\",\n        },\n{\n            'v': -6.03,\n            'f': \"-6.03\",\n        },\n{\n            'v': 2.94,\n            'f': \"2.94\",\n        },\n{\n            'v': 14.85,\n            'f': \"14.85\",\n        },\n{\n            'v': 29.76,\n            'f': \"29.76\",\n        },\n{\n            'v': 25.89,\n            'f': \"25.89\",\n        },\n{\n            'v': -0.76,\n            'f': \"-0.76\",\n        },\n{\n            'v': NaN,\n            'f': \"NaN\",\n        }],\n [\"QUESS\",\n{\n            'v': 688.0,\n            'f': \"688.0\",\n        },\n{\n            'v': -3.45,\n            'f': \"-3.45\",\n        },\n{\n            'v': -8.77,\n            'f': \"-8.77\",\n        },\n{\n            'v': -13.92,\n            'f': \"-13.92\",\n        },\n{\n            'v': -3.14,\n            'f': \"-3.14\",\n        },\n{\n            'v': 9.97,\n            'f': \"9.97\",\n        },\n{\n            'v': 66.02,\n            'f': \"66.02\",\n        },\n{\n            'v': 21.63,\n            'f': \"21.63\",\n        },\n{\n            'v': -6.24,\n            'f': \"-6.24\",\n        },\n{\n            'v': 7.25,\n            'f': \"7.25\",\n        }],\n [\"INFY\",\n{\n            'v': 1862.0,\n            'f': \"1862.0\",\n        },\n{\n            'v': -0.07,\n            'f': \"-0.07\",\n        },\n{\n            'v': -0.93,\n            'f': \"-0.93\",\n        },\n{\n            'v': -2.01,\n            'f': \"-2.01\",\n        },\n{\n            'v': -0.33,\n            'f': \"-0.33\",\n        },\n{\n            'v': 32.21,\n            'f': \"32.21\",\n        },\n{\n            'v': 36.67,\n            'f': \"36.67\",\n        },\n{\n            'v': 9.82,\n            'f': \"9.82\",\n        },\n{\n            'v': 5.05,\n            'f': \"5.05\",\n        },\n{\n            'v': 22.91,\n            'f': \"22.91\",\n        }],\n [\"SHALBY\",\n{\n            'v': 238.0,\n            'f': \"238.0\",\n        },\n{\n            'v': -4.13,\n            'f': \"-4.13\",\n        },\n{\n            'v': -8.11,\n            'f': \"-8.11\",\n        },\n{\n            'v': -13.49,\n            'f': \"-13.49\",\n        },\n{\n            'v': -15.48,\n            'f': \"-15.48\",\n        },\n{\n            'v': -10.78,\n            'f': \"-10.78\",\n        },\n{\n            'v': -16.25,\n            'f': \"-16.25\",\n        },\n{\n            'v': 29.59,\n            'f': \"29.59\",\n        },\n{\n            'v': 18.02,\n            'f': \"18.02\",\n        },\n{\n            'v': 20.79,\n            'f': \"20.79\",\n        }],\n [\"BANDHANBNK\",\n{\n            'v': 168.0,\n            'f': \"168.0\",\n        },\n{\n            'v': -6.89,\n            'f': \"-6.89\",\n        },\n{\n            'v': -12.37,\n            'f': \"-12.37\",\n        },\n{\n            'v': -18.07,\n            'f': \"-18.07\",\n        },\n{\n            'v': -22.28,\n            'f': \"-22.28\",\n        },\n{\n            'v': -9.65,\n            'f': \"-9.65\",\n        },\n{\n            'v': -21.14,\n            'f': \"-21.14\",\n        },\n{\n            'v': -13.65,\n            'f': \"-13.65\",\n        },\n{\n            'v': -15.34,\n            'f': \"-15.34\",\n        },\n{\n            'v': -19.83,\n            'f': \"-19.83\",\n        }],\n [\"STARHEALTH\",\n{\n            'v': 540.0,\n            'f': \"540.0\",\n        },\n{\n            'v': -1.05,\n            'f': \"-1.05\",\n        },\n{\n            'v': -1.91,\n            'f': \"-1.91\",\n        },\n{\n            'v': -11.34,\n            'f': \"-11.34\",\n        },\n{\n            'v': -10.91,\n            'f': \"-10.91\",\n        },\n{\n            'v': -3.1,\n            'f': \"-3.1\",\n        },\n{\n            'v': -1.63,\n            'f': \"-1.63\",\n        },\n{\n            'v': -10.27,\n            'f': \"-10.27\",\n        },\n{\n            'v': NaN,\n            'f': \"NaN\",\n        },\n{\n            'v': NaN,\n            'f': \"NaN\",\n        }],\n [\"WIPRO\",\n{\n            'v': 543.0,\n            'f': \"543.0\",\n        },\n{\n            'v': -0.63,\n            'f': \"-0.63\",\n        },\n{\n            'v': -0.95,\n            'f': \"-0.95\",\n        },\n{\n            'v': 0.29,\n            'f': \"0.29\",\n        },\n{\n            'v': 4.11,\n            'f': \"4.11\",\n        },\n{\n            'v': 18.83,\n            'f': \"18.83\",\n        },\n{\n            'v': 41.95,\n            'f': \"41.95\",\n        },\n{\n            'v': 17.25,\n            'f': \"17.25\",\n        },\n{\n            'v': -3.87,\n            'f': \"-3.87\",\n        },\n{\n            'v': 17.12,\n            'f': \"17.12\",\n        }],\n [\"SUNTV\",\n{\n            'v': 724.0,\n            'f': \"724.0\",\n        },\n{\n            'v': -1.97,\n            'f': \"-1.97\",\n        },\n{\n            'v': -4.79,\n            'f': \"-4.79\",\n        },\n{\n            'v': -13.2,\n            'f': \"-13.2\",\n        },\n{\n            'v': -19.22,\n            'f': \"-19.22\",\n        },\n{\n            'v': 10.99,\n            'f': \"10.99\",\n        },\n{\n            'v': 15.63,\n            'f': \"15.63\",\n        },\n{\n            'v': 24.04,\n            'f': \"24.04\",\n        },\n{\n            'v': 14.32,\n            'f': \"14.32\",\n        },\n{\n            'v': 13.55,\n            'f': \"13.55\",\n        }],\n [\"RELAXO\",\n{\n            'v': 740.0,\n            'f': \"740.0\",\n        },\n{\n            'v': -2.41,\n            'f': \"-2.41\",\n        },\n{\n            'v': -5.34,\n            'f': \"-5.34\",\n        },\n{\n            'v': -8.44,\n            'f': \"-8.44\",\n        },\n{\n            'v': -14.46,\n            'f': \"-14.46\",\n        },\n{\n            'v': -9.98,\n            'f': \"-9.98\",\n        },\n{\n            'v': -18.39,\n            'f': \"-18.39\",\n        },\n{\n            'v': -9.85,\n            'f': \"-9.85\",\n        },\n{\n            'v': -16.55,\n            'f': \"-16.55\",\n        },\n{\n            'v': 3.83,\n            'f': \"3.83\",\n        }],\n [\"BSOFT\",\n{\n            'v': 571.0,\n            'f': \"571.0\",\n        },\n{\n            'v': 0.37,\n            'f': \"0.37\",\n        },\n{\n            'v': -3.98,\n            'f': \"-3.98\",\n        },\n{\n            'v': -7.27,\n            'f': \"-7.27\",\n        },\n{\n            'v': -15.47,\n            'f': \"-15.47\",\n        },\n{\n            'v': -9.42,\n            'f': \"-9.42\",\n        },\n{\n            'v': 0.12,\n            'f': \"0.12\",\n        },\n{\n            'v': 43.49,\n            'f': \"43.49\",\n        },\n{\n            'v': 7.69,\n            'f': \"7.69\",\n        },\n{\n            'v': 55.66,\n            'f': \"55.66\",\n        }]],\n        columns: [[\"string\", \"Stock\"], [\"number\", \"CMP\"], [\"number\", \"1D%\"], [\"number\", \"1W%\"], [\"number\", \"1M%\"], [\"number\", \"3M%\"], [\"number\", \"6M%\"], [\"number\", \"1Y%\"], [\"number\", \"2Y%\"], [\"number\", \"3Y%\"], [\"number\", \"5Y%\"]],\n        columnOptions: [],\n        rowsPerPage: 25,\n        helpUrl: \"https://colab.research.google.com/notebooks/data_table.ipynb\",\n        suppressOutputScrolling: true,\n        minimumWidth: undefined,\n      });\n\n      function appendQuickchartButton(parentElement) {\n        let quickchartButtonContainerElement = document.createElement('div');\n        quickchartButtonContainerElement.innerHTML = `\n<div id=\"df-da425419-cf07-4b31-bbcf-87a45919c027\">\n  <button class=\"colab-df-quickchart\" onclick=\"quickchart('df-da425419-cf07-4b31-bbcf-87a45919c027')\"\n            title=\"Suggest charts\"\n            style=\"display:none;\">\n    \n<svg xmlns=\"http://www.w3.org/2000/svg\" height=\"24px\"viewBox=\"0 0 24 24\"\n     width=\"24px\">\n    <g>\n        <path d=\"M19 3H5c-1.1 0-2 .9-2 2v14c0 1.1.9 2 2 2h14c1.1 0 2-.9 2-2V5c0-1.1-.9-2-2-2zM9 17H7v-7h2v7zm4 0h-2V7h2v10zm4 0h-2v-4h2v4z\"/>\n    </g>\n</svg>\n  </button>\n  \n<style>\n  .colab-df-quickchart {\n      --bg-color: #E8F0FE;\n      --fill-color: #1967D2;\n      --hover-bg-color: #E2EBFA;\n      --hover-fill-color: #174EA6;\n      --disabled-fill-color: #AAA;\n      --disabled-bg-color: #DDD;\n  }\n\n  [theme=dark] .colab-df-quickchart {\n      --bg-color: #3B4455;\n      --fill-color: #D2E3FC;\n      --hover-bg-color: #434B5C;\n      --hover-fill-color: #FFFFFF;\n      --disabled-bg-color: #3B4455;\n      --disabled-fill-color: #666;\n  }\n\n  .colab-df-quickchart {\n    background-color: var(--bg-color);\n    border: none;\n    border-radius: 50%;\n    cursor: pointer;\n    display: none;\n    fill: var(--fill-color);\n    height: 32px;\n    padding: 0;\n    width: 32px;\n  }\n\n  .colab-df-quickchart:hover {\n    background-color: var(--hover-bg-color);\n    box-shadow: 0 1px 2px rgba(60, 64, 67, 0.3), 0 1px 3px 1px rgba(60, 64, 67, 0.15);\n    fill: var(--button-hover-fill-color);\n  }\n\n  .colab-df-quickchart-complete:disabled,\n  .colab-df-quickchart-complete:disabled:hover {\n    background-color: var(--disabled-bg-color);\n    fill: var(--disabled-fill-color);\n    box-shadow: none;\n  }\n\n  .colab-df-spinner {\n    border: 2px solid var(--fill-color);\n    border-color: transparent;\n    border-bottom-color: var(--fill-color);\n    animation:\n      spin 1s steps(1) infinite;\n  }\n\n  @keyframes spin {\n    0% {\n      border-color: transparent;\n      border-bottom-color: var(--fill-color);\n      border-left-color: var(--fill-color);\n    }\n    20% {\n      border-color: transparent;\n      border-left-color: var(--fill-color);\n      border-top-color: var(--fill-color);\n    }\n    30% {\n      border-color: transparent;\n      border-left-color: var(--fill-color);\n      border-top-color: var(--fill-color);\n      border-right-color: var(--fill-color);\n    }\n    40% {\n      border-color: transparent;\n      border-right-color: var(--fill-color);\n      border-top-color: var(--fill-color);\n    }\n    60% {\n      border-color: transparent;\n      border-right-color: var(--fill-color);\n    }\n    80% {\n      border-color: transparent;\n      border-right-color: var(--fill-color);\n      border-bottom-color: var(--fill-color);\n    }\n    90% {\n      border-color: transparent;\n      border-bottom-color: var(--fill-color);\n    }\n  }\n</style>\n\n  <script>\n    async function quickchart(key) {\n      const quickchartButtonEl =\n        document.querySelector('#' + key + ' button');\n      quickchartButtonEl.disabled = true;  // To prevent multiple clicks.\n      quickchartButtonEl.classList.add('colab-df-spinner');\n      try {\n        const charts = await google.colab.kernel.invokeFunction(\n            'suggestCharts', [key], {});\n      } catch (error) {\n        console.error('Error during call to suggestCharts:', error);\n      }\n      quickchartButtonEl.classList.remove('colab-df-spinner');\n      quickchartButtonEl.classList.add('colab-df-quickchart-complete');\n    }\n    (() => {\n      let quickchartButtonEl =\n        document.querySelector('#df-da425419-cf07-4b31-bbcf-87a45919c027 button');\n      quickchartButtonEl.style.display =\n        google.colab.kernel.accessAllowed ? 'block' : 'none';\n    })();\n  </script>\n</div>`;\n        parentElement.appendChild(quickchartButtonContainerElement);\n      }\n\n      appendQuickchartButton(table);\n    ",
            "text/plain": [
              "<google.colab.data_table.DataTable object>"
            ]
          },
          "metadata": {},
          "execution_count": 6
        }
      ],
      "source": [
        "data_table.DataTable(df_perform, include_index=False)"
      ]
    },
    {
      "cell_type": "code",
      "source": [
        "# notebook execution time\n",
        "\n",
        "end_time = time.time()\n",
        "execution_time = round(end_time - start_time, 0)\n",
        "print(f\"Notebook execution time: {execution_time} seconds\")"
      ],
      "metadata": {
        "id": "97UiYEjsvn-T",
        "outputId": "53eda902-74c5-41aa-e018-7504d9a88dc2",
        "colab": {
          "base_uri": "https://localhost:8080/"
        }
      },
      "id": "97UiYEjsvn-T",
      "execution_count": null,
      "outputs": [
        {
          "output_type": "stream",
          "name": "stdout",
          "text": [
            "Notebook execution time: 53.0 seconds\n"
          ]
        }
      ]
    }
  ],
  "metadata": {
    "kernelspec": {
      "display_name": "Python 3",
      "language": "python",
      "name": "python3"
    },
    "language_info": {
      "codemirror_mode": {
        "name": "ipython",
        "version": 3
      },
      "file_extension": ".py",
      "mimetype": "text/x-python",
      "name": "python",
      "nbconvert_exporter": "python",
      "pygments_lexer": "ipython3",
      "version": "3.8.8"
    },
    "colab": {
      "provenance": [],
      "include_colab_link": true
    }
  },
  "nbformat": 4,
  "nbformat_minor": 5
}